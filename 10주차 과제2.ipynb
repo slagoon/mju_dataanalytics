{
 "cells": [
  {
   "cell_type": "markdown",
   "metadata": {},
   "source": [
    "# 단톡방 과제 2\n",
    "- 60171100 윤민혁"
   ]
  },
  {
   "cell_type": "code",
   "execution_count": 21,
   "metadata": {},
   "outputs": [
    {
     "data": {
      "text/html": [
       "        <script type=\"text/javascript\">\n",
       "        window.PlotlyConfig = {MathJaxConfig: 'local'};\n",
       "        if (window.MathJax) {MathJax.Hub.Config({SVG: {font: \"STIX-Web\"}});}\n",
       "        if (typeof require !== 'undefined') {\n",
       "        require.undef(\"plotly\");\n",
       "        requirejs.config({\n",
       "            paths: {\n",
       "                'plotly': ['https://cdn.plot.ly/plotly-latest.min']\n",
       "            }\n",
       "        });\n",
       "        require(['plotly'], function(Plotly) {\n",
       "            window._Plotly = Plotly;\n",
       "        });\n",
       "        }\n",
       "        </script>\n",
       "        "
      ]
     },
     "metadata": {},
     "output_type": "display_data"
    }
   ],
   "source": [
    "import chart_studio.plotly as py\n",
    "import cufflinks as cf\n",
    "cf.go_offline(connected = True)\n",
    "import pandas as pd\n",
    "import plotly.graph_objects as go\n",
    "import plotly.offline as pyo\n",
    "import numpy as np"
   ]
  },
  {
   "cell_type": "code",
   "execution_count": 22,
   "metadata": {},
   "outputs": [],
   "source": [
    "# 프리미어리그 개인 순위 상위 100명\n",
    "epl = '''\n",
    "<div class=\"result_player result_epl\">\n",
    "    <span class=\"time_now\">※ 2021년 5월 9일 기준</span>\n",
    "\n",
    "<div class=\"feature_record\" style=\"\">\n",
    "    <div class=\"box_ranking\" data-key=\"gf\" data-decimal=\"\" data-unit=\"골\">\n",
    "        <strong class=\"tit_ranking\">득점</strong>\n",
    "        <ol class=\"list_ranking\"><li>\n",
    "    <span class=\"wrap_thumb thumb_m\">\n",
    "        <img src=\"//img1.daumcdn.net/thumb/S300x300/?fname=https%3A%2F%2Ft1.daumcdn.net%2Fsports%2Fplayer%2F300%2F14%2F108579.jpg&amp;scode=default_face_profile_big_p\" onerror=\"this.src='https://t1.daumcdn.net/media/img-section/sports13/player/noimage/square_m.png'\" class=\"thumb_g\" width=\"76\" height=\"76\" alt=\"해리 케인\">\n",
    "        <span class=\"ico_country\"><img src=\"//img1.daumcdn.net/thumb/C100x100/?fname=http%3A%2F%2Ft1.daumcdn.net%2Fmedia%2Fimg-section%2Fsports13%2Flogo%2Fteam%2F14%2F33_300300.png&amp;scode=sports\" class=\"thumb_g\" alt=\"토트넘 핫스퍼 FC\"></span>\n",
    "    </span>\n",
    "    <em class=\"num_ranking\">1</em>\n",
    "    <strong class=\"tit_thumb\">케인 <span class=\"txt_bracket\">(</span>토트넘<span class=\"txt_bracket\">)</span></strong>\n",
    "    <span class=\"num_value\">21<span class=\"txt_unit\">골</span></span>\n",
    "</li><li>\n",
    "    <em class=\"num_ranking\">2</em>\n",
    "    <strong class=\"tit_thumb\">살라 <span class=\"txt_bracket\">(</span>리버풀<span class=\"txt_bracket\">)</span></strong>\n",
    "    <span class=\"num_value\">20</span>\n",
    "</li><li>\n",
    "    <em class=\"num_ranking\">3</em>\n",
    "    <strong class=\"tit_thumb\">손흥민 <span class=\"txt_bracket\">(</span>토트넘<span class=\"txt_bracket\">)</span></strong>\n",
    "    <span class=\"num_value\">17</span>\n",
    "</li><li>\n",
    "    <em class=\"num_ranking\">4</em>\n",
    "    <strong class=\"tit_thumb\">페르난데스 <span class=\"txt_bracket\">(</span>맨유<span class=\"txt_bracket\">)</span></strong>\n",
    "    <span class=\"num_value\">16</span>\n",
    "</li><li>\n",
    "    <em class=\"num_ranking\">5</em>\n",
    "    <strong class=\"tit_thumb\">칼버트 르윈 <span class=\"txt_bracket\">(</span>에버턴<span class=\"txt_bracket\">)</span></strong>\n",
    "    <span class=\"num_value\">15</span>\n",
    "</li></ol>\n",
    "    </div>\n",
    "    <div class=\"box_ranking\" data-key=\"ast\" data-decimal=\"\" data-unit=\"개\">\n",
    "        <strong class=\"tit_ranking\">도움</strong>\n",
    "        <ol class=\"list_ranking\"><li>\n",
    "    <span class=\"wrap_thumb thumb_m\">\n",
    "        <img src=\"//img1.daumcdn.net/thumb/S300x300/?fname=https%3A%2F%2Ft1.daumcdn.net%2Fsports%2Fplayer%2F300%2F14%2F108579.jpg&amp;scode=default_face_profile_big_p\" onerror=\"this.src='https://t1.daumcdn.net/media/img-section/sports13/player/noimage/square_m.png'\" class=\"thumb_g\" width=\"76\" height=\"76\" alt=\"해리 케인\">\n",
    "        <span class=\"ico_country\"><img src=\"//img1.daumcdn.net/thumb/C100x100/?fname=http%3A%2F%2Ft1.daumcdn.net%2Fmedia%2Fimg-section%2Fsports13%2Flogo%2Fteam%2F14%2F33_300300.png&amp;scode=sports\" class=\"thumb_g\" alt=\"토트넘 핫스퍼 FC\"></span>\n",
    "    </span>\n",
    "    <em class=\"num_ranking\">1</em>\n",
    "    <strong class=\"tit_thumb\">케인 <span class=\"txt_bracket\">(</span>토트넘<span class=\"txt_bracket\">)</span></strong>\n",
    "    <span class=\"num_value\">13<span class=\"txt_unit\">개</span></span>\n",
    "</li><li>\n",
    "    <em class=\"num_ranking\">2</em>\n",
    "    <strong class=\"tit_thumb\">페르난데스 <span class=\"txt_bracket\">(</span>맨유<span class=\"txt_bracket\">)</span></strong>\n",
    "    <span class=\"num_value\">11</span>\n",
    "</li><li>\n",
    "    <em class=\"num_ranking\">3</em>\n",
    "    <strong class=\"tit_thumb\">더 브라위너 <span class=\"txt_bracket\">(</span>맨시티<span class=\"txt_bracket\">)</span></strong>\n",
    "    <span class=\"num_value\">10</span>\n",
    "</li><li>\n",
    "    <em class=\"num_ranking\">3</em>\n",
    "    <strong class=\"tit_thumb\">그릴리쉬 <span class=\"txt_bracket\">(</span>애스턴 빌라<span class=\"txt_bracket\">)</span></strong>\n",
    "    <span class=\"num_value\">10</span>\n",
    "</li><li>\n",
    "    <em class=\"num_ranking\">3</em>\n",
    "    <strong class=\"tit_thumb\">손흥민 <span class=\"txt_bracket\">(</span>토트넘<span class=\"txt_bracket\">)</span></strong>\n",
    "    <span class=\"num_value\">10</span>\n",
    "</li></ol>\n",
    "    </div>\n",
    "    <div class=\"box_ranking\" data-key=\"opts\" data-decimal=\"\" data-unit=\"P\">\n",
    "        <strong class=\"tit_ranking\">공격 포인트</strong>\n",
    "        <ol class=\"list_ranking\"><li>\n",
    "    <span class=\"wrap_thumb thumb_m\">\n",
    "        <img src=\"//img1.daumcdn.net/thumb/S300x300/?fname=https%3A%2F%2Ft1.daumcdn.net%2Fsports%2Fplayer%2F300%2F14%2F108579.jpg&amp;scode=default_face_profile_big_p\" onerror=\"this.src='https://t1.daumcdn.net/media/img-section/sports13/player/noimage/square_m.png'\" class=\"thumb_g\" width=\"76\" height=\"76\" alt=\"해리 케인\">\n",
    "        <span class=\"ico_country\"><img src=\"//img1.daumcdn.net/thumb/C100x100/?fname=http%3A%2F%2Ft1.daumcdn.net%2Fmedia%2Fimg-section%2Fsports13%2Flogo%2Fteam%2F14%2F33_300300.png&amp;scode=sports\" class=\"thumb_g\" alt=\"토트넘 핫스퍼 FC\"></span>\n",
    "    </span>\n",
    "    <em class=\"num_ranking\">1</em>\n",
    "    <strong class=\"tit_thumb\">케인 <span class=\"txt_bracket\">(</span>토트넘<span class=\"txt_bracket\">)</span></strong>\n",
    "    <span class=\"num_value\">34<span class=\"txt_unit\">P</span></span>\n",
    "</li><li>\n",
    "    <em class=\"num_ranking\">2</em>\n",
    "    <strong class=\"tit_thumb\">페르난데스 <span class=\"txt_bracket\">(</span>맨유<span class=\"txt_bracket\">)</span></strong>\n",
    "    <span class=\"num_value\">27</span>\n",
    "</li><li>\n",
    "    <em class=\"num_ranking\">2</em>\n",
    "    <strong class=\"tit_thumb\">손흥민 <span class=\"txt_bracket\">(</span>토트넘<span class=\"txt_bracket\">)</span></strong>\n",
    "    <span class=\"num_value\">27</span>\n",
    "</li><li>\n",
    "    <em class=\"num_ranking\">4</em>\n",
    "    <strong class=\"tit_thumb\">살라 <span class=\"txt_bracket\">(</span>리버풀<span class=\"txt_bracket\">)</span></strong>\n",
    "    <span class=\"num_value\">24</span>\n",
    "</li><li>\n",
    "    <em class=\"num_ranking\">5</em>\n",
    "    <strong class=\"tit_thumb\">뱀포드 <span class=\"txt_bracket\">(</span>리즈<span class=\"txt_bracket\">)</span></strong>\n",
    "    <span class=\"num_value\">21</span>\n",
    "</li></ol>\n",
    "    </div>\n",
    "    <div class=\"box_ranking\" data-key=\"sht\" data-decimal=\"\" data-unit=\"회\">\n",
    "        <strong class=\"tit_ranking\">슈팅</strong>\n",
    "        <ol class=\"list_ranking\"><li>\n",
    "    <span class=\"wrap_thumb thumb_m\">\n",
    "        <img src=\"//img1.daumcdn.net/thumb/S300x300/?fname=https%3A%2F%2Ft1.daumcdn.net%2Fsports%2Fplayer%2F300%2F14%2F108579.jpg&amp;scode=default_face_profile_big_p\" onerror=\"this.src='https://t1.daumcdn.net/media/img-section/sports13/player/noimage/square_m.png'\" class=\"thumb_g\" width=\"76\" height=\"76\" alt=\"해리 케인\">\n",
    "        <span class=\"ico_country\"><img src=\"//img1.daumcdn.net/thumb/C100x100/?fname=http%3A%2F%2Ft1.daumcdn.net%2Fmedia%2Fimg-section%2Fsports13%2Flogo%2Fteam%2F14%2F33_300300.png&amp;scode=sports\" class=\"thumb_g\" alt=\"토트넘 핫스퍼 FC\"></span>\n",
    "    </span>\n",
    "    <em class=\"num_ranking\">1</em>\n",
    "    <strong class=\"tit_thumb\">케인 <span class=\"txt_bracket\">(</span>토트넘<span class=\"txt_bracket\">)</span></strong>\n",
    "    <span class=\"num_value\">118<span class=\"txt_unit\">회</span></span>\n",
    "</li><li>\n",
    "    <em class=\"num_ranking\">2</em>\n",
    "    <strong class=\"tit_thumb\">살라 <span class=\"txt_bracket\">(</span>리버풀<span class=\"txt_bracket\">)</span></strong>\n",
    "    <span class=\"num_value\">103</span>\n",
    "</li><li>\n",
    "    <em class=\"num_ranking\">3</em>\n",
    "    <strong class=\"tit_thumb\">페르난데스 <span class=\"txt_bracket\">(</span>맨유<span class=\"txt_bracket\">)</span></strong>\n",
    "    <span class=\"num_value\">100</span>\n",
    "</li><li>\n",
    "    <em class=\"num_ranking\">4</em>\n",
    "    <strong class=\"tit_thumb\">왓킨스 <span class=\"txt_bracket\">(</span>애스턴 빌라<span class=\"txt_bracket\">)</span></strong>\n",
    "    <span class=\"num_value\">87</span>\n",
    "</li><li>\n",
    "    <em class=\"num_ranking\">5</em>\n",
    "    <strong class=\"tit_thumb\">더 브라위너 <span class=\"txt_bracket\">(</span>맨시티<span class=\"txt_bracket\">)</span></strong>\n",
    "    <span class=\"num_value\">83</span>\n",
    "</li></ol>\n",
    "    </div>\n",
    "    <div class=\"box_ranking\" data-key=\"gp\" data-decimal=\"\" data-unit=\"\">\n",
    "        <strong class=\"tit_ranking\">경기 수</strong>\n",
    "        <ol class=\"list_ranking\"><li>\n",
    "    <span class=\"wrap_thumb thumb_m\">\n",
    "        <img src=\"//img1.daumcdn.net/thumb/S300x300/?fname=https%3A%2F%2Ft1.daumcdn.net%2Fsports%2Fplayer%2F300%2F14%2F102624.jpg&amp;scode=default_face_profile_big_p\" onerror=\"this.src='https://t1.daumcdn.net/media/img-section/sports13/player/noimage/square_m.png'\" class=\"thumb_g\" width=\"76\" height=\"76\" alt=\"루크 아일링\">\n",
    "        <span class=\"ico_country\"><img src=\"//img1.daumcdn.net/thumb/C100x100/?fname=http%3A%2F%2Ft1.daumcdn.net%2Fmedia%2Fimg-section%2Fsports13%2Flogo%2Fteam%2F14%2F34_300300.png&amp;scode=sports\" class=\"thumb_g\" alt=\"리즈 유나이티드 FC\"></span>\n",
    "    </span>\n",
    "    <em class=\"num_ranking\">1</em>\n",
    "    <strong class=\"tit_thumb\">아일링 <span class=\"txt_bracket\">(</span>리즈<span class=\"txt_bracket\">)</span></strong>\n",
    "    <span class=\"num_value\">35<span class=\"txt_unit\"></span></span>\n",
    "</li><li>\n",
    "    <em class=\"num_ranking\">1</em>\n",
    "    <strong class=\"tit_thumb\">슈마이켈 <span class=\"txt_bracket\">(</span>레스터<span class=\"txt_bracket\">)</span></strong>\n",
    "    <span class=\"num_value\">35</span>\n",
    "</li><li>\n",
    "    <em class=\"num_ranking\">1</em>\n",
    "    <strong class=\"tit_thumb\">뱀포드 <span class=\"txt_bracket\">(</span>리즈<span class=\"txt_bracket\">)</span></strong>\n",
    "    <span class=\"num_value\">35</span>\n",
    "</li><li>\n",
    "    <em class=\"num_ranking\">1</em>\n",
    "    <strong class=\"tit_thumb\">달라스 <span class=\"txt_bracket\">(</span>리즈<span class=\"txt_bracket\">)</span></strong>\n",
    "    <span class=\"num_value\">35</span>\n",
    "</li><li>\n",
    "    <em class=\"num_ranking\">1</em>\n",
    "    <strong class=\"tit_thumb\">요리스 <span class=\"txt_bracket\">(</span>토트넘<span class=\"txt_bracket\">)</span></strong>\n",
    "    <span class=\"num_value\">35</span>\n",
    "</li></ol>\n",
    "    </div>\n",
    "</div>\n",
    "    <div id=\"recordList\" class=\"box_record record_soccer\">\n",
    "        <h4 class=\"tit_record\">전체 선수</h4>\n",
    "        \n",
    "        <div class=\"wrap_table\" data-index=\"0\">\n",
    "            <div class=\"inner_table\">\n",
    "                <table class=\"tbl_record\">\n",
    "                    <caption class=\"ir_caption\">순위 결과표</caption>\n",
    "                    <colgroup>\n",
    "                        <col class=\"col1\"><col class=\"col2\"><col class=\"col3\">\n",
    "                        <col><col><col><col><col><col><col><col><col><col>\n",
    "                    </colgroup>\n",
    "                    <thead><tr>\n",
    "                        <th scope=\"col\" class=\"th_rank\"><span class=\"txt_col\">순위</span></th><th scope=\"col\" class=\"th_name\"><span class=\"txt_col\">선수</span></th><th scope=\"col\" class=\"th_team\"><span class=\"txt_col\">팀</span></th>\n",
    "                        <th scope=\"col\" data-sort=\"gp\" data-key=\"\" data-order=\"\" data-text=\"\" data-decimal=\"\" data-unit=\"\" class=\"\">\n",
    "                            <a href=\"#none\" class=\"btn_sort\" data-tiara-layer=\"sorting\"><span class=\"txt_sort\">경기</span><span class=\"ico_comm5\">정렬</span></a>\n",
    "                        </th>\n",
    "                        <th scope=\"col\" data-sort=\"gf\" data-key=\"\" data-order=\"\" data-text=\"\" data-decimal=\"\" data-unit=\"\" class=\"\">\n",
    "                            <a href=\"#none\" class=\"btn_sort sort_on\" data-tiara-layer=\"sorting\"><span class=\"txt_sort\">득점</span><span class=\"ico_comm5\">정렬</span></a>\n",
    "                        </th>\n",
    "                        <th scope=\"col\" data-sort=\"ast\" data-key=\"\" data-order=\"\" data-text=\"\" data-decimal=\"\" data-unit=\"\" class=\"\">\n",
    "                            <a href=\"#none\" class=\"btn_sort\" data-tiara-layer=\"sorting\"><span class=\"txt_sort\">도움</span><span class=\"ico_comm5\">정렬</span></a>\n",
    "                        </th>\n",
    "                        <th scope=\"col\" data-sort=\"opts\" data-key=\"\" data-order=\"\" data-text=\"\" data-decimal=\"\" data-unit=\"\" class=\"\">\n",
    "                            <a href=\"#none\" class=\"btn_sort\" data-tiara-layer=\"sorting\"><span class=\"txt_sort\">공격포인트</span><span class=\"ico_comm5\">정렬</span></a>\n",
    "                        </th>\n",
    "                        <th scope=\"col\" data-sort=\"sht\" data-key=\"\" data-order=\"\" data-text=\"\" data-decimal=\"\" data-unit=\"\" class=\"\">\n",
    "                            <a href=\"#none\" class=\"btn_sort\" data-tiara-layer=\"sorting\"><span class=\"txt_sort\">슈팅</span><span class=\"ico_comm5\">정렬</span></a>\n",
    "                        </th>\n",
    "                        <th scope=\"col\" data-sort=\"sog\" data-key=\"\" data-order=\"\" data-text=\"\" data-decimal=\"\" data-unit=\"\" class=\"\">\n",
    "                            <a href=\"#none\" class=\"btn_sort\" data-tiara-layer=\"sorting\"><span class=\"txt_sort\">유효슈팅</span><span class=\"ico_comm5\">정렬</span></a>\n",
    "                        </th>\n",
    "                        <th scope=\"col\" data-sort=\"fo\" data-key=\"\" data-order=\"\" data-text=\"\" data-decimal=\"\" data-unit=\"\" class=\"\">\n",
    "                            <a href=\"#none\" class=\"btn_sort\" data-tiara-layer=\"sorting\"><span class=\"txt_sort\">파울</span><span class=\"ico_comm5\">정렬</span></a>\n",
    "                        </th>\n",
    "                        <th scope=\"col\" data-sort=\"yel\" data-key=\"\" data-order=\"\" data-text=\"\" data-decimal=\"\" data-unit=\"\" class=\"\">\n",
    "                            <a href=\"#none\" class=\"btn_sort\" data-tiara-layer=\"sorting\"><span class=\"txt_sort\">경고</span><span class=\"ico_comm5\">정렬</span></a>\n",
    "                        </th>\n",
    "                        <th scope=\"col\" data-sort=\"red\" data-key=\"\" data-order=\"\" data-text=\"\" data-decimal=\"\" data-unit=\"\" class=\"\">\n",
    "                            <a href=\"#none\" class=\"btn_sort\" data-tiara-layer=\"sorting\"><span class=\"txt_sort\">퇴장</span><span class=\"ico_comm5\">정렬</span></a>\n",
    "                        </th>\n",
    "                        <th scope=\"col\" data-sort=\"off\" data-key=\"\" data-order=\"\" data-text=\"\" data-decimal=\"\" data-unit=\"\" class=\"\">\n",
    "                            <a href=\"#none\" class=\"btn_sort\" data-tiara-layer=\"sorting\"><span class=\"txt_sort\">오프사이드</span><span class=\"ico_comm5\">정렬</span></a>\n",
    "                        </th>\n",
    "                    </tr></thead>\n",
    "                    <tbody><tr class=\"\">\n",
    "        <td class=\"td_rank\">1</td>\n",
    "    <td class=\"td_name\">\n",
    "        <a href=\"/player/epl/27257\" class=\"link_thumb #player_name\">\n",
    "            <div class=\"wrap_thumb\"><img src=\"//img1.daumcdn.net/thumb/S100x100/?fname=https%3A%2F%2Ft1.daumcdn.net%2Fsports%2Fplayer%2F300%2F14%2F108579.jpg&amp;scode=default_face_profile_big_p\" onerror=\"this.src='https://t1.daumcdn.net/media/img-section/sports13/player/noimage/square_m.png'\" width=\"34\" height=\"34\" class=\"thumb_g\" alt=\"해리 케인\"><span class=\"ico_country\"><img src=\"//img1.daumcdn.net/thumb/C100x100/?fname=http%3A%2F%2Ft1.daumcdn.net%2Fmedia%2Fimg-section%2Fsports13%2Flogo%2Fteam%2F14%2F33_300300.png&amp;scode=sports\" class=\"thumb_g\" alt=\"토트넘 핫스퍼 FC\"></span></div>\n",
    "            \n",
    "        <span class=\"txt_name\">해리 케인<span class=\"ico_comm5\"></span></span>\n",
    "        </a>\n",
    "    </td>\n",
    "    <td class=\"td_team\"><a href=\"/team/epl/249\" class=\"link_txt\" data-tiara-layer=\"team_name\">토트넘</a></td>\n",
    "    <td data-field=\"gp\" data-value=\"32\">32</td><td data-field=\"gf\" data-value=\"21\" class=\"selected_on\">21</td><td data-field=\"ast\" data-value=\"13\">13</td><td data-field=\"opts\" data-value=\"34\">34</td><td data-field=\"sht\" data-value=\"118\">118</td><td data-field=\"sog\" data-value=\"46\">46</td><td data-field=\"fo\" data-value=\"26\">26</td><td data-field=\"yel\" data-value=\"1\">1</td><td data-field=\"red\" data-value=\"0\">0</td><td data-field=\"off\" data-value=\"12\">12</td>\n",
    "</tr>\n",
    "<tr class=\"\">\n",
    "        <td class=\"td_rank\">2</td>\n",
    "    <td class=\"td_name\">\n",
    "        <a href=\"/player/epl/723306\" class=\"link_thumb #player_name\">\n",
    "            <div class=\"wrap_thumb\"><img src=\"//img1.daumcdn.net/thumb/S100x100/?fname=https%3A%2F%2Ft1.daumcdn.net%2Fsports%2Fplayer%2F300%2F14%2F159665.jpg&amp;scode=default_face_profile_big_p\" onerror=\"this.src='https://t1.daumcdn.net/media/img-section/sports13/player/noimage/square_m.png'\" width=\"34\" height=\"34\" class=\"thumb_g\" alt=\"모하메드 살라\"><span class=\"ico_country\"><img src=\"//img1.daumcdn.net/thumb/C100x100/?fname=http%3A%2F%2Ft1.daumcdn.net%2Fmedia%2Fimg-section%2Fsports13%2Flogo%2Fteam%2F14%2F44_300300.png&amp;scode=sports\" class=\"thumb_g\" alt=\"리버풀 FC\"></span></div>\n",
    "            \n",
    "        <span class=\"txt_name\">모하메드 살라<span class=\"ico_comm5\"></span></span>\n",
    "        </a>\n",
    "    </td>\n",
    "    <td class=\"td_team\"><a href=\"/team/epl/253\" class=\"link_txt\" data-tiara-layer=\"team_name\">리버풀</a></td>\n",
    "    <td data-field=\"gp\" data-value=\"33\">33</td><td data-field=\"gf\" data-value=\"20\" class=\"selected_on\">20</td><td data-field=\"ast\" data-value=\"4\">4</td><td data-field=\"opts\" data-value=\"24\">24</td><td data-field=\"sht\" data-value=\"103\">103</td><td data-field=\"sog\" data-value=\"45\">45</td><td data-field=\"fo\" data-value=\"19\">19</td><td data-field=\"yel\" data-value=\"0\">0</td><td data-field=\"red\" data-value=\"0\">0</td><td data-field=\"off\" data-value=\"13\">13</td>\n",
    "</tr>\n",
    "<tr class=\"\">\n",
    "        <td class=\"td_rank\">3</td>\n",
    "    <td class=\"td_name\">\n",
    "        <a href=\"/player/epl/1156992\" class=\"link_thumb #player_name\">\n",
    "            <div class=\"wrap_thumb\"><img src=\"//img1.daumcdn.net/thumb/S100x100/?fname=https%3A%2F%2Ft1.daumcdn.net%2Fsports%2Fplayer%2F300%2F14%2F111505.jpg&amp;scode=default_face_profile_big_p\" onerror=\"this.src='https://t1.daumcdn.net/media/img-section/sports13/player/noimage/square_m.png'\" width=\"34\" height=\"34\" class=\"thumb_g\" alt=\"손흥민\"><span class=\"ico_country\"><img src=\"//img1.daumcdn.net/thumb/C100x100/?fname=http%3A%2F%2Ft1.daumcdn.net%2Fmedia%2Fimg-section%2Fsports13%2Flogo%2Fteam%2F14%2F33_300300.png&amp;scode=sports\" class=\"thumb_g\" alt=\"토트넘 핫스퍼 FC\"></span></div>\n",
    "            \n",
    "        <span class=\"txt_name\">손흥민<span class=\"ico_comm5\"></span></span>\n",
    "        </a>\n",
    "    </td>\n",
    "    <td class=\"td_team\"><a href=\"/team/epl/249\" class=\"link_txt\" data-tiara-layer=\"team_name\">토트넘</a></td>\n",
    "    <td data-field=\"gp\" data-value=\"34\">34</td><td data-field=\"gf\" data-value=\"17\" class=\"selected_on\">17</td><td data-field=\"ast\" data-value=\"10\">10</td><td data-field=\"opts\" data-value=\"27\">27</td><td data-field=\"sht\" data-value=\"61\">61</td><td data-field=\"sog\" data-value=\"35\">35</td><td data-field=\"fo\" data-value=\"11\">11</td><td data-field=\"yel\" data-value=\"0\">0</td><td data-field=\"red\" data-value=\"0\">0</td><td data-field=\"off\" data-value=\"13\">13</td>\n",
    "</tr>\n",
    "<tr class=\"\">\n",
    "        <td class=\"td_rank\">4</td>\n",
    "    <td class=\"td_name\">\n",
    "        <a href=\"/player/epl/892697\" class=\"link_thumb #player_name\">\n",
    "            <div class=\"wrap_thumb\"><img src=\"//img1.daumcdn.net/thumb/S100x100/?fname=https%3A%2F%2Ft1.daumcdn.net%2Fsports%2Fplayer%2F300%2F14%2F288205.jpg&amp;scode=default_face_profile_big_p\" onerror=\"this.src='https://t1.daumcdn.net/media/img-section/sports13/player/noimage/square_m.png'\" width=\"34\" height=\"34\" class=\"thumb_g\" alt=\"브루노 페르난데스\"><span class=\"ico_country\"><img src=\"//img1.daumcdn.net/thumb/C100x100/?fname=http%3A%2F%2Ft1.daumcdn.net%2Fmedia%2Fimg-section%2Fsports13%2Flogo%2Fteam%2F14%2F35_300300.png&amp;scode=sports\" class=\"thumb_g\" alt=\"맨체스터 유나이티드 FC\"></span></div>\n",
    "            \n",
    "        <span class=\"txt_name\">브루노 페르난데스<span class=\"ico_comm5\"></span></span>\n",
    "        </a>\n",
    "    </td>\n",
    "    <td class=\"td_team\"><a href=\"/team/epl/246\" class=\"link_txt\" data-tiara-layer=\"team_name\">맨유</a></td>\n",
    "    <td data-field=\"gp\" data-value=\"33\">33</td><td data-field=\"gf\" data-value=\"16\" class=\"selected_on\">16</td><td data-field=\"ast\" data-value=\"11\">11</td><td data-field=\"opts\" data-value=\"27\">27</td><td data-field=\"sht\" data-value=\"100\">100</td><td data-field=\"sog\" data-value=\"44\">44</td><td data-field=\"fo\" data-value=\"37\">37</td><td data-field=\"yel\" data-value=\"5\">5</td><td data-field=\"red\" data-value=\"0\">0</td><td data-field=\"off\" data-value=\"3\">3</td>\n",
    "</tr>\n",
    "<tr class=\"\">\n",
    "        <td class=\"td_rank\">5</td>\n",
    "    <td class=\"td_name\">\n",
    "        <a href=\"/player/epl/947794\" class=\"link_thumb #player_name\">\n",
    "            <div class=\"wrap_thumb\"><img src=\"//img1.daumcdn.net/thumb/S100x100/?fname=https%3A%2F%2Ft1.daumcdn.net%2Fsports%2Fplayer%2F300%2F14%2F372344.jpg&amp;scode=default_face_profile_big_p\" onerror=\"this.src='https://t1.daumcdn.net/media/img-section/sports13/player/noimage/square_m.png'\" width=\"34\" height=\"34\" class=\"thumb_g\" alt=\"도미닉 칼버트 르윈\"><span class=\"ico_country\"><img src=\"//img1.daumcdn.net/thumb/C100x100/?fname=http%3A%2F%2Ft1.daumcdn.net%2Fmedia%2Fimg-section%2Fsports13%2Flogo%2Fteam%2F14%2F48_300300.png&amp;scode=sports\" class=\"thumb_g\" alt=\"에버턴 FC\"></span></div>\n",
    "            \n",
    "        <span class=\"txt_name\">도미닉 칼버트 르윈<span class=\"ico_comm5\"></span></span>\n",
    "        </a>\n",
    "    </td>\n",
    "    <td class=\"td_team\"><a href=\"/team/epl/252\" class=\"link_txt\" data-tiara-layer=\"team_name\">에버턴</a></td>\n",
    "    <td data-field=\"gp\" data-value=\"28\">28</td><td data-field=\"gf\" data-value=\"15\" class=\"selected_on\">15</td><td data-field=\"ast\" data-value=\"1\">1</td><td data-field=\"opts\" data-value=\"16\">16</td><td data-field=\"sht\" data-value=\"57\">57</td><td data-field=\"sog\" data-value=\"33\">33</td><td data-field=\"fo\" data-value=\"31\">31</td><td data-field=\"yel\" data-value=\"3\">3</td><td data-field=\"red\" data-value=\"0\">0</td><td data-field=\"off\" data-value=\"17\">17</td>\n",
    "</tr>\n",
    "<tr class=\"\">\n",
    "        <td class=\"td_rank\">5</td>\n",
    "    <td class=\"td_name\">\n",
    "        <a href=\"/player/epl/271930\" class=\"link_thumb #player_name\">\n",
    "            <div class=\"wrap_thumb\"><img src=\"//img1.daumcdn.net/thumb/S100x100/?fname=https%3A%2F%2Ft1.daumcdn.net%2Fsports%2Fplayer%2F300%2F14%2F204336.jpg&amp;scode=default_face_profile_big_p\" onerror=\"this.src='https://t1.daumcdn.net/media/img-section/sports13/player/noimage/square_m.png'\" width=\"34\" height=\"34\" class=\"thumb_g\" alt=\"패트릭 뱀포드\"><span class=\"ico_country\"><img src=\"//img1.daumcdn.net/thumb/C100x100/?fname=http%3A%2F%2Ft1.daumcdn.net%2Fmedia%2Fimg-section%2Fsports13%2Flogo%2Fteam%2F14%2F34_300300.png&amp;scode=sports\" class=\"thumb_g\" alt=\"리즈 유나이티드 FC\"></span></div>\n",
    "            \n",
    "        <span class=\"txt_name\">패트릭 뱀포드<span class=\"ico_comm5\"></span></span>\n",
    "        </a>\n",
    "    </td>\n",
    "    <td class=\"td_team\"><a href=\"/team/epl/266\" class=\"link_txt\" data-tiara-layer=\"team_name\">리즈</a></td>\n",
    "    <td data-field=\"gp\" data-value=\"35\">35</td><td data-field=\"gf\" data-value=\"15\" class=\"selected_on\">15</td><td data-field=\"ast\" data-value=\"6\">6</td><td data-field=\"opts\" data-value=\"21\">21</td><td data-field=\"sht\" data-value=\"81\">81</td><td data-field=\"sog\" data-value=\"39\">39</td><td data-field=\"fo\" data-value=\"32\">32</td><td data-field=\"yel\" data-value=\"3\">3</td><td data-field=\"red\" data-value=\"0\">0</td><td data-field=\"off\" data-value=\"19\">19</td>\n",
    "</tr>\n",
    "<tr class=\"\">\n",
    "        <td class=\"td_rank\">7</td>\n",
    "    <td class=\"td_name\">\n",
    "        <a href=\"/player/epl/12281\" class=\"link_thumb #player_name\">\n",
    "            <div class=\"wrap_thumb\"><img src=\"//img1.daumcdn.net/thumb/S100x100/?fname=https%3A%2F%2Ft1.daumcdn.net%2Fsports%2Fplayer%2F300%2F14%2F50070.jpg&amp;scode=default_face_profile_big_p\" onerror=\"this.src='https://t1.daumcdn.net/media/img-section/sports13/player/noimage/square_m.png'\" width=\"34\" height=\"34\" class=\"thumb_g\" alt=\"알렉상드르 라카제트\"><span class=\"ico_country\"><img src=\"//img1.daumcdn.net/thumb/C100x100/?fname=http%3A%2F%2Ft1.daumcdn.net%2Fmedia%2Fimg-section%2Fsports13%2Flogo%2Fteam%2F14%2F42_300300.png&amp;scode=sports\" class=\"thumb_g\" alt=\"아스널 FC\"></span></div>\n",
    "            \n",
    "        <span class=\"txt_name\">알렉상드르 라카제트<span class=\"ico_comm5\"></span></span>\n",
    "        </a>\n",
    "    </td>\n",
    "    <td class=\"td_team\"><a href=\"/team/epl/247\" class=\"link_txt\" data-tiara-layer=\"team_name\">아스널</a></td>\n",
    "    <td data-field=\"gp\" data-value=\"28\">28</td><td data-field=\"gf\" data-value=\"13\" class=\"selected_on\">13</td><td data-field=\"ast\" data-value=\"1\">1</td><td data-field=\"opts\" data-value=\"14\">14</td><td data-field=\"sht\" data-value=\"46\">46</td><td data-field=\"sog\" data-value=\"29\">29</td><td data-field=\"fo\" data-value=\"34\">34</td><td data-field=\"yel\" data-value=\"3\">3</td><td data-field=\"red\" data-value=\"0\">0</td><td data-field=\"off\" data-value=\"10\">10</td>\n",
    "</tr>\n",
    "<tr class=\"\">\n",
    "        <td class=\"td_rank\">7</td>\n",
    "    <td class=\"td_name\">\n",
    "        <a href=\"/player/epl/531529\" class=\"link_thumb #player_name\">\n",
    "            <div class=\"wrap_thumb\"><img src=\"//img1.daumcdn.net/thumb/S100x100/?fname=https%3A%2F%2Ft1.daumcdn.net%2Fsports%2Fplayer%2F300%2F14%2F173827.jpg&amp;scode=default_face_profile_big_p\" onerror=\"this.src='https://t1.daumcdn.net/media/img-section/sports13/player/noimage/square_m.png'\" width=\"34\" height=\"34\" class=\"thumb_g\" alt=\"제이미 바디\"><span class=\"ico_country\"><img src=\"//img1.daumcdn.net/thumb/C100x100/?fname=http%3A%2F%2Ft1.daumcdn.net%2Fmedia%2Fimg-section%2Fsports13%2Flogo%2Fteam%2F14%2F31_300300.png&amp;scode=sports\" class=\"thumb_g\" alt=\"레스터 시티 FC\"></span></div>\n",
    "            \n",
    "        <span class=\"txt_name\">제이미 바디<span class=\"ico_comm5\"></span></span>\n",
    "        </a>\n",
    "    </td>\n",
    "    <td class=\"td_team\"><a href=\"/team/epl/268\" class=\"link_txt\" data-tiara-layer=\"team_name\">레스터</a></td>\n",
    "    <td data-field=\"gp\" data-value=\"31\">31</td><td data-field=\"gf\" data-value=\"13\" class=\"selected_on\">13</td><td data-field=\"ast\" data-value=\"8\">8</td><td data-field=\"opts\" data-value=\"21\">21</td><td data-field=\"sht\" data-value=\"72\">72</td><td data-field=\"sog\" data-value=\"32\">32</td><td data-field=\"fo\" data-value=\"24\">24</td><td data-field=\"yel\" data-value=\"1\">1</td><td data-field=\"red\" data-value=\"0\">0</td><td data-field=\"off\" data-value=\"32\">32</td>\n",
    "</tr>\n",
    "<tr class=\"\">\n",
    "        <td class=\"td_rank\">7</td>\n",
    "    <td class=\"td_name\">\n",
    "        <a href=\"/player/epl/952771\" class=\"link_thumb #player_name\">\n",
    "            <div class=\"wrap_thumb\"><img src=\"//img1.daumcdn.net/thumb/S100x100/?fname=https%3A%2F%2Ft1.daumcdn.net%2Fsports%2Fplayer%2F300%2F14%2F555386.jpg&amp;scode=default_face_profile_big_p\" onerror=\"this.src='https://t1.daumcdn.net/media/img-section/sports13/player/noimage/square_m.png'\" width=\"34\" height=\"34\" class=\"thumb_g\" alt=\"올리 왓킨스\"><span class=\"ico_country\"><img src=\"//img1.daumcdn.net/thumb/C100x100/?fname=http%3A%2F%2Ft1.daumcdn.net%2Fmedia%2Fimg-section%2Fsports13%2Flogo%2Fteam%2F14%2F40_300300.png&amp;scode=sports\" class=\"thumb_g\" alt=\"애스턴 빌라 FC\"></span></div>\n",
    "            \n",
    "        <span class=\"txt_name\">올리 왓킨스<span class=\"ico_comm5\"></span></span>\n",
    "        </a>\n",
    "    </td>\n",
    "    <td class=\"td_team\"><a href=\"/team/epl/250\" class=\"link_txt\" data-tiara-layer=\"team_name\">애스턴 빌라</a></td>\n",
    "    <td data-field=\"gp\" data-value=\"33\">33</td><td data-field=\"gf\" data-value=\"13\" class=\"selected_on\">13</td><td data-field=\"ast\" data-value=\"4\">4</td><td data-field=\"opts\" data-value=\"17\">17</td><td data-field=\"sht\" data-value=\"87\">87</td><td data-field=\"sog\" data-value=\"44\">44</td><td data-field=\"fo\" data-value=\"41\">41</td><td data-field=\"yel\" data-value=\"2\">2</td><td data-field=\"red\" data-value=\"0\">0</td><td data-field=\"off\" data-value=\"28\">28</td>\n",
    "</tr>\n",
    "<tr class=\"tr_line\">\n",
    "        <td class=\"td_rank\">10</td>\n",
    "    <td class=\"td_name\">\n",
    "        <a href=\"/player/epl/15177\" class=\"link_thumb #player_name\">\n",
    "            <div class=\"wrap_thumb\"><img src=\"//img1.daumcdn.net/thumb/S100x100/?fname=https%3A%2F%2Ft1.daumcdn.net%2Fsports%2Fplayer%2F300%2F14%2F113956.jpg&amp;scode=default_face_profile_big_p\" onerror=\"this.src='https://t1.daumcdn.net/media/img-section/sports13/player/noimage/square_m.png'\" width=\"34\" height=\"34\" class=\"thumb_g\" alt=\"칼럼 윌슨\"><span class=\"ico_country\"><img src=\"//img1.daumcdn.net/thumb/C100x100/?fname=http%3A%2F%2Ft1.daumcdn.net%2Fmedia%2Fimg-section%2Fsports13%2Flogo%2Fteam%2F14%2F39_300300.png&amp;scode=sports\" class=\"thumb_g\" alt=\"뉴캐슬 유나이티드 FC\"></span></div>\n",
    "            \n",
    "        <span class=\"txt_name\">칼럼 윌슨<span class=\"ico_comm5\"></span></span>\n",
    "        </a>\n",
    "    </td>\n",
    "    <td class=\"td_team\"><a href=\"/team/epl/1321\" class=\"link_txt\" data-tiara-layer=\"team_name\">뉴캐슬</a></td>\n",
    "    <td data-field=\"gp\" data-value=\"26\">26</td><td data-field=\"gf\" data-value=\"12\" class=\"selected_on\">12</td><td data-field=\"ast\" data-value=\"4\">4</td><td data-field=\"opts\" data-value=\"16\">16</td><td data-field=\"sht\" data-value=\"45\">45</td><td data-field=\"sog\" data-value=\"23\">23</td><td data-field=\"fo\" data-value=\"39\">39</td><td data-field=\"yel\" data-value=\"2\">2</td><td data-field=\"red\" data-value=\"0\">0</td><td data-field=\"off\" data-value=\"19\">19</td>\n",
    "</tr>\n",
    "<tr class=\"\">\n",
    "        <td class=\"td_rank\">10</td>\n",
    "    <td class=\"td_name\">\n",
    "        <a href=\"/player/epl/1265814\" class=\"link_thumb #player_name\">\n",
    "            <div class=\"wrap_thumb\"><img src=\"//img1.daumcdn.net/thumb/S100x100/?fname=https%3A%2F%2Ft1.daumcdn.net%2Fsports%2Fplayer%2F300%2F14%2F45853.jpg&amp;scode=default_face_profile_big_p\" onerror=\"this.src='https://t1.daumcdn.net/media/img-section/sports13/player/noimage/square_m.png'\" width=\"34\" height=\"34\" class=\"thumb_g\" alt=\"일카이 귄도안\"><span class=\"ico_country\"><img src=\"//img1.daumcdn.net/thumb/C100x100/?fname=http%3A%2F%2Ft1.daumcdn.net%2Fmedia%2Fimg-section%2Fsports13%2Flogo%2Fteam%2F14%2F17_300300.png&amp;scode=sports\" class=\"thumb_g\" alt=\"맨체스터 시티 FC\"></span></div>\n",
    "            \n",
    "        <span class=\"txt_name\">일카이 귄도안<span class=\"ico_comm5\"></span></span>\n",
    "        </a>\n",
    "    </td>\n",
    "    <td class=\"td_team\"><a href=\"/team/epl/258\" class=\"link_txt\" data-tiara-layer=\"team_name\">맨시티</a></td>\n",
    "    <td data-field=\"gp\" data-value=\"26\">26</td><td data-field=\"gf\" data-value=\"12\" class=\"selected_on\">12</td><td data-field=\"ast\" data-value=\"1\">1</td><td data-field=\"opts\" data-value=\"13\">13</td><td data-field=\"sht\" data-value=\"49\">49</td><td data-field=\"sog\" data-value=\"21\">21</td><td data-field=\"fo\" data-value=\"6\">6</td><td data-field=\"yel\" data-value=\"1\">1</td><td data-field=\"red\" data-value=\"0\">0</td><td data-field=\"off\" data-value=\"1\">1</td>\n",
    "</tr>\n",
    "<tr class=\"\">\n",
    "        <td class=\"td_rank\">12</td>\n",
    "    <td class=\"td_name\">\n",
    "        <a href=\"/player/epl/1021114\" class=\"link_thumb #player_name\">\n",
    "            <div class=\"wrap_thumb\"><img src=\"//img1.daumcdn.net/thumb/S100x100/?fname=https%3A%2F%2Ft1.daumcdn.net%2Fsports%2Fplayer%2F300%2F14%2F359642.jpg&amp;scode=default_face_profile_big_p\" onerror=\"this.src='https://t1.daumcdn.net/media/img-section/sports13/player/noimage/square_m.png'\" width=\"34\" height=\"34\" class=\"thumb_g\" alt=\"켈레치 이헤아나초\"><span class=\"ico_country\"><img src=\"//img1.daumcdn.net/thumb/C100x100/?fname=http%3A%2F%2Ft1.daumcdn.net%2Fmedia%2Fimg-section%2Fsports13%2Flogo%2Fteam%2F14%2F31_300300.png&amp;scode=sports\" class=\"thumb_g\" alt=\"레스터 시티 FC\"></span></div>\n",
    "            \n",
    "        <span class=\"txt_name\">켈레치 이헤아나초<span class=\"ico_comm5\"></span></span>\n",
    "        </a>\n",
    "    </td>\n",
    "    <td class=\"td_team\"><a href=\"/team/epl/268\" class=\"link_txt\" data-tiara-layer=\"team_name\">레스터</a></td>\n",
    "    <td data-field=\"gp\" data-value=\"22\">22</td><td data-field=\"gf\" data-value=\"11\" class=\"selected_on\">11</td><td data-field=\"ast\" data-value=\"2\">2</td><td data-field=\"opts\" data-value=\"13\">13</td><td data-field=\"sht\" data-value=\"46\">46</td><td data-field=\"sog\" data-value=\"20\">20</td><td data-field=\"fo\" data-value=\"23\">23</td><td data-field=\"yel\" data-value=\"1\">1</td><td data-field=\"red\" data-value=\"0\">0</td><td data-field=\"off\" data-value=\"9\">9</td>\n",
    "</tr>\n",
    "<tr class=\"\">\n",
    "        <td class=\"td_rank\">12</td>\n",
    "    <td class=\"td_name\">\n",
    "        <a href=\"/player/epl/17106\" class=\"link_thumb #player_name\">\n",
    "            <div class=\"wrap_thumb\"><img src=\"//img1.daumcdn.net/thumb/S100x100/?fname=https%3A%2F%2Ft1.daumcdn.net%2Fsports%2Fplayer%2F300%2F14%2F50480.jpg&amp;scode=default_face_profile_big_p\" onerror=\"this.src='https://t1.daumcdn.net/media/img-section/sports13/player/noimage/square_m.png'\" width=\"34\" height=\"34\" class=\"thumb_g\" alt=\"크리스 우드\"><span class=\"ico_country\"><img src=\"//img1.daumcdn.net/thumb/C100x100/?fname=http%3A%2F%2Ft1.daumcdn.net%2Fmedia%2Fimg-section%2Fsports13%2Flogo%2Fteam%2F14%2F6_300300.png&amp;scode=sports\" class=\"thumb_g\" alt=\"번리 FC\"></span></div>\n",
    "            \n",
    "        <span class=\"txt_name\">크리스 우드<span class=\"ico_comm5\"></span></span>\n",
    "        </a>\n",
    "    </td>\n",
    "    <td class=\"td_team\"><a href=\"/team/epl/263\" class=\"link_txt\" data-tiara-layer=\"team_name\">번리</a></td>\n",
    "    <td data-field=\"gp\" data-value=\"29\">29</td><td data-field=\"gf\" data-value=\"11\" class=\"selected_on\">11</td><td data-field=\"ast\" data-value=\"3\">3</td><td data-field=\"opts\" data-value=\"14\">14</td><td data-field=\"sht\" data-value=\"56\">56</td><td data-field=\"sog\" data-value=\"35\">35</td><td data-field=\"fo\" data-value=\"29\">29</td><td data-field=\"yel\" data-value=\"0\">0</td><td data-field=\"red\" data-value=\"0\">0</td><td data-field=\"off\" data-value=\"21\">21</td>\n",
    "</tr>\n",
    "<tr class=\"\">\n",
    "        <td class=\"td_rank\">14</td>\n",
    "    <td class=\"td_name\">\n",
    "        <a href=\"/player/epl/38093\" class=\"link_thumb #player_name\">\n",
    "            <div class=\"wrap_thumb\"><img src=\"//img1.daumcdn.net/thumb/S100x100/?fname=https%3A%2F%2Ft1.daumcdn.net%2Fsports%2Fplayer%2F300%2F14%2F130181.jpg&amp;scode=default_face_profile_big_p\" onerror=\"this.src='https://t1.daumcdn.net/media/img-section/sports13/player/noimage/square_m.png'\" width=\"34\" height=\"34\" class=\"thumb_g\" alt=\"대니 잉스\"><span class=\"ico_country\"><img src=\"//img1.daumcdn.net/thumb/C100x100/?fname=http%3A%2F%2Ft1.daumcdn.net%2Fmedia%2Fimg-section%2Fsports13%2Flogo%2Fteam%2F14%2F45_300300.png&amp;scode=sports\" class=\"thumb_g\" alt=\"사우샘프턴 FC\"></span></div>\n",
    "            \n",
    "        <span class=\"txt_name\">대니 잉스<span class=\"ico_comm5\"></span></span>\n",
    "        </a>\n",
    "    </td>\n",
    "    <td class=\"td_team\"><a href=\"/team/epl/271\" class=\"link_txt\" data-tiara-layer=\"team_name\">사우샘프턴</a></td>\n",
    "    <td data-field=\"gp\" data-value=\"25\">25</td><td data-field=\"gf\" data-value=\"10\" class=\"selected_on\">10</td><td data-field=\"ast\" data-value=\"4\">4</td><td data-field=\"opts\" data-value=\"14\">14</td><td data-field=\"sht\" data-value=\"53\">53</td><td data-field=\"sog\" data-value=\"27\">27</td><td data-field=\"fo\" data-value=\"18\">18</td><td data-field=\"yel\" data-value=\"1\">1</td><td data-field=\"red\" data-value=\"0\">0</td><td data-field=\"off\" data-value=\"16\">16</td>\n",
    "</tr>\n",
    "<tr class=\"\">\n",
    "        <td class=\"td_rank\">14</td>\n",
    "    <td class=\"td_name\">\n",
    "        <a href=\"/player/epl/12380\" class=\"link_thumb #player_name\">\n",
    "            <div class=\"wrap_thumb\"><img src=\"//img1.daumcdn.net/thumb/S100x100/?fname=https%3A%2F%2Ft1.daumcdn.net%2Fsports%2Fplayer%2F300%2F14%2F51498.jpg&amp;scode=default_face_profile_big_p\" onerror=\"this.src='https://t1.daumcdn.net/media/img-section/sports13/player/noimage/square_m.png'\" width=\"34\" height=\"34\" class=\"thumb_g\" alt=\"피에르 에머릭 오바메양\"><span class=\"ico_country\"><img src=\"//img1.daumcdn.net/thumb/C100x100/?fname=http%3A%2F%2Ft1.daumcdn.net%2Fmedia%2Fimg-section%2Fsports13%2Flogo%2Fteam%2F14%2F42_300300.png&amp;scode=sports\" class=\"thumb_g\" alt=\"아스널 FC\"></span></div>\n",
    "            \n",
    "        <span class=\"txt_name\">피에르 에머릭 오바메양<span class=\"ico_comm5\"></span></span>\n",
    "        </a>\n",
    "    </td>\n",
    "    <td class=\"td_team\"><a href=\"/team/epl/247\" class=\"link_txt\" data-tiara-layer=\"team_name\">아스널</a></td>\n",
    "    <td data-field=\"gp\" data-value=\"26\">26</td><td data-field=\"gf\" data-value=\"10\" class=\"selected_on\">10</td><td data-field=\"ast\" data-value=\"2\">2</td><td data-field=\"opts\" data-value=\"12\">12</td><td data-field=\"sht\" data-value=\"52\">52</td><td data-field=\"sog\" data-value=\"22\">22</td><td data-field=\"fo\" data-value=\"15\">15</td><td data-field=\"yel\" data-value=\"2\">2</td><td data-field=\"red\" data-value=\"0\">0</td><td data-field=\"off\" data-value=\"13\">13</td>\n",
    "</tr>\n",
    "<tr class=\"\">\n",
    "        <td class=\"td_rank\">14</td>\n",
    "    <td class=\"td_name\">\n",
    "        <a href=\"/player/epl/308401\" class=\"link_thumb #player_name\">\n",
    "            <div class=\"wrap_thumb\"><img src=\"//img1.daumcdn.net/thumb/S100x100/?fname=https%3A%2F%2Ft1.daumcdn.net%2Fsports%2Fplayer%2F300%2F14%2F111850.jpg&amp;scode=default_face_profile_big_p\" onerror=\"this.src='https://t1.daumcdn.net/media/img-section/sports13/player/noimage/square_m.png'\" width=\"34\" height=\"34\" class=\"thumb_g\" alt=\"윌프레드 자하\"><span class=\"ico_country\"><img src=\"//img1.daumcdn.net/thumb/C100x100/?fname=http%3A%2F%2Ft1.daumcdn.net%2Fmedia%2Fimg-section%2Fsports13%2Flogo%2Fteam%2F14%2F7_300300.png&amp;scode=sports\" class=\"thumb_g\" alt=\"크리스탈 팰리스 FC\"></span></div>\n",
    "            \n",
    "        <span class=\"txt_name\">윌프레드 자하<span class=\"ico_comm5\"></span></span>\n",
    "        </a>\n",
    "    </td>\n",
    "    <td class=\"td_team\"><a href=\"/team/epl/274\" class=\"link_txt\" data-tiara-layer=\"team_name\">크리스탈 팰리스</a></td>\n",
    "    <td data-field=\"gp\" data-value=\"26\">26</td><td data-field=\"gf\" data-value=\"10\" class=\"selected_on\">10</td><td data-field=\"ast\" data-value=\"2\">2</td><td data-field=\"opts\" data-value=\"12\">12</td><td data-field=\"sht\" data-value=\"48\">48</td><td data-field=\"sog\" data-value=\"17\">17</td><td data-field=\"fo\" data-value=\"32\">32</td><td data-field=\"yel\" data-value=\"4\">4</td><td data-field=\"red\" data-value=\"0\">0</td><td data-field=\"off\" data-value=\"16\">16</td>\n",
    "</tr>\n",
    "<tr class=\"\">\n",
    "        <td class=\"td_rank\">14</td>\n",
    "    <td class=\"td_name\">\n",
    "        <a href=\"/player/epl/219396\" class=\"link_thumb #player_name\">\n",
    "            <div class=\"wrap_thumb\"><img src=\"//img1.daumcdn.net/thumb/S100x100/?fname=https%3A%2F%2Ft1.daumcdn.net%2Fsports%2Fplayer%2F300%2F14%2F138534.jpg&amp;scode=default_face_profile_big_p\" onerror=\"this.src='https://t1.daumcdn.net/media/img-section/sports13/player/noimage/square_m.png'\" width=\"34\" height=\"34\" class=\"thumb_g\" alt=\"라힘 스털링\"><span class=\"ico_country\"><img src=\"//img1.daumcdn.net/thumb/C100x100/?fname=http%3A%2F%2Ft1.daumcdn.net%2Fmedia%2Fimg-section%2Fsports13%2Flogo%2Fteam%2F14%2F17_300300.png&amp;scode=sports\" class=\"thumb_g\" alt=\"맨체스터 시티 FC\"></span></div>\n",
    "            \n",
    "        <span class=\"txt_name\">라힘 스털링<span class=\"ico_comm5\"></span></span>\n",
    "        </a>\n",
    "    </td>\n",
    "    <td class=\"td_team\"><a href=\"/team/epl/258\" class=\"link_txt\" data-tiara-layer=\"team_name\">맨시티</a></td>\n",
    "    <td data-field=\"gp\" data-value=\"29\">29</td><td data-field=\"gf\" data-value=\"10\" class=\"selected_on\">10</td><td data-field=\"ast\" data-value=\"6\">6</td><td data-field=\"opts\" data-value=\"16\">16</td><td data-field=\"sht\" data-value=\"65\">65</td><td data-field=\"sog\" data-value=\"25\">25</td><td data-field=\"fo\" data-value=\"32\">32</td><td data-field=\"yel\" data-value=\"3\">3</td><td data-field=\"red\" data-value=\"0\">0</td><td data-field=\"off\" data-value=\"8\">8</td>\n",
    "</tr>\n",
    "<tr class=\"\">\n",
    "        <td class=\"td_rank\">14</td>\n",
    "    <td class=\"td_name\">\n",
    "        <a href=\"/player/epl/1184104\" class=\"link_thumb #player_name\">\n",
    "            <div class=\"wrap_thumb\"><img src=\"//img1.daumcdn.net/thumb/S100x100/?fname=https%3A%2F%2Ft1.daumcdn.net%2Fsports%2Fplayer%2F300%2F14%2F903830.jpg&amp;scode=default_face_profile_big_p\" onerror=\"this.src='https://t1.daumcdn.net/media/img-section/sports13/player/noimage/square_m.png'\" width=\"34\" height=\"34\" class=\"thumb_g\" alt=\"마커스 래쉬포드\"><span class=\"ico_country\"><img src=\"//img1.daumcdn.net/thumb/C100x100/?fname=http%3A%2F%2Ft1.daumcdn.net%2Fmedia%2Fimg-section%2Fsports13%2Flogo%2Fteam%2F14%2F35_300300.png&amp;scode=sports\" class=\"thumb_g\" alt=\"맨체스터 유나이티드 FC\"></span></div>\n",
    "            \n",
    "        <span class=\"txt_name\">마커스 래쉬포드<span class=\"ico_comm5\"></span></span>\n",
    "        </a>\n",
    "    </td>\n",
    "    <td class=\"td_team\"><a href=\"/team/epl/246\" class=\"link_txt\" data-tiara-layer=\"team_name\">맨유</a></td>\n",
    "    <td data-field=\"gp\" data-value=\"33\">33</td><td data-field=\"gf\" data-value=\"10\" class=\"selected_on\">10</td><td data-field=\"ast\" data-value=\"8\">8</td><td data-field=\"opts\" data-value=\"18\">18</td><td data-field=\"sht\" data-value=\"75\">75</td><td data-field=\"sog\" data-value=\"36\">36</td><td data-field=\"fo\" data-value=\"22\">22</td><td data-field=\"yel\" data-value=\"4\">4</td><td data-field=\"red\" data-value=\"0\">0</td><td data-field=\"off\" data-value=\"27\">27</td>\n",
    "</tr>\n",
    "<tr class=\"\">\n",
    "        <td class=\"td_rank\">19</td>\n",
    "    <td class=\"td_name\">\n",
    "        <a href=\"/player/epl/316391\" class=\"link_thumb #player_name\">\n",
    "            <div class=\"wrap_thumb\"><img src=\"//img1.daumcdn.net/thumb/S100x100/?fname=https%3A%2F%2Ft1.daumcdn.net%2Fsports%2Fplayer%2F300%2F14%2F205508.jpg&amp;scode=default_face_profile_big_p\" onerror=\"this.src='https://t1.daumcdn.net/media/img-section/sports13/player/noimage/square_m.png'\" width=\"34\" height=\"34\" class=\"thumb_g\" alt=\"제시 링가드\"><span class=\"ico_country\"><img src=\"//img1.daumcdn.net/thumb/C100x100/?fname=http%3A%2F%2Ft1.daumcdn.net%2Fmedia%2Fimg-section%2Fsports13%2Flogo%2Fteam%2F14%2F37_300300.png&amp;scode=sports\" class=\"thumb_g\" alt=\"웨스트햄 유나이티드 FC\"></span></div>\n",
    "            \n",
    "        <span class=\"txt_name\">제시 링가드<span class=\"ico_comm5\"></span></span>\n",
    "        </a>\n",
    "    </td>\n",
    "    <td class=\"td_team\"><a href=\"/team/epl/254\" class=\"link_txt\" data-tiara-layer=\"team_name\">웨스트햄</a></td>\n",
    "    <td data-field=\"gp\" data-value=\"12\">12</td><td data-field=\"gf\" data-value=\"9\" class=\"selected_on\">9</td><td data-field=\"ast\" data-value=\"3\">3</td><td data-field=\"opts\" data-value=\"12\">12</td><td data-field=\"sht\" data-value=\"32\">32</td><td data-field=\"sog\" data-value=\"18\">18</td><td data-field=\"fo\" data-value=\"17\">17</td><td data-field=\"yel\" data-value=\"2\">2</td><td data-field=\"red\" data-value=\"0\">0</td><td data-field=\"off\" data-value=\"4\">4</td>\n",
    "</tr>\n",
    "<tr class=\"tr_line\">\n",
    "        <td class=\"td_rank\">19</td>\n",
    "    <td class=\"td_name\">\n",
    "        <a href=\"/player/epl/39928\" class=\"link_thumb #player_name\">\n",
    "            <div class=\"wrap_thumb\"><img src=\"//img1.daumcdn.net/thumb/S100x100/?fname=https%3A%2F%2Ft1.daumcdn.net%2Fsports%2Fplayer%2F300%2F14%2F15354.jpg&amp;scode=default_face_profile_big_p\" onerror=\"this.src='https://t1.daumcdn.net/media/img-section/sports13/player/noimage/square_m.png'\" width=\"34\" height=\"34\" class=\"thumb_g\" alt=\"가레스 베일\"><span class=\"ico_country\"><img src=\"//img1.daumcdn.net/thumb/C100x100/?fname=http%3A%2F%2Ft1.daumcdn.net%2Fmedia%2Fimg-section%2Fsports13%2Flogo%2Fteam%2F14%2F33_300300.png&amp;scode=sports\" class=\"thumb_g\" alt=\"토트넘 핫스퍼 FC\"></span></div>\n",
    "            \n",
    "        <span class=\"txt_name\">가레스 베일<span class=\"ico_comm5\"></span></span>\n",
    "        </a>\n",
    "    </td>\n",
    "    <td class=\"td_team\"><a href=\"/team/epl/249\" class=\"link_txt\" data-tiara-layer=\"team_name\">토트넘</a></td>\n",
    "    <td data-field=\"gp\" data-value=\"17\">17</td><td data-field=\"gf\" data-value=\"9\" class=\"selected_on\">9</td><td data-field=\"ast\" data-value=\"2\">2</td><td data-field=\"opts\" data-value=\"11\">11</td><td data-field=\"sht\" data-value=\"29\">29</td><td data-field=\"sog\" data-value=\"16\">16</td><td data-field=\"fo\" data-value=\"8\">8</td><td data-field=\"yel\" data-value=\"1\">1</td><td data-field=\"red\" data-value=\"0\">0</td><td data-field=\"off\" data-value=\"3\">3</td>\n",
    "</tr>\n",
    "<tr class=\"\">\n",
    "        <td class=\"td_rank\">19</td>\n",
    "    <td class=\"td_name\">\n",
    "        <a href=\"/player/epl/15932\" class=\"link_thumb #player_name\">\n",
    "            <div class=\"wrap_thumb\"><img src=\"//img1.daumcdn.net/thumb/S100x100/?fname=https%3A%2F%2Ft1.daumcdn.net%2Fsports%2Fplayer%2F300%2F14%2F47772.jpg&amp;scode=default_face_profile_big_p\" onerror=\"this.src='https://t1.daumcdn.net/media/img-section/sports13/player/noimage/square_m.png'\" width=\"34\" height=\"34\" class=\"thumb_g\" alt=\"미카일 안토니오\"><span class=\"ico_country\"><img src=\"//img1.daumcdn.net/thumb/C100x100/?fname=http%3A%2F%2Ft1.daumcdn.net%2Fmedia%2Fimg-section%2Fsports13%2Flogo%2Fteam%2F14%2F37_300300.png&amp;scode=sports\" class=\"thumb_g\" alt=\"웨스트햄 유나이티드 FC\"></span></div>\n",
    "            \n",
    "        <span class=\"txt_name\">미카일 안토니오<span class=\"ico_comm5\"></span></span>\n",
    "        </a>\n",
    "    </td>\n",
    "    <td class=\"td_team\"><a href=\"/team/epl/254\" class=\"link_txt\" data-tiara-layer=\"team_name\">웨스트햄</a></td>\n",
    "    <td data-field=\"gp\" data-value=\"22\">22</td><td data-field=\"gf\" data-value=\"9\" class=\"selected_on\">9</td><td data-field=\"ast\" data-value=\"5\">5</td><td data-field=\"opts\" data-value=\"14\">14</td><td data-field=\"sht\" data-value=\"54\">54</td><td data-field=\"sog\" data-value=\"24\">24</td><td data-field=\"fo\" data-value=\"22\">22</td><td data-field=\"yel\" data-value=\"3\">3</td><td data-field=\"red\" data-value=\"0\">0</td><td data-field=\"off\" data-value=\"14\">14</td>\n",
    "</tr>\n",
    "<tr class=\"\">\n",
    "        <td class=\"td_rank\">19</td>\n",
    "    <td class=\"td_name\">\n",
    "        <a href=\"/player/epl/952758\" class=\"link_thumb #player_name\">\n",
    "            <div class=\"wrap_thumb\"><img src=\"//img1.daumcdn.net/thumb/S100x100/?fname=https%3A%2F%2Ft1.daumcdn.net%2Fsports%2Fplayer%2F300%2F14%2F158213.jpg&amp;scode=default_face_profile_big_p\" onerror=\"this.src='https://t1.daumcdn.net/media/img-section/sports13/player/noimage/square_m.png'\" width=\"34\" height=\"34\" class=\"thumb_g\" alt=\"리야드 마레즈\"><span class=\"ico_country\"><img src=\"//img1.daumcdn.net/thumb/C100x100/?fname=http%3A%2F%2Ft1.daumcdn.net%2Fmedia%2Fimg-section%2Fsports13%2Flogo%2Fteam%2F14%2F17_300300.png&amp;scode=sports\" class=\"thumb_g\" alt=\"맨체스터 시티 FC\"></span></div>\n",
    "            \n",
    "        <span class=\"txt_name\">리야드 마레즈<span class=\"ico_comm5\"></span></span>\n",
    "        </a>\n",
    "    </td>\n",
    "    <td class=\"td_team\"><a href=\"/team/epl/258\" class=\"link_txt\" data-tiara-layer=\"team_name\">맨시티</a></td>\n",
    "    <td data-field=\"gp\" data-value=\"25\">25</td><td data-field=\"gf\" data-value=\"9\" class=\"selected_on\">9</td><td data-field=\"ast\" data-value=\"4\">4</td><td data-field=\"opts\" data-value=\"13\">13</td><td data-field=\"sht\" data-value=\"54\">54</td><td data-field=\"sog\" data-value=\"20\">20</td><td data-field=\"fo\" data-value=\"12\">12</td><td data-field=\"yel\" data-value=\"0\">0</td><td data-field=\"red\" data-value=\"0\">0</td><td data-field=\"off\" data-value=\"7\">7</td>\n",
    "</tr>\n",
    "<tr class=\"\">\n",
    "        <td class=\"td_rank\">19</td>\n",
    "    <td class=\"td_name\">\n",
    "        <a href=\"/player/epl/1400247\" class=\"link_thumb #player_name\">\n",
    "            <div class=\"wrap_thumb\"><img src=\"//img1.daumcdn.net/thumb/S100x100/?fname=https%3A%2F%2Ft1.daumcdn.net%2Fsports%2Fplayer%2F300%2F14%2F1055187.jpg&amp;scode=default_face_profile_big_p\" onerror=\"this.src='https://t1.daumcdn.net/media/img-section/sports13/player/noimage/square_m.png'\" width=\"34\" height=\"34\" class=\"thumb_g\" alt=\"하비 반스\"><span class=\"ico_country\"><img src=\"//img1.daumcdn.net/thumb/C100x100/?fname=http%3A%2F%2Ft1.daumcdn.net%2Fmedia%2Fimg-section%2Fsports13%2Flogo%2Fteam%2F14%2F31_300300.png&amp;scode=sports\" class=\"thumb_g\" alt=\"레스터 시티 FC\"></span></div>\n",
    "            \n",
    "        <span class=\"txt_name\">하비 반스<span class=\"ico_comm5\"></span></span>\n",
    "        </a>\n",
    "    </td>\n",
    "    <td class=\"td_team\"><a href=\"/team/epl/268\" class=\"link_txt\" data-tiara-layer=\"team_name\">레스터</a></td>\n",
    "    <td data-field=\"gp\" data-value=\"25\">25</td><td data-field=\"gf\" data-value=\"9\" class=\"selected_on\">9</td><td data-field=\"ast\" data-value=\"4\">4</td><td data-field=\"opts\" data-value=\"13\">13</td><td data-field=\"sht\" data-value=\"58\">58</td><td data-field=\"sog\" data-value=\"26\">26</td><td data-field=\"fo\" data-value=\"16\">16</td><td data-field=\"yel\" data-value=\"0\">0</td><td data-field=\"red\" data-value=\"0\">0</td><td data-field=\"off\" data-value=\"1\">1</td>\n",
    "</tr>\n",
    "<tr class=\"\">\n",
    "        <td class=\"td_rank\">19</td>\n",
    "    <td class=\"td_name\">\n",
    "        <a href=\"/player/epl/1168608\" class=\"link_thumb #player_name\">\n",
    "            <div class=\"wrap_thumb\"><img src=\"//img1.daumcdn.net/thumb/S100x100/?fname=https%3A%2F%2Ft1.daumcdn.net%2Fsports%2Fplayer%2F300%2F14%2F377238.jpg&amp;scode=default_face_profile_big_p\" onerror=\"this.src='https://t1.daumcdn.net/media/img-section/sports13/player/noimage/square_m.png'\" width=\"34\" height=\"34\" class=\"thumb_g\" alt=\"마테우스 페레이라\"><span class=\"ico_country\"><img src=\"//img1.daumcdn.net/thumb/C100x100/?fname=http%3A%2F%2Ft1.daumcdn.net%2Fmedia%2Fimg-section%2Fsports13%2Flogo%2Fteam%2F14%2F8_300300.png&amp;scode=sports\" class=\"thumb_g\" alt=\"웨스트 브로미치 앨비언 FC\"></span></div>\n",
    "            \n",
    "        <span class=\"txt_name\">마테우스 페레이라<span class=\"ico_comm5\"></span></span>\n",
    "        </a>\n",
    "    </td>\n",
    "    <td class=\"td_team\"><a href=\"/team/epl/1319\" class=\"link_txt\" data-tiara-layer=\"team_name\">웨스트 브롬</a></td>\n",
    "    <td data-field=\"gp\" data-value=\"30\">30</td><td data-field=\"gf\" data-value=\"9\" class=\"selected_on\">9</td><td data-field=\"ast\" data-value=\"6\">6</td><td data-field=\"opts\" data-value=\"15\">15</td><td data-field=\"sht\" data-value=\"50\">50</td><td data-field=\"sog\" data-value=\"23\">23</td><td data-field=\"fo\" data-value=\"32\">32</td><td data-field=\"yel\" data-value=\"2\">2</td><td data-field=\"red\" data-value=\"1\">1</td><td data-field=\"off\" data-value=\"10\">10</td>\n",
    "</tr>\n",
    "<tr class=\"\">\n",
    "        <td class=\"td_rank\">19</td>\n",
    "    <td class=\"td_name\">\n",
    "        <a href=\"/player/epl/1033136\" class=\"link_thumb #player_name\">\n",
    "            <div class=\"wrap_thumb\"><img src=\"//img1.daumcdn.net/thumb/S100x100/?fname=https%3A%2F%2Ft1.daumcdn.net%2Fsports%2Fplayer%2F300%2F14%2F217704.jpg&amp;scode=default_face_profile_big_p\" onerror=\"this.src='https://t1.daumcdn.net/media/img-section/sports13/player/noimage/square_m.png'\" width=\"34\" height=\"34\" class=\"thumb_g\" alt=\"사디오 마네\"><span class=\"ico_country\"><img src=\"//img1.daumcdn.net/thumb/C100x100/?fname=http%3A%2F%2Ft1.daumcdn.net%2Fmedia%2Fimg-section%2Fsports13%2Flogo%2Fteam%2F14%2F44_300300.png&amp;scode=sports\" class=\"thumb_g\" alt=\"리버풀 FC\"></span></div>\n",
    "            \n",
    "        <span class=\"txt_name\">사디오 마네<span class=\"ico_comm5\"></span></span>\n",
    "        </a>\n",
    "    </td>\n",
    "    <td class=\"td_team\"><a href=\"/team/epl/253\" class=\"link_txt\" data-tiara-layer=\"team_name\">리버풀</a></td>\n",
    "    <td data-field=\"gp\" data-value=\"31\">31</td><td data-field=\"gf\" data-value=\"9\" class=\"selected_on\">9</td><td data-field=\"ast\" data-value=\"6\">6</td><td data-field=\"opts\" data-value=\"15\">15</td><td data-field=\"sht\" data-value=\"78\">78</td><td data-field=\"sog\" data-value=\"35\">35</td><td data-field=\"fo\" data-value=\"46\">46</td><td data-field=\"yel\" data-value=\"3\">3</td><td data-field=\"red\" data-value=\"0\">0</td><td data-field=\"off\" data-value=\"26\">26</td>\n",
    "</tr>\n",
    "<tr class=\"\">\n",
    "        <td class=\"td_rank\">19</td>\n",
    "    <td class=\"td_name\">\n",
    "        <a href=\"/player/epl/1607611\" class=\"link_thumb #player_name\">\n",
    "            <div class=\"wrap_thumb\"><img src=\"//img1.daumcdn.net/thumb/S100x100/?fname=https%3A%2F%2Ft1.daumcdn.net%2Fsports%2Fplayer%2F300%2F14%2F359840.jpg&amp;scode=default_face_profile_big_p\" onerror=\"this.src='https://t1.daumcdn.net/media/img-section/sports13/player/noimage/square_m.png'\" width=\"34\" height=\"34\" class=\"thumb_g\" alt=\"토마시 수첵\"><span class=\"ico_country\"><img src=\"//img1.daumcdn.net/thumb/C100x100/?fname=http%3A%2F%2Ft1.daumcdn.net%2Fmedia%2Fimg-section%2Fsports13%2Flogo%2Fteam%2F14%2F37_300300.png&amp;scode=sports\" class=\"thumb_g\" alt=\"웨스트햄 유나이티드 FC\"></span></div>\n",
    "            \n",
    "        <span class=\"txt_name\">토마시 수첵<span class=\"ico_comm5\"></span></span>\n",
    "        </a>\n",
    "    </td>\n",
    "    <td class=\"td_team\"><a href=\"/team/epl/254\" class=\"link_txt\" data-tiara-layer=\"team_name\">웨스트햄</a></td>\n",
    "    <td data-field=\"gp\" data-value=\"34\">34</td><td data-field=\"gf\" data-value=\"9\" class=\"selected_on\">9</td><td data-field=\"ast\" data-value=\"1\">1</td><td data-field=\"opts\" data-value=\"10\">10</td><td data-field=\"sht\" data-value=\"45\">45</td><td data-field=\"sog\" data-value=\"19\">19</td><td data-field=\"fo\" data-value=\"62\">62</td><td data-field=\"yel\" data-value=\"6\">6</td><td data-field=\"red\" data-value=\"1\">1</td><td data-field=\"off\" data-value=\"2\">2</td>\n",
    "</tr>\n",
    "<tr class=\"\">\n",
    "        <td class=\"td_rank\">27</td>\n",
    "    <td class=\"td_name\">\n",
    "        <a href=\"/player/epl/1269336\" class=\"link_thumb #player_name\">\n",
    "            <div class=\"wrap_thumb\"><img src=\"//img1.daumcdn.net/thumb/S100x100/?fname=https%3A%2F%2Ft1.daumcdn.net%2Fsports%2Fplayer%2F300%2F14%2F606164.jpg&amp;scode=default_face_profile_big_p\" onerror=\"this.src='https://t1.daumcdn.net/media/img-section/sports13/player/noimage/square_m.png'\" width=\"34\" height=\"34\" class=\"thumb_g\" alt=\"디오고 조타\"><span class=\"ico_country\"><img src=\"//img1.daumcdn.net/thumb/C100x100/?fname=http%3A%2F%2Ft1.daumcdn.net%2Fmedia%2Fimg-section%2Fsports13%2Flogo%2Fteam%2F14%2F44_300300.png&amp;scode=sports\" class=\"thumb_g\" alt=\"리버풀 FC\"></span></div>\n",
    "            \n",
    "        <span class=\"txt_name\">디오고 조타<span class=\"ico_comm5\"></span></span>\n",
    "        </a>\n",
    "    </td>\n",
    "    <td class=\"td_team\"><a href=\"/team/epl/253\" class=\"link_txt\" data-tiara-layer=\"team_name\">리버풀</a></td>\n",
    "    <td data-field=\"gp\" data-value=\"17\">17</td><td data-field=\"gf\" data-value=\"8\" class=\"selected_on\">8</td><td data-field=\"ast\" data-value=\"0\">0</td><td data-field=\"opts\" data-value=\"8\">8</td><td data-field=\"sht\" data-value=\"42\">42</td><td data-field=\"sog\" data-value=\"23\">23</td><td data-field=\"fo\" data-value=\"24\">24</td><td data-field=\"yel\" data-value=\"2\">2</td><td data-field=\"red\" data-value=\"0\">0</td><td data-field=\"off\" data-value=\"2\">2</td>\n",
    "</tr>\n",
    "<tr class=\"\">\n",
    "        <td class=\"td_rank\">27</td>\n",
    "    <td class=\"td_name\">\n",
    "        <a href=\"/player/epl/4548\" class=\"link_thumb #player_name\">\n",
    "            <div class=\"wrap_thumb\"><img src=\"//img1.daumcdn.net/thumb/S100x100/?fname=https%3A%2F%2Ft1.daumcdn.net%2Fsports%2Fplayer%2F300%2F14%2F21521.jpg&amp;scode=default_face_profile_big_p\" onerror=\"this.src='https://t1.daumcdn.net/media/img-section/sports13/player/noimage/square_m.png'\" width=\"34\" height=\"34\" class=\"thumb_g\" alt=\"에딘손 카바니\"><span class=\"ico_country\"><img src=\"//img1.daumcdn.net/thumb/C100x100/?fname=http%3A%2F%2Ft1.daumcdn.net%2Fmedia%2Fimg-section%2Fsports13%2Flogo%2Fteam%2F14%2F35_300300.png&amp;scode=sports\" class=\"thumb_g\" alt=\"맨체스터 유나이티드 FC\"></span></div>\n",
    "            \n",
    "        <span class=\"txt_name\">에딘손 카바니<span class=\"ico_comm5\"></span></span>\n",
    "        </a>\n",
    "    </td>\n",
    "    <td class=\"td_team\"><a href=\"/team/epl/246\" class=\"link_txt\" data-tiara-layer=\"team_name\">맨유</a></td>\n",
    "    <td data-field=\"gp\" data-value=\"22\">22</td><td data-field=\"gf\" data-value=\"8\" class=\"selected_on\">8</td><td data-field=\"ast\" data-value=\"2\">2</td><td data-field=\"opts\" data-value=\"10\">10</td><td data-field=\"sht\" data-value=\"29\">29</td><td data-field=\"sog\" data-value=\"12\">12</td><td data-field=\"fo\" data-value=\"16\">16</td><td data-field=\"yel\" data-value=\"3\">3</td><td data-field=\"red\" data-value=\"0\">0</td><td data-field=\"off\" data-value=\"4\">4</td>\n",
    "</tr>\n",
    "<tr class=\"\">\n",
    "        <td class=\"td_rank\">27</td>\n",
    "    <td class=\"td_name\">\n",
    "        <a href=\"/player/epl/1021503\" class=\"link_thumb #player_name\">\n",
    "            <div class=\"wrap_thumb\"><img src=\"//img1.daumcdn.net/thumb/S100x100/?fname=https%3A%2F%2Ft1.daumcdn.net%2Fsports%2Fplayer%2F300%2F14%2F362470.jpg&amp;scode=default_face_profile_big_p\" onerror=\"this.src='https://t1.daumcdn.net/media/img-section/sports13/player/noimage/square_m.png'\" width=\"34\" height=\"34\" class=\"thumb_g\" alt=\"안와르 엘가지\"><span class=\"ico_country\"><img src=\"//img1.daumcdn.net/thumb/C100x100/?fname=http%3A%2F%2Ft1.daumcdn.net%2Fmedia%2Fimg-section%2Fsports13%2Flogo%2Fteam%2F14%2F40_300300.png&amp;scode=sports\" class=\"thumb_g\" alt=\"애스턴 빌라 FC\"></span></div>\n",
    "            \n",
    "        <span class=\"txt_name\">안와르 엘가지<span class=\"ico_comm5\"></span></span>\n",
    "        </a>\n",
    "    </td>\n",
    "    <td class=\"td_team\"><a href=\"/team/epl/250\" class=\"link_txt\" data-tiara-layer=\"team_name\">애스턴 빌라</a></td>\n",
    "    <td data-field=\"gp\" data-value=\"23\">23</td><td data-field=\"gf\" data-value=\"8\" class=\"selected_on\">8</td><td data-field=\"ast\" data-value=\"0\">0</td><td data-field=\"opts\" data-value=\"8\">8</td><td data-field=\"sht\" data-value=\"50\">50</td><td data-field=\"sog\" data-value=\"24\">24</td><td data-field=\"fo\" data-value=\"12\">12</td><td data-field=\"yel\" data-value=\"2\">2</td><td data-field=\"red\" data-value=\"0\">0</td><td data-field=\"off\" data-value=\"6\">6</td>\n",
    "</tr>\n",
    "<tr class=\"tr_line\">\n",
    "        <td class=\"td_rank\">27</td>\n",
    "    <td class=\"td_name\">\n",
    "        <a href=\"/player/epl/1400557\" class=\"link_thumb #player_name\">\n",
    "            <div class=\"wrap_thumb\"><img src=\"//img1.daumcdn.net/thumb/S100x100/?fname=https%3A%2F%2Ft1.daumcdn.net%2Fsports%2Fplayer%2F300%2F14%2F835751.jpg&amp;scode=default_face_profile_big_p\" onerror=\"this.src='https://t1.daumcdn.net/media/img-section/sports13/player/noimage/square_m.png'\" width=\"34\" height=\"34\" class=\"thumb_g\" alt=\"가브리엘 제주스\"><span class=\"ico_country\"><img src=\"//img1.daumcdn.net/thumb/C100x100/?fname=http%3A%2F%2Ft1.daumcdn.net%2Fmedia%2Fimg-section%2Fsports13%2Flogo%2Fteam%2F14%2F17_300300.png&amp;scode=sports\" class=\"thumb_g\" alt=\"맨체스터 시티 FC\"></span></div>\n",
    "            \n",
    "        <span class=\"txt_name\">가브리엘 제주스<span class=\"ico_comm5\"></span></span>\n",
    "        </a>\n",
    "    </td>\n",
    "    <td class=\"td_team\"><a href=\"/team/epl/258\" class=\"link_txt\" data-tiara-layer=\"team_name\">맨시티</a></td>\n",
    "    <td data-field=\"gp\" data-value=\"26\">26</td><td data-field=\"gf\" data-value=\"8\" class=\"selected_on\">8</td><td data-field=\"ast\" data-value=\"3\">3</td><td data-field=\"opts\" data-value=\"11\">11</td><td data-field=\"sht\" data-value=\"45\">45</td><td data-field=\"sog\" data-value=\"13\">13</td><td data-field=\"fo\" data-value=\"25\">25</td><td data-field=\"yel\" data-value=\"2\">2</td><td data-field=\"red\" data-value=\"0\">0</td><td data-field=\"off\" data-value=\"16\">16</td>\n",
    "</tr>\n",
    "<tr class=\"\">\n",
    "        <td class=\"td_rank\">27</td>\n",
    "    <td class=\"td_name\">\n",
    "        <a href=\"/player/epl/924042\" class=\"link_thumb #player_name\">\n",
    "            <div class=\"wrap_thumb\"><img src=\"//img1.daumcdn.net/thumb/S100x100/?fname=https%3A%2F%2Ft1.daumcdn.net%2Fsports%2Fplayer%2F300%2F14%2F356398.jpg&amp;scode=default_face_profile_big_p\" onerror=\"this.src='https://t1.daumcdn.net/media/img-section/sports13/player/noimage/square_m.png'\" width=\"34\" height=\"34\" class=\"thumb_g\" alt=\"제임스 메디슨\"><span class=\"ico_country\"><img src=\"//img1.daumcdn.net/thumb/C100x100/?fname=http%3A%2F%2Ft1.daumcdn.net%2Fmedia%2Fimg-section%2Fsports13%2Flogo%2Fteam%2F14%2F31_300300.png&amp;scode=sports\" class=\"thumb_g\" alt=\"레스터 시티 FC\"></span></div>\n",
    "            \n",
    "        <span class=\"txt_name\">제임스 메디슨<span class=\"ico_comm5\"></span></span>\n",
    "        </a>\n",
    "    </td>\n",
    "    <td class=\"td_team\"><a href=\"/team/epl/268\" class=\"link_txt\" data-tiara-layer=\"team_name\">레스터</a></td>\n",
    "    <td data-field=\"gp\" data-value=\"28\">28</td><td data-field=\"gf\" data-value=\"8\" class=\"selected_on\">8</td><td data-field=\"ast\" data-value=\"5\">5</td><td data-field=\"opts\" data-value=\"13\">13</td><td data-field=\"sht\" data-value=\"71\">71</td><td data-field=\"sog\" data-value=\"26\">26</td><td data-field=\"fo\" data-value=\"19\">19</td><td data-field=\"yel\" data-value=\"4\">4</td><td data-field=\"red\" data-value=\"0\">0</td><td data-field=\"off\" data-value=\"5\">5</td>\n",
    "</tr>\n",
    "<tr class=\"\">\n",
    "        <td class=\"td_rank\">27</td>\n",
    "    <td class=\"td_name\">\n",
    "        <a href=\"/player/epl/1407645\" class=\"link_thumb #player_name\">\n",
    "            <div class=\"wrap_thumb\"><img src=\"//img1.daumcdn.net/thumb/S100x100/?fname=https%3A%2F%2Ft1.daumcdn.net%2Fsports%2Fplayer%2F300%2F14%2F268903.jpg&amp;scode=default_face_profile_big_p\" onerror=\"this.src='https://t1.daumcdn.net/media/img-section/sports13/player/noimage/square_m.png'\" width=\"34\" height=\"34\" class=\"thumb_g\" alt=\"닐 무파이\"><span class=\"ico_country\"><img src=\"//img1.daumcdn.net/thumb/C100x100/?fname=http%3A%2F%2Ft1.daumcdn.net%2Fmedia%2Fimg-section%2Fsports13%2Flogo%2Fteam%2F14%2F30_300300.png&amp;scode=sports\" class=\"thumb_g\" alt=\"브라이튼 앤 호브 알비온 FC\"></span></div>\n",
    "            \n",
    "        <span class=\"txt_name\">닐 무파이<span class=\"ico_comm5\"></span></span>\n",
    "        </a>\n",
    "    </td>\n",
    "    <td class=\"td_team\"><a href=\"/team/epl/277\" class=\"link_txt\" data-tiara-layer=\"team_name\">브라이튼</a></td>\n",
    "    <td data-field=\"gp\" data-value=\"32\">32</td><td data-field=\"gf\" data-value=\"8\" class=\"selected_on\">8</td><td data-field=\"ast\" data-value=\"2\">2</td><td data-field=\"opts\" data-value=\"10\">10</td><td data-field=\"sht\" data-value=\"70\">70</td><td data-field=\"sog\" data-value=\"29\">29</td><td data-field=\"fo\" data-value=\"24\">24</td><td data-field=\"yel\" data-value=\"1\">1</td><td data-field=\"red\" data-value=\"0\">0</td><td data-field=\"off\" data-value=\"12\">12</td>\n",
    "</tr>\n",
    "<tr class=\"\">\n",
    "        <td class=\"td_rank\">27</td>\n",
    "    <td class=\"td_name\">\n",
    "        <a href=\"/player/epl/218807\" class=\"link_thumb #player_name\">\n",
    "            <div class=\"wrap_thumb\"><img src=\"//img1.daumcdn.net/thumb/S100x100/?fname=https%3A%2F%2Ft1.daumcdn.net%2Fsports%2Fplayer%2F300%2F14%2F161717.jpg&amp;scode=default_face_profile_big_p\" onerror=\"this.src='https://t1.daumcdn.net/media/img-section/sports13/player/noimage/square_m.png'\" width=\"34\" height=\"34\" class=\"thumb_g\" alt=\"제임스 워드프라우스\"><span class=\"ico_country\"><img src=\"//img1.daumcdn.net/thumb/C100x100/?fname=http%3A%2F%2Ft1.daumcdn.net%2Fmedia%2Fimg-section%2Fsports13%2Flogo%2Fteam%2F14%2F45_300300.png&amp;scode=sports\" class=\"thumb_g\" alt=\"사우샘프턴 FC\"></span></div>\n",
    "            \n",
    "        <span class=\"txt_name\">제임스 워드프라우스<span class=\"ico_comm5\"></span></span>\n",
    "        </a>\n",
    "    </td>\n",
    "    <td class=\"td_team\"><a href=\"/team/epl/271\" class=\"link_txt\" data-tiara-layer=\"team_name\">사우샘프턴</a></td>\n",
    "    <td data-field=\"gp\" data-value=\"34\">34</td><td data-field=\"gf\" data-value=\"8\" class=\"selected_on\">8</td><td data-field=\"ast\" data-value=\"6\">6</td><td data-field=\"opts\" data-value=\"14\">14</td><td data-field=\"sht\" data-value=\"37\">37</td><td data-field=\"sog\" data-value=\"21\">21</td><td data-field=\"fo\" data-value=\"39\">39</td><td data-field=\"yel\" data-value=\"6\">6</td><td data-field=\"red\" data-value=\"0\">0</td><td data-field=\"off\" data-value=\"0\">0</td>\n",
    "</tr>\n",
    "<tr class=\"\">\n",
    "        <td class=\"td_rank\">27</td>\n",
    "    <td class=\"td_name\">\n",
    "        <a href=\"/player/epl/1269869\" class=\"link_thumb #player_name\">\n",
    "            <div class=\"wrap_thumb\"><img src=\"//img1.daumcdn.net/thumb/S100x100/?fname=https%3A%2F%2Ft1.daumcdn.net%2Fsports%2Fplayer%2F300%2F14%2F552884.jpg&amp;scode=default_face_profile_big_p\" onerror=\"this.src='https://t1.daumcdn.net/media/img-section/sports13/player/noimage/square_m.png'\" width=\"34\" height=\"34\" class=\"thumb_g\" alt=\"자로드 보웬\"><span class=\"ico_country\"><img src=\"//img1.daumcdn.net/thumb/C100x100/?fname=http%3A%2F%2Ft1.daumcdn.net%2Fmedia%2Fimg-section%2Fsports13%2Flogo%2Fteam%2F14%2F37_300300.png&amp;scode=sports\" class=\"thumb_g\" alt=\"웨스트햄 유나이티드 FC\"></span></div>\n",
    "            \n",
    "        <span class=\"txt_name\">자로드 보웬<span class=\"ico_comm5\"></span></span>\n",
    "        </a>\n",
    "    </td>\n",
    "    <td class=\"td_team\"><a href=\"/team/epl/254\" class=\"link_txt\" data-tiara-layer=\"team_name\">웨스트햄</a></td>\n",
    "    <td data-field=\"gp\" data-value=\"34\">34</td><td data-field=\"gf\" data-value=\"8\" class=\"selected_on\">8</td><td data-field=\"ast\" data-value=\"5\">5</td><td data-field=\"opts\" data-value=\"13\">13</td><td data-field=\"sht\" data-value=\"52\">52</td><td data-field=\"sog\" data-value=\"14\">14</td><td data-field=\"fo\" data-value=\"14\">14</td><td data-field=\"yel\" data-value=\"0\">0</td><td data-field=\"red\" data-value=\"0\">0</td><td data-field=\"off\" data-value=\"12\">12</td>\n",
    "</tr>\n",
    "<tr class=\"\">\n",
    "        <td class=\"td_rank\">27</td>\n",
    "    <td class=\"td_name\">\n",
    "        <a href=\"/player/epl/531518\" class=\"link_thumb #player_name\">\n",
    "            <div class=\"wrap_thumb\"><img src=\"//img1.daumcdn.net/thumb/S100x100/?fname=https%3A%2F%2Ft1.daumcdn.net%2Fsports%2Fplayer%2F300%2F14%2F78454.jpg&amp;scode=default_face_profile_big_p\" onerror=\"this.src='https://t1.daumcdn.net/media/img-section/sports13/player/noimage/square_m.png'\" width=\"34\" height=\"34\" class=\"thumb_g\" alt=\"스튜어트 달라스\"><span class=\"ico_country\"><img src=\"//img1.daumcdn.net/thumb/C100x100/?fname=http%3A%2F%2Ft1.daumcdn.net%2Fmedia%2Fimg-section%2Fsports13%2Flogo%2Fteam%2F14%2F34_300300.png&amp;scode=sports\" class=\"thumb_g\" alt=\"리즈 유나이티드 FC\"></span></div>\n",
    "            \n",
    "        <span class=\"txt_name\">스튜어트 달라스<span class=\"ico_comm5\"></span></span>\n",
    "        </a>\n",
    "    </td>\n",
    "    <td class=\"td_team\"><a href=\"/team/epl/266\" class=\"link_txt\" data-tiara-layer=\"team_name\">리즈</a></td>\n",
    "    <td data-field=\"gp\" data-value=\"35\">35</td><td data-field=\"gf\" data-value=\"8\" class=\"selected_on\">8</td><td data-field=\"ast\" data-value=\"3\">3</td><td data-field=\"opts\" data-value=\"11\">11</td><td data-field=\"sht\" data-value=\"47\">47</td><td data-field=\"sog\" data-value=\"21\">21</td><td data-field=\"fo\" data-value=\"40\">40</td><td data-field=\"yel\" data-value=\"6\">6</td><td data-field=\"red\" data-value=\"0\">0</td><td data-field=\"off\" data-value=\"0\">0</td>\n",
    "</tr>\n",
    "<tr class=\"\">\n",
    "        <td class=\"td_rank\">36</td>\n",
    "    <td class=\"td_name\">\n",
    "        <a href=\"/player/epl/1406733\" class=\"link_thumb #player_name\">\n",
    "            <div class=\"wrap_thumb\"><img src=\"//img1.daumcdn.net/thumb/S100x100/?fname=https%3A%2F%2Ft1.daumcdn.net%2Fsports%2Fplayer%2F300%2F14%2F1047129.jpg&amp;scode=default_face_profile_big_p\" onerror=\"this.src='https://t1.daumcdn.net/media/img-section/sports13/player/noimage/square_m.png'\" width=\"34\" height=\"34\" class=\"thumb_g\" alt=\"필 포든\"><span class=\"ico_country\"><img src=\"//img1.daumcdn.net/thumb/C100x100/?fname=http%3A%2F%2Ft1.daumcdn.net%2Fmedia%2Fimg-section%2Fsports13%2Flogo%2Fteam%2F14%2F17_300300.png&amp;scode=sports\" class=\"thumb_g\" alt=\"맨체스터 시티 FC\"></span></div>\n",
    "            \n",
    "        <span class=\"txt_name\">필 포든<span class=\"ico_comm5\"></span></span>\n",
    "        </a>\n",
    "    </td>\n",
    "    <td class=\"td_team\"><a href=\"/team/epl/258\" class=\"link_txt\" data-tiara-layer=\"team_name\">맨시티</a></td>\n",
    "    <td data-field=\"gp\" data-value=\"26\">26</td><td data-field=\"gf\" data-value=\"7\" class=\"selected_on\">7</td><td data-field=\"ast\" data-value=\"5\">5</td><td data-field=\"opts\" data-value=\"12\">12</td><td data-field=\"sht\" data-value=\"41\">41</td><td data-field=\"sog\" data-value=\"18\">18</td><td data-field=\"fo\" data-value=\"12\">12</td><td data-field=\"yel\" data-value=\"0\">0</td><td data-field=\"red\" data-value=\"0\">0</td><td data-field=\"off\" data-value=\"2\">2</td>\n",
    "</tr>\n",
    "<tr class=\"\">\n",
    "        <td class=\"td_rank\">36</td>\n",
    "    <td class=\"td_name\">\n",
    "        <a href=\"/player/epl/543457\" class=\"link_thumb #player_name\">\n",
    "            <div class=\"wrap_thumb\"><img src=\"//img1.daumcdn.net/thumb/S100x100/?fname=https%3A%2F%2Ft1.daumcdn.net%2Fsports%2Fplayer%2F300%2F14%2F45970.jpg&amp;scode=default_face_profile_big_p\" onerror=\"this.src='https://t1.daumcdn.net/media/img-section/sports13/player/noimage/square_m.png'\" width=\"34\" height=\"34\" class=\"thumb_g\" alt=\"크리스티안 벤테케\"><span class=\"ico_country\"><img src=\"//img1.daumcdn.net/thumb/C100x100/?fname=http%3A%2F%2Ft1.daumcdn.net%2Fmedia%2Fimg-section%2Fsports13%2Flogo%2Fteam%2F14%2F7_300300.png&amp;scode=sports\" class=\"thumb_g\" alt=\"크리스탈 팰리스 FC\"></span></div>\n",
    "            \n",
    "        <span class=\"txt_name\">크리스티안 벤테케<span class=\"ico_comm5\"></span></span>\n",
    "        </a>\n",
    "    </td>\n",
    "    <td class=\"td_team\"><a href=\"/team/epl/274\" class=\"link_txt\" data-tiara-layer=\"team_name\">크리스탈 팰리스</a></td>\n",
    "    <td data-field=\"gp\" data-value=\"27\">27</td><td data-field=\"gf\" data-value=\"7\" class=\"selected_on\">7</td><td data-field=\"ast\" data-value=\"1\">1</td><td data-field=\"opts\" data-value=\"8\">8</td><td data-field=\"sht\" data-value=\"52\">52</td><td data-field=\"sog\" data-value=\"26\">26</td><td data-field=\"fo\" data-value=\"30\">30</td><td data-field=\"yel\" data-value=\"0\">0</td><td data-field=\"red\" data-value=\"0\">0</td><td data-field=\"off\" data-value=\"13\">13</td>\n",
    "</tr>\n",
    "<tr class=\"\">\n",
    "        <td class=\"td_rank\">36</td>\n",
    "    <td class=\"td_name\">\n",
    "        <a href=\"/player/epl/15593\" class=\"link_thumb #player_name\">\n",
    "            <div class=\"wrap_thumb\"><img src=\"//img1.daumcdn.net/thumb/S100x100/?fname=https%3A%2F%2Ft1.daumcdn.net%2Fsports%2Fplayer%2F300%2F14%2F15033.jpg&amp;scode=default_face_profile_big_p\" onerror=\"this.src='https://t1.daumcdn.net/media/img-section/sports13/player/noimage/square_m.png'\" width=\"34\" height=\"34\" class=\"thumb_g\" alt=\"데이빗 맥골드릭\"><span class=\"ico_country\"><img src=\"//img1.daumcdn.net/thumb/C100x100/?fname=http%3A%2F%2Ft1.daumcdn.net%2Fmedia%2Fimg-section%2Fsports13%2Flogo%2Fteam%2F14%2F15_300300.png&amp;scode=sports\" class=\"thumb_g\" alt=\"셰필드 유나이티드 FC\"></span></div>\n",
    "            \n",
    "        <span class=\"txt_name\">데이빗 맥골드릭<span class=\"ico_comm5\"></span></span>\n",
    "        </a>\n",
    "    </td>\n",
    "    <td class=\"td_team\"><a href=\"/team/epl/286\" class=\"link_txt\" data-tiara-layer=\"team_name\">셰필드</a></td>\n",
    "    <td data-field=\"gp\" data-value=\"32\">32</td><td data-field=\"gf\" data-value=\"7\" class=\"selected_on\">7</td><td data-field=\"ast\" data-value=\"1\">1</td><td data-field=\"opts\" data-value=\"8\">8</td><td data-field=\"sht\" data-value=\"53\">53</td><td data-field=\"sog\" data-value=\"24\">24</td><td data-field=\"fo\" data-value=\"39\">39</td><td data-field=\"yel\" data-value=\"7\">7</td><td data-field=\"red\" data-value=\"0\">0</td><td data-field=\"off\" data-value=\"12\">12</td>\n",
    "</tr>\n",
    "<tr class=\"\">\n",
    "        <td class=\"td_rank\">36</td>\n",
    "    <td class=\"td_name\">\n",
    "        <a href=\"/player/epl/1406931\" class=\"link_thumb #player_name\">\n",
    "            <div class=\"wrap_thumb\"><img src=\"//img1.daumcdn.net/thumb/S100x100/?fname=https%3A%2F%2Ft1.daumcdn.net%2Fsports%2Fplayer%2F300%2F14%2F773409.jpg&amp;scode=default_face_profile_big_p\" onerror=\"this.src='https://t1.daumcdn.net/media/img-section/sports13/player/noimage/square_m.png'\" width=\"34\" height=\"34\" class=\"thumb_g\" alt=\"체 아담스\"><span class=\"ico_country\"><img src=\"//img1.daumcdn.net/thumb/C100x100/?fname=http%3A%2F%2Ft1.daumcdn.net%2Fmedia%2Fimg-section%2Fsports13%2Flogo%2Fteam%2F14%2F45_300300.png&amp;scode=sports\" class=\"thumb_g\" alt=\"사우샘프턴 FC\"></span></div>\n",
    "            \n",
    "        <span class=\"txt_name\">체 아담스<span class=\"ico_comm5\"></span></span>\n",
    "        </a>\n",
    "    </td>\n",
    "    <td class=\"td_team\"><a href=\"/team/epl/271\" class=\"link_txt\" data-tiara-layer=\"team_name\">사우샘프턴</a></td>\n",
    "    <td data-field=\"gp\" data-value=\"33\">33</td><td data-field=\"gf\" data-value=\"7\" class=\"selected_on\">7</td><td data-field=\"ast\" data-value=\"4\">4</td><td data-field=\"opts\" data-value=\"11\">11</td><td data-field=\"sht\" data-value=\"50\">50</td><td data-field=\"sog\" data-value=\"28\">28</td><td data-field=\"fo\" data-value=\"26\">26</td><td data-field=\"yel\" data-value=\"1\">1</td><td data-field=\"red\" data-value=\"0\">0</td><td data-field=\"off\" data-value=\"16\">16</td>\n",
    "</tr>\n",
    "<tr class=\"tr_line\">\n",
    "        <td class=\"td_rank\">36</td>\n",
    "    <td class=\"td_name\">\n",
    "        <a href=\"/player/epl/1616102\" class=\"link_thumb #player_name\">\n",
    "            <div class=\"wrap_thumb\"><img src=\"//img1.daumcdn.net/thumb/S100x100/?fname=https%3A%2F%2Ft1.daumcdn.net%2Fsports%2Fplayer%2F300%2F14%2F951350.jpg&amp;scode=default_face_profile_big_p\" onerror=\"this.src='https://t1.daumcdn.net/media/img-section/sports13/player/noimage/square_m.png'\" width=\"34\" height=\"34\" class=\"thumb_g\" alt=\"잭 해리슨\"><span class=\"ico_country\"><img src=\"//img1.daumcdn.net/thumb/C100x100/?fname=http%3A%2F%2Ft1.daumcdn.net%2Fmedia%2Fimg-section%2Fsports13%2Flogo%2Fteam%2F14%2F34_300300.png&amp;scode=sports\" class=\"thumb_g\" alt=\"리즈 유나이티드 FC\"></span></div>\n",
    "            \n",
    "        <span class=\"txt_name\">잭 해리슨<span class=\"ico_comm5\"></span></span>\n",
    "        </a>\n",
    "    </td>\n",
    "    <td class=\"td_team\"><a href=\"/team/epl/266\" class=\"link_txt\" data-tiara-layer=\"team_name\">리즈</a></td>\n",
    "    <td data-field=\"gp\" data-value=\"33\">33</td><td data-field=\"gf\" data-value=\"7\" class=\"selected_on\">7</td><td data-field=\"ast\" data-value=\"6\">6</td><td data-field=\"opts\" data-value=\"13\">13</td><td data-field=\"sht\" data-value=\"43\">43</td><td data-field=\"sog\" data-value=\"19\">19</td><td data-field=\"fo\" data-value=\"25\">25</td><td data-field=\"yel\" data-value=\"2\">2</td><td data-field=\"red\" data-value=\"0\">0</td><td data-field=\"off\" data-value=\"9\">9</td>\n",
    "</tr>\n",
    "<tr class=\"\">\n",
    "        <td class=\"td_rank\">41</td>\n",
    "    <td class=\"td_name\">\n",
    "        <a href=\"/player/epl/110272\" class=\"link_thumb #player_name\">\n",
    "            <div class=\"wrap_thumb\"><img src=\"//img1.daumcdn.net/thumb/S100x100/?fname=https%3A%2F%2Ft1.daumcdn.net%2Fsports%2Fplayer%2F300%2F14%2F107414.jpg&amp;scode=default_face_profile_big_p\" onerror=\"this.src='https://t1.daumcdn.net/media/img-section/sports13/player/noimage/square_m.png'\" width=\"34\" height=\"34\" class=\"thumb_g\" alt=\"하메스 로드리게스\"><span class=\"ico_country\"><img src=\"//img1.daumcdn.net/thumb/C100x100/?fname=http%3A%2F%2Ft1.daumcdn.net%2Fmedia%2Fimg-section%2Fsports13%2Flogo%2Fteam%2F14%2F48_300300.png&amp;scode=sports\" class=\"thumb_g\" alt=\"에버턴 FC\"></span></div>\n",
    "            \n",
    "        <span class=\"txt_name\">하메스 로드리게스<span class=\"ico_comm5\"></span></span>\n",
    "        </a>\n",
    "    </td>\n",
    "    <td class=\"td_team\"><a href=\"/team/epl/252\" class=\"link_txt\" data-tiara-layer=\"team_name\">에버턴</a></td>\n",
    "    <td data-field=\"gp\" data-value=\"22\">22</td><td data-field=\"gf\" data-value=\"6\" class=\"selected_on\">6</td><td data-field=\"ast\" data-value=\"4\">4</td><td data-field=\"opts\" data-value=\"10\">10</td><td data-field=\"sht\" data-value=\"34\">34</td><td data-field=\"sog\" data-value=\"16\">16</td><td data-field=\"fo\" data-value=\"16\">16</td><td data-field=\"yel\" data-value=\"3\">3</td><td data-field=\"red\" data-value=\"0\">0</td><td data-field=\"off\" data-value=\"5\">5</td>\n",
    "</tr>\n",
    "<tr class=\"\">\n",
    "        <td class=\"td_rank\">41</td>\n",
    "    <td class=\"td_name\">\n",
    "        <a href=\"/player/epl/442957\" class=\"link_thumb #player_name\">\n",
    "            <div class=\"wrap_thumb\"><img src=\"//img1.daumcdn.net/thumb/S100x100/?fname=https%3A%2F%2Ft1.daumcdn.net%2Fsports%2Fplayer%2F300%2F14%2F189061.jpg&amp;scode=default_face_profile_big_p\" onerror=\"this.src='https://t1.daumcdn.net/media/img-section/sports13/player/noimage/square_m.png'\" width=\"34\" height=\"34\" class=\"thumb_g\" alt=\"잭 그릴리쉬\"><span class=\"ico_country\"><img src=\"//img1.daumcdn.net/thumb/C100x100/?fname=http%3A%2F%2Ft1.daumcdn.net%2Fmedia%2Fimg-section%2Fsports13%2Flogo%2Fteam%2F14%2F40_300300.png&amp;scode=sports\" class=\"thumb_g\" alt=\"애스턴 빌라 FC\"></span></div>\n",
    "            \n",
    "        <span class=\"txt_name\">잭 그릴리쉬<span class=\"ico_comm5\"></span></span>\n",
    "        </a>\n",
    "    </td>\n",
    "    <td class=\"td_team\"><a href=\"/team/epl/250\" class=\"link_txt\" data-tiara-layer=\"team_name\">애스턴 빌라</a></td>\n",
    "    <td data-field=\"gp\" data-value=\"22\">22</td><td data-field=\"gf\" data-value=\"6\" class=\"selected_on\">6</td><td data-field=\"ast\" data-value=\"10\">10</td><td data-field=\"opts\" data-value=\"16\">16</td><td data-field=\"sht\" data-value=\"46\">46</td><td data-field=\"sog\" data-value=\"15\">15</td><td data-field=\"fo\" data-value=\"36\">36</td><td data-field=\"yel\" data-value=\"6\">6</td><td data-field=\"red\" data-value=\"0\">0</td><td data-field=\"off\" data-value=\"7\">7</td>\n",
    "</tr>\n",
    "<tr class=\"\">\n",
    "        <td class=\"td_rank\">41</td>\n",
    "    <td class=\"td_name\">\n",
    "        <a href=\"/player/epl/1238480\" class=\"link_thumb #player_name\">\n",
    "            <div class=\"wrap_thumb\"><img src=\"//img1.daumcdn.net/thumb/S100x100/?fname=https%3A%2F%2Ft1.daumcdn.net%2Fsports%2Fplayer%2F300%2F14%2F610766.jpg&amp;scode=default_face_profile_big_p\" onerror=\"this.src='https://t1.daumcdn.net/media/img-section/sports13/player/noimage/square_m.png'\" width=\"34\" height=\"34\" class=\"thumb_g\" alt=\"태미 에이브러햄\"><span class=\"ico_country\"><img src=\"//img1.daumcdn.net/thumb/C100x100/?fname=http%3A%2F%2Ft1.daumcdn.net%2Fmedia%2Fimg-section%2Fsports13%2Flogo%2Fteam%2F14%2F38_300300.png&amp;scode=sports\" class=\"thumb_g\" alt=\"첼시 FC\"></span></div>\n",
    "            \n",
    "        <span class=\"txt_name\">태미 에이브러햄<span class=\"ico_comm5\"></span></span>\n",
    "        </a>\n",
    "    </td>\n",
    "    <td class=\"td_team\"><a href=\"/team/epl/251\" class=\"link_txt\" data-tiara-layer=\"team_name\">첼시</a></td>\n",
    "    <td data-field=\"gp\" data-value=\"22\">22</td><td data-field=\"gf\" data-value=\"6\" class=\"selected_on\">6</td><td data-field=\"ast\" data-value=\"1\">1</td><td data-field=\"opts\" data-value=\"7\">7</td><td data-field=\"sht\" data-value=\"29\">29</td><td data-field=\"sog\" data-value=\"13\">13</td><td data-field=\"fo\" data-value=\"20\">20</td><td data-field=\"yel\" data-value=\"0\">0</td><td data-field=\"red\" data-value=\"0\">0</td><td data-field=\"off\" data-value=\"4\">4</td>\n",
    "</tr>\n",
    "<tr class=\"\">\n",
    "        <td class=\"td_rank\">41</td>\n",
    "    <td class=\"td_name\">\n",
    "        <a href=\"/player/epl/893003\" class=\"link_thumb #player_name\">\n",
    "            <div class=\"wrap_thumb\"><img src=\"//img1.daumcdn.net/thumb/S100x100/?fname=https%3A%2F%2Ft1.daumcdn.net%2Fsports%2Fplayer%2F300%2F14%2F132874.jpg&amp;scode=default_face_profile_big_p\" onerror=\"this.src='https://t1.daumcdn.net/media/img-section/sports13/player/noimage/square_m.png'\" width=\"34\" height=\"34\" class=\"thumb_g\" alt=\"조르지뉴\"><span class=\"ico_country\"><img src=\"//img1.daumcdn.net/thumb/C100x100/?fname=http%3A%2F%2Ft1.daumcdn.net%2Fmedia%2Fimg-section%2Fsports13%2Flogo%2Fteam%2F14%2F38_300300.png&amp;scode=sports\" class=\"thumb_g\" alt=\"첼시 FC\"></span></div>\n",
    "            \n",
    "        <span class=\"txt_name\">조르지뉴<span class=\"ico_comm5\"></span></span>\n",
    "        </a>\n",
    "    </td>\n",
    "    <td class=\"td_team\"><a href=\"/team/epl/251\" class=\"link_txt\" data-tiara-layer=\"team_name\">첼시</a></td>\n",
    "    <td data-field=\"gp\" data-value=\"25\">25</td><td data-field=\"gf\" data-value=\"6\" class=\"selected_on\">6</td><td data-field=\"ast\" data-value=\"2\">2</td><td data-field=\"opts\" data-value=\"8\">8</td><td data-field=\"sht\" data-value=\"13\">13</td><td data-field=\"sog\" data-value=\"7\">7</td><td data-field=\"fo\" data-value=\"25\">25</td><td data-field=\"yel\" data-value=\"1\">1</td><td data-field=\"red\" data-value=\"0\">0</td><td data-field=\"off\" data-value=\"0\">0</td>\n",
    "</tr>\n",
    "<tr class=\"\">\n",
    "        <td class=\"td_rank\">41</td>\n",
    "    <td class=\"td_name\">\n",
    "        <a href=\"/player/epl/1607936\" class=\"link_thumb #player_name\">\n",
    "            <div class=\"wrap_thumb\"><img src=\"//img1.daumcdn.net/thumb/S100x100/?fname=https%3A%2F%2Ft1.daumcdn.net%2Fsports%2Fplayer%2F300%2F14%2F956430.jpg&amp;scode=default_face_profile_big_p\" onerror=\"this.src='https://t1.daumcdn.net/media/img-section/sports13/player/noimage/square_m.png'\" width=\"34\" height=\"34\" class=\"thumb_g\" alt=\"하피냐\"><span class=\"ico_country\"><img src=\"//img1.daumcdn.net/thumb/C100x100/?fname=http%3A%2F%2Ft1.daumcdn.net%2Fmedia%2Fimg-section%2Fsports13%2Flogo%2Fteam%2F14%2F34_300300.png&amp;scode=sports\" class=\"thumb_g\" alt=\"리즈 유나이티드 FC\"></span></div>\n",
    "            \n",
    "        <span class=\"txt_name\">하피냐<span class=\"ico_comm5\"></span></span>\n",
    "        </a>\n",
    "    </td>\n",
    "    <td class=\"td_team\"><a href=\"/team/epl/266\" class=\"link_txt\" data-tiara-layer=\"team_name\">리즈</a></td>\n",
    "    <td data-field=\"gp\" data-value=\"27\">27</td><td data-field=\"gf\" data-value=\"6\" class=\"selected_on\">6</td><td data-field=\"ast\" data-value=\"7\">7</td><td data-field=\"opts\" data-value=\"13\">13</td><td data-field=\"sht\" data-value=\"62\">62</td><td data-field=\"sog\" data-value=\"25\">25</td><td data-field=\"fo\" data-value=\"13\">13</td><td data-field=\"yel\" data-value=\"3\">3</td><td data-field=\"red\" data-value=\"0\">0</td><td data-field=\"off\" data-value=\"12\">12</td>\n",
    "</tr>\n",
    "<tr class=\"\">\n",
    "        <td class=\"td_rank\">41</td>\n",
    "    <td class=\"td_name\">\n",
    "        <a href=\"/player/epl/1406812\" class=\"link_thumb #player_name\">\n",
    "            <div class=\"wrap_thumb\"><img src=\"//img1.daumcdn.net/thumb/S100x100/?fname=https%3A%2F%2Ft1.daumcdn.net%2Fsports%2Fplayer%2F300%2F14%2F992069.jpg&amp;scode=default_face_profile_big_p\" onerror=\"this.src='https://t1.daumcdn.net/media/img-section/sports13/player/noimage/square_m.png'\" width=\"34\" height=\"34\" class=\"thumb_g\" alt=\"히샬리송\"><span class=\"ico_country\"><img src=\"//img1.daumcdn.net/thumb/C100x100/?fname=http%3A%2F%2Ft1.daumcdn.net%2Fmedia%2Fimg-section%2Fsports13%2Flogo%2Fteam%2F14%2F48_300300.png&amp;scode=sports\" class=\"thumb_g\" alt=\"에버턴 FC\"></span></div>\n",
    "            \n",
    "        <span class=\"txt_name\">히샬리송<span class=\"ico_comm5\"></span></span>\n",
    "        </a>\n",
    "    </td>\n",
    "    <td class=\"td_team\"><a href=\"/team/epl/252\" class=\"link_txt\" data-tiara-layer=\"team_name\">에버턴</a></td>\n",
    "    <td data-field=\"gp\" data-value=\"29\">29</td><td data-field=\"gf\" data-value=\"6\" class=\"selected_on\">6</td><td data-field=\"ast\" data-value=\"3\">3</td><td data-field=\"opts\" data-value=\"9\">9</td><td data-field=\"sht\" data-value=\"71\">71</td><td data-field=\"sog\" data-value=\"31\">31</td><td data-field=\"fo\" data-value=\"30\">30</td><td data-field=\"yel\" data-value=\"3\">3</td><td data-field=\"red\" data-value=\"1\">1</td><td data-field=\"off\" data-value=\"22\">22</td>\n",
    "</tr>\n",
    "<tr class=\"\">\n",
    "        <td class=\"td_rank\">41</td>\n",
    "    <td class=\"td_name\">\n",
    "        <a href=\"/player/epl/16006\" class=\"link_thumb #player_name\">\n",
    "            <div class=\"wrap_thumb\"><img src=\"//img1.daumcdn.net/thumb/S100x100/?fname=https%3A%2F%2Ft1.daumcdn.net%2Fsports%2Fplayer%2F300%2F14%2F43192.jpg&amp;scode=default_face_profile_big_p\" onerror=\"this.src='https://t1.daumcdn.net/media/img-section/sports13/player/noimage/square_m.png'\" width=\"34\" height=\"34\" class=\"thumb_g\" alt=\"길비 시귀르드손\"><span class=\"ico_country\"><img src=\"//img1.daumcdn.net/thumb/C100x100/?fname=http%3A%2F%2Ft1.daumcdn.net%2Fmedia%2Fimg-section%2Fsports13%2Flogo%2Fteam%2F14%2F48_300300.png&amp;scode=sports\" class=\"thumb_g\" alt=\"에버턴 FC\"></span></div>\n",
    "            \n",
    "        <span class=\"txt_name\">길비 시귀르드손<span class=\"ico_comm5\"></span></span>\n",
    "        </a>\n",
    "    </td>\n",
    "    <td class=\"td_team\"><a href=\"/team/epl/252\" class=\"link_txt\" data-tiara-layer=\"team_name\">에버턴</a></td>\n",
    "    <td data-field=\"gp\" data-value=\"31\">31</td><td data-field=\"gf\" data-value=\"6\" class=\"selected_on\">6</td><td data-field=\"ast\" data-value=\"4\">4</td><td data-field=\"opts\" data-value=\"10\">10</td><td data-field=\"sht\" data-value=\"40\">40</td><td data-field=\"sog\" data-value=\"14\">14</td><td data-field=\"fo\" data-value=\"17\">17</td><td data-field=\"yel\" data-value=\"1\">1</td><td data-field=\"red\" data-value=\"0\">0</td><td data-field=\"off\" data-value=\"0\">0</td>\n",
    "</tr>\n",
    "<tr class=\"\">\n",
    "        <td class=\"td_rank\">41</td>\n",
    "    <td class=\"td_name\">\n",
    "        <a href=\"/player/epl/1142609\" class=\"link_thumb #player_name\">\n",
    "            <div class=\"wrap_thumb\"><img src=\"//img1.daumcdn.net/thumb/S100x100/?fname=https%3A%2F%2Ft1.daumcdn.net%2Fsports%2Fplayer%2F300%2F14%2F143697.jpg&amp;scode=default_face_profile_big_p\" onerror=\"this.src='https://t1.daumcdn.net/media/img-section/sports13/player/noimage/square_m.png'\" width=\"34\" height=\"34\" class=\"thumb_g\" alt=\"호베르투 피르미누\"><span class=\"ico_country\"><img src=\"//img1.daumcdn.net/thumb/C100x100/?fname=http%3A%2F%2Ft1.daumcdn.net%2Fmedia%2Fimg-section%2Fsports13%2Flogo%2Fteam%2F14%2F44_300300.png&amp;scode=sports\" class=\"thumb_g\" alt=\"리버풀 FC\"></span></div>\n",
    "            \n",
    "        <span class=\"txt_name\">호베르투 피르미누<span class=\"ico_comm5\"></span></span>\n",
    "        </a>\n",
    "    </td>\n",
    "    <td class=\"td_team\"><a href=\"/team/epl/253\" class=\"link_txt\" data-tiara-layer=\"team_name\">리버풀</a></td>\n",
    "    <td data-field=\"gp\" data-value=\"32\">32</td><td data-field=\"gf\" data-value=\"6\" class=\"selected_on\">6</td><td data-field=\"ast\" data-value=\"6\">6</td><td data-field=\"opts\" data-value=\"12\">12</td><td data-field=\"sht\" data-value=\"68\">68</td><td data-field=\"sog\" data-value=\"28\">28</td><td data-field=\"fo\" data-value=\"21\">21</td><td data-field=\"yel\" data-value=\"2\">2</td><td data-field=\"red\" data-value=\"0\">0</td><td data-field=\"off\" data-value=\"7\">7</td>\n",
    "</tr>\n",
    "<tr class=\"\">\n",
    "        <td class=\"td_rank\">41</td>\n",
    "    <td class=\"td_name\">\n",
    "        <a href=\"/player/epl/891234\" class=\"link_thumb #player_name\">\n",
    "            <div class=\"wrap_thumb\"><img src=\"//img1.daumcdn.net/thumb/S100x100/?fname=https%3A%2F%2Ft1.daumcdn.net%2Fsports%2Fplayer%2F300%2F14%2F232306.jpg&amp;scode=default_face_profile_big_p\" onerror=\"this.src='https://t1.daumcdn.net/media/img-section/sports13/player/noimage/square_m.png'\" width=\"34\" height=\"34\" class=\"thumb_g\" alt=\"티모 베르너\"><span class=\"ico_country\"><img src=\"//img1.daumcdn.net/thumb/C100x100/?fname=http%3A%2F%2Ft1.daumcdn.net%2Fmedia%2Fimg-section%2Fsports13%2Flogo%2Fteam%2F14%2F38_300300.png&amp;scode=sports\" class=\"thumb_g\" alt=\"첼시 FC\"></span></div>\n",
    "            \n",
    "        <span class=\"txt_name\">티모 베르너<span class=\"ico_comm5\"></span></span>\n",
    "        </a>\n",
    "    </td>\n",
    "    <td class=\"td_team\"><a href=\"/team/epl/251\" class=\"link_txt\" data-tiara-layer=\"team_name\">첼시</a></td>\n",
    "    <td data-field=\"gp\" data-value=\"33\">33</td><td data-field=\"gf\" data-value=\"6\" class=\"selected_on\">6</td><td data-field=\"ast\" data-value=\"8\">8</td><td data-field=\"opts\" data-value=\"14\">14</td><td data-field=\"sht\" data-value=\"69\">69</td><td data-field=\"sog\" data-value=\"26\">26</td><td data-field=\"fo\" data-value=\"22\">22</td><td data-field=\"yel\" data-value=\"1\">1</td><td data-field=\"red\" data-value=\"0\">0</td><td data-field=\"off\" data-value=\"24\">24</td>\n",
    "</tr>\n",
    "<tr class=\"tr_line\">\n",
    "        <td class=\"td_rank\">41</td>\n",
    "    <td class=\"td_name\">\n",
    "        <a href=\"/player/epl/1409741\" class=\"link_thumb #player_name\">\n",
    "            <div class=\"wrap_thumb\"><img src=\"//img1.daumcdn.net/thumb/S100x100/?fname=https%3A%2F%2Ft1.daumcdn.net%2Fsports%2Fplayer%2F300%2F14%2F936126.jpg&amp;scode=default_face_profile_big_p\" onerror=\"this.src='https://t1.daumcdn.net/media/img-section/sports13/player/noimage/square_m.png'\" width=\"34\" height=\"34\" class=\"thumb_g\" alt=\"메이슨 마운트\"><span class=\"ico_country\"><img src=\"//img1.daumcdn.net/thumb/C100x100/?fname=http%3A%2F%2Ft1.daumcdn.net%2Fmedia%2Fimg-section%2Fsports13%2Flogo%2Fteam%2F14%2F38_300300.png&amp;scode=sports\" class=\"thumb_g\" alt=\"첼시 FC\"></span></div>\n",
    "            \n",
    "        <span class=\"txt_name\">메이슨 마운트<span class=\"ico_comm5\"></span></span>\n",
    "        </a>\n",
    "    </td>\n",
    "    <td class=\"td_team\"><a href=\"/team/epl/251\" class=\"link_txt\" data-tiara-layer=\"team_name\">첼시</a></td>\n",
    "    <td data-field=\"gp\" data-value=\"33\">33</td><td data-field=\"gf\" data-value=\"6\" class=\"selected_on\">6</td><td data-field=\"ast\" data-value=\"5\">5</td><td data-field=\"opts\" data-value=\"11\">11</td><td data-field=\"sht\" data-value=\"70\">70</td><td data-field=\"sog\" data-value=\"26\">26</td><td data-field=\"fo\" data-value=\"45\">45</td><td data-field=\"yel\" data-value=\"2\">2</td><td data-field=\"red\" data-value=\"0\">0</td><td data-field=\"off\" data-value=\"4\">4</td>\n",
    "</tr>\n",
    "<tr class=\"\">\n",
    "        <td class=\"td_rank\">41</td>\n",
    "    <td class=\"td_name\">\n",
    "        <a href=\"/player/epl/905802\" class=\"link_thumb #player_name\">\n",
    "            <div class=\"wrap_thumb\"><img src=\"//img1.daumcdn.net/thumb/S100x100/?fname=https%3A%2F%2Ft1.daumcdn.net%2Fsports%2Fplayer%2F300%2F14%2F331737.jpg&amp;scode=default_face_profile_big_p\" onerror=\"this.src='https://t1.daumcdn.net/media/img-section/sports13/player/noimage/square_m.png'\" width=\"34\" height=\"34\" class=\"thumb_g\" alt=\"유리 틸레만스\"><span class=\"ico_country\"><img src=\"//img1.daumcdn.net/thumb/C100x100/?fname=http%3A%2F%2Ft1.daumcdn.net%2Fmedia%2Fimg-section%2Fsports13%2Flogo%2Fteam%2F14%2F31_300300.png&amp;scode=sports\" class=\"thumb_g\" alt=\"레스터 시티 FC\"></span></div>\n",
    "            \n",
    "        <span class=\"txt_name\">유리 틸레만스<span class=\"ico_comm5\"></span></span>\n",
    "        </a>\n",
    "    </td>\n",
    "    <td class=\"td_team\"><a href=\"/team/epl/268\" class=\"link_txt\" data-tiara-layer=\"team_name\">레스터</a></td>\n",
    "    <td data-field=\"gp\" data-value=\"35\">35</td><td data-field=\"gf\" data-value=\"6\" class=\"selected_on\">6</td><td data-field=\"ast\" data-value=\"3\">3</td><td data-field=\"opts\" data-value=\"9\">9</td><td data-field=\"sht\" data-value=\"44\">44</td><td data-field=\"sog\" data-value=\"20\">20</td><td data-field=\"fo\" data-value=\"35\">35</td><td data-field=\"yel\" data-value=\"6\">6</td><td data-field=\"red\" data-value=\"0\">0</td><td data-field=\"off\" data-value=\"0\">0</td>\n",
    "</tr>\n",
    "<tr class=\"\">\n",
    "        <td class=\"td_rank\">52</td>\n",
    "    <td class=\"td_name\">\n",
    "        <a href=\"/player/epl/1606689\" class=\"link_thumb #player_name\">\n",
    "            <div class=\"wrap_thumb\"><img src=\"//img1.daumcdn.net/thumb/S100x100/?fname=https%3A%2F%2Ft1.daumcdn.net%2Fsports%2Fplayer%2F300%2F14%2F937002.jpg&amp;scode=default_face_profile_big_p\" onerror=\"this.src='https://t1.daumcdn.net/media/img-section/sports13/player/noimage/square_m.png'\" width=\"34\" height=\"34\" class=\"thumb_g\" alt=\"조 윌록\"><span class=\"ico_country\"><img src=\"//img1.daumcdn.net/thumb/C100x100/?fname=http%3A%2F%2Ft1.daumcdn.net%2Fmedia%2Fimg-section%2Fsports13%2Flogo%2Fteam%2F14%2F39_300300.png&amp;scode=sports\" class=\"thumb_g\" alt=\"뉴캐슬 유나이티드 FC\"></span></div>\n",
    "            \n",
    "        <span class=\"txt_name\">조 윌록<span class=\"ico_comm5\"></span></span>\n",
    "        </a>\n",
    "    </td>\n",
    "    <td class=\"td_team\"><a href=\"/team/epl/1321\" class=\"link_txt\" data-tiara-layer=\"team_name\">뉴캐슬</a></td>\n",
    "    <td data-field=\"gp\" data-value=\"18\">18</td><td data-field=\"gf\" data-value=\"5\" class=\"selected_on\">5</td><td data-field=\"ast\" data-value=\"0\">0</td><td data-field=\"opts\" data-value=\"5\">5</td><td data-field=\"sht\" data-value=\"15\">15</td><td data-field=\"sog\" data-value=\"9\">9</td><td data-field=\"fo\" data-value=\"14\">14</td><td data-field=\"yel\" data-value=\"1\">1</td><td data-field=\"red\" data-value=\"0\">0</td><td data-field=\"off\" data-value=\"0\">0</td>\n",
    "</tr>\n",
    "<tr class=\"\">\n",
    "        <td class=\"td_rank\">52</td>\n",
    "    <td class=\"td_name\">\n",
    "        <a href=\"/player/epl/14226\" class=\"link_thumb #player_name\">\n",
    "            <div class=\"wrap_thumb\"><img src=\"//img1.daumcdn.net/thumb/S100x100/?fname=https%3A%2F%2Ft1.daumcdn.net%2Fsports%2Fplayer%2F300%2F14%2F33902.jpg&amp;scode=default_face_profile_big_p\" onerror=\"this.src='https://t1.daumcdn.net/media/img-section/sports13/player/noimage/square_m.png'\" width=\"34\" height=\"34\" class=\"thumb_g\" alt=\"대니 웰벡\"><span class=\"ico_country\"><img src=\"//img1.daumcdn.net/thumb/C100x100/?fname=http%3A%2F%2Ft1.daumcdn.net%2Fmedia%2Fimg-section%2Fsports13%2Flogo%2Fteam%2F14%2F30_300300.png&amp;scode=sports\" class=\"thumb_g\" alt=\"브라이튼 앤 호브 알비온 FC\"></span></div>\n",
    "            \n",
    "        <span class=\"txt_name\">대니 웰벡<span class=\"ico_comm5\"></span></span>\n",
    "        </a>\n",
    "    </td>\n",
    "    <td class=\"td_team\"><a href=\"/team/epl/277\" class=\"link_txt\" data-tiara-layer=\"team_name\">브라이튼</a></td>\n",
    "    <td data-field=\"gp\" data-value=\"21\">21</td><td data-field=\"gf\" data-value=\"5\" class=\"selected_on\">5</td><td data-field=\"ast\" data-value=\"1\">1</td><td data-field=\"opts\" data-value=\"6\">6</td><td data-field=\"sht\" data-value=\"33\">33</td><td data-field=\"sog\" data-value=\"16\">16</td><td data-field=\"fo\" data-value=\"18\">18</td><td data-field=\"yel\" data-value=\"0\">0</td><td data-field=\"red\" data-value=\"0\">0</td><td data-field=\"off\" data-value=\"4\">4</td>\n",
    "</tr>\n",
    "<tr class=\"\">\n",
    "        <td class=\"td_rank\">52</td>\n",
    "    <td class=\"td_name\">\n",
    "        <a href=\"/player/epl/955587\" class=\"link_thumb #player_name\">\n",
    "            <div class=\"wrap_thumb\"><img src=\"//img1.daumcdn.net/thumb/S100x100/?fname=https%3A%2F%2Ft1.daumcdn.net%2Fsports%2Fplayer%2F300%2F14%2F139227.jpg&amp;scode=default_face_profile_big_p\" onerror=\"this.src='https://t1.daumcdn.net/media/img-section/sports13/player/noimage/square_m.png'\" width=\"34\" height=\"34\" class=\"thumb_g\" alt=\"커트 조우마\"><span class=\"ico_country\"><img src=\"//img1.daumcdn.net/thumb/C100x100/?fname=http%3A%2F%2Ft1.daumcdn.net%2Fmedia%2Fimg-section%2Fsports13%2Flogo%2Fteam%2F14%2F38_300300.png&amp;scode=sports\" class=\"thumb_g\" alt=\"첼시 FC\"></span></div>\n",
    "            \n",
    "        <span class=\"txt_name\">커트 조우마<span class=\"ico_comm5\"></span></span>\n",
    "        </a>\n",
    "    </td>\n",
    "    <td class=\"td_team\"><a href=\"/team/epl/251\" class=\"link_txt\" data-tiara-layer=\"team_name\">첼시</a></td>\n",
    "    <td data-field=\"gp\" data-value=\"22\">22</td><td data-field=\"gf\" data-value=\"5\" class=\"selected_on\">5</td><td data-field=\"ast\" data-value=\"0\">0</td><td data-field=\"opts\" data-value=\"5\">5</td><td data-field=\"sht\" data-value=\"21\">21</td><td data-field=\"sog\" data-value=\"11\">11</td><td data-field=\"fo\" data-value=\"15\">15</td><td data-field=\"yel\" data-value=\"3\">3</td><td data-field=\"red\" data-value=\"0\">0</td><td data-field=\"off\" data-value=\"0\">0</td>\n",
    "</tr>\n",
    "<tr class=\"\">\n",
    "        <td class=\"td_rank\">52</td>\n",
    "    <td class=\"td_name\">\n",
    "        <a href=\"/player/epl/340517\" class=\"link_thumb #player_name\">\n",
    "            <div class=\"wrap_thumb\"><img src=\"//img1.daumcdn.net/thumb/S100x100/?fname=https%3A%2F%2Ft1.daumcdn.net%2Fsports%2Fplayer%2F300%2F14%2F70996.jpg&amp;scode=default_face_profile_big_p\" onerror=\"this.src='https://t1.daumcdn.net/media/img-section/sports13/player/noimage/square_m.png'\" width=\"34\" height=\"34\" class=\"thumb_g\" alt=\"케빈 더 브라위너\"><span class=\"ico_country\"><img src=\"//img1.daumcdn.net/thumb/C100x100/?fname=http%3A%2F%2Ft1.daumcdn.net%2Fmedia%2Fimg-section%2Fsports13%2Flogo%2Fteam%2F14%2F17_300300.png&amp;scode=sports\" class=\"thumb_g\" alt=\"맨체스터 시티 FC\"></span></div>\n",
    "            \n",
    "        <span class=\"txt_name\">케빈 더 브라위너<span class=\"ico_comm5\"></span></span>\n",
    "        </a>\n",
    "    </td>\n",
    "    <td class=\"td_team\"><a href=\"/team/epl/258\" class=\"link_txt\" data-tiara-layer=\"team_name\">맨시티</a></td>\n",
    "    <td data-field=\"gp\" data-value=\"24\">24</td><td data-field=\"gf\" data-value=\"5\" class=\"selected_on\">5</td><td data-field=\"ast\" data-value=\"10\">10</td><td data-field=\"opts\" data-value=\"15\">15</td><td data-field=\"sht\" data-value=\"83\">83</td><td data-field=\"sog\" data-value=\"27\">27</td><td data-field=\"fo\" data-value=\"21\">21</td><td data-field=\"yel\" data-value=\"1\">1</td><td data-field=\"red\" data-value=\"0\">0</td><td data-field=\"off\" data-value=\"2\">2</td>\n",
    "</tr>\n",
    "<tr class=\"\">\n",
    "        <td class=\"td_rank\">52</td>\n",
    "    <td class=\"td_name\">\n",
    "        <a href=\"/player/epl/911697\" class=\"link_thumb #player_name\">\n",
    "            <div class=\"wrap_thumb\"><img src=\"//img1.daumcdn.net/thumb/S100x100/?fname=https%3A%2F%2Ft1.daumcdn.net%2Fsports%2Fplayer%2F300%2F14%2F190851.jpg&amp;scode=default_face_profile_big_p\" onerror=\"this.src='https://t1.daumcdn.net/media/img-section/sports13/player/noimage/square_m.png'\" width=\"34\" height=\"34\" class=\"thumb_g\" alt=\"칼럼 로빈슨\"><span class=\"ico_country\"><img src=\"//img1.daumcdn.net/thumb/C100x100/?fname=http%3A%2F%2Ft1.daumcdn.net%2Fmedia%2Fimg-section%2Fsports13%2Flogo%2Fteam%2F14%2F8_300300.png&amp;scode=sports\" class=\"thumb_g\" alt=\"웨스트 브로미치 앨비언 FC\"></span></div>\n",
    "            \n",
    "        <span class=\"txt_name\">칼럼 로빈슨<span class=\"ico_comm5\"></span></span>\n",
    "        </a>\n",
    "    </td>\n",
    "    <td class=\"td_team\"><a href=\"/team/epl/1319\" class=\"link_txt\" data-tiara-layer=\"team_name\">웨스트 브롬</a></td>\n",
    "    <td data-field=\"gp\" data-value=\"26\">26</td><td data-field=\"gf\" data-value=\"5\" class=\"selected_on\">5</td><td data-field=\"ast\" data-value=\"0\">0</td><td data-field=\"opts\" data-value=\"5\">5</td><td data-field=\"sht\" data-value=\"25\">25</td><td data-field=\"sog\" data-value=\"9\">9</td><td data-field=\"fo\" data-value=\"3\">3</td><td data-field=\"yel\" data-value=\"0\">0</td><td data-field=\"red\" data-value=\"0\">0</td><td data-field=\"off\" data-value=\"7\">7</td>\n",
    "</tr>\n",
    "<tr class=\"\">\n",
    "        <td class=\"td_rank\">52</td>\n",
    "    <td class=\"td_name\">\n",
    "        <a href=\"/player/epl/1266438\" class=\"link_thumb #player_name\">\n",
    "            <div class=\"wrap_thumb\"><img src=\"//img1.daumcdn.net/thumb/S100x100/?fname=https%3A%2F%2Ft1.daumcdn.net%2Fsports%2Fplayer%2F300%2F14%2F593526.jpg&amp;scode=default_face_profile_big_p\" onerror=\"this.src='https://t1.daumcdn.net/media/img-section/sports13/player/noimage/square_m.png'\" width=\"34\" height=\"34\" class=\"thumb_g\" alt=\"니콜라 페페\"><span class=\"ico_country\"><img src=\"//img1.daumcdn.net/thumb/C100x100/?fname=http%3A%2F%2Ft1.daumcdn.net%2Fmedia%2Fimg-section%2Fsports13%2Flogo%2Fteam%2F14%2F42_300300.png&amp;scode=sports\" class=\"thumb_g\" alt=\"아스널 FC\"></span></div>\n",
    "            \n",
    "        <span class=\"txt_name\">니콜라 페페<span class=\"ico_comm5\"></span></span>\n",
    "        </a>\n",
    "    </td>\n",
    "    <td class=\"td_team\"><a href=\"/team/epl/247\" class=\"link_txt\" data-tiara-layer=\"team_name\">아스널</a></td>\n",
    "    <td data-field=\"gp\" data-value=\"26\">26</td><td data-field=\"gf\" data-value=\"5\" class=\"selected_on\">5</td><td data-field=\"ast\" data-value=\"1\">1</td><td data-field=\"opts\" data-value=\"6\">6</td><td data-field=\"sht\" data-value=\"41\">41</td><td data-field=\"sog\" data-value=\"15\">15</td><td data-field=\"fo\" data-value=\"9\">9</td><td data-field=\"yel\" data-value=\"1\">1</td><td data-field=\"red\" data-value=\"1\">1</td><td data-field=\"off\" data-value=\"3\">3</td>\n",
    "</tr>\n",
    "<tr class=\"\">\n",
    "        <td class=\"td_rank\">52</td>\n",
    "    <td class=\"td_name\">\n",
    "        <a href=\"/player/epl/1620424\" class=\"link_thumb #player_name\">\n",
    "            <div class=\"wrap_thumb\"><img src=\"//img1.daumcdn.net/thumb/S100x100/?fname=https%3A%2F%2Ft1.daumcdn.net%2Fsports%2Fplayer%2F300%2F14%2F1546543.jpg&amp;scode=default_face_profile_big_p\" onerror=\"this.src='https://t1.daumcdn.net/media/img-section/sports13/player/noimage/square_m.png'\" width=\"34\" height=\"34\" class=\"thumb_g\" alt=\"메이슨 그린우드\"><span class=\"ico_country\"><img src=\"//img1.daumcdn.net/thumb/C100x100/?fname=http%3A%2F%2Ft1.daumcdn.net%2Fmedia%2Fimg-section%2Fsports13%2Flogo%2Fteam%2F14%2F35_300300.png&amp;scode=sports\" class=\"thumb_g\" alt=\"맨체스터 유나이티드 FC\"></span></div>\n",
    "            \n",
    "        <span class=\"txt_name\">메이슨 그린우드<span class=\"ico_comm5\"></span></span>\n",
    "        </a>\n",
    "    </td>\n",
    "    <td class=\"td_team\"><a href=\"/team/epl/246\" class=\"link_txt\" data-tiara-layer=\"team_name\">맨유</a></td>\n",
    "    <td data-field=\"gp\" data-value=\"27\">27</td><td data-field=\"gf\" data-value=\"5\" class=\"selected_on\">5</td><td data-field=\"ast\" data-value=\"2\">2</td><td data-field=\"opts\" data-value=\"7\">7</td><td data-field=\"sht\" data-value=\"49\">49</td><td data-field=\"sog\" data-value=\"17\">17</td><td data-field=\"fo\" data-value=\"16\">16</td><td data-field=\"yel\" data-value=\"2\">2</td><td data-field=\"red\" data-value=\"0\">0</td><td data-field=\"off\" data-value=\"3\">3</td>\n",
    "</tr>\n",
    "<tr class=\"\">\n",
    "        <td class=\"td_rank\">52</td>\n",
    "    <td class=\"td_name\">\n",
    "        <a href=\"/player/epl/1623067\" class=\"link_thumb #player_name\">\n",
    "            <div class=\"wrap_thumb\"><img src=\"//img1.daumcdn.net/thumb/S100x100/?fname=https%3A%2F%2Ft1.daumcdn.net%2Fsports%2Fplayer%2F300%2F14%2F1479630.jpg&amp;scode=default_face_profile_big_p\" onerror=\"this.src='https://t1.daumcdn.net/media/img-section/sports13/player/noimage/square_m.png'\" width=\"34\" height=\"34\" class=\"thumb_g\" alt=\"부카요 사카\"><span class=\"ico_country\"><img src=\"//img1.daumcdn.net/thumb/C100x100/?fname=http%3A%2F%2Ft1.daumcdn.net%2Fmedia%2Fimg-section%2Fsports13%2Flogo%2Fteam%2F14%2F42_300300.png&amp;scode=sports\" class=\"thumb_g\" alt=\"아스널 FC\"></span></div>\n",
    "            \n",
    "        <span class=\"txt_name\">부카요 사카<span class=\"ico_comm5\"></span></span>\n",
    "        </a>\n",
    "    </td>\n",
    "    <td class=\"td_team\"><a href=\"/team/epl/247\" class=\"link_txt\" data-tiara-layer=\"team_name\">아스널</a></td>\n",
    "    <td data-field=\"gp\" data-value=\"28\">28</td><td data-field=\"gf\" data-value=\"5\" class=\"selected_on\">5</td><td data-field=\"ast\" data-value=\"2\">2</td><td data-field=\"opts\" data-value=\"7\">7</td><td data-field=\"sht\" data-value=\"56\">56</td><td data-field=\"sog\" data-value=\"18\">18</td><td data-field=\"fo\" data-value=\"24\">24</td><td data-field=\"yel\" data-value=\"1\">1</td><td data-field=\"red\" data-value=\"0\">0</td><td data-field=\"off\" data-value=\"13\">13</td>\n",
    "</tr>\n",
    "<tr class=\"tr_line\">\n",
    "        <td class=\"td_rank\">52</td>\n",
    "    <td class=\"td_name\">\n",
    "        <a href=\"/player/epl/218762\" class=\"link_thumb #player_name\">\n",
    "            <div class=\"wrap_thumb\"><img src=\"//img1.daumcdn.net/thumb/S100x100/?fname=https%3A%2F%2Ft1.daumcdn.net%2Fsports%2Fplayer%2F300%2F14%2F151499.jpg&amp;scode=default_face_profile_big_p\" onerror=\"this.src='https://t1.daumcdn.net/media/img-section/sports13/player/noimage/square_m.png'\" width=\"34\" height=\"34\" class=\"thumb_g\" alt=\"보비 레이드\"><span class=\"ico_country\"><img src=\"//img1.daumcdn.net/thumb/C100x100/?fname=http%3A%2F%2Ft1.daumcdn.net%2Fmedia%2Fimg-section%2Fsports13%2Flogo%2Fteam%2F14%2F43_300300.png&amp;scode=sports\" class=\"thumb_g\" alt=\"풀럼 FC\"></span></div>\n",
    "            \n",
    "        <span class=\"txt_name\">보비 레이드<span class=\"ico_comm5\"></span></span>\n",
    "        </a>\n",
    "    </td>\n",
    "    <td class=\"td_team\"><a href=\"/team/epl/260\" class=\"link_txt\" data-tiara-layer=\"team_name\">풀럼</a></td>\n",
    "    <td data-field=\"gp\" data-value=\"29\">29</td><td data-field=\"gf\" data-value=\"5\" class=\"selected_on\">5</td><td data-field=\"ast\" data-value=\"0\">0</td><td data-field=\"opts\" data-value=\"5\">5</td><td data-field=\"sht\" data-value=\"28\">28</td><td data-field=\"sog\" data-value=\"9\">9</td><td data-field=\"fo\" data-value=\"33\">33</td><td data-field=\"yel\" data-value=\"7\">7</td><td data-field=\"red\" data-value=\"0\">0</td><td data-field=\"off\" data-value=\"0\">0</td>\n",
    "</tr>\n",
    "<tr class=\"\">\n",
    "        <td class=\"td_rank\">52</td>\n",
    "    <td class=\"td_name\">\n",
    "        <a href=\"/player/epl/1409058\" class=\"link_thumb #player_name\">\n",
    "            <div class=\"wrap_thumb\"><img src=\"//img1.daumcdn.net/thumb/S100x100/?fname=https%3A%2F%2Ft1.daumcdn.net%2Fsports%2Fplayer%2F300%2F14%2F218160.jpg&amp;scode=default_face_profile_big_p\" onerror=\"this.src='https://t1.daumcdn.net/media/img-section/sports13/player/noimage/square_m.png'\" width=\"34\" height=\"34\" class=\"thumb_g\" alt=\"베르트랑 트라오레\"><span class=\"ico_country\"><img src=\"//img1.daumcdn.net/thumb/C100x100/?fname=http%3A%2F%2Ft1.daumcdn.net%2Fmedia%2Fimg-section%2Fsports13%2Flogo%2Fteam%2F14%2F40_300300.png&amp;scode=sports\" class=\"thumb_g\" alt=\"애스턴 빌라 FC\"></span></div>\n",
    "            \n",
    "        <span class=\"txt_name\">베르트랑 트라오레<span class=\"ico_comm5\"></span></span>\n",
    "        </a>\n",
    "    </td>\n",
    "    <td class=\"td_team\"><a href=\"/team/epl/250\" class=\"link_txt\" data-tiara-layer=\"team_name\">애스턴 빌라</a></td>\n",
    "    <td data-field=\"gp\" data-value=\"31\">31</td><td data-field=\"gf\" data-value=\"5\" class=\"selected_on\">5</td><td data-field=\"ast\" data-value=\"5\">5</td><td data-field=\"opts\" data-value=\"10\">10</td><td data-field=\"sht\" data-value=\"47\">47</td><td data-field=\"sog\" data-value=\"17\">17</td><td data-field=\"fo\" data-value=\"25\">25</td><td data-field=\"yel\" data-value=\"0\">0</td><td data-field=\"red\" data-value=\"0\">0</td><td data-field=\"off\" data-value=\"7\">7</td>\n",
    "</tr>\n",
    "<tr class=\"\">\n",
    "        <td class=\"td_rank\">52</td>\n",
    "    <td class=\"td_name\">\n",
    "        <a href=\"/player/epl/1608294\" class=\"link_thumb #player_name\">\n",
    "            <div class=\"wrap_thumb\"><img src=\"//img1.daumcdn.net/thumb/S100x100/?fname=https%3A%2F%2Ft1.daumcdn.net%2Fsports%2Fplayer%2F300%2F14%2F1115761.jpg&amp;scode=default_face_profile_big_p\" onerror=\"this.src='https://t1.daumcdn.net/media/img-section/sports13/player/noimage/square_m.png'\" width=\"34\" height=\"34\" class=\"thumb_g\" alt=\"페드로 네토\"><span class=\"ico_country\"><img src=\"//img1.daumcdn.net/thumb/C100x100/?fname=http%3A%2F%2Ft1.daumcdn.net%2Fmedia%2Fimg-section%2Fsports13%2Flogo%2Fteam%2F14%2F3_300300.png&amp;scode=sports\" class=\"thumb_g\" alt=\"울버햄튼 원더러스 FC\"></span></div>\n",
    "            \n",
    "        <span class=\"txt_name\">페드로 네토<span class=\"ico_comm5\"></span></span>\n",
    "        </a>\n",
    "    </td>\n",
    "    <td class=\"td_team\"><a href=\"/team/epl/256\" class=\"link_txt\" data-tiara-layer=\"team_name\">울버햄튼</a></td>\n",
    "    <td data-field=\"gp\" data-value=\"31\">31</td><td data-field=\"gf\" data-value=\"5\" class=\"selected_on\">5</td><td data-field=\"ast\" data-value=\"6\">6</td><td data-field=\"opts\" data-value=\"11\">11</td><td data-field=\"sht\" data-value=\"59\">59</td><td data-field=\"sog\" data-value=\"23\">23</td><td data-field=\"fo\" data-value=\"26\">26</td><td data-field=\"yel\" data-value=\"4\">4</td><td data-field=\"red\" data-value=\"0\">0</td><td data-field=\"off\" data-value=\"4\">4</td>\n",
    "</tr>\n",
    "<tr class=\"\">\n",
    "        <td class=\"td_rank\">52</td>\n",
    "    <td class=\"td_name\">\n",
    "        <a href=\"/player/epl/1037712\" class=\"link_thumb #player_name\">\n",
    "            <div class=\"wrap_thumb\"><img src=\"//img1.daumcdn.net/thumb/S100x100/?fname=https%3A%2F%2Ft1.daumcdn.net%2Fsports%2Fplayer%2F300%2F14%2F280955.jpg&amp;scode=default_face_profile_big_p\" onerror=\"this.src='https://t1.daumcdn.net/media/img-section/sports13/player/noimage/square_m.png'\" width=\"34\" height=\"34\" class=\"thumb_g\" alt=\"후벤 네베스\"><span class=\"ico_country\"><img src=\"//img1.daumcdn.net/thumb/C100x100/?fname=http%3A%2F%2Ft1.daumcdn.net%2Fmedia%2Fimg-section%2Fsports13%2Flogo%2Fteam%2F14%2F3_300300.png&amp;scode=sports\" class=\"thumb_g\" alt=\"울버햄튼 원더러스 FC\"></span></div>\n",
    "            \n",
    "        <span class=\"txt_name\">후벤 네베스<span class=\"ico_comm5\"></span></span>\n",
    "        </a>\n",
    "    </td>\n",
    "    <td class=\"td_team\"><a href=\"/team/epl/256\" class=\"link_txt\" data-tiara-layer=\"team_name\">울버햄튼</a></td>\n",
    "    <td data-field=\"gp\" data-value=\"32\">32</td><td data-field=\"gf\" data-value=\"5\" class=\"selected_on\">5</td><td data-field=\"ast\" data-value=\"1\">1</td><td data-field=\"opts\" data-value=\"6\">6</td><td data-field=\"sht\" data-value=\"58\">58</td><td data-field=\"sog\" data-value=\"17\">17</td><td data-field=\"fo\" data-value=\"39\">39</td><td data-field=\"yel\" data-value=\"7\">7</td><td data-field=\"red\" data-value=\"0\">0</td><td data-field=\"off\" data-value=\"0\">0</td>\n",
    "</tr>\n",
    "<tr class=\"\">\n",
    "        <td class=\"td_rank\">64</td>\n",
    "    <td class=\"td_name\">\n",
    "        <a href=\"/player/epl/1030798\" class=\"link_thumb #player_name\">\n",
    "            <div class=\"wrap_thumb\"><img src=\"//img1.daumcdn.net/thumb/S100x100/?fname=https%3A%2F%2Ft1.daumcdn.net%2Fsports%2Fplayer%2F300%2F14%2F192442.jpg&amp;scode=default_face_profile_big_p\" onerror=\"this.src='https://t1.daumcdn.net/media/img-section/sports13/player/noimage/square_m.png'\" width=\"34\" height=\"34\" class=\"thumb_g\" alt=\"라울 히메네즈\"><span class=\"ico_country\"><img src=\"//img1.daumcdn.net/thumb/C100x100/?fname=http%3A%2F%2Ft1.daumcdn.net%2Fmedia%2Fimg-section%2Fsports13%2Flogo%2Fteam%2F14%2F3_300300.png&amp;scode=sports\" class=\"thumb_g\" alt=\"울버햄튼 원더러스 FC\"></span></div>\n",
    "            \n",
    "        <span class=\"txt_name\">라울 히메네즈<span class=\"ico_comm5\"></span></span>\n",
    "        </a>\n",
    "    </td>\n",
    "    <td class=\"td_team\"><a href=\"/team/epl/256\" class=\"link_txt\" data-tiara-layer=\"team_name\">울버햄튼</a></td>\n",
    "    <td data-field=\"gp\" data-value=\"10\">10</td><td data-field=\"gf\" data-value=\"4\" class=\"selected_on\">4</td><td data-field=\"ast\" data-value=\"0\">0</td><td data-field=\"opts\" data-value=\"4\">4</td><td data-field=\"sht\" data-value=\"27\">27</td><td data-field=\"sog\" data-value=\"10\">10</td><td data-field=\"fo\" data-value=\"9\">9</td><td data-field=\"yel\" data-value=\"0\">0</td><td data-field=\"red\" data-value=\"0\">0</td><td data-field=\"off\" data-value=\"4\">4</td>\n",
    "</tr>\n",
    "<tr class=\"\">\n",
    "        <td class=\"td_rank\">64</td>\n",
    "    <td class=\"td_name\">\n",
    "        <a href=\"/player/epl/525476\" class=\"link_thumb #player_name\">\n",
    "            <div class=\"wrap_thumb\"><img src=\"//img1.daumcdn.net/thumb/S100x100/?fname=https%3A%2F%2Ft1.daumcdn.net%2Fsports%2Fplayer%2F300%2F14%2F39070.jpg&amp;scode=default_face_profile_big_p\" onerror=\"this.src='https://t1.daumcdn.net/media/img-section/sports13/player/noimage/square_m.png'\" width=\"34\" height=\"34\" class=\"thumb_g\" alt=\"올리비에 지루\"><span class=\"ico_country\"><img src=\"//img1.daumcdn.net/thumb/C100x100/?fname=http%3A%2F%2Ft1.daumcdn.net%2Fmedia%2Fimg-section%2Fsports13%2Flogo%2Fteam%2F14%2F38_300300.png&amp;scode=sports\" class=\"thumb_g\" alt=\"첼시 FC\"></span></div>\n",
    "            \n",
    "        <span class=\"txt_name\">올리비에 지루<span class=\"ico_comm5\"></span></span>\n",
    "        </a>\n",
    "    </td>\n",
    "    <td class=\"td_team\"><a href=\"/team/epl/251\" class=\"link_txt\" data-tiara-layer=\"team_name\">첼시</a></td>\n",
    "    <td data-field=\"gp\" data-value=\"15\">15</td><td data-field=\"gf\" data-value=\"4\" class=\"selected_on\">4</td><td data-field=\"ast\" data-value=\"0\">0</td><td data-field=\"opts\" data-value=\"4\">4</td><td data-field=\"sht\" data-value=\"19\">19</td><td data-field=\"sog\" data-value=\"8\">8</td><td data-field=\"fo\" data-value=\"15\">15</td><td data-field=\"yel\" data-value=\"1\">1</td><td data-field=\"red\" data-value=\"0\">0</td><td data-field=\"off\" data-value=\"5\">5</td>\n",
    "</tr>\n",
    "<tr class=\"\">\n",
    "        <td class=\"td_rank\">64</td>\n",
    "    <td class=\"td_name\">\n",
    "        <a href=\"/player/epl/211068\" class=\"link_thumb #player_name\">\n",
    "            <div class=\"wrap_thumb\"><img src=\"//img1.daumcdn.net/thumb/S100x100/?fname=https%3A%2F%2Ft1.daumcdn.net%2Fsports%2Fplayer%2F300%2F14%2F152077.jpg&amp;scode=default_face_profile_big_p\" onerror=\"this.src='https://t1.daumcdn.net/media/img-section/sports13/player/noimage/square_m.png'\" width=\"34\" height=\"34\" class=\"thumb_g\" alt=\"존 스톤스\"><span class=\"ico_country\"><img src=\"//img1.daumcdn.net/thumb/C100x100/?fname=http%3A%2F%2Ft1.daumcdn.net%2Fmedia%2Fimg-section%2Fsports13%2Flogo%2Fteam%2F14%2F17_300300.png&amp;scode=sports\" class=\"thumb_g\" alt=\"맨체스터 시티 FC\"></span></div>\n",
    "            \n",
    "        <span class=\"txt_name\">존 스톤스<span class=\"ico_comm5\"></span></span>\n",
    "        </a>\n",
    "    </td>\n",
    "    <td class=\"td_team\"><a href=\"/team/epl/258\" class=\"link_txt\" data-tiara-layer=\"team_name\">맨시티</a></td>\n",
    "    <td data-field=\"gp\" data-value=\"20\">20</td><td data-field=\"gf\" data-value=\"4\" class=\"selected_on\">4</td><td data-field=\"ast\" data-value=\"0\">0</td><td data-field=\"opts\" data-value=\"4\">4</td><td data-field=\"sht\" data-value=\"12\">12</td><td data-field=\"sog\" data-value=\"5\">5</td><td data-field=\"fo\" data-value=\"6\">6</td><td data-field=\"yel\" data-value=\"0\">0</td><td data-field=\"red\" data-value=\"1\">1</td><td data-field=\"off\" data-value=\"1\">1</td>\n",
    "</tr>\n",
    "<tr class=\"\">\n",
    "        <td class=\"td_rank\">64</td>\n",
    "    <td class=\"td_name\">\n",
    "        <a href=\"/player/epl/1608932\" class=\"link_thumb #player_name\">\n",
    "            <div class=\"wrap_thumb\"><img src=\"//img1.daumcdn.net/thumb/S100x100/?fname=https%3A%2F%2Ft1.daumcdn.net%2Fsports%2Fplayer%2F300%2F14%2F936026.jpg&amp;scode=default_face_profile_big_p\" onerror=\"this.src='https://t1.daumcdn.net/media/img-section/sports13/player/noimage/square_m.png'\" width=\"34\" height=\"34\" class=\"thumb_g\" alt=\"페란 토레스\"><span class=\"ico_country\"><img src=\"//img1.daumcdn.net/thumb/C100x100/?fname=http%3A%2F%2Ft1.daumcdn.net%2Fmedia%2Fimg-section%2Fsports13%2Flogo%2Fteam%2F14%2F17_300300.png&amp;scode=sports\" class=\"thumb_g\" alt=\"맨체스터 시티 FC\"></span></div>\n",
    "            \n",
    "        <span class=\"txt_name\">페란 토레스<span class=\"ico_comm5\"></span></span>\n",
    "        </a>\n",
    "    </td>\n",
    "    <td class=\"td_team\"><a href=\"/team/epl/258\" class=\"link_txt\" data-tiara-layer=\"team_name\">맨시티</a></td>\n",
    "    <td data-field=\"gp\" data-value=\"21\">21</td><td data-field=\"gf\" data-value=\"4\" class=\"selected_on\">4</td><td data-field=\"ast\" data-value=\"2\">2</td><td data-field=\"opts\" data-value=\"6\">6</td><td data-field=\"sht\" data-value=\"31\">31</td><td data-field=\"sog\" data-value=\"11\">11</td><td data-field=\"fo\" data-value=\"16\">16</td><td data-field=\"yel\" data-value=\"1\">1</td><td data-field=\"red\" data-value=\"0\">0</td><td data-field=\"off\" data-value=\"5\">5</td>\n",
    "</tr>\n",
    "<tr class=\"\">\n",
    "        <td class=\"td_rank\">64</td>\n",
    "    <td class=\"td_name\">\n",
    "        <a href=\"/player/epl/1158120\" class=\"link_thumb #player_name\">\n",
    "            <div class=\"wrap_thumb\"><img src=\"//img1.daumcdn.net/thumb/S100x100/?fname=https%3A%2F%2Ft1.daumcdn.net%2Fsports%2Fplayer%2F300%2F14%2F191176.jpg&amp;scode=default_face_profile_big_p\" onerror=\"this.src='https://t1.daumcdn.net/media/img-section/sports13/player/noimage/square_m.png'\" width=\"34\" height=\"34\" class=\"thumb_g\" alt=\"앙토니 마르시알\"><span class=\"ico_country\"><img src=\"//img1.daumcdn.net/thumb/C100x100/?fname=http%3A%2F%2Ft1.daumcdn.net%2Fmedia%2Fimg-section%2Fsports13%2Flogo%2Fteam%2F14%2F35_300300.png&amp;scode=sports\" class=\"thumb_g\" alt=\"맨체스터 유나이티드 FC\"></span></div>\n",
    "            \n",
    "        <span class=\"txt_name\">앙토니 마르시알<span class=\"ico_comm5\"></span></span>\n",
    "        </a>\n",
    "    </td>\n",
    "    <td class=\"td_team\"><a href=\"/team/epl/246\" class=\"link_txt\" data-tiara-layer=\"team_name\">맨유</a></td>\n",
    "    <td data-field=\"gp\" data-value=\"22\">22</td><td data-field=\"gf\" data-value=\"4\" class=\"selected_on\">4</td><td data-field=\"ast\" data-value=\"3\">3</td><td data-field=\"opts\" data-value=\"7\">7</td><td data-field=\"sht\" data-value=\"45\">45</td><td data-field=\"sog\" data-value=\"21\">21</td><td data-field=\"fo\" data-value=\"16\">16</td><td data-field=\"yel\" data-value=\"0\">0</td><td data-field=\"red\" data-value=\"1\">1</td><td data-field=\"off\" data-value=\"15\">15</td>\n",
    "</tr>\n",
    "<tr class=\"\">\n",
    "        <td class=\"td_rank\">64</td>\n",
    "    <td class=\"td_name\">\n",
    "        <a href=\"/player/epl/29314\" class=\"link_thumb #player_name\">\n",
    "            <div class=\"wrap_thumb\"><img src=\"//img1.daumcdn.net/thumb/S100x100/?fname=https%3A%2F%2Ft1.daumcdn.net%2Fsports%2Fplayer%2F300%2F14%2F99525.jpg&amp;scode=default_face_profile_big_p\" onerror=\"this.src='https://t1.daumcdn.net/media/img-section/sports13/player/noimage/square_m.png'\" width=\"34\" height=\"34\" class=\"thumb_g\" alt=\"로드리고 모레노\"><span class=\"ico_country\"><img src=\"//img1.daumcdn.net/thumb/C100x100/?fname=http%3A%2F%2Ft1.daumcdn.net%2Fmedia%2Fimg-section%2Fsports13%2Flogo%2Fteam%2F14%2F34_300300.png&amp;scode=sports\" class=\"thumb_g\" alt=\"리즈 유나이티드 FC\"></span></div>\n",
    "            \n",
    "        <span class=\"txt_name\">로드리고 모레노<span class=\"ico_comm5\"></span></span>\n",
    "        </a>\n",
    "    </td>\n",
    "    <td class=\"td_team\"><a href=\"/team/epl/266\" class=\"link_txt\" data-tiara-layer=\"team_name\">리즈</a></td>\n",
    "    <td data-field=\"gp\" data-value=\"23\">23</td><td data-field=\"gf\" data-value=\"4\" class=\"selected_on\">4</td><td data-field=\"ast\" data-value=\"1\">1</td><td data-field=\"opts\" data-value=\"5\">5</td><td data-field=\"sht\" data-value=\"32\">32</td><td data-field=\"sog\" data-value=\"13\">13</td><td data-field=\"fo\" data-value=\"17\">17</td><td data-field=\"yel\" data-value=\"3\">3</td><td data-field=\"red\" data-value=\"0\">0</td><td data-field=\"off\" data-value=\"2\">2</td>\n",
    "</tr>\n",
    "<tr class=\"tr_line\">\n",
    "        <td class=\"td_rank\">64</td>\n",
    "    <td class=\"td_name\">\n",
    "        <a href=\"/player/epl/1204092\" class=\"link_thumb #player_name\">\n",
    "            <div class=\"wrap_thumb\"><img src=\"//img1.daumcdn.net/thumb/S100x100/?fname=https%3A%2F%2Ft1.daumcdn.net%2Fsports%2Fplayer%2F300%2F14%2F809758.jpg&amp;scode=default_face_profile_big_p\" onerror=\"this.src='https://t1.daumcdn.net/media/img-section/sports13/player/noimage/square_m.png'\" width=\"34\" height=\"34\" class=\"thumb_g\" alt=\"크리스티안 풀리시치\"><span class=\"ico_country\"><img src=\"//img1.daumcdn.net/thumb/C100x100/?fname=http%3A%2F%2Ft1.daumcdn.net%2Fmedia%2Fimg-section%2Fsports13%2Flogo%2Fteam%2F14%2F38_300300.png&amp;scode=sports\" class=\"thumb_g\" alt=\"첼시 FC\"></span></div>\n",
    "            \n",
    "        <span class=\"txt_name\">크리스티안 풀리시치<span class=\"ico_comm5\"></span></span>\n",
    "        </a>\n",
    "    </td>\n",
    "    <td class=\"td_team\"><a href=\"/team/epl/251\" class=\"link_txt\" data-tiara-layer=\"team_name\">첼시</a></td>\n",
    "    <td data-field=\"gp\" data-value=\"24\">24</td><td data-field=\"gf\" data-value=\"4\" class=\"selected_on\">4</td><td data-field=\"ast\" data-value=\"1\">1</td><td data-field=\"opts\" data-value=\"5\">5</td><td data-field=\"sht\" data-value=\"33\">33</td><td data-field=\"sog\" data-value=\"12\">12</td><td data-field=\"fo\" data-value=\"11\">11</td><td data-field=\"yel\" data-value=\"2\">2</td><td data-field=\"red\" data-value=\"0\">0</td><td data-field=\"off\" data-value=\"5\">5</td>\n",
    "</tr>\n",
    "<tr class=\"\">\n",
    "        <td class=\"td_rank\">64</td>\n",
    "    <td class=\"td_name\">\n",
    "        <a href=\"/player/epl/1279520\" class=\"link_thumb #player_name\">\n",
    "            <div class=\"wrap_thumb\"><img src=\"//img1.daumcdn.net/thumb/S100x100/?fname=https%3A%2F%2Ft1.daumcdn.net%2Fsports%2Fplayer%2F300%2F14%2F937210.jpg&amp;scode=default_face_profile_big_p\" onerror=\"this.src='https://t1.daumcdn.net/media/img-section/sports13/player/noimage/square_m.png'\" width=\"34\" height=\"34\" class=\"thumb_g\" alt=\"카이 하베르츠\"><span class=\"ico_country\"><img src=\"//img1.daumcdn.net/thumb/C100x100/?fname=http%3A%2F%2Ft1.daumcdn.net%2Fmedia%2Fimg-section%2Fsports13%2Flogo%2Fteam%2F14%2F38_300300.png&amp;scode=sports\" class=\"thumb_g\" alt=\"첼시 FC\"></span></div>\n",
    "            \n",
    "        <span class=\"txt_name\">카이 하베르츠<span class=\"ico_comm5\"></span></span>\n",
    "        </a>\n",
    "    </td>\n",
    "    <td class=\"td_team\"><a href=\"/team/epl/251\" class=\"link_txt\" data-tiara-layer=\"team_name\">첼시</a></td>\n",
    "    <td data-field=\"gp\" data-value=\"25\">25</td><td data-field=\"gf\" data-value=\"4\" class=\"selected_on\">4</td><td data-field=\"ast\" data-value=\"3\">3</td><td data-field=\"opts\" data-value=\"7\">7</td><td data-field=\"sht\" data-value=\"26\">26</td><td data-field=\"sog\" data-value=\"18\">18</td><td data-field=\"fo\" data-value=\"26\">26</td><td data-field=\"yel\" data-value=\"2\">2</td><td data-field=\"red\" data-value=\"0\">0</td><td data-field=\"off\" data-value=\"8\">8</td>\n",
    "</tr>\n",
    "<tr class=\"\">\n",
    "        <td class=\"td_rank\">64</td>\n",
    "    <td class=\"td_name\">\n",
    "        <a href=\"/player/epl/1632820\" class=\"link_thumb #player_name\">\n",
    "            <div class=\"wrap_thumb\"><img src=\"//img1.daumcdn.net/thumb/S100x100/?fname=https%3A%2F%2Ft1.daumcdn.net%2Fsports%2Fplayer%2F300%2F14%2F1302644.jpg&amp;scode=default_face_profile_big_p\" onerror=\"this.src='https://t1.daumcdn.net/media/img-section/sports13/player/noimage/square_m.png'\" width=\"34\" height=\"34\" class=\"thumb_g\" alt=\"파비오 실바\"><span class=\"ico_country\"><img src=\"//img1.daumcdn.net/thumb/C100x100/?fname=http%3A%2F%2Ft1.daumcdn.net%2Fmedia%2Fimg-section%2Fsports13%2Flogo%2Fteam%2F14%2F3_300300.png&amp;scode=sports\" class=\"thumb_g\" alt=\"울버햄튼 원더러스 FC\"></span></div>\n",
    "            \n",
    "        <span class=\"txt_name\">파비오 실바<span class=\"ico_comm5\"></span></span>\n",
    "        </a>\n",
    "    </td>\n",
    "    <td class=\"td_team\"><a href=\"/team/epl/256\" class=\"link_txt\" data-tiara-layer=\"team_name\">울버햄튼</a></td>\n",
    "    <td data-field=\"gp\" data-value=\"28\">28</td><td data-field=\"gf\" data-value=\"4\" class=\"selected_on\">4</td><td data-field=\"ast\" data-value=\"1\">1</td><td data-field=\"opts\" data-value=\"5\">5</td><td data-field=\"sht\" data-value=\"32\">32</td><td data-field=\"sog\" data-value=\"16\">16</td><td data-field=\"fo\" data-value=\"17\">17</td><td data-field=\"yel\" data-value=\"2\">2</td><td data-field=\"red\" data-value=\"0\">0</td><td data-field=\"off\" data-value=\"2\">2</td>\n",
    "</tr>\n",
    "<tr class=\"\">\n",
    "        <td class=\"td_rank\">64</td>\n",
    "    <td class=\"td_name\">\n",
    "        <a href=\"/player/epl/157573\" class=\"link_thumb #player_name\">\n",
    "            <div class=\"wrap_thumb\"><img src=\"//img1.daumcdn.net/thumb/S100x100/?fname=https%3A%2F%2Ft1.daumcdn.net%2Fsports%2Fplayer%2F300%2F14%2F117083.jpg&amp;scode=default_face_profile_big_p\" onerror=\"this.src='https://t1.daumcdn.net/media/img-section/sports13/player/noimage/square_m.png'\" width=\"34\" height=\"34\" class=\"thumb_g\" alt=\"스튜어트 암스트롱\"><span class=\"ico_country\"><img src=\"//img1.daumcdn.net/thumb/C100x100/?fname=http%3A%2F%2Ft1.daumcdn.net%2Fmedia%2Fimg-section%2Fsports13%2Flogo%2Fteam%2F14%2F45_300300.png&amp;scode=sports\" class=\"thumb_g\" alt=\"사우샘프턴 FC\"></span></div>\n",
    "            \n",
    "        <span class=\"txt_name\">스튜어트 암스트롱<span class=\"ico_comm5\"></span></span>\n",
    "        </a>\n",
    "    </td>\n",
    "    <td class=\"td_team\"><a href=\"/team/epl/271\" class=\"link_txt\" data-tiara-layer=\"team_name\">사우샘프턴</a></td>\n",
    "    <td data-field=\"gp\" data-value=\"29\">29</td><td data-field=\"gf\" data-value=\"4\" class=\"selected_on\">4</td><td data-field=\"ast\" data-value=\"4\">4</td><td data-field=\"opts\" data-value=\"8\">8</td><td data-field=\"sht\" data-value=\"42\">42</td><td data-field=\"sog\" data-value=\"12\">12</td><td data-field=\"fo\" data-value=\"31\">31</td><td data-field=\"yel\" data-value=\"3\">3</td><td data-field=\"red\" data-value=\"0\">0</td><td data-field=\"off\" data-value=\"6\">6</td>\n",
    "</tr>\n",
    "<tr class=\"\">\n",
    "        <td class=\"td_rank\">64</td>\n",
    "    <td class=\"td_name\">\n",
    "        <a href=\"/player/epl/1405307\" class=\"link_thumb #player_name\">\n",
    "            <div class=\"wrap_thumb\"><img src=\"//img1.daumcdn.net/thumb/S100x100/?fname=https%3A%2F%2Ft1.daumcdn.net%2Fsports%2Fplayer%2F300%2F14%2F908372.jpg&amp;scode=default_face_profile_big_p\" onerror=\"this.src='https://t1.daumcdn.net/media/img-section/sports13/player/noimage/square_m.png'\" width=\"34\" height=\"34\" class=\"thumb_g\" alt=\"스콧 맥토미니\"><span class=\"ico_country\"><img src=\"//img1.daumcdn.net/thumb/C100x100/?fname=http%3A%2F%2Ft1.daumcdn.net%2Fmedia%2Fimg-section%2Fsports13%2Flogo%2Fteam%2F14%2F35_300300.png&amp;scode=sports\" class=\"thumb_g\" alt=\"맨체스터 유나이티드 FC\"></span></div>\n",
    "            \n",
    "        <span class=\"txt_name\">스콧 맥토미니<span class=\"ico_comm5\"></span></span>\n",
    "        </a>\n",
    "    </td>\n",
    "    <td class=\"td_team\"><a href=\"/team/epl/246\" class=\"link_txt\" data-tiara-layer=\"team_name\">맨유</a></td>\n",
    "    <td data-field=\"gp\" data-value=\"29\">29</td><td data-field=\"gf\" data-value=\"4\" class=\"selected_on\">4</td><td data-field=\"ast\" data-value=\"1\">1</td><td data-field=\"opts\" data-value=\"5\">5</td><td data-field=\"sht\" data-value=\"17\">17</td><td data-field=\"sog\" data-value=\"8\">8</td><td data-field=\"fo\" data-value=\"44\">44</td><td data-field=\"yel\" data-value=\"2\">2</td><td data-field=\"red\" data-value=\"0\">0</td><td data-field=\"off\" data-value=\"1\">1</td>\n",
    "</tr>\n",
    "<tr class=\"\">\n",
    "        <td class=\"td_rank\">64</td>\n",
    "    <td class=\"td_name\">\n",
    "        <a href=\"/player/epl/1181391\" class=\"link_thumb #player_name\">\n",
    "            <div class=\"wrap_thumb\"><img src=\"//img1.daumcdn.net/thumb/S100x100/?fname=https%3A%2F%2Ft1.daumcdn.net%2Fsports%2Fplayer%2F300%2F14%2F926658.jpg&amp;scode=default_face_profile_big_p\" onerror=\"this.src='https://t1.daumcdn.net/media/img-section/sports13/player/noimage/square_m.png'\" width=\"34\" height=\"34\" class=\"thumb_g\" alt=\"아데몰라 루크먼\"><span class=\"ico_country\"><img src=\"//img1.daumcdn.net/thumb/C100x100/?fname=http%3A%2F%2Ft1.daumcdn.net%2Fmedia%2Fimg-section%2Fsports13%2Flogo%2Fteam%2F14%2F43_300300.png&amp;scode=sports\" class=\"thumb_g\" alt=\"풀럼 FC\"></span></div>\n",
    "            \n",
    "        <span class=\"txt_name\">아데몰라 루크먼<span class=\"ico_comm5\"></span></span>\n",
    "        </a>\n",
    "    </td>\n",
    "    <td class=\"td_team\"><a href=\"/team/epl/260\" class=\"link_txt\" data-tiara-layer=\"team_name\">풀럼</a></td>\n",
    "    <td data-field=\"gp\" data-value=\"30\">30</td><td data-field=\"gf\" data-value=\"4\" class=\"selected_on\">4</td><td data-field=\"ast\" data-value=\"4\">4</td><td data-field=\"opts\" data-value=\"8\">8</td><td data-field=\"sht\" data-value=\"56\">56</td><td data-field=\"sog\" data-value=\"21\">21</td><td data-field=\"fo\" data-value=\"40\">40</td><td data-field=\"yel\" data-value=\"4\">4</td><td data-field=\"red\" data-value=\"0\">0</td><td data-field=\"off\" data-value=\"7\">7</td>\n",
    "</tr>\n",
    "<tr class=\"\">\n",
    "        <td class=\"td_rank\">64</td>\n",
    "    <td class=\"td_name\">\n",
    "        <a href=\"/player/epl/308442\" class=\"link_thumb #player_name\">\n",
    "            <div class=\"wrap_thumb\"><img src=\"//img1.daumcdn.net/thumb/S100x100/?fname=https%3A%2F%2Ft1.daumcdn.net%2Fsports%2Fplayer%2F300%2F14%2F115365.jpg&amp;scode=default_face_profile_big_p\" onerror=\"this.src='https://t1.daumcdn.net/media/img-section/sports13/player/noimage/square_m.png'\" width=\"34\" height=\"34\" class=\"thumb_g\" alt=\"루이스 덩크\"><span class=\"ico_country\"><img src=\"//img1.daumcdn.net/thumb/C100x100/?fname=http%3A%2F%2Ft1.daumcdn.net%2Fmedia%2Fimg-section%2Fsports13%2Flogo%2Fteam%2F14%2F30_300300.png&amp;scode=sports\" class=\"thumb_g\" alt=\"브라이튼 앤 호브 알비온 FC\"></span></div>\n",
    "            \n",
    "        <span class=\"txt_name\">루이스 덩크<span class=\"ico_comm5\"></span></span>\n",
    "        </a>\n",
    "    </td>\n",
    "    <td class=\"td_team\"><a href=\"/team/epl/277\" class=\"link_txt\" data-tiara-layer=\"team_name\">브라이튼</a></td>\n",
    "    <td data-field=\"gp\" data-value=\"31\">31</td><td data-field=\"gf\" data-value=\"4\" class=\"selected_on\">4</td><td data-field=\"ast\" data-value=\"0\">0</td><td data-field=\"opts\" data-value=\"4\">4</td><td data-field=\"sht\" data-value=\"24\">24</td><td data-field=\"sog\" data-value=\"11\">11</td><td data-field=\"fo\" data-value=\"21\">21</td><td data-field=\"yel\" data-value=\"5\">5</td><td data-field=\"red\" data-value=\"1\">1</td><td data-field=\"off\" data-value=\"2\">2</td>\n",
    "</tr>\n",
    "<tr class=\"\">\n",
    "        <td class=\"td_rank\">64</td>\n",
    "    <td class=\"td_name\">\n",
    "        <a href=\"/player/epl/756265\" class=\"link_thumb #player_name\">\n",
    "            <div class=\"wrap_thumb\"><img src=\"//img1.daumcdn.net/thumb/S100x100/?fname=https%3A%2F%2Ft1.daumcdn.net%2Fsports%2Fplayer%2F300%2F14%2F135666.jpg&amp;scode=default_face_profile_big_p\" onerror=\"this.src='https://t1.daumcdn.net/media/img-section/sports13/player/noimage/square_m.png'\" width=\"34\" height=\"34\" class=\"thumb_g\" alt=\"레안드로 트로사르\"><span class=\"ico_country\"><img src=\"//img1.daumcdn.net/thumb/C100x100/?fname=http%3A%2F%2Ft1.daumcdn.net%2Fmedia%2Fimg-section%2Fsports13%2Flogo%2Fteam%2F14%2F30_300300.png&amp;scode=sports\" class=\"thumb_g\" alt=\"브라이튼 앤 호브 알비온 FC\"></span></div>\n",
    "            \n",
    "        <span class=\"txt_name\">레안드로 트로사르<span class=\"ico_comm5\"></span></span>\n",
    "        </a>\n",
    "    </td>\n",
    "    <td class=\"td_team\"><a href=\"/team/epl/277\" class=\"link_txt\" data-tiara-layer=\"team_name\">브라이튼</a></td>\n",
    "    <td data-field=\"gp\" data-value=\"31\">31</td><td data-field=\"gf\" data-value=\"4\" class=\"selected_on\">4</td><td data-field=\"ast\" data-value=\"5\">5</td><td data-field=\"opts\" data-value=\"9\">9</td><td data-field=\"sht\" data-value=\"51\">51</td><td data-field=\"sog\" data-value=\"20\">20</td><td data-field=\"fo\" data-value=\"27\">27</td><td data-field=\"yel\" data-value=\"2\">2</td><td data-field=\"red\" data-value=\"0\">0</td><td data-field=\"off\" data-value=\"4\">4</td>\n",
    "</tr>\n",
    "<tr class=\"\">\n",
    "        <td class=\"td_rank\">64</td>\n",
    "    <td class=\"td_name\">\n",
    "        <a href=\"/player/epl/1624830\" class=\"link_thumb #player_name\">\n",
    "            <div class=\"wrap_thumb\"><img src=\"//img1.daumcdn.net/thumb/S100x100/?fname=https%3A%2F%2Ft1.daumcdn.net%2Fsports%2Fplayer%2F300%2F14%2F333373.jpg&amp;scode=default_face_profile_big_p\" onerror=\"this.src='https://t1.daumcdn.net/media/img-section/sports13/player/noimage/square_m.png'\" width=\"34\" height=\"34\" class=\"thumb_g\" alt=\"미구엘 알미론\"><span class=\"ico_country\"><img src=\"//img1.daumcdn.net/thumb/C100x100/?fname=http%3A%2F%2Ft1.daumcdn.net%2Fmedia%2Fimg-section%2Fsports13%2Flogo%2Fteam%2F14%2F39_300300.png&amp;scode=sports\" class=\"thumb_g\" alt=\"뉴캐슬 유나이티드 FC\"></span></div>\n",
    "            \n",
    "        <span class=\"txt_name\">미구엘 알미론<span class=\"ico_comm5\"></span></span>\n",
    "        </a>\n",
    "    </td>\n",
    "    <td class=\"td_team\"><a href=\"/team/epl/1321\" class=\"link_txt\" data-tiara-layer=\"team_name\">뉴캐슬</a></td>\n",
    "    <td data-field=\"gp\" data-value=\"31\">31</td><td data-field=\"gf\" data-value=\"4\" class=\"selected_on\">4</td><td data-field=\"ast\" data-value=\"1\">1</td><td data-field=\"opts\" data-value=\"5\">5</td><td data-field=\"sht\" data-value=\"29\">29</td><td data-field=\"sog\" data-value=\"13\">13</td><td data-field=\"fo\" data-value=\"16\">16</td><td data-field=\"yel\" data-value=\"3\">3</td><td data-field=\"red\" data-value=\"0\">0</td><td data-field=\"off\" data-value=\"7\">7</td>\n",
    "</tr>\n",
    "<tr class=\"\">\n",
    "        <td class=\"td_rank\">64</td>\n",
    "    <td class=\"td_name\">\n",
    "        <a href=\"/player/epl/1407294\" class=\"link_thumb #player_name\">\n",
    "            <div class=\"wrap_thumb\"><img src=\"//img1.daumcdn.net/thumb/S100x100/?fname=https%3A%2F%2Ft1.daumcdn.net%2Fsports%2Fplayer%2F300%2F14%2F1088470.jpg&amp;scode=default_face_profile_big_p\" onerror=\"this.src='https://t1.daumcdn.net/media/img-section/sports13/player/noimage/square_m.png'\" width=\"34\" height=\"34\" class=\"thumb_g\" alt=\"에베레치 에즈\"><span class=\"ico_country\"><img src=\"//img1.daumcdn.net/thumb/C100x100/?fname=http%3A%2F%2Ft1.daumcdn.net%2Fmedia%2Fimg-section%2Fsports13%2Flogo%2Fteam%2F14%2F7_300300.png&amp;scode=sports\" class=\"thumb_g\" alt=\"크리스탈 팰리스 FC\"></span></div>\n",
    "            \n",
    "        <span class=\"txt_name\">에베레치 에즈<span class=\"ico_comm5\"></span></span>\n",
    "        </a>\n",
    "    </td>\n",
    "    <td class=\"td_team\"><a href=\"/team/epl/274\" class=\"link_txt\" data-tiara-layer=\"team_name\">크리스탈 팰리스</a></td>\n",
    "    <td data-field=\"gp\" data-value=\"32\">32</td><td data-field=\"gf\" data-value=\"4\" class=\"selected_on\">4</td><td data-field=\"ast\" data-value=\"5\">5</td><td data-field=\"opts\" data-value=\"9\">9</td><td data-field=\"sht\" data-value=\"31\">31</td><td data-field=\"sog\" data-value=\"12\">12</td><td data-field=\"fo\" data-value=\"17\">17</td><td data-field=\"yel\" data-value=\"3\">3</td><td data-field=\"red\" data-value=\"0\">0</td><td data-field=\"off\" data-value=\"1\">1</td>\n",
    "</tr>\n",
    "<tr class=\"tr_line\">\n",
    "        <td class=\"td_rank\">80</td>\n",
    "    <td class=\"td_name\">\n",
    "        <a href=\"/player/epl/1283892\" class=\"link_thumb #player_name\">\n",
    "            <div class=\"wrap_thumb\"><img src=\"https://t1.daumcdn.net/media/img-section/sports13/player/noimage/square_m.png\" onerror=\"this.src='https://t1.daumcdn.net/media/img-section/sports13/player/noimage/square_m.png'\" width=\"34\" height=\"34\" class=\"thumb_g\" alt=\"조쉬 마자\"><span class=\"ico_country\"><img src=\"//img1.daumcdn.net/thumb/C100x100/?fname=http%3A%2F%2Ft1.daumcdn.net%2Fmedia%2Fimg-section%2Fsports13%2Flogo%2Fteam%2F14%2F43_300300.png&amp;scode=sports\" class=\"thumb_g\" alt=\"풀럼 FC\"></span></div>\n",
    "            \n",
    "        <span class=\"txt_name\">조쉬 마자<span class=\"ico_comm5\"></span></span>\n",
    "        </a>\n",
    "    </td>\n",
    "    <td class=\"td_team\"><a href=\"/team/epl/260\" class=\"link_txt\" data-tiara-layer=\"team_name\">풀럼</a></td>\n",
    "    <td data-field=\"gp\" data-value=\"12\">12</td><td data-field=\"gf\" data-value=\"3\" class=\"selected_on\">3</td><td data-field=\"ast\" data-value=\"0\">0</td><td data-field=\"opts\" data-value=\"3\">3</td><td data-field=\"sht\" data-value=\"16\">16</td><td data-field=\"sog\" data-value=\"7\">7</td><td data-field=\"fo\" data-value=\"6\">6</td><td data-field=\"yel\" data-value=\"0\">0</td><td data-field=\"red\" data-value=\"0\">0</td><td data-field=\"off\" data-value=\"3\">3</td>\n",
    "</tr>\n",
    "<tr class=\"\">\n",
    "        <td class=\"td_rank\">80</td>\n",
    "    <td class=\"td_name\">\n",
    "        <a href=\"/player/epl/1199481\" class=\"link_thumb #player_name\">\n",
    "            <div class=\"wrap_thumb\"><img src=\"//img1.daumcdn.net/thumb/S100x100/?fname=https%3A%2F%2Ft1.daumcdn.net%2Fsports%2Fplayer%2F300%2F14%2F355520.jpg&amp;scode=default_face_profile_big_p\" onerror=\"this.src='https://t1.daumcdn.net/media/img-section/sports13/player/noimage/square_m.png'\" width=\"34\" height=\"34\" class=\"thumb_g\" alt=\"다니엘 제임스\"><span class=\"ico_country\"><img src=\"//img1.daumcdn.net/thumb/C100x100/?fname=http%3A%2F%2Ft1.daumcdn.net%2Fmedia%2Fimg-section%2Fsports13%2Flogo%2Fteam%2F14%2F35_300300.png&amp;scode=sports\" class=\"thumb_g\" alt=\"맨체스터 유나이티드 FC\"></span></div>\n",
    "            \n",
    "        <span class=\"txt_name\">다니엘 제임스<span class=\"ico_comm5\"></span></span>\n",
    "        </a>\n",
    "    </td>\n",
    "    <td class=\"td_team\"><a href=\"/team/epl/246\" class=\"link_txt\" data-tiara-layer=\"team_name\">맨유</a></td>\n",
    "    <td data-field=\"gp\" data-value=\"14\">14</td><td data-field=\"gf\" data-value=\"3\" class=\"selected_on\">3</td><td data-field=\"ast\" data-value=\"0\">0</td><td data-field=\"opts\" data-value=\"3\">3</td><td data-field=\"sht\" data-value=\"15\">15</td><td data-field=\"sog\" data-value=\"6\">6</td><td data-field=\"fo\" data-value=\"14\">14</td><td data-field=\"yel\" data-value=\"3\">3</td><td data-field=\"red\" data-value=\"0\">0</td><td data-field=\"off\" data-value=\"3\">3</td>\n",
    "</tr>\n",
    "<tr class=\"\">\n",
    "        <td class=\"td_rank\">80</td>\n",
    "    <td class=\"td_name\">\n",
    "        <a href=\"/player/epl/1624809\" class=\"link_thumb #player_name\">\n",
    "            <div class=\"wrap_thumb\"><img src=\"https://t1.daumcdn.net/media/img-section/sports13/player/noimage/square_m.png\" onerror=\"this.src='https://t1.daumcdn.net/media/img-section/sports13/player/noimage/square_m.png'\" width=\"34\" height=\"34\" class=\"thumb_g\" alt=\"음바예 디아뉴\"><span class=\"ico_country\"><img src=\"//img1.daumcdn.net/thumb/C100x100/?fname=http%3A%2F%2Ft1.daumcdn.net%2Fmedia%2Fimg-section%2Fsports13%2Flogo%2Fteam%2F14%2F8_300300.png&amp;scode=sports\" class=\"thumb_g\" alt=\"웨스트 브로미치 앨비언 FC\"></span></div>\n",
    "            \n",
    "        <span class=\"txt_name\">음바예 디아뉴<span class=\"ico_comm5\"></span></span>\n",
    "        </a>\n",
    "    </td>\n",
    "    <td class=\"td_team\"><a href=\"/team/epl/1319\" class=\"link_txt\" data-tiara-layer=\"team_name\">웨스트 브롬</a></td>\n",
    "    <td data-field=\"gp\" data-value=\"14\">14</td><td data-field=\"gf\" data-value=\"3\" class=\"selected_on\">3</td><td data-field=\"ast\" data-value=\"2\">2</td><td data-field=\"opts\" data-value=\"5\">5</td><td data-field=\"sht\" data-value=\"22\">22</td><td data-field=\"sog\" data-value=\"9\">9</td><td data-field=\"fo\" data-value=\"16\">16</td><td data-field=\"yel\" data-value=\"2\">2</td><td data-field=\"red\" data-value=\"0\">0</td><td data-field=\"off\" data-value=\"17\">17</td>\n",
    "</tr>\n",
    "<tr class=\"\">\n",
    "        <td class=\"td_rank\">80</td>\n",
    "    <td class=\"td_name\">\n",
    "        <a href=\"/player/epl/16712\" class=\"link_thumb #player_name\">\n",
    "            <div class=\"wrap_thumb\"><img src=\"//img1.daumcdn.net/thumb/S100x100/?fname=https%3A%2F%2Ft1.daumcdn.net%2Fsports%2Fplayer%2F300%2F14%2F20514.jpg&amp;scode=default_face_profile_big_p\" onerror=\"this.src='https://t1.daumcdn.net/media/img-section/sports13/player/noimage/square_m.png'\" width=\"34\" height=\"34\" class=\"thumb_g\" alt=\"빌리 샤프\"><span class=\"ico_country\"><img src=\"//img1.daumcdn.net/thumb/C100x100/?fname=http%3A%2F%2Ft1.daumcdn.net%2Fmedia%2Fimg-section%2Fsports13%2Flogo%2Fteam%2F14%2F15_300300.png&amp;scode=sports\" class=\"thumb_g\" alt=\"셰필드 유나이티드 FC\"></span></div>\n",
    "            \n",
    "        <span class=\"txt_name\">빌리 샤프<span class=\"ico_comm5\"></span></span>\n",
    "        </a>\n",
    "    </td>\n",
    "    <td class=\"td_team\"><a href=\"/team/epl/286\" class=\"link_txt\" data-tiara-layer=\"team_name\">셰필드</a></td>\n",
    "    <td data-field=\"gp\" data-value=\"16\">16</td><td data-field=\"gf\" data-value=\"3\" class=\"selected_on\">3</td><td data-field=\"ast\" data-value=\"0\">0</td><td data-field=\"opts\" data-value=\"3\">3</td><td data-field=\"sht\" data-value=\"9\">9</td><td data-field=\"sog\" data-value=\"6\">6</td><td data-field=\"fo\" data-value=\"15\">15</td><td data-field=\"yel\" data-value=\"1\">1</td><td data-field=\"red\" data-value=\"0\">0</td><td data-field=\"off\" data-value=\"11\">11</td>\n",
    "</tr>\n",
    "<tr class=\"\">\n",
    "        <td class=\"td_rank\">80</td>\n",
    "    <td class=\"td_name\">\n",
    "        <a href=\"/player/epl/1082697\" class=\"link_thumb #player_name\">\n",
    "            <div class=\"wrap_thumb\"><img src=\"//img1.daumcdn.net/thumb/S100x100/?fname=https%3A%2F%2Ft1.daumcdn.net%2Fsports%2Fplayer%2F300%2F14%2F155818.jpg&amp;scode=default_face_profile_big_p\" onerror=\"this.src='https://t1.daumcdn.net/media/img-section/sports13/player/noimage/square_m.png'\" width=\"34\" height=\"34\" class=\"thumb_g\" alt=\"타쿠미 미나미노\"><span class=\"ico_country\"><img src=\"//img1.daumcdn.net/thumb/C100x100/?fname=http%3A%2F%2Ft1.daumcdn.net%2Fmedia%2Fimg-section%2Fsports13%2Flogo%2Fteam%2F14%2F45_300300.png&amp;scode=sports\" class=\"thumb_g\" alt=\"사우샘프턴 FC\"></span></div>\n",
    "            \n",
    "        <span class=\"txt_name\">타쿠미 미나미노<span class=\"ico_comm5\"></span></span>\n",
    "        </a>\n",
    "    </td>\n",
    "    <td class=\"td_team\"><a href=\"/team/epl/271\" class=\"link_txt\" data-tiara-layer=\"team_name\">사우샘프턴</a></td>\n",
    "    <td data-field=\"gp\" data-value=\"16\">16</td><td data-field=\"gf\" data-value=\"3\" class=\"selected_on\">3</td><td data-field=\"ast\" data-value=\"0\">0</td><td data-field=\"opts\" data-value=\"3\">3</td><td data-field=\"sht\" data-value=\"16\">16</td><td data-field=\"sog\" data-value=\"7\">7</td><td data-field=\"fo\" data-value=\"7\">7</td><td data-field=\"yel\" data-value=\"1\">1</td><td data-field=\"red\" data-value=\"0\">0</td><td data-field=\"off\" data-value=\"2\">2</td>\n",
    "</tr>\n",
    "<tr class=\"\">\n",
    "        <td class=\"td_rank\">80</td>\n",
    "    <td class=\"td_name\">\n",
    "        \n",
    "            <div class=\"wrap_thumb\"><img src=\"//img1.daumcdn.net/thumb/S100x100/?fname=https%3A%2F%2Ft1.daumcdn.net%2Fsports%2Fplayer%2F300%2F14%2F149731.jpg&amp;scode=default_face_profile_big_p\" onerror=\"this.src='https://t1.daumcdn.net/media/img-section/sports13/player/noimage/square_m.png'\" width=\"34\" height=\"34\" class=\"thumb_g\" alt=\"세바스티앙 할러\"><span class=\"ico_country\"><img src=\"//img1.daumcdn.net/thumb/C100x100/?fname=http%3A%2F%2Ft1.daumcdn.net%2Fmedia%2Fimg-section%2Fsports13%2Flogo%2Fteam%2F14%2F37_300300.png&amp;scode=sports\" class=\"thumb_g\" alt=\"웨스트햄 유나이티드 FC\"></span></div>\n",
    "            \n",
    "        <span class=\"txt_name\">세바스티앙 할러</span>\n",
    "        \n",
    "    </td>\n",
    "    <td class=\"td_team\"><a href=\"/team/epl/254\" class=\"link_txt\" data-tiara-layer=\"team_name\">웨스트햄</a></td>\n",
    "    <td data-field=\"gp\" data-value=\"16\">16</td><td data-field=\"gf\" data-value=\"3\" class=\"selected_on\">3</td><td data-field=\"ast\" data-value=\"0\">0</td><td data-field=\"opts\" data-value=\"3\">3</td><td data-field=\"sht\" data-value=\"18\">18</td><td data-field=\"sog\" data-value=\"9\">9</td><td data-field=\"fo\" data-value=\"24\">24</td><td data-field=\"yel\" data-value=\"0\">0</td><td data-field=\"red\" data-value=\"0\">0</td><td data-field=\"off\" data-value=\"9\">9</td>\n",
    "</tr>\n",
    "<tr class=\"\">\n",
    "        <td class=\"td_rank\">80</td>\n",
    "    <td class=\"td_name\">\n",
    "        <a href=\"/player/epl/15119\" class=\"link_thumb #player_name\">\n",
    "            <div class=\"wrap_thumb\"><img src=\"//img1.daumcdn.net/thumb/S100x100/?fname=https%3A%2F%2Ft1.daumcdn.net%2Fsports%2Fplayer%2F300%2F14%2F50027.jpg&amp;scode=default_face_profile_big_p\" onerror=\"this.src='https://t1.daumcdn.net/media/img-section/sports13/player/noimage/square_m.png'\" width=\"34\" height=\"34\" class=\"thumb_g\" alt=\"크레이그 도슨\"><span class=\"ico_country\"><img src=\"//img1.daumcdn.net/thumb/C100x100/?fname=http%3A%2F%2Ft1.daumcdn.net%2Fmedia%2Fimg-section%2Fsports13%2Flogo%2Fteam%2F14%2F37_300300.png&amp;scode=sports\" class=\"thumb_g\" alt=\"웨스트햄 유나이티드 FC\"></span></div>\n",
    "            \n",
    "        <span class=\"txt_name\">크레이그 도슨<span class=\"ico_comm5\"></span></span>\n",
    "        </a>\n",
    "    </td>\n",
    "    <td class=\"td_team\"><a href=\"/team/epl/254\" class=\"link_txt\" data-tiara-layer=\"team_name\">웨스트햄</a></td>\n",
    "    <td data-field=\"gp\" data-value=\"18\">18</td><td data-field=\"gf\" data-value=\"3\" class=\"selected_on\">3</td><td data-field=\"ast\" data-value=\"0\">0</td><td data-field=\"opts\" data-value=\"3\">3</td><td data-field=\"sht\" data-value=\"9\">9</td><td data-field=\"sog\" data-value=\"5\">5</td><td data-field=\"fo\" data-value=\"13\">13</td><td data-field=\"yel\" data-value=\"2\">2</td><td data-field=\"red\" data-value=\"0\">0</td><td data-field=\"off\" data-value=\"2\">2</td>\n",
    "</tr>\n",
    "<tr class=\"\">\n",
    "        <td class=\"td_rank\">80</td>\n",
    "    <td class=\"td_name\">\n",
    "        <a href=\"/player/epl/15218\" class=\"link_thumb #player_name\">\n",
    "            <div class=\"wrap_thumb\"><img src=\"//img1.daumcdn.net/thumb/S100x100/?fname=https%3A%2F%2Ft1.daumcdn.net%2Fsports%2Fplayer%2F300%2F14%2F27028.jpg&amp;scode=default_face_profile_big_p\" onerror=\"this.src='https://t1.daumcdn.net/media/img-section/sports13/player/noimage/square_m.png'\" width=\"34\" height=\"34\" class=\"thumb_g\" alt=\"애실리 반스\"><span class=\"ico_country\"><img src=\"//img1.daumcdn.net/thumb/C100x100/?fname=http%3A%2F%2Ft1.daumcdn.net%2Fmedia%2Fimg-section%2Fsports13%2Flogo%2Fteam%2F14%2F6_300300.png&amp;scode=sports\" class=\"thumb_g\" alt=\"번리 FC\"></span></div>\n",
    "            \n",
    "        <span class=\"txt_name\">애실리 반스<span class=\"ico_comm5\"></span></span>\n",
    "        </a>\n",
    "    </td>\n",
    "    <td class=\"td_team\"><a href=\"/team/epl/263\" class=\"link_txt\" data-tiara-layer=\"team_name\">번리</a></td>\n",
    "    <td data-field=\"gp\" data-value=\"19\">19</td><td data-field=\"gf\" data-value=\"3\" class=\"selected_on\">3</td><td data-field=\"ast\" data-value=\"0\">0</td><td data-field=\"opts\" data-value=\"3\">3</td><td data-field=\"sht\" data-value=\"28\">28</td><td data-field=\"sog\" data-value=\"13\">13</td><td data-field=\"fo\" data-value=\"40\">40</td><td data-field=\"yel\" data-value=\"4\">4</td><td data-field=\"red\" data-value=\"0\">0</td><td data-field=\"off\" data-value=\"20\">20</td>\n",
    "</tr>\n",
    "<tr class=\"\">\n",
    "        <td class=\"td_rank\">80</td>\n",
    "    <td class=\"td_name\">\n",
    "        <a href=\"/player/epl/902011\" class=\"link_thumb #player_name\">\n",
    "            <div class=\"wrap_thumb\"><img src=\"//img1.daumcdn.net/thumb/S100x100/?fname=https%3A%2F%2Ft1.daumcdn.net%2Fsports%2Fplayer%2F300%2F14%2F347010.jpg&amp;scode=default_face_profile_big_p\" onerror=\"this.src='https://t1.daumcdn.net/media/img-section/sports13/player/noimage/square_m.png'\" width=\"34\" height=\"34\" class=\"thumb_g\" alt=\"알랑 생 막시맹\"><span class=\"ico_country\"><img src=\"//img1.daumcdn.net/thumb/C100x100/?fname=http%3A%2F%2Ft1.daumcdn.net%2Fmedia%2Fimg-section%2Fsports13%2Flogo%2Fteam%2F14%2F39_300300.png&amp;scode=sports\" class=\"thumb_g\" alt=\"뉴캐슬 유나이티드 FC\"></span></div>\n",
    "            \n",
    "        <span class=\"txt_name\">알랑 생 막시맹<span class=\"ico_comm5\"></span></span>\n",
    "        </a>\n",
    "    </td>\n",
    "    <td class=\"td_team\"><a href=\"/team/epl/1321\" class=\"link_txt\" data-tiara-layer=\"team_name\">뉴캐슬</a></td>\n",
    "    <td data-field=\"gp\" data-value=\"22\">22</td><td data-field=\"gf\" data-value=\"3\" class=\"selected_on\">3</td><td data-field=\"ast\" data-value=\"4\">4</td><td data-field=\"opts\" data-value=\"7\">7</td><td data-field=\"sht\" data-value=\"24\">24</td><td data-field=\"sog\" data-value=\"11\">11</td><td data-field=\"fo\" data-value=\"10\">10</td><td data-field=\"yel\" data-value=\"0\">0</td><td data-field=\"red\" data-value=\"0\">0</td><td data-field=\"off\" data-value=\"5\">5</td>\n",
    "</tr>\n",
    "<tr class=\"\">\n",
    "        <td class=\"td_rank\">80</td>\n",
    "    <td class=\"td_name\">\n",
    "        <a href=\"/player/epl/1266767\" class=\"link_thumb #player_name\">\n",
    "            <div class=\"wrap_thumb\"><img src=\"//img1.daumcdn.net/thumb/S100x100/?fname=https%3A%2F%2Ft1.daumcdn.net%2Fsports%2Fplayer%2F300%2F14%2F138891.jpg&amp;scode=default_face_profile_big_p\" onerror=\"this.src='https://t1.daumcdn.net/media/img-section/sports13/player/noimage/square_m.png'\" width=\"34\" height=\"34\" class=\"thumb_g\" alt=\"완데르 엘데르 코스타\"><span class=\"ico_country\"><img src=\"//img1.daumcdn.net/thumb/C100x100/?fname=http%3A%2F%2Ft1.daumcdn.net%2Fmedia%2Fimg-section%2Fsports13%2Flogo%2Fteam%2F14%2F34_300300.png&amp;scode=sports\" class=\"thumb_g\" alt=\"리즈 유나이티드 FC\"></span></div>\n",
    "            \n",
    "        <span class=\"txt_name\">완데르 엘데르 코스타<span class=\"ico_comm5\"></span></span>\n",
    "        </a>\n",
    "    </td>\n",
    "    <td class=\"td_team\"><a href=\"/team/epl/266\" class=\"link_txt\" data-tiara-layer=\"team_name\">리즈</a></td>\n",
    "    <td data-field=\"gp\" data-value=\"22\">22</td><td data-field=\"gf\" data-value=\"3\" class=\"selected_on\">3</td><td data-field=\"ast\" data-value=\"2\">2</td><td data-field=\"opts\" data-value=\"5\">5</td><td data-field=\"sht\" data-value=\"16\">16</td><td data-field=\"sog\" data-value=\"6\">6</td><td data-field=\"fo\" data-value=\"20\">20</td><td data-field=\"yel\" data-value=\"0\">0</td><td data-field=\"red\" data-value=\"0\">0</td><td data-field=\"off\" data-value=\"3\">3</td>\n",
    "</tr>\n",
    "<tr class=\"tr_line\">\n",
    "        <td class=\"td_rank\">80</td>\n",
    "    <td class=\"td_name\">\n",
    "        <a href=\"/player/epl/14499\" class=\"link_thumb #player_name\">\n",
    "            <div class=\"wrap_thumb\"><img src=\"//img1.daumcdn.net/thumb/S100x100/?fname=https%3A%2F%2Ft1.daumcdn.net%2Fsports%2Fplayer%2F300%2F14%2F111802.jpg&amp;scode=default_face_profile_big_p\" onerror=\"this.src='https://t1.daumcdn.net/media/img-section/sports13/player/noimage/square_m.png'\" width=\"34\" height=\"34\" class=\"thumb_g\" alt=\"폴 포그바\"><span class=\"ico_country\"><img src=\"//img1.daumcdn.net/thumb/C100x100/?fname=http%3A%2F%2Ft1.daumcdn.net%2Fmedia%2Fimg-section%2Fsports13%2Flogo%2Fteam%2F14%2F35_300300.png&amp;scode=sports\" class=\"thumb_g\" alt=\"맨체스터 유나이티드 FC\"></span></div>\n",
    "            \n",
    "        <span class=\"txt_name\">폴 포그바<span class=\"ico_comm5\"></span></span>\n",
    "        </a>\n",
    "    </td>\n",
    "    <td class=\"td_team\"><a href=\"/team/epl/246\" class=\"link_txt\" data-tiara-layer=\"team_name\">맨유</a></td>\n",
    "    <td data-field=\"gp\" data-value=\"23\">23</td><td data-field=\"gf\" data-value=\"3\" class=\"selected_on\">3</td><td data-field=\"ast\" data-value=\"3\">3</td><td data-field=\"opts\" data-value=\"6\">6</td><td data-field=\"sht\" data-value=\"22\">22</td><td data-field=\"sog\" data-value=\"10\">10</td><td data-field=\"fo\" data-value=\"31\">31</td><td data-field=\"yel\" data-value=\"3\">3</td><td data-field=\"red\" data-value=\"0\">0</td><td data-field=\"off\" data-value=\"4\">4</td>\n",
    "</tr>\n",
    "<tr class=\"\">\n",
    "        <td class=\"td_rank\">80</td>\n",
    "    <td class=\"td_name\">\n",
    "        <a href=\"/player/epl/1606877\" class=\"link_thumb #player_name\">\n",
    "            <div class=\"wrap_thumb\"><img src=\"//img1.daumcdn.net/thumb/S100x100/?fname=https%3A%2F%2Ft1.daumcdn.net%2Fsports%2Fplayer%2F300%2F14%2F308764.jpg&amp;scode=default_face_profile_big_p\" onerror=\"this.src='https://t1.daumcdn.net/media/img-section/sports13/player/noimage/square_m.png'\" width=\"34\" height=\"34\" class=\"thumb_g\" alt=\"다니엘 포덴세\"><span class=\"ico_country\"><img src=\"//img1.daumcdn.net/thumb/C100x100/?fname=http%3A%2F%2Ft1.daumcdn.net%2Fmedia%2Fimg-section%2Fsports13%2Flogo%2Fteam%2F14%2F3_300300.png&amp;scode=sports\" class=\"thumb_g\" alt=\"울버햄튼 원더러스 FC\"></span></div>\n",
    "            \n",
    "        <span class=\"txt_name\">다니엘 포덴세<span class=\"ico_comm5\"></span></span>\n",
    "        </a>\n",
    "    </td>\n",
    "    <td class=\"td_team\"><a href=\"/team/epl/256\" class=\"link_txt\" data-tiara-layer=\"team_name\">울버햄튼</a></td>\n",
    "    <td data-field=\"gp\" data-value=\"23\">23</td><td data-field=\"gf\" data-value=\"3\" class=\"selected_on\">3</td><td data-field=\"ast\" data-value=\"2\">2</td><td data-field=\"opts\" data-value=\"5\">5</td><td data-field=\"sht\" data-value=\"31\">31</td><td data-field=\"sog\" data-value=\"13\">13</td><td data-field=\"fo\" data-value=\"14\">14</td><td data-field=\"yel\" data-value=\"3\">3</td><td data-field=\"red\" data-value=\"0\">0</td><td data-field=\"off\" data-value=\"5\">5</td>\n",
    "</tr>\n",
    "<tr class=\"\">\n",
    "        <td class=\"td_rank\">80</td>\n",
    "    <td class=\"td_name\">\n",
    "        <a href=\"/player/epl/109514\" class=\"link_thumb #player_name\">\n",
    "            <div class=\"wrap_thumb\"><img src=\"//img1.daumcdn.net/thumb/S100x100/?fname=https%3A%2F%2Ft1.daumcdn.net%2Fsports%2Fplayer%2F300%2F14%2F98435.jpg&amp;scode=default_face_profile_big_p\" onerror=\"this.src='https://t1.daumcdn.net/media/img-section/sports13/player/noimage/square_m.png'\" width=\"34\" height=\"34\" class=\"thumb_g\" alt=\"로스 바클리\"><span class=\"ico_country\"><img src=\"//img1.daumcdn.net/thumb/C100x100/?fname=http%3A%2F%2Ft1.daumcdn.net%2Fmedia%2Fimg-section%2Fsports13%2Flogo%2Fteam%2F14%2F40_300300.png&amp;scode=sports\" class=\"thumb_g\" alt=\"애스턴 빌라 FC\"></span></div>\n",
    "            \n",
    "        <span class=\"txt_name\">로스 바클리<span class=\"ico_comm5\"></span></span>\n",
    "        </a>\n",
    "    </td>\n",
    "    <td class=\"td_team\"><a href=\"/team/epl/250\" class=\"link_txt\" data-tiara-layer=\"team_name\">애스턴 빌라</a></td>\n",
    "    <td data-field=\"gp\" data-value=\"24\">24</td><td data-field=\"gf\" data-value=\"3\" class=\"selected_on\">3</td><td data-field=\"ast\" data-value=\"1\">1</td><td data-field=\"opts\" data-value=\"4\">4</td><td data-field=\"sht\" data-value=\"34\">34</td><td data-field=\"sog\" data-value=\"11\">11</td><td data-field=\"fo\" data-value=\"15\">15</td><td data-field=\"yel\" data-value=\"0\">0</td><td data-field=\"red\" data-value=\"0\">0</td><td data-field=\"off\" data-value=\"5\">5</td>\n",
    "</tr>\n",
    "<tr class=\"\">\n",
    "        <td class=\"td_rank\">80</td>\n",
    "    <td class=\"td_name\">\n",
    "        <a href=\"/player/epl/531513\" class=\"link_thumb #player_name\">\n",
    "            <div class=\"wrap_thumb\"><img src=\"//img1.daumcdn.net/thumb/S100x100/?fname=https%3A%2F%2Ft1.daumcdn.net%2Fsports%2Fplayer%2F300%2F14%2F58488.jpg&amp;scode=default_face_profile_big_p\" onerror=\"this.src='https://t1.daumcdn.net/media/img-section/sports13/player/noimage/square_m.png'\" width=\"34\" height=\"34\" class=\"thumb_g\" alt=\"마테이 비드라\"><span class=\"ico_country\"><img src=\"//img1.daumcdn.net/thumb/C100x100/?fname=http%3A%2F%2Ft1.daumcdn.net%2Fmedia%2Fimg-section%2Fsports13%2Flogo%2Fteam%2F14%2F6_300300.png&amp;scode=sports\" class=\"thumb_g\" alt=\"번리 FC\"></span></div>\n",
    "            \n",
    "        <span class=\"txt_name\">마테이 비드라<span class=\"ico_comm5\"></span></span>\n",
    "        </a>\n",
    "    </td>\n",
    "    <td class=\"td_team\"><a href=\"/team/epl/263\" class=\"link_txt\" data-tiara-layer=\"team_name\">번리</a></td>\n",
    "    <td data-field=\"gp\" data-value=\"24\">24</td><td data-field=\"gf\" data-value=\"3\" class=\"selected_on\">3</td><td data-field=\"ast\" data-value=\"1\">1</td><td data-field=\"opts\" data-value=\"4\">4</td><td data-field=\"sht\" data-value=\"32\">32</td><td data-field=\"sog\" data-value=\"11\">11</td><td data-field=\"fo\" data-value=\"5\">5</td><td data-field=\"yel\" data-value=\"0\">0</td><td data-field=\"red\" data-value=\"0\">0</td><td data-field=\"off\" data-value=\"9\">9</td>\n",
    "</tr>\n",
    "<tr class=\"\">\n",
    "        <td class=\"td_rank\">80</td>\n",
    "    <td class=\"td_name\">\n",
    "        <a href=\"/player/epl/1406914\" class=\"link_thumb #player_name\">\n",
    "            <div class=\"wrap_thumb\"><img src=\"//img1.daumcdn.net/thumb/S100x100/?fname=https%3A%2F%2Ft1.daumcdn.net%2Fsports%2Fplayer%2F300%2F14%2F187729.jpg&amp;scode=default_face_profile_big_p\" onerror=\"this.src='https://t1.daumcdn.net/media/img-section/sports13/player/noimage/square_m.png'\" width=\"34\" height=\"34\" class=\"thumb_g\" alt=\"로맹 사이스\"><span class=\"ico_country\"><img src=\"//img1.daumcdn.net/thumb/C100x100/?fname=http%3A%2F%2Ft1.daumcdn.net%2Fmedia%2Fimg-section%2Fsports13%2Flogo%2Fteam%2F14%2F3_300300.png&amp;scode=sports\" class=\"thumb_g\" alt=\"울버햄튼 원더러스 FC\"></span></div>\n",
    "            \n",
    "        <span class=\"txt_name\">로맹 사이스<span class=\"ico_comm5\"></span></span>\n",
    "        </a>\n",
    "    </td>\n",
    "    <td class=\"td_team\"><a href=\"/team/epl/256\" class=\"link_txt\" data-tiara-layer=\"team_name\">울버햄튼</a></td>\n",
    "    <td data-field=\"gp\" data-value=\"25\">25</td><td data-field=\"gf\" data-value=\"3\" class=\"selected_on\">3</td><td data-field=\"ast\" data-value=\"0\">0</td><td data-field=\"opts\" data-value=\"3\">3</td><td data-field=\"sht\" data-value=\"19\">19</td><td data-field=\"sog\" data-value=\"9\">9</td><td data-field=\"fo\" data-value=\"22\">22</td><td data-field=\"yel\" data-value=\"2\">2</td><td data-field=\"red\" data-value=\"0\">0</td><td data-field=\"off\" data-value=\"1\">1</td>\n",
    "</tr>\n",
    "<tr class=\"\">\n",
    "        <td class=\"td_rank\">80</td>\n",
    "    <td class=\"td_name\">\n",
    "        <a href=\"/player/epl/14279\" class=\"link_thumb #player_name\">\n",
    "            <div class=\"wrap_thumb\"><img src=\"//img1.daumcdn.net/thumb/S100x100/?fname=https%3A%2F%2Ft1.daumcdn.net%2Fsports%2Fplayer%2F300%2F14%2F40671.jpg&amp;scode=default_face_profile_big_p\" onerror=\"this.src='https://t1.daumcdn.net/media/img-section/sports13/player/noimage/square_m.png'\" width=\"34\" height=\"34\" class=\"thumb_g\" alt=\"카일 바틀리\"><span class=\"ico_country\"><img src=\"//img1.daumcdn.net/thumb/C100x100/?fname=http%3A%2F%2Ft1.daumcdn.net%2Fmedia%2Fimg-section%2Fsports13%2Flogo%2Fteam%2F14%2F8_300300.png&amp;scode=sports\" class=\"thumb_g\" alt=\"웨스트 브로미치 앨비언 FC\"></span></div>\n",
    "            \n",
    "        <span class=\"txt_name\">카일 바틀리<span class=\"ico_comm5\"></span></span>\n",
    "        </a>\n",
    "    </td>\n",
    "    <td class=\"td_team\"><a href=\"/team/epl/1319\" class=\"link_txt\" data-tiara-layer=\"team_name\">웨스트 브롬</a></td>\n",
    "    <td data-field=\"gp\" data-value=\"26\">26</td><td data-field=\"gf\" data-value=\"3\" class=\"selected_on\">3</td><td data-field=\"ast\" data-value=\"1\">1</td><td data-field=\"opts\" data-value=\"4\">4</td><td data-field=\"sht\" data-value=\"14\">14</td><td data-field=\"sog\" data-value=\"6\">6</td><td data-field=\"fo\" data-value=\"25\">25</td><td data-field=\"yel\" data-value=\"4\">4</td><td data-field=\"red\" data-value=\"0\">0</td><td data-field=\"off\" data-value=\"4\">4</td>\n",
    "</tr>\n",
    "<tr class=\"\">\n",
    "        <td class=\"td_rank\">80</td>\n",
    "    <td class=\"td_name\">\n",
    "        <a href=\"/player/epl/143527\" class=\"link_thumb #player_name\">\n",
    "            <div class=\"wrap_thumb\"><img src=\"//img1.daumcdn.net/thumb/S100x100/?fname=https%3A%2F%2Ft1.daumcdn.net%2Fsports%2Fplayer%2F300%2F14%2F120538.jpg&amp;scode=default_face_profile_big_p\" onerror=\"this.src='https://t1.daumcdn.net/media/img-section/sports13/player/noimage/square_m.png'\" width=\"34\" height=\"34\" class=\"thumb_g\" alt=\"야니크 베스테르고르\"><span class=\"ico_country\"><img src=\"//img1.daumcdn.net/thumb/C100x100/?fname=http%3A%2F%2Ft1.daumcdn.net%2Fmedia%2Fimg-section%2Fsports13%2Flogo%2Fteam%2F14%2F45_300300.png&amp;scode=sports\" class=\"thumb_g\" alt=\"사우샘프턴 FC\"></span></div>\n",
    "            \n",
    "        <span class=\"txt_name\">야니크 베스테르고르<span class=\"ico_comm5\"></span></span>\n",
    "        </a>\n",
    "    </td>\n",
    "    <td class=\"td_team\"><a href=\"/team/epl/271\" class=\"link_txt\" data-tiara-layer=\"team_name\">사우샘프턴</a></td>\n",
    "    <td data-field=\"gp\" data-value=\"26\">26</td><td data-field=\"gf\" data-value=\"3\" class=\"selected_on\">3</td><td data-field=\"ast\" data-value=\"0\">0</td><td data-field=\"opts\" data-value=\"3\">3</td><td data-field=\"sht\" data-value=\"17\">17</td><td data-field=\"sog\" data-value=\"9\">9</td><td data-field=\"fo\" data-value=\"20\">20</td><td data-field=\"yel\" data-value=\"2\">2</td><td data-field=\"red\" data-value=\"1\">1</td><td data-field=\"off\" data-value=\"0\">0</td>\n",
    "</tr>\n",
    "<tr class=\"\">\n",
    "        <td class=\"td_rank\">80</td>\n",
    "    <td class=\"td_name\">\n",
    "        <a href=\"/player/epl/1142630\" class=\"link_thumb #player_name\">\n",
    "            <div class=\"wrap_thumb\"><img src=\"//img1.daumcdn.net/thumb/S100x100/?fname=https%3A%2F%2Ft1.daumcdn.net%2Fsports%2Fplayer%2F300%2F14%2F192144.jpg&amp;scode=default_face_profile_big_p\" onerror=\"this.src='https://t1.daumcdn.net/media/img-section/sports13/player/noimage/square_m.png'\" width=\"34\" height=\"34\" class=\"thumb_g\" alt=\"알렉산드르 미트로비치\"><span class=\"ico_country\"><img src=\"//img1.daumcdn.net/thumb/C100x100/?fname=http%3A%2F%2Ft1.daumcdn.net%2Fmedia%2Fimg-section%2Fsports13%2Flogo%2Fteam%2F14%2F43_300300.png&amp;scode=sports\" class=\"thumb_g\" alt=\"풀럼 FC\"></span></div>\n",
    "            \n",
    "        <span class=\"txt_name\">알렉산드르 미트로비치<span class=\"ico_comm5\"></span></span>\n",
    "        </a>\n",
    "    </td>\n",
    "    <td class=\"td_team\"><a href=\"/team/epl/260\" class=\"link_txt\" data-tiara-layer=\"team_name\">풀럼</a></td>\n",
    "    <td data-field=\"gp\" data-value=\"26\">26</td><td data-field=\"gf\" data-value=\"3\" class=\"selected_on\">3</td><td data-field=\"ast\" data-value=\"3\">3</td><td data-field=\"opts\" data-value=\"6\">6</td><td data-field=\"sht\" data-value=\"42\">42</td><td data-field=\"sog\" data-value=\"14\">14</td><td data-field=\"fo\" data-value=\"17\">17</td><td data-field=\"yel\" data-value=\"3\">3</td><td data-field=\"red\" data-value=\"0\">0</td><td data-field=\"off\" data-value=\"4\">4</td>\n",
    "</tr>\n",
    "<tr class=\"\">\n",
    "        <td class=\"td_rank\">80</td>\n",
    "    <td class=\"td_name\">\n",
    "        <a href=\"/player/epl/780100\" class=\"link_thumb #player_name\">\n",
    "            <div class=\"wrap_thumb\"><img src=\"//img1.daumcdn.net/thumb/S100x100/?fname=https%3A%2F%2Ft1.daumcdn.net%2Fsports%2Fplayer%2F300%2F14%2F149710.jpg&amp;scode=default_face_profile_big_p\" onerror=\"this.src='https://t1.daumcdn.net/media/img-section/sports13/player/noimage/square_m.png'\" width=\"34\" height=\"34\" class=\"thumb_g\" alt=\"루카스 모우라\"><span class=\"ico_country\"><img src=\"//img1.daumcdn.net/thumb/C100x100/?fname=http%3A%2F%2Ft1.daumcdn.net%2Fmedia%2Fimg-section%2Fsports13%2Flogo%2Fteam%2F14%2F33_300300.png&amp;scode=sports\" class=\"thumb_g\" alt=\"토트넘 핫스퍼 FC\"></span></div>\n",
    "            \n",
    "        <span class=\"txt_name\">루카스 모우라<span class=\"ico_comm5\"></span></span>\n",
    "        </a>\n",
    "    </td>\n",
    "    <td class=\"td_team\"><a href=\"/team/epl/249\" class=\"link_txt\" data-tiara-layer=\"team_name\">토트넘</a></td>\n",
    "    <td data-field=\"gp\" data-value=\"29\">29</td><td data-field=\"gf\" data-value=\"3\" class=\"selected_on\">3</td><td data-field=\"ast\" data-value=\"4\">4</td><td data-field=\"opts\" data-value=\"7\">7</td><td data-field=\"sht\" data-value=\"17\">17</td><td data-field=\"sog\" data-value=\"6\">6</td><td data-field=\"fo\" data-value=\"22\">22</td><td data-field=\"yel\" data-value=\"1\">1</td><td data-field=\"red\" data-value=\"0\">0</td><td data-field=\"off\" data-value=\"3\">3</td>\n",
    "</tr>\n",
    "<tr class=\"\">\n",
    "        <td class=\"td_rank\">80</td>\n",
    "    <td class=\"td_name\">\n",
    "        <a href=\"/player/epl/1149188\" class=\"link_thumb #player_name\">\n",
    "            <div class=\"wrap_thumb\"><img src=\"//img1.daumcdn.net/thumb/S100x100/?fname=https%3A%2F%2Ft1.daumcdn.net%2Fsports%2Fplayer%2F300%2F14%2F560128.jpg&amp;scode=default_face_profile_big_p\" onerror=\"this.src='https://t1.daumcdn.net/media/img-section/sports13/player/noimage/square_m.png'\" width=\"34\" height=\"34\" class=\"thumb_g\" alt=\"조엘린톤\"><span class=\"ico_country\"><img src=\"//img1.daumcdn.net/thumb/C100x100/?fname=http%3A%2F%2Ft1.daumcdn.net%2Fmedia%2Fimg-section%2Fsports13%2Flogo%2Fteam%2F14%2F39_300300.png&amp;scode=sports\" class=\"thumb_g\" alt=\"뉴캐슬 유나이티드 FC\"></span></div>\n",
    "            \n",
    "        <span class=\"txt_name\">조엘린톤<span class=\"ico_comm5\"></span></span>\n",
    "        </a>\n",
    "    </td>\n",
    "    <td class=\"td_team\"><a href=\"/team/epl/1321\" class=\"link_txt\" data-tiara-layer=\"team_name\">뉴캐슬</a></td>\n",
    "    <td data-field=\"gp\" data-value=\"29\">29</td><td data-field=\"gf\" data-value=\"3\" class=\"selected_on\">3</td><td data-field=\"ast\" data-value=\"2\">2</td><td data-field=\"opts\" data-value=\"5\">5</td><td data-field=\"sht\" data-value=\"39\">39</td><td data-field=\"sog\" data-value=\"19\">19</td><td data-field=\"fo\" data-value=\"22\">22</td><td data-field=\"yel\" data-value=\"3\">3</td><td data-field=\"red\" data-value=\"0\">0</td><td data-field=\"off\" data-value=\"7\">7</td>\n",
    "</tr>\n",
    "<tr class=\"tr_line\">\n",
    "        <td class=\"td_rank\">80</td>\n",
    "    <td class=\"td_name\">\n",
    "        <a href=\"/player/epl/1166992\" class=\"link_thumb #player_name\">\n",
    "            <div class=\"wrap_thumb\"><img src=\"//img1.daumcdn.net/thumb/S100x100/?fname=https%3A%2F%2Ft1.daumcdn.net%2Fsports%2Fplayer%2F300%2F14%2F912932.jpg&amp;scode=default_face_profile_big_p\" onerror=\"this.src='https://t1.daumcdn.net/media/img-section/sports13/player/noimage/square_m.png'\" width=\"34\" height=\"34\" class=\"thumb_g\" alt=\"파블로 포르날스\"><span class=\"ico_country\"><img src=\"//img1.daumcdn.net/thumb/C100x100/?fname=http%3A%2F%2Ft1.daumcdn.net%2Fmedia%2Fimg-section%2Fsports13%2Flogo%2Fteam%2F14%2F37_300300.png&amp;scode=sports\" class=\"thumb_g\" alt=\"웨스트햄 유나이티드 FC\"></span></div>\n",
    "            \n",
    "        <span class=\"txt_name\">파블로 포르날스<span class=\"ico_comm5\"></span></span>\n",
    "        </a>\n",
    "    </td>\n",
    "    <td class=\"td_team\"><a href=\"/team/epl/254\" class=\"link_txt\" data-tiara-layer=\"team_name\">웨스트햄</a></td>\n",
    "    <td data-field=\"gp\" data-value=\"29\">29</td><td data-field=\"gf\" data-value=\"3\" class=\"selected_on\">3</td><td data-field=\"ast\" data-value=\"3\">3</td><td data-field=\"opts\" data-value=\"6\">6</td><td data-field=\"sht\" data-value=\"33\">33</td><td data-field=\"sog\" data-value=\"10\">10</td><td data-field=\"fo\" data-value=\"23\">23</td><td data-field=\"yel\" data-value=\"3\">3</td><td data-field=\"red\" data-value=\"0\">0</td><td data-field=\"off\" data-value=\"6\">6</td>\n",
    "</tr>\n",
    "</tbody>\n",
    "                </table>\n",
    "            </div>\n",
    "        </div>\n",
    "<script type=\"text/javascript\">\n",
    "    </script>\n",
    "    </div>\n",
    "\n",
    "<div class=\"box_noti\">\n",
    "    <div class=\"inner_noti\">\n",
    "        <strong class=\"tit_noti\">데이터 오류 신고</strong>\n",
    "        <p class=\"desc_noti\">다음스포츠에서 제공하는 일정, 결과, 순위, 기록 데이터는 ‘제공처’의 사정에 따라 데이터 갱신이 지연 될 수 있습니다. 데이터 오류 및 궁금하신 사항은 고객센터를 통해서 문의 부탁드립니다.</p>\n",
    "        <a href=\"https://cs.daum.net/question/63.html\" class=\"link_noti\" data-tiara-layer=\"consumer\" target=\"_blank\">고객센터</a>\n",
    "    </div>\n",
    "</div>\n",
    "</div>'''"
   ]
  },
  {
   "cell_type": "code",
   "execution_count": 23,
   "metadata": {},
   "outputs": [
    {
     "data": {
      "text/plain": [
       "[    순위           선수      팀  경기정렬  득점정렬  도움정렬  공격포인트정렬  슈팅정렬  유효슈팅정렬  파울정렬  \\\n",
       " 0    1        해리 케인    토트넘    32    21    13       34   118      46    26   \n",
       " 1    2      모하메드 살라    리버풀    33    20     4       24   103      45    19   \n",
       " 2    3          손흥민    토트넘    34    17    10       27    61      35    11   \n",
       " 3    4    브루노 페르난데스     맨유    33    16    11       27   100      44    37   \n",
       " 4    5   도미닉 칼버트 르윈    에버턴    28    15     1       16    57      33    31   \n",
       " ..  ..          ...    ...   ...   ...   ...      ...   ...     ...   ...   \n",
       " 95  80   야니크 베스테르고르  사우샘프턴    26     3     0        3    17       9    20   \n",
       " 96  80  알렉산드르 미트로비치     풀럼    26     3     3        6    42      14    17   \n",
       " 97  80      루카스 모우라    토트넘    29     3     4        7    17       6    22   \n",
       " 98  80         조엘린톤    뉴캐슬    29     3     2        5    39      19    22   \n",
       " 99  80     파블로 포르날스   웨스트햄    29     3     3        6    33      10    23   \n",
       " \n",
       "     경고정렬  퇴장정렬  오프사이드정렬  \n",
       " 0      1     0       12  \n",
       " 1      0     0       13  \n",
       " 2      0     0       13  \n",
       " 3      5     0        3  \n",
       " 4      3     0       17  \n",
       " ..   ...   ...      ...  \n",
       " 95     2     1        0  \n",
       " 96     3     0        4  \n",
       " 97     1     0        3  \n",
       " 98     3     0        7  \n",
       " 99     3     0        6  \n",
       " \n",
       " [100 rows x 13 columns]]"
      ]
     },
     "execution_count": 23,
     "metadata": {},
     "output_type": "execute_result"
    }
   ],
   "source": [
    "epl_list = pd.read_html(epl)\n",
    "epl_list"
   ]
  },
  {
   "cell_type": "code",
   "execution_count": 28,
   "metadata": {},
   "outputs": [
    {
     "data": {
      "text/html": [
       "<div>\n",
       "<style scoped>\n",
       "    .dataframe tbody tr th:only-of-type {\n",
       "        vertical-align: middle;\n",
       "    }\n",
       "\n",
       "    .dataframe tbody tr th {\n",
       "        vertical-align: top;\n",
       "    }\n",
       "\n",
       "    .dataframe thead th {\n",
       "        text-align: right;\n",
       "    }\n",
       "</style>\n",
       "<table border=\"1\" class=\"dataframe\">\n",
       "  <thead>\n",
       "    <tr style=\"text-align: right;\">\n",
       "      <th></th>\n",
       "      <th>순위</th>\n",
       "      <th>선수</th>\n",
       "      <th>팀</th>\n",
       "      <th>경기정렬</th>\n",
       "      <th>득점정렬</th>\n",
       "      <th>도움정렬</th>\n",
       "      <th>공격포인트정렬</th>\n",
       "      <th>슈팅정렬</th>\n",
       "      <th>유효슈팅정렬</th>\n",
       "      <th>파울정렬</th>\n",
       "      <th>경고정렬</th>\n",
       "      <th>퇴장정렬</th>\n",
       "      <th>오프사이드정렬</th>\n",
       "    </tr>\n",
       "  </thead>\n",
       "  <tbody>\n",
       "    <tr>\n",
       "      <th>0</th>\n",
       "      <td>1</td>\n",
       "      <td>해리 케인</td>\n",
       "      <td>토트넘</td>\n",
       "      <td>32</td>\n",
       "      <td>21</td>\n",
       "      <td>13</td>\n",
       "      <td>34</td>\n",
       "      <td>118</td>\n",
       "      <td>46</td>\n",
       "      <td>26</td>\n",
       "      <td>1</td>\n",
       "      <td>0</td>\n",
       "      <td>12</td>\n",
       "    </tr>\n",
       "    <tr>\n",
       "      <th>1</th>\n",
       "      <td>2</td>\n",
       "      <td>모하메드 살라</td>\n",
       "      <td>리버풀</td>\n",
       "      <td>33</td>\n",
       "      <td>20</td>\n",
       "      <td>4</td>\n",
       "      <td>24</td>\n",
       "      <td>103</td>\n",
       "      <td>45</td>\n",
       "      <td>19</td>\n",
       "      <td>0</td>\n",
       "      <td>0</td>\n",
       "      <td>13</td>\n",
       "    </tr>\n",
       "    <tr>\n",
       "      <th>2</th>\n",
       "      <td>3</td>\n",
       "      <td>손흥민</td>\n",
       "      <td>토트넘</td>\n",
       "      <td>34</td>\n",
       "      <td>17</td>\n",
       "      <td>10</td>\n",
       "      <td>27</td>\n",
       "      <td>61</td>\n",
       "      <td>35</td>\n",
       "      <td>11</td>\n",
       "      <td>0</td>\n",
       "      <td>0</td>\n",
       "      <td>13</td>\n",
       "    </tr>\n",
       "    <tr>\n",
       "      <th>3</th>\n",
       "      <td>4</td>\n",
       "      <td>브루노 페르난데스</td>\n",
       "      <td>맨유</td>\n",
       "      <td>33</td>\n",
       "      <td>16</td>\n",
       "      <td>11</td>\n",
       "      <td>27</td>\n",
       "      <td>100</td>\n",
       "      <td>44</td>\n",
       "      <td>37</td>\n",
       "      <td>5</td>\n",
       "      <td>0</td>\n",
       "      <td>3</td>\n",
       "    </tr>\n",
       "    <tr>\n",
       "      <th>4</th>\n",
       "      <td>5</td>\n",
       "      <td>도미닉 칼버트 르윈</td>\n",
       "      <td>에버턴</td>\n",
       "      <td>28</td>\n",
       "      <td>15</td>\n",
       "      <td>1</td>\n",
       "      <td>16</td>\n",
       "      <td>57</td>\n",
       "      <td>33</td>\n",
       "      <td>31</td>\n",
       "      <td>3</td>\n",
       "      <td>0</td>\n",
       "      <td>17</td>\n",
       "    </tr>\n",
       "    <tr>\n",
       "      <th>...</th>\n",
       "      <td>...</td>\n",
       "      <td>...</td>\n",
       "      <td>...</td>\n",
       "      <td>...</td>\n",
       "      <td>...</td>\n",
       "      <td>...</td>\n",
       "      <td>...</td>\n",
       "      <td>...</td>\n",
       "      <td>...</td>\n",
       "      <td>...</td>\n",
       "      <td>...</td>\n",
       "      <td>...</td>\n",
       "      <td>...</td>\n",
       "    </tr>\n",
       "    <tr>\n",
       "      <th>95</th>\n",
       "      <td>80</td>\n",
       "      <td>야니크 베스테르고르</td>\n",
       "      <td>사우샘프턴</td>\n",
       "      <td>26</td>\n",
       "      <td>3</td>\n",
       "      <td>0</td>\n",
       "      <td>3</td>\n",
       "      <td>17</td>\n",
       "      <td>9</td>\n",
       "      <td>20</td>\n",
       "      <td>2</td>\n",
       "      <td>1</td>\n",
       "      <td>0</td>\n",
       "    </tr>\n",
       "    <tr>\n",
       "      <th>96</th>\n",
       "      <td>80</td>\n",
       "      <td>알렉산드르 미트로비치</td>\n",
       "      <td>풀럼</td>\n",
       "      <td>26</td>\n",
       "      <td>3</td>\n",
       "      <td>3</td>\n",
       "      <td>6</td>\n",
       "      <td>42</td>\n",
       "      <td>14</td>\n",
       "      <td>17</td>\n",
       "      <td>3</td>\n",
       "      <td>0</td>\n",
       "      <td>4</td>\n",
       "    </tr>\n",
       "    <tr>\n",
       "      <th>97</th>\n",
       "      <td>80</td>\n",
       "      <td>루카스 모우라</td>\n",
       "      <td>토트넘</td>\n",
       "      <td>29</td>\n",
       "      <td>3</td>\n",
       "      <td>4</td>\n",
       "      <td>7</td>\n",
       "      <td>17</td>\n",
       "      <td>6</td>\n",
       "      <td>22</td>\n",
       "      <td>1</td>\n",
       "      <td>0</td>\n",
       "      <td>3</td>\n",
       "    </tr>\n",
       "    <tr>\n",
       "      <th>98</th>\n",
       "      <td>80</td>\n",
       "      <td>조엘린톤</td>\n",
       "      <td>뉴캐슬</td>\n",
       "      <td>29</td>\n",
       "      <td>3</td>\n",
       "      <td>2</td>\n",
       "      <td>5</td>\n",
       "      <td>39</td>\n",
       "      <td>19</td>\n",
       "      <td>22</td>\n",
       "      <td>3</td>\n",
       "      <td>0</td>\n",
       "      <td>7</td>\n",
       "    </tr>\n",
       "    <tr>\n",
       "      <th>99</th>\n",
       "      <td>80</td>\n",
       "      <td>파블로 포르날스</td>\n",
       "      <td>웨스트햄</td>\n",
       "      <td>29</td>\n",
       "      <td>3</td>\n",
       "      <td>3</td>\n",
       "      <td>6</td>\n",
       "      <td>33</td>\n",
       "      <td>10</td>\n",
       "      <td>23</td>\n",
       "      <td>3</td>\n",
       "      <td>0</td>\n",
       "      <td>6</td>\n",
       "    </tr>\n",
       "  </tbody>\n",
       "</table>\n",
       "<p>100 rows × 13 columns</p>\n",
       "</div>"
      ],
      "text/plain": [
       "    순위           선수      팀  경기정렬  득점정렬  도움정렬  공격포인트정렬  슈팅정렬  유효슈팅정렬  파울정렬  \\\n",
       "0    1        해리 케인    토트넘    32    21    13       34   118      46    26   \n",
       "1    2      모하메드 살라    리버풀    33    20     4       24   103      45    19   \n",
       "2    3          손흥민    토트넘    34    17    10       27    61      35    11   \n",
       "3    4    브루노 페르난데스     맨유    33    16    11       27   100      44    37   \n",
       "4    5   도미닉 칼버트 르윈    에버턴    28    15     1       16    57      33    31   \n",
       "..  ..          ...    ...   ...   ...   ...      ...   ...     ...   ...   \n",
       "95  80   야니크 베스테르고르  사우샘프턴    26     3     0        3    17       9    20   \n",
       "96  80  알렉산드르 미트로비치     풀럼    26     3     3        6    42      14    17   \n",
       "97  80      루카스 모우라    토트넘    29     3     4        7    17       6    22   \n",
       "98  80         조엘린톤    뉴캐슬    29     3     2        5    39      19    22   \n",
       "99  80     파블로 포르날스   웨스트햄    29     3     3        6    33      10    23   \n",
       "\n",
       "    경고정렬  퇴장정렬  오프사이드정렬  \n",
       "0      1     0       12  \n",
       "1      0     0       13  \n",
       "2      0     0       13  \n",
       "3      5     0        3  \n",
       "4      3     0       17  \n",
       "..   ...   ...      ...  \n",
       "95     2     1        0  \n",
       "96     3     0        4  \n",
       "97     1     0        3  \n",
       "98     3     0        7  \n",
       "99     3     0        6  \n",
       "\n",
       "[100 rows x 13 columns]"
      ]
     },
     "execution_count": 28,
     "metadata": {},
     "output_type": "execute_result"
    }
   ],
   "source": [
    "df = epl_list[0]\n",
    "df"
   ]
  },
  {
   "cell_type": "code",
   "execution_count": 36,
   "metadata": {},
   "outputs": [
    {
     "ename": "AttributeError",
     "evalue": "'DataFrame' object has no attribute 'find'",
     "output_type": "error",
     "traceback": [
      "\u001b[1;31m---------------------------------------------------------------------------\u001b[0m",
      "\u001b[1;31mAttributeError\u001b[0m                            Traceback (most recent call last)",
      "\u001b[1;32m<ipython-input-36-f2f31d84f287>\u001b[0m in \u001b[0;36m<module>\u001b[1;34m\u001b[0m\n\u001b[1;32m----> 1\u001b[1;33m \u001b[0mdf\u001b[0m\u001b[1;33m.\u001b[0m\u001b[0mfind\u001b[0m\u001b[1;33m(\u001b[0m\u001b[0m토트넘\u001b[0m\u001b[1;33m)\u001b[0m\u001b[1;33m\u001b[0m\u001b[1;33m\u001b[0m\u001b[0m\n\u001b[0m",
      "\u001b[1;32m~\\anaconda3\\lib\\site-packages\\pandas\\core\\generic.py\u001b[0m in \u001b[0;36m__getattr__\u001b[1;34m(self, name)\u001b[0m\n\u001b[0;32m   5137\u001b[0m             \u001b[1;32mif\u001b[0m \u001b[0mself\u001b[0m\u001b[1;33m.\u001b[0m\u001b[0m_info_axis\u001b[0m\u001b[1;33m.\u001b[0m\u001b[0m_can_hold_identifiers_and_holds_name\u001b[0m\u001b[1;33m(\u001b[0m\u001b[0mname\u001b[0m\u001b[1;33m)\u001b[0m\u001b[1;33m:\u001b[0m\u001b[1;33m\u001b[0m\u001b[1;33m\u001b[0m\u001b[0m\n\u001b[0;32m   5138\u001b[0m                 \u001b[1;32mreturn\u001b[0m \u001b[0mself\u001b[0m\u001b[1;33m[\u001b[0m\u001b[0mname\u001b[0m\u001b[1;33m]\u001b[0m\u001b[1;33m\u001b[0m\u001b[1;33m\u001b[0m\u001b[0m\n\u001b[1;32m-> 5139\u001b[1;33m             \u001b[1;32mreturn\u001b[0m \u001b[0mobject\u001b[0m\u001b[1;33m.\u001b[0m\u001b[0m__getattribute__\u001b[0m\u001b[1;33m(\u001b[0m\u001b[0mself\u001b[0m\u001b[1;33m,\u001b[0m \u001b[0mname\u001b[0m\u001b[1;33m)\u001b[0m\u001b[1;33m\u001b[0m\u001b[1;33m\u001b[0m\u001b[0m\n\u001b[0m\u001b[0;32m   5140\u001b[0m \u001b[1;33m\u001b[0m\u001b[0m\n\u001b[0;32m   5141\u001b[0m     \u001b[1;32mdef\u001b[0m \u001b[0m__setattr__\u001b[0m\u001b[1;33m(\u001b[0m\u001b[0mself\u001b[0m\u001b[1;33m,\u001b[0m \u001b[0mname\u001b[0m\u001b[1;33m:\u001b[0m \u001b[0mstr\u001b[0m\u001b[1;33m,\u001b[0m \u001b[0mvalue\u001b[0m\u001b[1;33m)\u001b[0m \u001b[1;33m->\u001b[0m \u001b[1;32mNone\u001b[0m\u001b[1;33m:\u001b[0m\u001b[1;33m\u001b[0m\u001b[1;33m\u001b[0m\u001b[0m\n",
      "\u001b[1;31mAttributeError\u001b[0m: 'DataFrame' object has no attribute 'find'"
     ]
    }
   ],
   "source": [
    "df.find(토트넘)"
   ]
  },
  {
   "cell_type": "code",
   "execution_count": 65,
   "metadata": {},
   "outputs": [
    {
     "data": {
      "text/html": [
       "<div>\n",
       "<style scoped>\n",
       "    .dataframe tbody tr th:only-of-type {\n",
       "        vertical-align: middle;\n",
       "    }\n",
       "\n",
       "    .dataframe tbody tr th {\n",
       "        vertical-align: top;\n",
       "    }\n",
       "\n",
       "    .dataframe thead th {\n",
       "        text-align: right;\n",
       "    }\n",
       "</style>\n",
       "<table border=\"1\" class=\"dataframe\">\n",
       "  <thead>\n",
       "    <tr style=\"text-align: right;\">\n",
       "      <th></th>\n",
       "      <th>순위</th>\n",
       "      <th>선수</th>\n",
       "      <th>팀</th>\n",
       "      <th>경기정렬</th>\n",
       "      <th>득점정렬</th>\n",
       "      <th>도움정렬</th>\n",
       "      <th>공격포인트정렬</th>\n",
       "      <th>슈팅정렬</th>\n",
       "      <th>유효슈팅정렬</th>\n",
       "      <th>파울정렬</th>\n",
       "      <th>경고정렬</th>\n",
       "      <th>퇴장정렬</th>\n",
       "      <th>오프사이드정렬</th>\n",
       "      <th>토트넘 선수</th>\n",
       "      <th>북런던 더비</th>\n",
       "      <th>비교대상</th>\n",
       "    </tr>\n",
       "  </thead>\n",
       "  <tbody>\n",
       "    <tr>\n",
       "      <th>0</th>\n",
       "      <td>1</td>\n",
       "      <td>해리 케인</td>\n",
       "      <td>토트넘</td>\n",
       "      <td>32</td>\n",
       "      <td>21</td>\n",
       "      <td>13</td>\n",
       "      <td>34</td>\n",
       "      <td>118</td>\n",
       "      <td>46</td>\n",
       "      <td>26</td>\n",
       "      <td>1</td>\n",
       "      <td>0</td>\n",
       "      <td>12</td>\n",
       "      <td>O</td>\n",
       "      <td>O</td>\n",
       "      <td>O</td>\n",
       "    </tr>\n",
       "    <tr>\n",
       "      <th>1</th>\n",
       "      <td>2</td>\n",
       "      <td>모하메드 살라</td>\n",
       "      <td>리버풀</td>\n",
       "      <td>33</td>\n",
       "      <td>20</td>\n",
       "      <td>4</td>\n",
       "      <td>24</td>\n",
       "      <td>103</td>\n",
       "      <td>45</td>\n",
       "      <td>19</td>\n",
       "      <td>0</td>\n",
       "      <td>0</td>\n",
       "      <td>13</td>\n",
       "      <td>x</td>\n",
       "      <td>x</td>\n",
       "      <td>O</td>\n",
       "    </tr>\n",
       "    <tr>\n",
       "      <th>2</th>\n",
       "      <td>3</td>\n",
       "      <td>손흥민</td>\n",
       "      <td>토트넘</td>\n",
       "      <td>34</td>\n",
       "      <td>17</td>\n",
       "      <td>10</td>\n",
       "      <td>27</td>\n",
       "      <td>61</td>\n",
       "      <td>35</td>\n",
       "      <td>11</td>\n",
       "      <td>0</td>\n",
       "      <td>0</td>\n",
       "      <td>13</td>\n",
       "      <td>O</td>\n",
       "      <td>O</td>\n",
       "      <td>O</td>\n",
       "    </tr>\n",
       "    <tr>\n",
       "      <th>3</th>\n",
       "      <td>4</td>\n",
       "      <td>브루노 페르난데스</td>\n",
       "      <td>맨유</td>\n",
       "      <td>33</td>\n",
       "      <td>16</td>\n",
       "      <td>11</td>\n",
       "      <td>27</td>\n",
       "      <td>100</td>\n",
       "      <td>44</td>\n",
       "      <td>37</td>\n",
       "      <td>5</td>\n",
       "      <td>0</td>\n",
       "      <td>3</td>\n",
       "      <td>x</td>\n",
       "      <td>x</td>\n",
       "      <td>O</td>\n",
       "    </tr>\n",
       "    <tr>\n",
       "      <th>4</th>\n",
       "      <td>5</td>\n",
       "      <td>도미닉 칼버트 르윈</td>\n",
       "      <td>에버턴</td>\n",
       "      <td>28</td>\n",
       "      <td>15</td>\n",
       "      <td>1</td>\n",
       "      <td>16</td>\n",
       "      <td>57</td>\n",
       "      <td>33</td>\n",
       "      <td>31</td>\n",
       "      <td>3</td>\n",
       "      <td>0</td>\n",
       "      <td>17</td>\n",
       "      <td>x</td>\n",
       "      <td>x</td>\n",
       "      <td>x</td>\n",
       "    </tr>\n",
       "    <tr>\n",
       "      <th>...</th>\n",
       "      <td>...</td>\n",
       "      <td>...</td>\n",
       "      <td>...</td>\n",
       "      <td>...</td>\n",
       "      <td>...</td>\n",
       "      <td>...</td>\n",
       "      <td>...</td>\n",
       "      <td>...</td>\n",
       "      <td>...</td>\n",
       "      <td>...</td>\n",
       "      <td>...</td>\n",
       "      <td>...</td>\n",
       "      <td>...</td>\n",
       "      <td>...</td>\n",
       "      <td>...</td>\n",
       "      <td>...</td>\n",
       "    </tr>\n",
       "    <tr>\n",
       "      <th>95</th>\n",
       "      <td>80</td>\n",
       "      <td>야니크 베스테르고르</td>\n",
       "      <td>사우샘프턴</td>\n",
       "      <td>26</td>\n",
       "      <td>3</td>\n",
       "      <td>0</td>\n",
       "      <td>3</td>\n",
       "      <td>17</td>\n",
       "      <td>9</td>\n",
       "      <td>20</td>\n",
       "      <td>2</td>\n",
       "      <td>1</td>\n",
       "      <td>0</td>\n",
       "      <td>x</td>\n",
       "      <td>x</td>\n",
       "      <td>x</td>\n",
       "    </tr>\n",
       "    <tr>\n",
       "      <th>96</th>\n",
       "      <td>80</td>\n",
       "      <td>알렉산드르 미트로비치</td>\n",
       "      <td>풀럼</td>\n",
       "      <td>26</td>\n",
       "      <td>3</td>\n",
       "      <td>3</td>\n",
       "      <td>6</td>\n",
       "      <td>42</td>\n",
       "      <td>14</td>\n",
       "      <td>17</td>\n",
       "      <td>3</td>\n",
       "      <td>0</td>\n",
       "      <td>4</td>\n",
       "      <td>x</td>\n",
       "      <td>x</td>\n",
       "      <td>x</td>\n",
       "    </tr>\n",
       "    <tr>\n",
       "      <th>97</th>\n",
       "      <td>80</td>\n",
       "      <td>루카스 모우라</td>\n",
       "      <td>토트넘</td>\n",
       "      <td>29</td>\n",
       "      <td>3</td>\n",
       "      <td>4</td>\n",
       "      <td>7</td>\n",
       "      <td>17</td>\n",
       "      <td>6</td>\n",
       "      <td>22</td>\n",
       "      <td>1</td>\n",
       "      <td>0</td>\n",
       "      <td>3</td>\n",
       "      <td>O</td>\n",
       "      <td>O</td>\n",
       "      <td>O</td>\n",
       "    </tr>\n",
       "    <tr>\n",
       "      <th>98</th>\n",
       "      <td>80</td>\n",
       "      <td>조엘린톤</td>\n",
       "      <td>뉴캐슬</td>\n",
       "      <td>29</td>\n",
       "      <td>3</td>\n",
       "      <td>2</td>\n",
       "      <td>5</td>\n",
       "      <td>39</td>\n",
       "      <td>19</td>\n",
       "      <td>22</td>\n",
       "      <td>3</td>\n",
       "      <td>0</td>\n",
       "      <td>7</td>\n",
       "      <td>x</td>\n",
       "      <td>x</td>\n",
       "      <td>x</td>\n",
       "    </tr>\n",
       "    <tr>\n",
       "      <th>99</th>\n",
       "      <td>80</td>\n",
       "      <td>파블로 포르날스</td>\n",
       "      <td>웨스트햄</td>\n",
       "      <td>29</td>\n",
       "      <td>3</td>\n",
       "      <td>3</td>\n",
       "      <td>6</td>\n",
       "      <td>33</td>\n",
       "      <td>10</td>\n",
       "      <td>23</td>\n",
       "      <td>3</td>\n",
       "      <td>0</td>\n",
       "      <td>6</td>\n",
       "      <td>x</td>\n",
       "      <td>x</td>\n",
       "      <td>x</td>\n",
       "    </tr>\n",
       "  </tbody>\n",
       "</table>\n",
       "<p>100 rows × 16 columns</p>\n",
       "</div>"
      ],
      "text/plain": [
       "    순위           선수      팀  경기정렬  득점정렬  도움정렬  공격포인트정렬  슈팅정렬  유효슈팅정렬  파울정렬  \\\n",
       "0    1        해리 케인    토트넘    32    21    13       34   118      46    26   \n",
       "1    2      모하메드 살라    리버풀    33    20     4       24   103      45    19   \n",
       "2    3          손흥민    토트넘    34    17    10       27    61      35    11   \n",
       "3    4    브루노 페르난데스     맨유    33    16    11       27   100      44    37   \n",
       "4    5   도미닉 칼버트 르윈    에버턴    28    15     1       16    57      33    31   \n",
       "..  ..          ...    ...   ...   ...   ...      ...   ...     ...   ...   \n",
       "95  80   야니크 베스테르고르  사우샘프턴    26     3     0        3    17       9    20   \n",
       "96  80  알렉산드르 미트로비치     풀럼    26     3     3        6    42      14    17   \n",
       "97  80      루카스 모우라    토트넘    29     3     4        7    17       6    22   \n",
       "98  80         조엘린톤    뉴캐슬    29     3     2        5    39      19    22   \n",
       "99  80     파블로 포르날스   웨스트햄    29     3     3        6    33      10    23   \n",
       "\n",
       "    경고정렬  퇴장정렬  오프사이드정렬 토트넘 선수 북런던 더비 비교대상  \n",
       "0      1     0       12      O      O    O  \n",
       "1      0     0       13      x      x    O  \n",
       "2      0     0       13      O      O    O  \n",
       "3      5     0        3      x      x    O  \n",
       "4      3     0       17      x      x    x  \n",
       "..   ...   ...      ...    ...    ...  ...  \n",
       "95     2     1        0      x      x    x  \n",
       "96     3     0        4      x      x    x  \n",
       "97     1     0        3      O      O    O  \n",
       "98     3     0        7      x      x    x  \n",
       "99     3     0        6      x      x    x  \n",
       "\n",
       "[100 rows x 16 columns]"
      ]
     },
     "execution_count": 65,
     "metadata": {},
     "output_type": "execute_result"
    }
   ],
   "source": [
    "#토트넘, 맨유, 맨시티, 첼시, 리버풀 외의 나머지 팀 선수와의 구분\n",
    "df['비교대상'] = np.where(df['팀'].isin(['토트넘','맨유','맨시티','첼시','리버풀']), 'O','x')\n",
    "df"
   ]
  },
  {
   "cell_type": "code",
   "execution_count": 66,
   "metadata": {},
   "outputs": [],
   "source": [
    "#토트넘, 맨유, 맨시티, 첼시, 리버풀 선수를 제외하고 모두 삭제\n",
    "x = df[df['비교대상'] == 'x'].index\n",
    "df1 = df.drop(x)"
   ]
  },
  {
   "cell_type": "code",
   "execution_count": 67,
   "metadata": {},
   "outputs": [
    {
     "data": {
      "text/html": [
       "<div>\n",
       "<style scoped>\n",
       "    .dataframe tbody tr th:only-of-type {\n",
       "        vertical-align: middle;\n",
       "    }\n",
       "\n",
       "    .dataframe tbody tr th {\n",
       "        vertical-align: top;\n",
       "    }\n",
       "\n",
       "    .dataframe thead th {\n",
       "        text-align: right;\n",
       "    }\n",
       "</style>\n",
       "<table border=\"1\" class=\"dataframe\">\n",
       "  <thead>\n",
       "    <tr style=\"text-align: right;\">\n",
       "      <th></th>\n",
       "      <th>순위</th>\n",
       "      <th>선수</th>\n",
       "      <th>팀</th>\n",
       "      <th>경기정렬</th>\n",
       "      <th>득점정렬</th>\n",
       "      <th>도움정렬</th>\n",
       "      <th>공격포인트정렬</th>\n",
       "      <th>슈팅정렬</th>\n",
       "      <th>유효슈팅정렬</th>\n",
       "      <th>파울정렬</th>\n",
       "      <th>경고정렬</th>\n",
       "      <th>퇴장정렬</th>\n",
       "      <th>오프사이드정렬</th>\n",
       "      <th>토트넘 선수</th>\n",
       "      <th>북런던 더비</th>\n",
       "      <th>비교대상</th>\n",
       "    </tr>\n",
       "  </thead>\n",
       "  <tbody>\n",
       "    <tr>\n",
       "      <th>0</th>\n",
       "      <td>1</td>\n",
       "      <td>해리 케인</td>\n",
       "      <td>토트넘</td>\n",
       "      <td>32</td>\n",
       "      <td>21</td>\n",
       "      <td>13</td>\n",
       "      <td>34</td>\n",
       "      <td>118</td>\n",
       "      <td>46</td>\n",
       "      <td>26</td>\n",
       "      <td>1</td>\n",
       "      <td>0</td>\n",
       "      <td>12</td>\n",
       "      <td>O</td>\n",
       "      <td>O</td>\n",
       "      <td>O</td>\n",
       "    </tr>\n",
       "    <tr>\n",
       "      <th>1</th>\n",
       "      <td>2</td>\n",
       "      <td>모하메드 살라</td>\n",
       "      <td>리버풀</td>\n",
       "      <td>33</td>\n",
       "      <td>20</td>\n",
       "      <td>4</td>\n",
       "      <td>24</td>\n",
       "      <td>103</td>\n",
       "      <td>45</td>\n",
       "      <td>19</td>\n",
       "      <td>0</td>\n",
       "      <td>0</td>\n",
       "      <td>13</td>\n",
       "      <td>x</td>\n",
       "      <td>x</td>\n",
       "      <td>O</td>\n",
       "    </tr>\n",
       "    <tr>\n",
       "      <th>2</th>\n",
       "      <td>3</td>\n",
       "      <td>손흥민</td>\n",
       "      <td>토트넘</td>\n",
       "      <td>34</td>\n",
       "      <td>17</td>\n",
       "      <td>10</td>\n",
       "      <td>27</td>\n",
       "      <td>61</td>\n",
       "      <td>35</td>\n",
       "      <td>11</td>\n",
       "      <td>0</td>\n",
       "      <td>0</td>\n",
       "      <td>13</td>\n",
       "      <td>O</td>\n",
       "      <td>O</td>\n",
       "      <td>O</td>\n",
       "    </tr>\n",
       "    <tr>\n",
       "      <th>3</th>\n",
       "      <td>4</td>\n",
       "      <td>브루노 페르난데스</td>\n",
       "      <td>맨유</td>\n",
       "      <td>33</td>\n",
       "      <td>16</td>\n",
       "      <td>11</td>\n",
       "      <td>27</td>\n",
       "      <td>100</td>\n",
       "      <td>44</td>\n",
       "      <td>37</td>\n",
       "      <td>5</td>\n",
       "      <td>0</td>\n",
       "      <td>3</td>\n",
       "      <td>x</td>\n",
       "      <td>x</td>\n",
       "      <td>O</td>\n",
       "    </tr>\n",
       "    <tr>\n",
       "      <th>10</th>\n",
       "      <td>10</td>\n",
       "      <td>일카이 귄도안</td>\n",
       "      <td>맨시티</td>\n",
       "      <td>26</td>\n",
       "      <td>12</td>\n",
       "      <td>1</td>\n",
       "      <td>13</td>\n",
       "      <td>49</td>\n",
       "      <td>21</td>\n",
       "      <td>6</td>\n",
       "      <td>1</td>\n",
       "      <td>0</td>\n",
       "      <td>1</td>\n",
       "      <td>x</td>\n",
       "      <td>x</td>\n",
       "      <td>O</td>\n",
       "    </tr>\n",
       "    <tr>\n",
       "      <th>16</th>\n",
       "      <td>14</td>\n",
       "      <td>라힘 스털링</td>\n",
       "      <td>맨시티</td>\n",
       "      <td>29</td>\n",
       "      <td>10</td>\n",
       "      <td>6</td>\n",
       "      <td>16</td>\n",
       "      <td>65</td>\n",
       "      <td>25</td>\n",
       "      <td>32</td>\n",
       "      <td>3</td>\n",
       "      <td>0</td>\n",
       "      <td>8</td>\n",
       "      <td>x</td>\n",
       "      <td>x</td>\n",
       "      <td>O</td>\n",
       "    </tr>\n",
       "    <tr>\n",
       "      <th>17</th>\n",
       "      <td>14</td>\n",
       "      <td>마커스 래쉬포드</td>\n",
       "      <td>맨유</td>\n",
       "      <td>33</td>\n",
       "      <td>10</td>\n",
       "      <td>8</td>\n",
       "      <td>18</td>\n",
       "      <td>75</td>\n",
       "      <td>36</td>\n",
       "      <td>22</td>\n",
       "      <td>4</td>\n",
       "      <td>0</td>\n",
       "      <td>27</td>\n",
       "      <td>x</td>\n",
       "      <td>x</td>\n",
       "      <td>O</td>\n",
       "    </tr>\n",
       "    <tr>\n",
       "      <th>19</th>\n",
       "      <td>19</td>\n",
       "      <td>가레스 베일</td>\n",
       "      <td>토트넘</td>\n",
       "      <td>17</td>\n",
       "      <td>9</td>\n",
       "      <td>2</td>\n",
       "      <td>11</td>\n",
       "      <td>29</td>\n",
       "      <td>16</td>\n",
       "      <td>8</td>\n",
       "      <td>1</td>\n",
       "      <td>0</td>\n",
       "      <td>3</td>\n",
       "      <td>O</td>\n",
       "      <td>O</td>\n",
       "      <td>O</td>\n",
       "    </tr>\n",
       "    <tr>\n",
       "      <th>21</th>\n",
       "      <td>19</td>\n",
       "      <td>리야드 마레즈</td>\n",
       "      <td>맨시티</td>\n",
       "      <td>25</td>\n",
       "      <td>9</td>\n",
       "      <td>4</td>\n",
       "      <td>13</td>\n",
       "      <td>54</td>\n",
       "      <td>20</td>\n",
       "      <td>12</td>\n",
       "      <td>0</td>\n",
       "      <td>0</td>\n",
       "      <td>7</td>\n",
       "      <td>x</td>\n",
       "      <td>x</td>\n",
       "      <td>O</td>\n",
       "    </tr>\n",
       "    <tr>\n",
       "      <th>24</th>\n",
       "      <td>19</td>\n",
       "      <td>사디오 마네</td>\n",
       "      <td>리버풀</td>\n",
       "      <td>31</td>\n",
       "      <td>9</td>\n",
       "      <td>6</td>\n",
       "      <td>15</td>\n",
       "      <td>78</td>\n",
       "      <td>35</td>\n",
       "      <td>46</td>\n",
       "      <td>3</td>\n",
       "      <td>0</td>\n",
       "      <td>26</td>\n",
       "      <td>x</td>\n",
       "      <td>x</td>\n",
       "      <td>O</td>\n",
       "    </tr>\n",
       "    <tr>\n",
       "      <th>26</th>\n",
       "      <td>27</td>\n",
       "      <td>디오고 조타</td>\n",
       "      <td>리버풀</td>\n",
       "      <td>17</td>\n",
       "      <td>8</td>\n",
       "      <td>0</td>\n",
       "      <td>8</td>\n",
       "      <td>42</td>\n",
       "      <td>23</td>\n",
       "      <td>24</td>\n",
       "      <td>2</td>\n",
       "      <td>0</td>\n",
       "      <td>2</td>\n",
       "      <td>x</td>\n",
       "      <td>x</td>\n",
       "      <td>O</td>\n",
       "    </tr>\n",
       "    <tr>\n",
       "      <th>27</th>\n",
       "      <td>27</td>\n",
       "      <td>에딘손 카바니</td>\n",
       "      <td>맨유</td>\n",
       "      <td>22</td>\n",
       "      <td>8</td>\n",
       "      <td>2</td>\n",
       "      <td>10</td>\n",
       "      <td>29</td>\n",
       "      <td>12</td>\n",
       "      <td>16</td>\n",
       "      <td>3</td>\n",
       "      <td>0</td>\n",
       "      <td>4</td>\n",
       "      <td>x</td>\n",
       "      <td>x</td>\n",
       "      <td>O</td>\n",
       "    </tr>\n",
       "    <tr>\n",
       "      <th>29</th>\n",
       "      <td>27</td>\n",
       "      <td>가브리엘 제주스</td>\n",
       "      <td>맨시티</td>\n",
       "      <td>26</td>\n",
       "      <td>8</td>\n",
       "      <td>3</td>\n",
       "      <td>11</td>\n",
       "      <td>45</td>\n",
       "      <td>13</td>\n",
       "      <td>25</td>\n",
       "      <td>2</td>\n",
       "      <td>0</td>\n",
       "      <td>16</td>\n",
       "      <td>x</td>\n",
       "      <td>x</td>\n",
       "      <td>O</td>\n",
       "    </tr>\n",
       "    <tr>\n",
       "      <th>35</th>\n",
       "      <td>36</td>\n",
       "      <td>필 포든</td>\n",
       "      <td>맨시티</td>\n",
       "      <td>26</td>\n",
       "      <td>7</td>\n",
       "      <td>5</td>\n",
       "      <td>12</td>\n",
       "      <td>41</td>\n",
       "      <td>18</td>\n",
       "      <td>12</td>\n",
       "      <td>0</td>\n",
       "      <td>0</td>\n",
       "      <td>2</td>\n",
       "      <td>x</td>\n",
       "      <td>x</td>\n",
       "      <td>O</td>\n",
       "    </tr>\n",
       "    <tr>\n",
       "      <th>42</th>\n",
       "      <td>41</td>\n",
       "      <td>태미 에이브러햄</td>\n",
       "      <td>첼시</td>\n",
       "      <td>22</td>\n",
       "      <td>6</td>\n",
       "      <td>1</td>\n",
       "      <td>7</td>\n",
       "      <td>29</td>\n",
       "      <td>13</td>\n",
       "      <td>20</td>\n",
       "      <td>0</td>\n",
       "      <td>0</td>\n",
       "      <td>4</td>\n",
       "      <td>x</td>\n",
       "      <td>x</td>\n",
       "      <td>O</td>\n",
       "    </tr>\n",
       "    <tr>\n",
       "      <th>43</th>\n",
       "      <td>41</td>\n",
       "      <td>조르지뉴</td>\n",
       "      <td>첼시</td>\n",
       "      <td>25</td>\n",
       "      <td>6</td>\n",
       "      <td>2</td>\n",
       "      <td>8</td>\n",
       "      <td>13</td>\n",
       "      <td>7</td>\n",
       "      <td>25</td>\n",
       "      <td>1</td>\n",
       "      <td>0</td>\n",
       "      <td>0</td>\n",
       "      <td>x</td>\n",
       "      <td>x</td>\n",
       "      <td>O</td>\n",
       "    </tr>\n",
       "    <tr>\n",
       "      <th>47</th>\n",
       "      <td>41</td>\n",
       "      <td>호베르투 피르미누</td>\n",
       "      <td>리버풀</td>\n",
       "      <td>32</td>\n",
       "      <td>6</td>\n",
       "      <td>6</td>\n",
       "      <td>12</td>\n",
       "      <td>68</td>\n",
       "      <td>28</td>\n",
       "      <td>21</td>\n",
       "      <td>2</td>\n",
       "      <td>0</td>\n",
       "      <td>7</td>\n",
       "      <td>x</td>\n",
       "      <td>x</td>\n",
       "      <td>O</td>\n",
       "    </tr>\n",
       "    <tr>\n",
       "      <th>48</th>\n",
       "      <td>41</td>\n",
       "      <td>티모 베르너</td>\n",
       "      <td>첼시</td>\n",
       "      <td>33</td>\n",
       "      <td>6</td>\n",
       "      <td>8</td>\n",
       "      <td>14</td>\n",
       "      <td>69</td>\n",
       "      <td>26</td>\n",
       "      <td>22</td>\n",
       "      <td>1</td>\n",
       "      <td>0</td>\n",
       "      <td>24</td>\n",
       "      <td>x</td>\n",
       "      <td>x</td>\n",
       "      <td>O</td>\n",
       "    </tr>\n",
       "    <tr>\n",
       "      <th>49</th>\n",
       "      <td>41</td>\n",
       "      <td>메이슨 마운트</td>\n",
       "      <td>첼시</td>\n",
       "      <td>33</td>\n",
       "      <td>6</td>\n",
       "      <td>5</td>\n",
       "      <td>11</td>\n",
       "      <td>70</td>\n",
       "      <td>26</td>\n",
       "      <td>45</td>\n",
       "      <td>2</td>\n",
       "      <td>0</td>\n",
       "      <td>4</td>\n",
       "      <td>x</td>\n",
       "      <td>x</td>\n",
       "      <td>O</td>\n",
       "    </tr>\n",
       "    <tr>\n",
       "      <th>53</th>\n",
       "      <td>52</td>\n",
       "      <td>커트 조우마</td>\n",
       "      <td>첼시</td>\n",
       "      <td>22</td>\n",
       "      <td>5</td>\n",
       "      <td>0</td>\n",
       "      <td>5</td>\n",
       "      <td>21</td>\n",
       "      <td>11</td>\n",
       "      <td>15</td>\n",
       "      <td>3</td>\n",
       "      <td>0</td>\n",
       "      <td>0</td>\n",
       "      <td>x</td>\n",
       "      <td>x</td>\n",
       "      <td>O</td>\n",
       "    </tr>\n",
       "    <tr>\n",
       "      <th>54</th>\n",
       "      <td>52</td>\n",
       "      <td>케빈 더 브라위너</td>\n",
       "      <td>맨시티</td>\n",
       "      <td>24</td>\n",
       "      <td>5</td>\n",
       "      <td>10</td>\n",
       "      <td>15</td>\n",
       "      <td>83</td>\n",
       "      <td>27</td>\n",
       "      <td>21</td>\n",
       "      <td>1</td>\n",
       "      <td>0</td>\n",
       "      <td>2</td>\n",
       "      <td>x</td>\n",
       "      <td>x</td>\n",
       "      <td>O</td>\n",
       "    </tr>\n",
       "    <tr>\n",
       "      <th>57</th>\n",
       "      <td>52</td>\n",
       "      <td>메이슨 그린우드</td>\n",
       "      <td>맨유</td>\n",
       "      <td>27</td>\n",
       "      <td>5</td>\n",
       "      <td>2</td>\n",
       "      <td>7</td>\n",
       "      <td>49</td>\n",
       "      <td>17</td>\n",
       "      <td>16</td>\n",
       "      <td>2</td>\n",
       "      <td>0</td>\n",
       "      <td>3</td>\n",
       "      <td>x</td>\n",
       "      <td>x</td>\n",
       "      <td>O</td>\n",
       "    </tr>\n",
       "    <tr>\n",
       "      <th>64</th>\n",
       "      <td>64</td>\n",
       "      <td>올리비에 지루</td>\n",
       "      <td>첼시</td>\n",
       "      <td>15</td>\n",
       "      <td>4</td>\n",
       "      <td>0</td>\n",
       "      <td>4</td>\n",
       "      <td>19</td>\n",
       "      <td>8</td>\n",
       "      <td>15</td>\n",
       "      <td>1</td>\n",
       "      <td>0</td>\n",
       "      <td>5</td>\n",
       "      <td>x</td>\n",
       "      <td>x</td>\n",
       "      <td>O</td>\n",
       "    </tr>\n",
       "    <tr>\n",
       "      <th>65</th>\n",
       "      <td>64</td>\n",
       "      <td>존 스톤스</td>\n",
       "      <td>맨시티</td>\n",
       "      <td>20</td>\n",
       "      <td>4</td>\n",
       "      <td>0</td>\n",
       "      <td>4</td>\n",
       "      <td>12</td>\n",
       "      <td>5</td>\n",
       "      <td>6</td>\n",
       "      <td>0</td>\n",
       "      <td>1</td>\n",
       "      <td>1</td>\n",
       "      <td>x</td>\n",
       "      <td>x</td>\n",
       "      <td>O</td>\n",
       "    </tr>\n",
       "    <tr>\n",
       "      <th>66</th>\n",
       "      <td>64</td>\n",
       "      <td>페란 토레스</td>\n",
       "      <td>맨시티</td>\n",
       "      <td>21</td>\n",
       "      <td>4</td>\n",
       "      <td>2</td>\n",
       "      <td>6</td>\n",
       "      <td>31</td>\n",
       "      <td>11</td>\n",
       "      <td>16</td>\n",
       "      <td>1</td>\n",
       "      <td>0</td>\n",
       "      <td>5</td>\n",
       "      <td>x</td>\n",
       "      <td>x</td>\n",
       "      <td>O</td>\n",
       "    </tr>\n",
       "    <tr>\n",
       "      <th>67</th>\n",
       "      <td>64</td>\n",
       "      <td>앙토니 마르시알</td>\n",
       "      <td>맨유</td>\n",
       "      <td>22</td>\n",
       "      <td>4</td>\n",
       "      <td>3</td>\n",
       "      <td>7</td>\n",
       "      <td>45</td>\n",
       "      <td>21</td>\n",
       "      <td>16</td>\n",
       "      <td>0</td>\n",
       "      <td>1</td>\n",
       "      <td>15</td>\n",
       "      <td>x</td>\n",
       "      <td>x</td>\n",
       "      <td>O</td>\n",
       "    </tr>\n",
       "    <tr>\n",
       "      <th>69</th>\n",
       "      <td>64</td>\n",
       "      <td>크리스티안 풀리시치</td>\n",
       "      <td>첼시</td>\n",
       "      <td>24</td>\n",
       "      <td>4</td>\n",
       "      <td>1</td>\n",
       "      <td>5</td>\n",
       "      <td>33</td>\n",
       "      <td>12</td>\n",
       "      <td>11</td>\n",
       "      <td>2</td>\n",
       "      <td>0</td>\n",
       "      <td>5</td>\n",
       "      <td>x</td>\n",
       "      <td>x</td>\n",
       "      <td>O</td>\n",
       "    </tr>\n",
       "    <tr>\n",
       "      <th>70</th>\n",
       "      <td>64</td>\n",
       "      <td>카이 하베르츠</td>\n",
       "      <td>첼시</td>\n",
       "      <td>25</td>\n",
       "      <td>4</td>\n",
       "      <td>3</td>\n",
       "      <td>7</td>\n",
       "      <td>26</td>\n",
       "      <td>18</td>\n",
       "      <td>26</td>\n",
       "      <td>2</td>\n",
       "      <td>0</td>\n",
       "      <td>8</td>\n",
       "      <td>x</td>\n",
       "      <td>x</td>\n",
       "      <td>O</td>\n",
       "    </tr>\n",
       "    <tr>\n",
       "      <th>73</th>\n",
       "      <td>64</td>\n",
       "      <td>스콧 맥토미니</td>\n",
       "      <td>맨유</td>\n",
       "      <td>29</td>\n",
       "      <td>4</td>\n",
       "      <td>1</td>\n",
       "      <td>5</td>\n",
       "      <td>17</td>\n",
       "      <td>8</td>\n",
       "      <td>44</td>\n",
       "      <td>2</td>\n",
       "      <td>0</td>\n",
       "      <td>1</td>\n",
       "      <td>x</td>\n",
       "      <td>x</td>\n",
       "      <td>O</td>\n",
       "    </tr>\n",
       "    <tr>\n",
       "      <th>80</th>\n",
       "      <td>80</td>\n",
       "      <td>다니엘 제임스</td>\n",
       "      <td>맨유</td>\n",
       "      <td>14</td>\n",
       "      <td>3</td>\n",
       "      <td>0</td>\n",
       "      <td>3</td>\n",
       "      <td>15</td>\n",
       "      <td>6</td>\n",
       "      <td>14</td>\n",
       "      <td>3</td>\n",
       "      <td>0</td>\n",
       "      <td>3</td>\n",
       "      <td>x</td>\n",
       "      <td>x</td>\n",
       "      <td>O</td>\n",
       "    </tr>\n",
       "    <tr>\n",
       "      <th>89</th>\n",
       "      <td>80</td>\n",
       "      <td>폴 포그바</td>\n",
       "      <td>맨유</td>\n",
       "      <td>23</td>\n",
       "      <td>3</td>\n",
       "      <td>3</td>\n",
       "      <td>6</td>\n",
       "      <td>22</td>\n",
       "      <td>10</td>\n",
       "      <td>31</td>\n",
       "      <td>3</td>\n",
       "      <td>0</td>\n",
       "      <td>4</td>\n",
       "      <td>x</td>\n",
       "      <td>x</td>\n",
       "      <td>O</td>\n",
       "    </tr>\n",
       "    <tr>\n",
       "      <th>97</th>\n",
       "      <td>80</td>\n",
       "      <td>루카스 모우라</td>\n",
       "      <td>토트넘</td>\n",
       "      <td>29</td>\n",
       "      <td>3</td>\n",
       "      <td>4</td>\n",
       "      <td>7</td>\n",
       "      <td>17</td>\n",
       "      <td>6</td>\n",
       "      <td>22</td>\n",
       "      <td>1</td>\n",
       "      <td>0</td>\n",
       "      <td>3</td>\n",
       "      <td>O</td>\n",
       "      <td>O</td>\n",
       "      <td>O</td>\n",
       "    </tr>\n",
       "  </tbody>\n",
       "</table>\n",
       "</div>"
      ],
      "text/plain": [
       "    순위          선수    팀  경기정렬  득점정렬  도움정렬  공격포인트정렬  슈팅정렬  유효슈팅정렬  파울정렬  경고정렬  \\\n",
       "0    1       해리 케인  토트넘    32    21    13       34   118      46    26     1   \n",
       "1    2     모하메드 살라  리버풀    33    20     4       24   103      45    19     0   \n",
       "2    3         손흥민  토트넘    34    17    10       27    61      35    11     0   \n",
       "3    4   브루노 페르난데스   맨유    33    16    11       27   100      44    37     5   \n",
       "10  10     일카이 귄도안  맨시티    26    12     1       13    49      21     6     1   \n",
       "16  14      라힘 스털링  맨시티    29    10     6       16    65      25    32     3   \n",
       "17  14    마커스 래쉬포드   맨유    33    10     8       18    75      36    22     4   \n",
       "19  19      가레스 베일  토트넘    17     9     2       11    29      16     8     1   \n",
       "21  19     리야드 마레즈  맨시티    25     9     4       13    54      20    12     0   \n",
       "24  19      사디오 마네  리버풀    31     9     6       15    78      35    46     3   \n",
       "26  27      디오고 조타  리버풀    17     8     0        8    42      23    24     2   \n",
       "27  27     에딘손 카바니   맨유    22     8     2       10    29      12    16     3   \n",
       "29  27    가브리엘 제주스  맨시티    26     8     3       11    45      13    25     2   \n",
       "35  36        필 포든  맨시티    26     7     5       12    41      18    12     0   \n",
       "42  41    태미 에이브러햄   첼시    22     6     1        7    29      13    20     0   \n",
       "43  41        조르지뉴   첼시    25     6     2        8    13       7    25     1   \n",
       "47  41   호베르투 피르미누  리버풀    32     6     6       12    68      28    21     2   \n",
       "48  41      티모 베르너   첼시    33     6     8       14    69      26    22     1   \n",
       "49  41     메이슨 마운트   첼시    33     6     5       11    70      26    45     2   \n",
       "53  52      커트 조우마   첼시    22     5     0        5    21      11    15     3   \n",
       "54  52   케빈 더 브라위너  맨시티    24     5    10       15    83      27    21     1   \n",
       "57  52    메이슨 그린우드   맨유    27     5     2        7    49      17    16     2   \n",
       "64  64     올리비에 지루   첼시    15     4     0        4    19       8    15     1   \n",
       "65  64       존 스톤스  맨시티    20     4     0        4    12       5     6     0   \n",
       "66  64      페란 토레스  맨시티    21     4     2        6    31      11    16     1   \n",
       "67  64    앙토니 마르시알   맨유    22     4     3        7    45      21    16     0   \n",
       "69  64  크리스티안 풀리시치   첼시    24     4     1        5    33      12    11     2   \n",
       "70  64     카이 하베르츠   첼시    25     4     3        7    26      18    26     2   \n",
       "73  64     스콧 맥토미니   맨유    29     4     1        5    17       8    44     2   \n",
       "80  80     다니엘 제임스   맨유    14     3     0        3    15       6    14     3   \n",
       "89  80       폴 포그바   맨유    23     3     3        6    22      10    31     3   \n",
       "97  80     루카스 모우라  토트넘    29     3     4        7    17       6    22     1   \n",
       "\n",
       "    퇴장정렬  오프사이드정렬 토트넘 선수 북런던 더비 비교대상  \n",
       "0      0       12      O      O    O  \n",
       "1      0       13      x      x    O  \n",
       "2      0       13      O      O    O  \n",
       "3      0        3      x      x    O  \n",
       "10     0        1      x      x    O  \n",
       "16     0        8      x      x    O  \n",
       "17     0       27      x      x    O  \n",
       "19     0        3      O      O    O  \n",
       "21     0        7      x      x    O  \n",
       "24     0       26      x      x    O  \n",
       "26     0        2      x      x    O  \n",
       "27     0        4      x      x    O  \n",
       "29     0       16      x      x    O  \n",
       "35     0        2      x      x    O  \n",
       "42     0        4      x      x    O  \n",
       "43     0        0      x      x    O  \n",
       "47     0        7      x      x    O  \n",
       "48     0       24      x      x    O  \n",
       "49     0        4      x      x    O  \n",
       "53     0        0      x      x    O  \n",
       "54     0        2      x      x    O  \n",
       "57     0        3      x      x    O  \n",
       "64     0        5      x      x    O  \n",
       "65     1        1      x      x    O  \n",
       "66     0        5      x      x    O  \n",
       "67     1       15      x      x    O  \n",
       "69     0        5      x      x    O  \n",
       "70     0        8      x      x    O  \n",
       "73     0        1      x      x    O  \n",
       "80     0        3      x      x    O  \n",
       "89     0        4      x      x    O  \n",
       "97     0        3      O      O    O  "
      ]
     },
     "execution_count": 67,
     "metadata": {},
     "output_type": "execute_result"
    }
   ],
   "source": [
    "df1"
   ]
  },
  {
   "cell_type": "code",
   "execution_count": null,
   "metadata": {},
   "outputs": [],
   "source": [
    "df1"
   ]
  },
  {
   "cell_type": "code",
   "execution_count": 74,
   "metadata": {},
   "outputs": [
    {
     "data": {
      "text/html": [
       "<div>\n",
       "<style scoped>\n",
       "    .dataframe tbody tr th:only-of-type {\n",
       "        vertical-align: middle;\n",
       "    }\n",
       "\n",
       "    .dataframe tbody tr th {\n",
       "        vertical-align: top;\n",
       "    }\n",
       "\n",
       "    .dataframe thead th {\n",
       "        text-align: right;\n",
       "    }\n",
       "</style>\n",
       "<table border=\"1\" class=\"dataframe\">\n",
       "  <thead>\n",
       "    <tr style=\"text-align: right;\">\n",
       "      <th></th>\n",
       "      <th>득점정렬</th>\n",
       "      <th>도움정렬</th>\n",
       "      <th>공격포인트정렬</th>\n",
       "      <th>슈팅정렬</th>\n",
       "      <th>유효슈팅정렬</th>\n",
       "    </tr>\n",
       "    <tr>\n",
       "      <th>팀</th>\n",
       "      <th></th>\n",
       "      <th></th>\n",
       "      <th></th>\n",
       "      <th></th>\n",
       "      <th></th>\n",
       "    </tr>\n",
       "  </thead>\n",
       "  <tbody>\n",
       "    <tr>\n",
       "      <th>리버풀</th>\n",
       "      <td>10.750</td>\n",
       "      <td>4.000</td>\n",
       "      <td>14.750</td>\n",
       "      <td>72.75</td>\n",
       "      <td>32.750</td>\n",
       "    </tr>\n",
       "    <tr>\n",
       "      <th>맨시티</th>\n",
       "      <td>7.375</td>\n",
       "      <td>3.875</td>\n",
       "      <td>11.250</td>\n",
       "      <td>47.50</td>\n",
       "      <td>17.500</td>\n",
       "    </tr>\n",
       "    <tr>\n",
       "      <th>맨유</th>\n",
       "      <td>6.625</td>\n",
       "      <td>3.750</td>\n",
       "      <td>10.375</td>\n",
       "      <td>44.00</td>\n",
       "      <td>19.250</td>\n",
       "    </tr>\n",
       "    <tr>\n",
       "      <th>첼시</th>\n",
       "      <td>5.125</td>\n",
       "      <td>2.500</td>\n",
       "      <td>7.625</td>\n",
       "      <td>35.00</td>\n",
       "      <td>15.125</td>\n",
       "    </tr>\n",
       "    <tr>\n",
       "      <th>토트넘</th>\n",
       "      <td>12.500</td>\n",
       "      <td>7.250</td>\n",
       "      <td>19.750</td>\n",
       "      <td>56.25</td>\n",
       "      <td>25.750</td>\n",
       "    </tr>\n",
       "  </tbody>\n",
       "</table>\n",
       "</div>"
      ],
      "text/plain": [
       "       득점정렬   도움정렬  공격포인트정렬   슈팅정렬  유효슈팅정렬\n",
       "팀                                         \n",
       "리버풀  10.750  4.000   14.750  72.75  32.750\n",
       "맨시티   7.375  3.875   11.250  47.50  17.500\n",
       "맨유    6.625  3.750   10.375  44.00  19.250\n",
       "첼시    5.125  2.500    7.625  35.00  15.125\n",
       "토트넘  12.500  7.250   19.750  56.25  25.750"
      ]
     },
     "execution_count": 74,
     "metadata": {},
     "output_type": "execute_result"
    }
   ],
   "source": [
    "# 각 팀별 기록 상위권 선수들의 평균\n",
    "team = df1.groupby('팀').mean()\n",
    "team = team.drop(['경기정렬','순위','파울정렬','경고정렬','퇴장정렬','오프사이드정렬'],axis = 1)\n",
    "team"
   ]
  },
  {
   "cell_type": "code",
   "execution_count": 77,
   "metadata": {},
   "outputs": [
    {
     "data": {
      "application/vnd.plotly.v1+json": {
       "config": {
        "linkText": "Export to plot.ly",
        "plotlyServerURL": "https://plot.ly",
        "showLink": true
       },
       "data": [
        {
         "line": {
          "color": "rgba(255, 153, 51, 1.0)",
          "dash": "solid",
          "shape": "linear",
          "width": 1.3
         },
         "marker": {
          "size": 12,
          "symbol": "circle"
         },
         "mode": "markers",
         "name": "득점정렬",
         "text": "",
         "type": "scatter",
         "x": [
          "리버풀",
          "맨시티",
          "맨유",
          "첼시",
          "토트넘"
         ],
         "y": [
          10.75,
          7.375,
          6.625,
          5.125,
          12.5
         ]
        },
        {
         "line": {
          "color": "rgba(55, 128, 191, 1.0)",
          "dash": "solid",
          "shape": "linear",
          "width": 1.3
         },
         "marker": {
          "size": 12,
          "symbol": "circle"
         },
         "mode": "markers",
         "name": "도움정렬",
         "text": "",
         "type": "scatter",
         "x": [
          "리버풀",
          "맨시티",
          "맨유",
          "첼시",
          "토트넘"
         ],
         "y": [
          4,
          3.875,
          3.75,
          2.5,
          7.25
         ]
        },
        {
         "line": {
          "color": "rgba(50, 171, 96, 1.0)",
          "dash": "solid",
          "shape": "linear",
          "width": 1.3
         },
         "marker": {
          "size": 12,
          "symbol": "circle"
         },
         "mode": "markers",
         "name": "공격포인트정렬",
         "text": "",
         "type": "scatter",
         "x": [
          "리버풀",
          "맨시티",
          "맨유",
          "첼시",
          "토트넘"
         ],
         "y": [
          14.75,
          11.25,
          10.375,
          7.625,
          19.75
         ]
        },
        {
         "line": {
          "color": "rgba(128, 0, 128, 1.0)",
          "dash": "solid",
          "shape": "linear",
          "width": 1.3
         },
         "marker": {
          "size": 12,
          "symbol": "circle"
         },
         "mode": "markers",
         "name": "슈팅정렬",
         "text": "",
         "type": "scatter",
         "x": [
          "리버풀",
          "맨시티",
          "맨유",
          "첼시",
          "토트넘"
         ],
         "y": [
          72.75,
          47.5,
          44,
          35,
          56.25
         ]
        },
        {
         "line": {
          "color": "rgba(219, 64, 82, 1.0)",
          "dash": "solid",
          "shape": "linear",
          "width": 1.3
         },
         "marker": {
          "size": 12,
          "symbol": "circle"
         },
         "mode": "markers",
         "name": "유효슈팅정렬",
         "text": "",
         "type": "scatter",
         "x": [
          "리버풀",
          "맨시티",
          "맨유",
          "첼시",
          "토트넘"
         ],
         "y": [
          32.75,
          17.5,
          19.25,
          15.125,
          25.75
         ]
        }
       ],
       "layout": {
        "legend": {
         "bgcolor": "#F5F6F9",
         "font": {
          "color": "#4D5663"
         }
        },
        "paper_bgcolor": "#F5F6F9",
        "plot_bgcolor": "#F5F6F9",
        "template": {
         "data": {
          "bar": [
           {
            "error_x": {
             "color": "#2a3f5f"
            },
            "error_y": {
             "color": "#2a3f5f"
            },
            "marker": {
             "line": {
              "color": "#E5ECF6",
              "width": 0.5
             }
            },
            "type": "bar"
           }
          ],
          "barpolar": [
           {
            "marker": {
             "line": {
              "color": "#E5ECF6",
              "width": 0.5
             }
            },
            "type": "barpolar"
           }
          ],
          "carpet": [
           {
            "aaxis": {
             "endlinecolor": "#2a3f5f",
             "gridcolor": "white",
             "linecolor": "white",
             "minorgridcolor": "white",
             "startlinecolor": "#2a3f5f"
            },
            "baxis": {
             "endlinecolor": "#2a3f5f",
             "gridcolor": "white",
             "linecolor": "white",
             "minorgridcolor": "white",
             "startlinecolor": "#2a3f5f"
            },
            "type": "carpet"
           }
          ],
          "choropleth": [
           {
            "colorbar": {
             "outlinewidth": 0,
             "ticks": ""
            },
            "type": "choropleth"
           }
          ],
          "contour": [
           {
            "colorbar": {
             "outlinewidth": 0,
             "ticks": ""
            },
            "colorscale": [
             [
              0,
              "#0d0887"
             ],
             [
              0.1111111111111111,
              "#46039f"
             ],
             [
              0.2222222222222222,
              "#7201a8"
             ],
             [
              0.3333333333333333,
              "#9c179e"
             ],
             [
              0.4444444444444444,
              "#bd3786"
             ],
             [
              0.5555555555555556,
              "#d8576b"
             ],
             [
              0.6666666666666666,
              "#ed7953"
             ],
             [
              0.7777777777777778,
              "#fb9f3a"
             ],
             [
              0.8888888888888888,
              "#fdca26"
             ],
             [
              1,
              "#f0f921"
             ]
            ],
            "type": "contour"
           }
          ],
          "contourcarpet": [
           {
            "colorbar": {
             "outlinewidth": 0,
             "ticks": ""
            },
            "type": "contourcarpet"
           }
          ],
          "heatmap": [
           {
            "colorbar": {
             "outlinewidth": 0,
             "ticks": ""
            },
            "colorscale": [
             [
              0,
              "#0d0887"
             ],
             [
              0.1111111111111111,
              "#46039f"
             ],
             [
              0.2222222222222222,
              "#7201a8"
             ],
             [
              0.3333333333333333,
              "#9c179e"
             ],
             [
              0.4444444444444444,
              "#bd3786"
             ],
             [
              0.5555555555555556,
              "#d8576b"
             ],
             [
              0.6666666666666666,
              "#ed7953"
             ],
             [
              0.7777777777777778,
              "#fb9f3a"
             ],
             [
              0.8888888888888888,
              "#fdca26"
             ],
             [
              1,
              "#f0f921"
             ]
            ],
            "type": "heatmap"
           }
          ],
          "heatmapgl": [
           {
            "colorbar": {
             "outlinewidth": 0,
             "ticks": ""
            },
            "colorscale": [
             [
              0,
              "#0d0887"
             ],
             [
              0.1111111111111111,
              "#46039f"
             ],
             [
              0.2222222222222222,
              "#7201a8"
             ],
             [
              0.3333333333333333,
              "#9c179e"
             ],
             [
              0.4444444444444444,
              "#bd3786"
             ],
             [
              0.5555555555555556,
              "#d8576b"
             ],
             [
              0.6666666666666666,
              "#ed7953"
             ],
             [
              0.7777777777777778,
              "#fb9f3a"
             ],
             [
              0.8888888888888888,
              "#fdca26"
             ],
             [
              1,
              "#f0f921"
             ]
            ],
            "type": "heatmapgl"
           }
          ],
          "histogram": [
           {
            "marker": {
             "colorbar": {
              "outlinewidth": 0,
              "ticks": ""
             }
            },
            "type": "histogram"
           }
          ],
          "histogram2d": [
           {
            "colorbar": {
             "outlinewidth": 0,
             "ticks": ""
            },
            "colorscale": [
             [
              0,
              "#0d0887"
             ],
             [
              0.1111111111111111,
              "#46039f"
             ],
             [
              0.2222222222222222,
              "#7201a8"
             ],
             [
              0.3333333333333333,
              "#9c179e"
             ],
             [
              0.4444444444444444,
              "#bd3786"
             ],
             [
              0.5555555555555556,
              "#d8576b"
             ],
             [
              0.6666666666666666,
              "#ed7953"
             ],
             [
              0.7777777777777778,
              "#fb9f3a"
             ],
             [
              0.8888888888888888,
              "#fdca26"
             ],
             [
              1,
              "#f0f921"
             ]
            ],
            "type": "histogram2d"
           }
          ],
          "histogram2dcontour": [
           {
            "colorbar": {
             "outlinewidth": 0,
             "ticks": ""
            },
            "colorscale": [
             [
              0,
              "#0d0887"
             ],
             [
              0.1111111111111111,
              "#46039f"
             ],
             [
              0.2222222222222222,
              "#7201a8"
             ],
             [
              0.3333333333333333,
              "#9c179e"
             ],
             [
              0.4444444444444444,
              "#bd3786"
             ],
             [
              0.5555555555555556,
              "#d8576b"
             ],
             [
              0.6666666666666666,
              "#ed7953"
             ],
             [
              0.7777777777777778,
              "#fb9f3a"
             ],
             [
              0.8888888888888888,
              "#fdca26"
             ],
             [
              1,
              "#f0f921"
             ]
            ],
            "type": "histogram2dcontour"
           }
          ],
          "mesh3d": [
           {
            "colorbar": {
             "outlinewidth": 0,
             "ticks": ""
            },
            "type": "mesh3d"
           }
          ],
          "parcoords": [
           {
            "line": {
             "colorbar": {
              "outlinewidth": 0,
              "ticks": ""
             }
            },
            "type": "parcoords"
           }
          ],
          "pie": [
           {
            "automargin": true,
            "type": "pie"
           }
          ],
          "scatter": [
           {
            "marker": {
             "colorbar": {
              "outlinewidth": 0,
              "ticks": ""
             }
            },
            "type": "scatter"
           }
          ],
          "scatter3d": [
           {
            "line": {
             "colorbar": {
              "outlinewidth": 0,
              "ticks": ""
             }
            },
            "marker": {
             "colorbar": {
              "outlinewidth": 0,
              "ticks": ""
             }
            },
            "type": "scatter3d"
           }
          ],
          "scattercarpet": [
           {
            "marker": {
             "colorbar": {
              "outlinewidth": 0,
              "ticks": ""
             }
            },
            "type": "scattercarpet"
           }
          ],
          "scattergeo": [
           {
            "marker": {
             "colorbar": {
              "outlinewidth": 0,
              "ticks": ""
             }
            },
            "type": "scattergeo"
           }
          ],
          "scattergl": [
           {
            "marker": {
             "colorbar": {
              "outlinewidth": 0,
              "ticks": ""
             }
            },
            "type": "scattergl"
           }
          ],
          "scattermapbox": [
           {
            "marker": {
             "colorbar": {
              "outlinewidth": 0,
              "ticks": ""
             }
            },
            "type": "scattermapbox"
           }
          ],
          "scatterpolar": [
           {
            "marker": {
             "colorbar": {
              "outlinewidth": 0,
              "ticks": ""
             }
            },
            "type": "scatterpolar"
           }
          ],
          "scatterpolargl": [
           {
            "marker": {
             "colorbar": {
              "outlinewidth": 0,
              "ticks": ""
             }
            },
            "type": "scatterpolargl"
           }
          ],
          "scatterternary": [
           {
            "marker": {
             "colorbar": {
              "outlinewidth": 0,
              "ticks": ""
             }
            },
            "type": "scatterternary"
           }
          ],
          "surface": [
           {
            "colorbar": {
             "outlinewidth": 0,
             "ticks": ""
            },
            "colorscale": [
             [
              0,
              "#0d0887"
             ],
             [
              0.1111111111111111,
              "#46039f"
             ],
             [
              0.2222222222222222,
              "#7201a8"
             ],
             [
              0.3333333333333333,
              "#9c179e"
             ],
             [
              0.4444444444444444,
              "#bd3786"
             ],
             [
              0.5555555555555556,
              "#d8576b"
             ],
             [
              0.6666666666666666,
              "#ed7953"
             ],
             [
              0.7777777777777778,
              "#fb9f3a"
             ],
             [
              0.8888888888888888,
              "#fdca26"
             ],
             [
              1,
              "#f0f921"
             ]
            ],
            "type": "surface"
           }
          ],
          "table": [
           {
            "cells": {
             "fill": {
              "color": "#EBF0F8"
             },
             "line": {
              "color": "white"
             }
            },
            "header": {
             "fill": {
              "color": "#C8D4E3"
             },
             "line": {
              "color": "white"
             }
            },
            "type": "table"
           }
          ]
         },
         "layout": {
          "annotationdefaults": {
           "arrowcolor": "#2a3f5f",
           "arrowhead": 0,
           "arrowwidth": 1
          },
          "autotypenumbers": "strict",
          "coloraxis": {
           "colorbar": {
            "outlinewidth": 0,
            "ticks": ""
           }
          },
          "colorscale": {
           "diverging": [
            [
             0,
             "#8e0152"
            ],
            [
             0.1,
             "#c51b7d"
            ],
            [
             0.2,
             "#de77ae"
            ],
            [
             0.3,
             "#f1b6da"
            ],
            [
             0.4,
             "#fde0ef"
            ],
            [
             0.5,
             "#f7f7f7"
            ],
            [
             0.6,
             "#e6f5d0"
            ],
            [
             0.7,
             "#b8e186"
            ],
            [
             0.8,
             "#7fbc41"
            ],
            [
             0.9,
             "#4d9221"
            ],
            [
             1,
             "#276419"
            ]
           ],
           "sequential": [
            [
             0,
             "#0d0887"
            ],
            [
             0.1111111111111111,
             "#46039f"
            ],
            [
             0.2222222222222222,
             "#7201a8"
            ],
            [
             0.3333333333333333,
             "#9c179e"
            ],
            [
             0.4444444444444444,
             "#bd3786"
            ],
            [
             0.5555555555555556,
             "#d8576b"
            ],
            [
             0.6666666666666666,
             "#ed7953"
            ],
            [
             0.7777777777777778,
             "#fb9f3a"
            ],
            [
             0.8888888888888888,
             "#fdca26"
            ],
            [
             1,
             "#f0f921"
            ]
           ],
           "sequentialminus": [
            [
             0,
             "#0d0887"
            ],
            [
             0.1111111111111111,
             "#46039f"
            ],
            [
             0.2222222222222222,
             "#7201a8"
            ],
            [
             0.3333333333333333,
             "#9c179e"
            ],
            [
             0.4444444444444444,
             "#bd3786"
            ],
            [
             0.5555555555555556,
             "#d8576b"
            ],
            [
             0.6666666666666666,
             "#ed7953"
            ],
            [
             0.7777777777777778,
             "#fb9f3a"
            ],
            [
             0.8888888888888888,
             "#fdca26"
            ],
            [
             1,
             "#f0f921"
            ]
           ]
          },
          "colorway": [
           "#636efa",
           "#EF553B",
           "#00cc96",
           "#ab63fa",
           "#FFA15A",
           "#19d3f3",
           "#FF6692",
           "#B6E880",
           "#FF97FF",
           "#FECB52"
          ],
          "font": {
           "color": "#2a3f5f"
          },
          "geo": {
           "bgcolor": "white",
           "lakecolor": "white",
           "landcolor": "#E5ECF6",
           "showlakes": true,
           "showland": true,
           "subunitcolor": "white"
          },
          "hoverlabel": {
           "align": "left"
          },
          "hovermode": "closest",
          "mapbox": {
           "style": "light"
          },
          "paper_bgcolor": "white",
          "plot_bgcolor": "#E5ECF6",
          "polar": {
           "angularaxis": {
            "gridcolor": "white",
            "linecolor": "white",
            "ticks": ""
           },
           "bgcolor": "#E5ECF6",
           "radialaxis": {
            "gridcolor": "white",
            "linecolor": "white",
            "ticks": ""
           }
          },
          "scene": {
           "xaxis": {
            "backgroundcolor": "#E5ECF6",
            "gridcolor": "white",
            "gridwidth": 2,
            "linecolor": "white",
            "showbackground": true,
            "ticks": "",
            "zerolinecolor": "white"
           },
           "yaxis": {
            "backgroundcolor": "#E5ECF6",
            "gridcolor": "white",
            "gridwidth": 2,
            "linecolor": "white",
            "showbackground": true,
            "ticks": "",
            "zerolinecolor": "white"
           },
           "zaxis": {
            "backgroundcolor": "#E5ECF6",
            "gridcolor": "white",
            "gridwidth": 2,
            "linecolor": "white",
            "showbackground": true,
            "ticks": "",
            "zerolinecolor": "white"
           }
          },
          "shapedefaults": {
           "line": {
            "color": "#2a3f5f"
           }
          },
          "ternary": {
           "aaxis": {
            "gridcolor": "white",
            "linecolor": "white",
            "ticks": ""
           },
           "baxis": {
            "gridcolor": "white",
            "linecolor": "white",
            "ticks": ""
           },
           "bgcolor": "#E5ECF6",
           "caxis": {
            "gridcolor": "white",
            "linecolor": "white",
            "ticks": ""
           }
          },
          "title": {
           "x": 0.05
          },
          "xaxis": {
           "automargin": true,
           "gridcolor": "white",
           "linecolor": "white",
           "ticks": "",
           "title": {
            "standoff": 15
           },
           "zerolinecolor": "white",
           "zerolinewidth": 2
          },
          "yaxis": {
           "automargin": true,
           "gridcolor": "white",
           "linecolor": "white",
           "ticks": "",
           "title": {
            "standoff": 15
           },
           "zerolinecolor": "white",
           "zerolinewidth": 2
          }
         }
        },
        "title": {
         "font": {
          "color": "#4D5663"
         }
        },
        "xaxis": {
         "gridcolor": "#E1E5ED",
         "showgrid": true,
         "tickfont": {
          "color": "#4D5663"
         },
         "title": {
          "font": {
           "color": "#4D5663"
          },
          "text": ""
         },
         "zerolinecolor": "#E1E5ED"
        },
        "yaxis": {
         "gridcolor": "#E1E5ED",
         "showgrid": true,
         "tickfont": {
          "color": "#4D5663"
         },
         "title": {
          "font": {
           "color": "#4D5663"
          },
          "text": ""
         },
         "zerolinecolor": "#E1E5ED"
        }
       }
      },
      "text/html": [
       "<div>                            <div id=\"746fdfe1-751f-4d2f-b4e0-2845ceaca0e0\" class=\"plotly-graph-div\" style=\"height:525px; width:100%;\"></div>            <script type=\"text/javascript\">                require([\"plotly\"], function(Plotly) {                    window.PLOTLYENV=window.PLOTLYENV || {};\n",
       "                    window.PLOTLYENV.BASE_URL='https://plot.ly';                                    if (document.getElementById(\"746fdfe1-751f-4d2f-b4e0-2845ceaca0e0\")) {                    Plotly.newPlot(                        \"746fdfe1-751f-4d2f-b4e0-2845ceaca0e0\",                        [{\"line\": {\"color\": \"rgba(255, 153, 51, 1.0)\", \"dash\": \"solid\", \"shape\": \"linear\", \"width\": 1.3}, \"marker\": {\"size\": 12, \"symbol\": \"circle\"}, \"mode\": \"markers\", \"name\": \"\\ub4dd\\uc810\\uc815\\ub82c\", \"text\": \"\", \"type\": \"scatter\", \"x\": [\"\\ub9ac\\ubc84\\ud480\", \"\\ub9e8\\uc2dc\\ud2f0\", \"\\ub9e8\\uc720\", \"\\uccbc\\uc2dc\", \"\\ud1a0\\ud2b8\\ub118\"], \"y\": [10.75, 7.375, 6.625, 5.125, 12.5]}, {\"line\": {\"color\": \"rgba(55, 128, 191, 1.0)\", \"dash\": \"solid\", \"shape\": \"linear\", \"width\": 1.3}, \"marker\": {\"size\": 12, \"symbol\": \"circle\"}, \"mode\": \"markers\", \"name\": \"\\ub3c4\\uc6c0\\uc815\\ub82c\", \"text\": \"\", \"type\": \"scatter\", \"x\": [\"\\ub9ac\\ubc84\\ud480\", \"\\ub9e8\\uc2dc\\ud2f0\", \"\\ub9e8\\uc720\", \"\\uccbc\\uc2dc\", \"\\ud1a0\\ud2b8\\ub118\"], \"y\": [4.0, 3.875, 3.75, 2.5, 7.25]}, {\"line\": {\"color\": \"rgba(50, 171, 96, 1.0)\", \"dash\": \"solid\", \"shape\": \"linear\", \"width\": 1.3}, \"marker\": {\"size\": 12, \"symbol\": \"circle\"}, \"mode\": \"markers\", \"name\": \"\\uacf5\\uaca9\\ud3ec\\uc778\\ud2b8\\uc815\\ub82c\", \"text\": \"\", \"type\": \"scatter\", \"x\": [\"\\ub9ac\\ubc84\\ud480\", \"\\ub9e8\\uc2dc\\ud2f0\", \"\\ub9e8\\uc720\", \"\\uccbc\\uc2dc\", \"\\ud1a0\\ud2b8\\ub118\"], \"y\": [14.75, 11.25, 10.375, 7.625, 19.75]}, {\"line\": {\"color\": \"rgba(128, 0, 128, 1.0)\", \"dash\": \"solid\", \"shape\": \"linear\", \"width\": 1.3}, \"marker\": {\"size\": 12, \"symbol\": \"circle\"}, \"mode\": \"markers\", \"name\": \"\\uc288\\ud305\\uc815\\ub82c\", \"text\": \"\", \"type\": \"scatter\", \"x\": [\"\\ub9ac\\ubc84\\ud480\", \"\\ub9e8\\uc2dc\\ud2f0\", \"\\ub9e8\\uc720\", \"\\uccbc\\uc2dc\", \"\\ud1a0\\ud2b8\\ub118\"], \"y\": [72.75, 47.5, 44.0, 35.0, 56.25]}, {\"line\": {\"color\": \"rgba(219, 64, 82, 1.0)\", \"dash\": \"solid\", \"shape\": \"linear\", \"width\": 1.3}, \"marker\": {\"size\": 12, \"symbol\": \"circle\"}, \"mode\": \"markers\", \"name\": \"\\uc720\\ud6a8\\uc288\\ud305\\uc815\\ub82c\", \"text\": \"\", \"type\": \"scatter\", \"x\": [\"\\ub9ac\\ubc84\\ud480\", \"\\ub9e8\\uc2dc\\ud2f0\", \"\\ub9e8\\uc720\", \"\\uccbc\\uc2dc\", \"\\ud1a0\\ud2b8\\ub118\"], \"y\": [32.75, 17.5, 19.25, 15.125, 25.75]}],                        {\"legend\": {\"bgcolor\": \"#F5F6F9\", \"font\": {\"color\": \"#4D5663\"}}, \"paper_bgcolor\": \"#F5F6F9\", \"plot_bgcolor\": \"#F5F6F9\", \"template\": {\"data\": {\"bar\": [{\"error_x\": {\"color\": \"#2a3f5f\"}, \"error_y\": {\"color\": \"#2a3f5f\"}, \"marker\": {\"line\": {\"color\": \"#E5ECF6\", \"width\": 0.5}}, \"type\": \"bar\"}], \"barpolar\": [{\"marker\": {\"line\": {\"color\": \"#E5ECF6\", \"width\": 0.5}}, \"type\": \"barpolar\"}], \"carpet\": [{\"aaxis\": {\"endlinecolor\": \"#2a3f5f\", \"gridcolor\": \"white\", \"linecolor\": \"white\", \"minorgridcolor\": \"white\", \"startlinecolor\": \"#2a3f5f\"}, \"baxis\": {\"endlinecolor\": \"#2a3f5f\", \"gridcolor\": \"white\", \"linecolor\": \"white\", \"minorgridcolor\": \"white\", \"startlinecolor\": \"#2a3f5f\"}, \"type\": \"carpet\"}], \"choropleth\": [{\"colorbar\": {\"outlinewidth\": 0, \"ticks\": \"\"}, \"type\": \"choropleth\"}], \"contour\": [{\"colorbar\": {\"outlinewidth\": 0, \"ticks\": \"\"}, \"colorscale\": [[0.0, \"#0d0887\"], [0.1111111111111111, \"#46039f\"], [0.2222222222222222, \"#7201a8\"], [0.3333333333333333, \"#9c179e\"], [0.4444444444444444, \"#bd3786\"], [0.5555555555555556, \"#d8576b\"], [0.6666666666666666, \"#ed7953\"], [0.7777777777777778, \"#fb9f3a\"], [0.8888888888888888, \"#fdca26\"], [1.0, \"#f0f921\"]], \"type\": \"contour\"}], \"contourcarpet\": [{\"colorbar\": {\"outlinewidth\": 0, \"ticks\": \"\"}, \"type\": \"contourcarpet\"}], \"heatmap\": [{\"colorbar\": {\"outlinewidth\": 0, \"ticks\": \"\"}, \"colorscale\": [[0.0, \"#0d0887\"], [0.1111111111111111, \"#46039f\"], [0.2222222222222222, \"#7201a8\"], [0.3333333333333333, \"#9c179e\"], [0.4444444444444444, \"#bd3786\"], [0.5555555555555556, \"#d8576b\"], [0.6666666666666666, \"#ed7953\"], [0.7777777777777778, \"#fb9f3a\"], [0.8888888888888888, \"#fdca26\"], [1.0, \"#f0f921\"]], \"type\": \"heatmap\"}], \"heatmapgl\": [{\"colorbar\": {\"outlinewidth\": 0, \"ticks\": \"\"}, \"colorscale\": [[0.0, \"#0d0887\"], [0.1111111111111111, \"#46039f\"], [0.2222222222222222, \"#7201a8\"], [0.3333333333333333, \"#9c179e\"], [0.4444444444444444, \"#bd3786\"], [0.5555555555555556, \"#d8576b\"], [0.6666666666666666, \"#ed7953\"], [0.7777777777777778, \"#fb9f3a\"], [0.8888888888888888, \"#fdca26\"], [1.0, \"#f0f921\"]], \"type\": \"heatmapgl\"}], \"histogram\": [{\"marker\": {\"colorbar\": {\"outlinewidth\": 0, \"ticks\": \"\"}}, \"type\": \"histogram\"}], \"histogram2d\": [{\"colorbar\": {\"outlinewidth\": 0, \"ticks\": \"\"}, \"colorscale\": [[0.0, \"#0d0887\"], [0.1111111111111111, \"#46039f\"], [0.2222222222222222, \"#7201a8\"], [0.3333333333333333, \"#9c179e\"], [0.4444444444444444, \"#bd3786\"], [0.5555555555555556, \"#d8576b\"], [0.6666666666666666, \"#ed7953\"], [0.7777777777777778, \"#fb9f3a\"], [0.8888888888888888, \"#fdca26\"], [1.0, \"#f0f921\"]], \"type\": \"histogram2d\"}], \"histogram2dcontour\": [{\"colorbar\": {\"outlinewidth\": 0, \"ticks\": \"\"}, \"colorscale\": [[0.0, \"#0d0887\"], [0.1111111111111111, \"#46039f\"], [0.2222222222222222, \"#7201a8\"], [0.3333333333333333, \"#9c179e\"], [0.4444444444444444, \"#bd3786\"], [0.5555555555555556, \"#d8576b\"], [0.6666666666666666, \"#ed7953\"], [0.7777777777777778, \"#fb9f3a\"], [0.8888888888888888, \"#fdca26\"], [1.0, \"#f0f921\"]], \"type\": \"histogram2dcontour\"}], \"mesh3d\": [{\"colorbar\": {\"outlinewidth\": 0, \"ticks\": \"\"}, \"type\": \"mesh3d\"}], \"parcoords\": [{\"line\": {\"colorbar\": {\"outlinewidth\": 0, \"ticks\": \"\"}}, \"type\": \"parcoords\"}], \"pie\": [{\"automargin\": true, \"type\": \"pie\"}], \"scatter\": [{\"marker\": {\"colorbar\": {\"outlinewidth\": 0, \"ticks\": \"\"}}, \"type\": \"scatter\"}], \"scatter3d\": [{\"line\": {\"colorbar\": {\"outlinewidth\": 0, \"ticks\": \"\"}}, \"marker\": {\"colorbar\": {\"outlinewidth\": 0, \"ticks\": \"\"}}, \"type\": \"scatter3d\"}], \"scattercarpet\": [{\"marker\": {\"colorbar\": {\"outlinewidth\": 0, \"ticks\": \"\"}}, \"type\": \"scattercarpet\"}], \"scattergeo\": [{\"marker\": {\"colorbar\": {\"outlinewidth\": 0, \"ticks\": \"\"}}, \"type\": \"scattergeo\"}], \"scattergl\": [{\"marker\": {\"colorbar\": {\"outlinewidth\": 0, \"ticks\": \"\"}}, \"type\": \"scattergl\"}], \"scattermapbox\": [{\"marker\": {\"colorbar\": {\"outlinewidth\": 0, \"ticks\": \"\"}}, \"type\": \"scattermapbox\"}], \"scatterpolar\": [{\"marker\": {\"colorbar\": {\"outlinewidth\": 0, \"ticks\": \"\"}}, \"type\": \"scatterpolar\"}], \"scatterpolargl\": [{\"marker\": {\"colorbar\": {\"outlinewidth\": 0, \"ticks\": \"\"}}, \"type\": \"scatterpolargl\"}], \"scatterternary\": [{\"marker\": {\"colorbar\": {\"outlinewidth\": 0, \"ticks\": \"\"}}, \"type\": \"scatterternary\"}], \"surface\": [{\"colorbar\": {\"outlinewidth\": 0, \"ticks\": \"\"}, \"colorscale\": [[0.0, \"#0d0887\"], [0.1111111111111111, \"#46039f\"], [0.2222222222222222, \"#7201a8\"], [0.3333333333333333, \"#9c179e\"], [0.4444444444444444, \"#bd3786\"], [0.5555555555555556, \"#d8576b\"], [0.6666666666666666, \"#ed7953\"], [0.7777777777777778, \"#fb9f3a\"], [0.8888888888888888, \"#fdca26\"], [1.0, \"#f0f921\"]], \"type\": \"surface\"}], \"table\": [{\"cells\": {\"fill\": {\"color\": \"#EBF0F8\"}, \"line\": {\"color\": \"white\"}}, \"header\": {\"fill\": {\"color\": \"#C8D4E3\"}, \"line\": {\"color\": \"white\"}}, \"type\": \"table\"}]}, \"layout\": {\"annotationdefaults\": {\"arrowcolor\": \"#2a3f5f\", \"arrowhead\": 0, \"arrowwidth\": 1}, \"autotypenumbers\": \"strict\", \"coloraxis\": {\"colorbar\": {\"outlinewidth\": 0, \"ticks\": \"\"}}, \"colorscale\": {\"diverging\": [[0, \"#8e0152\"], [0.1, \"#c51b7d\"], [0.2, \"#de77ae\"], [0.3, \"#f1b6da\"], [0.4, \"#fde0ef\"], [0.5, \"#f7f7f7\"], [0.6, \"#e6f5d0\"], [0.7, \"#b8e186\"], [0.8, \"#7fbc41\"], [0.9, \"#4d9221\"], [1, \"#276419\"]], \"sequential\": [[0.0, \"#0d0887\"], [0.1111111111111111, \"#46039f\"], [0.2222222222222222, \"#7201a8\"], [0.3333333333333333, \"#9c179e\"], [0.4444444444444444, \"#bd3786\"], [0.5555555555555556, \"#d8576b\"], [0.6666666666666666, \"#ed7953\"], [0.7777777777777778, \"#fb9f3a\"], [0.8888888888888888, \"#fdca26\"], [1.0, \"#f0f921\"]], \"sequentialminus\": [[0.0, \"#0d0887\"], [0.1111111111111111, \"#46039f\"], [0.2222222222222222, \"#7201a8\"], [0.3333333333333333, \"#9c179e\"], [0.4444444444444444, \"#bd3786\"], [0.5555555555555556, \"#d8576b\"], [0.6666666666666666, \"#ed7953\"], [0.7777777777777778, \"#fb9f3a\"], [0.8888888888888888, \"#fdca26\"], [1.0, \"#f0f921\"]]}, \"colorway\": [\"#636efa\", \"#EF553B\", \"#00cc96\", \"#ab63fa\", \"#FFA15A\", \"#19d3f3\", \"#FF6692\", \"#B6E880\", \"#FF97FF\", \"#FECB52\"], \"font\": {\"color\": \"#2a3f5f\"}, \"geo\": {\"bgcolor\": \"white\", \"lakecolor\": \"white\", \"landcolor\": \"#E5ECF6\", \"showlakes\": true, \"showland\": true, \"subunitcolor\": \"white\"}, \"hoverlabel\": {\"align\": \"left\"}, \"hovermode\": \"closest\", \"mapbox\": {\"style\": \"light\"}, \"paper_bgcolor\": \"white\", \"plot_bgcolor\": \"#E5ECF6\", \"polar\": {\"angularaxis\": {\"gridcolor\": \"white\", \"linecolor\": \"white\", \"ticks\": \"\"}, \"bgcolor\": \"#E5ECF6\", \"radialaxis\": {\"gridcolor\": \"white\", \"linecolor\": \"white\", \"ticks\": \"\"}}, \"scene\": {\"xaxis\": {\"backgroundcolor\": \"#E5ECF6\", \"gridcolor\": \"white\", \"gridwidth\": 2, \"linecolor\": \"white\", \"showbackground\": true, \"ticks\": \"\", \"zerolinecolor\": \"white\"}, \"yaxis\": {\"backgroundcolor\": \"#E5ECF6\", \"gridcolor\": \"white\", \"gridwidth\": 2, \"linecolor\": \"white\", \"showbackground\": true, \"ticks\": \"\", \"zerolinecolor\": \"white\"}, \"zaxis\": {\"backgroundcolor\": \"#E5ECF6\", \"gridcolor\": \"white\", \"gridwidth\": 2, \"linecolor\": \"white\", \"showbackground\": true, \"ticks\": \"\", \"zerolinecolor\": \"white\"}}, \"shapedefaults\": {\"line\": {\"color\": \"#2a3f5f\"}}, \"ternary\": {\"aaxis\": {\"gridcolor\": \"white\", \"linecolor\": \"white\", \"ticks\": \"\"}, \"baxis\": {\"gridcolor\": \"white\", \"linecolor\": \"white\", \"ticks\": \"\"}, \"bgcolor\": \"#E5ECF6\", \"caxis\": {\"gridcolor\": \"white\", \"linecolor\": \"white\", \"ticks\": \"\"}}, \"title\": {\"x\": 0.05}, \"xaxis\": {\"automargin\": true, \"gridcolor\": \"white\", \"linecolor\": \"white\", \"ticks\": \"\", \"title\": {\"standoff\": 15}, \"zerolinecolor\": \"white\", \"zerolinewidth\": 2}, \"yaxis\": {\"automargin\": true, \"gridcolor\": \"white\", \"linecolor\": \"white\", \"ticks\": \"\", \"title\": {\"standoff\": 15}, \"zerolinecolor\": \"white\", \"zerolinewidth\": 2}}}, \"title\": {\"font\": {\"color\": \"#4D5663\"}}, \"xaxis\": {\"gridcolor\": \"#E1E5ED\", \"showgrid\": true, \"tickfont\": {\"color\": \"#4D5663\"}, \"title\": {\"font\": {\"color\": \"#4D5663\"}, \"text\": \"\"}, \"zerolinecolor\": \"#E1E5ED\"}, \"yaxis\": {\"gridcolor\": \"#E1E5ED\", \"showgrid\": true, \"tickfont\": {\"color\": \"#4D5663\"}, \"title\": {\"font\": {\"color\": \"#4D5663\"}, \"text\": \"\"}, \"zerolinecolor\": \"#E1E5ED\"}},                        {\"showLink\": true, \"linkText\": \"Export to plot.ly\", \"plotlyServerURL\": \"https://plot.ly\", \"responsive\": true}                    ).then(function(){\n",
       "                            \n",
       "var gd = document.getElementById('746fdfe1-751f-4d2f-b4e0-2845ceaca0e0');\n",
       "var x = new MutationObserver(function (mutations, observer) {{\n",
       "        var display = window.getComputedStyle(gd).display;\n",
       "        if (!display || display === 'none') {{\n",
       "            console.log([gd, 'removed!']);\n",
       "            Plotly.purge(gd);\n",
       "            observer.disconnect();\n",
       "        }}\n",
       "}});\n",
       "\n",
       "// Listen for the removal of the full notebook cells\n",
       "var notebookContainer = gd.closest('#notebook-container');\n",
       "if (notebookContainer) {{\n",
       "    x.observe(notebookContainer, {childList: true});\n",
       "}}\n",
       "\n",
       "// Listen for the clearing of the current output cell\n",
       "var outputEl = gd.closest('.output');\n",
       "if (outputEl) {{\n",
       "    x.observe(outputEl, {childList: true});\n",
       "}}\n",
       "\n",
       "                        })                };                });            </script>        </div>"
      ]
     },
     "metadata": {},
     "output_type": "display_data"
    }
   ],
   "source": [
    "team.iplot(kind = 'scatter', mode = 'markers')"
   ]
  },
  {
   "cell_type": "markdown",
   "metadata": {},
   "source": [
    "- 비교대상인 5개 팀중에서 하위권인 리버풀과 토트넘의 유효슈팅의 평균이 타 팀에 비해 앞도적으로 많은 것을 확인 할 수 있다. "
   ]
  },
  {
   "cell_type": "code",
   "execution_count": 79,
   "metadata": {},
   "outputs": [
    {
     "data": {
      "application/vnd.plotly.v1+json": {
       "config": {
        "plotlyServerURL": "https://plot.ly"
       },
       "data": [
        {
         "mode": "lines+markers+text",
         "name": "팀별 득점 평균",
         "textposition": "top center",
         "type": "scatter",
         "x": [
          "리버풀",
          "맨시티",
          "맨유",
          "첼시",
          "토트넘"
         ],
         "y": [
          10.75,
          7.375,
          6.625,
          5.125,
          12.5
         ]
        },
        {
         "mode": "lines+markers+text",
         "name": "팀별 도움 평균",
         "text": [
          0,
          1,
          2,
          3,
          4,
          5,
          6,
          7,
          8,
          9,
          10,
          11,
          12,
          13,
          14,
          15,
          16,
          17,
          18,
          19,
          20,
          21,
          22,
          23,
          24,
          25,
          26,
          27,
          28,
          29,
          30,
          31,
          32,
          33,
          34,
          35,
          36,
          37,
          38,
          39,
          40,
          41,
          42,
          43,
          44,
          45,
          46,
          47,
          48,
          49,
          50,
          51,
          52,
          53,
          54,
          55,
          56,
          57,
          58,
          59,
          60,
          61,
          62,
          63,
          64,
          65,
          66,
          67,
          68,
          69,
          70,
          71,
          72,
          73,
          74,
          75,
          76,
          77,
          78,
          79,
          80,
          81,
          82,
          83,
          84,
          85,
          86,
          87,
          88,
          89,
          90,
          91,
          92,
          93,
          94,
          95,
          96,
          97,
          98,
          99
         ],
         "textposition": "top center",
         "type": "scatter",
         "x": [
          "리버풀",
          "맨시티",
          "맨유",
          "첼시",
          "토트넘"
         ],
         "y": [
          4,
          3.875,
          3.75,
          2.5,
          7.25
         ]
        }
       ],
       "layout": {
        "template": {
         "data": {
          "bar": [
           {
            "error_x": {
             "color": "#2a3f5f"
            },
            "error_y": {
             "color": "#2a3f5f"
            },
            "marker": {
             "line": {
              "color": "#E5ECF6",
              "width": 0.5
             }
            },
            "type": "bar"
           }
          ],
          "barpolar": [
           {
            "marker": {
             "line": {
              "color": "#E5ECF6",
              "width": 0.5
             }
            },
            "type": "barpolar"
           }
          ],
          "carpet": [
           {
            "aaxis": {
             "endlinecolor": "#2a3f5f",
             "gridcolor": "white",
             "linecolor": "white",
             "minorgridcolor": "white",
             "startlinecolor": "#2a3f5f"
            },
            "baxis": {
             "endlinecolor": "#2a3f5f",
             "gridcolor": "white",
             "linecolor": "white",
             "minorgridcolor": "white",
             "startlinecolor": "#2a3f5f"
            },
            "type": "carpet"
           }
          ],
          "choropleth": [
           {
            "colorbar": {
             "outlinewidth": 0,
             "ticks": ""
            },
            "type": "choropleth"
           }
          ],
          "contour": [
           {
            "colorbar": {
             "outlinewidth": 0,
             "ticks": ""
            },
            "colorscale": [
             [
              0,
              "#0d0887"
             ],
             [
              0.1111111111111111,
              "#46039f"
             ],
             [
              0.2222222222222222,
              "#7201a8"
             ],
             [
              0.3333333333333333,
              "#9c179e"
             ],
             [
              0.4444444444444444,
              "#bd3786"
             ],
             [
              0.5555555555555556,
              "#d8576b"
             ],
             [
              0.6666666666666666,
              "#ed7953"
             ],
             [
              0.7777777777777778,
              "#fb9f3a"
             ],
             [
              0.8888888888888888,
              "#fdca26"
             ],
             [
              1,
              "#f0f921"
             ]
            ],
            "type": "contour"
           }
          ],
          "contourcarpet": [
           {
            "colorbar": {
             "outlinewidth": 0,
             "ticks": ""
            },
            "type": "contourcarpet"
           }
          ],
          "heatmap": [
           {
            "colorbar": {
             "outlinewidth": 0,
             "ticks": ""
            },
            "colorscale": [
             [
              0,
              "#0d0887"
             ],
             [
              0.1111111111111111,
              "#46039f"
             ],
             [
              0.2222222222222222,
              "#7201a8"
             ],
             [
              0.3333333333333333,
              "#9c179e"
             ],
             [
              0.4444444444444444,
              "#bd3786"
             ],
             [
              0.5555555555555556,
              "#d8576b"
             ],
             [
              0.6666666666666666,
              "#ed7953"
             ],
             [
              0.7777777777777778,
              "#fb9f3a"
             ],
             [
              0.8888888888888888,
              "#fdca26"
             ],
             [
              1,
              "#f0f921"
             ]
            ],
            "type": "heatmap"
           }
          ],
          "heatmapgl": [
           {
            "colorbar": {
             "outlinewidth": 0,
             "ticks": ""
            },
            "colorscale": [
             [
              0,
              "#0d0887"
             ],
             [
              0.1111111111111111,
              "#46039f"
             ],
             [
              0.2222222222222222,
              "#7201a8"
             ],
             [
              0.3333333333333333,
              "#9c179e"
             ],
             [
              0.4444444444444444,
              "#bd3786"
             ],
             [
              0.5555555555555556,
              "#d8576b"
             ],
             [
              0.6666666666666666,
              "#ed7953"
             ],
             [
              0.7777777777777778,
              "#fb9f3a"
             ],
             [
              0.8888888888888888,
              "#fdca26"
             ],
             [
              1,
              "#f0f921"
             ]
            ],
            "type": "heatmapgl"
           }
          ],
          "histogram": [
           {
            "marker": {
             "colorbar": {
              "outlinewidth": 0,
              "ticks": ""
             }
            },
            "type": "histogram"
           }
          ],
          "histogram2d": [
           {
            "colorbar": {
             "outlinewidth": 0,
             "ticks": ""
            },
            "colorscale": [
             [
              0,
              "#0d0887"
             ],
             [
              0.1111111111111111,
              "#46039f"
             ],
             [
              0.2222222222222222,
              "#7201a8"
             ],
             [
              0.3333333333333333,
              "#9c179e"
             ],
             [
              0.4444444444444444,
              "#bd3786"
             ],
             [
              0.5555555555555556,
              "#d8576b"
             ],
             [
              0.6666666666666666,
              "#ed7953"
             ],
             [
              0.7777777777777778,
              "#fb9f3a"
             ],
             [
              0.8888888888888888,
              "#fdca26"
             ],
             [
              1,
              "#f0f921"
             ]
            ],
            "type": "histogram2d"
           }
          ],
          "histogram2dcontour": [
           {
            "colorbar": {
             "outlinewidth": 0,
             "ticks": ""
            },
            "colorscale": [
             [
              0,
              "#0d0887"
             ],
             [
              0.1111111111111111,
              "#46039f"
             ],
             [
              0.2222222222222222,
              "#7201a8"
             ],
             [
              0.3333333333333333,
              "#9c179e"
             ],
             [
              0.4444444444444444,
              "#bd3786"
             ],
             [
              0.5555555555555556,
              "#d8576b"
             ],
             [
              0.6666666666666666,
              "#ed7953"
             ],
             [
              0.7777777777777778,
              "#fb9f3a"
             ],
             [
              0.8888888888888888,
              "#fdca26"
             ],
             [
              1,
              "#f0f921"
             ]
            ],
            "type": "histogram2dcontour"
           }
          ],
          "mesh3d": [
           {
            "colorbar": {
             "outlinewidth": 0,
             "ticks": ""
            },
            "type": "mesh3d"
           }
          ],
          "parcoords": [
           {
            "line": {
             "colorbar": {
              "outlinewidth": 0,
              "ticks": ""
             }
            },
            "type": "parcoords"
           }
          ],
          "pie": [
           {
            "automargin": true,
            "type": "pie"
           }
          ],
          "scatter": [
           {
            "marker": {
             "colorbar": {
              "outlinewidth": 0,
              "ticks": ""
             }
            },
            "type": "scatter"
           }
          ],
          "scatter3d": [
           {
            "line": {
             "colorbar": {
              "outlinewidth": 0,
              "ticks": ""
             }
            },
            "marker": {
             "colorbar": {
              "outlinewidth": 0,
              "ticks": ""
             }
            },
            "type": "scatter3d"
           }
          ],
          "scattercarpet": [
           {
            "marker": {
             "colorbar": {
              "outlinewidth": 0,
              "ticks": ""
             }
            },
            "type": "scattercarpet"
           }
          ],
          "scattergeo": [
           {
            "marker": {
             "colorbar": {
              "outlinewidth": 0,
              "ticks": ""
             }
            },
            "type": "scattergeo"
           }
          ],
          "scattergl": [
           {
            "marker": {
             "colorbar": {
              "outlinewidth": 0,
              "ticks": ""
             }
            },
            "type": "scattergl"
           }
          ],
          "scattermapbox": [
           {
            "marker": {
             "colorbar": {
              "outlinewidth": 0,
              "ticks": ""
             }
            },
            "type": "scattermapbox"
           }
          ],
          "scatterpolar": [
           {
            "marker": {
             "colorbar": {
              "outlinewidth": 0,
              "ticks": ""
             }
            },
            "type": "scatterpolar"
           }
          ],
          "scatterpolargl": [
           {
            "marker": {
             "colorbar": {
              "outlinewidth": 0,
              "ticks": ""
             }
            },
            "type": "scatterpolargl"
           }
          ],
          "scatterternary": [
           {
            "marker": {
             "colorbar": {
              "outlinewidth": 0,
              "ticks": ""
             }
            },
            "type": "scatterternary"
           }
          ],
          "surface": [
           {
            "colorbar": {
             "outlinewidth": 0,
             "ticks": ""
            },
            "colorscale": [
             [
              0,
              "#0d0887"
             ],
             [
              0.1111111111111111,
              "#46039f"
             ],
             [
              0.2222222222222222,
              "#7201a8"
             ],
             [
              0.3333333333333333,
              "#9c179e"
             ],
             [
              0.4444444444444444,
              "#bd3786"
             ],
             [
              0.5555555555555556,
              "#d8576b"
             ],
             [
              0.6666666666666666,
              "#ed7953"
             ],
             [
              0.7777777777777778,
              "#fb9f3a"
             ],
             [
              0.8888888888888888,
              "#fdca26"
             ],
             [
              1,
              "#f0f921"
             ]
            ],
            "type": "surface"
           }
          ],
          "table": [
           {
            "cells": {
             "fill": {
              "color": "#EBF0F8"
             },
             "line": {
              "color": "white"
             }
            },
            "header": {
             "fill": {
              "color": "#C8D4E3"
             },
             "line": {
              "color": "white"
             }
            },
            "type": "table"
           }
          ]
         },
         "layout": {
          "annotationdefaults": {
           "arrowcolor": "#2a3f5f",
           "arrowhead": 0,
           "arrowwidth": 1
          },
          "autotypenumbers": "strict",
          "coloraxis": {
           "colorbar": {
            "outlinewidth": 0,
            "ticks": ""
           }
          },
          "colorscale": {
           "diverging": [
            [
             0,
             "#8e0152"
            ],
            [
             0.1,
             "#c51b7d"
            ],
            [
             0.2,
             "#de77ae"
            ],
            [
             0.3,
             "#f1b6da"
            ],
            [
             0.4,
             "#fde0ef"
            ],
            [
             0.5,
             "#f7f7f7"
            ],
            [
             0.6,
             "#e6f5d0"
            ],
            [
             0.7,
             "#b8e186"
            ],
            [
             0.8,
             "#7fbc41"
            ],
            [
             0.9,
             "#4d9221"
            ],
            [
             1,
             "#276419"
            ]
           ],
           "sequential": [
            [
             0,
             "#0d0887"
            ],
            [
             0.1111111111111111,
             "#46039f"
            ],
            [
             0.2222222222222222,
             "#7201a8"
            ],
            [
             0.3333333333333333,
             "#9c179e"
            ],
            [
             0.4444444444444444,
             "#bd3786"
            ],
            [
             0.5555555555555556,
             "#d8576b"
            ],
            [
             0.6666666666666666,
             "#ed7953"
            ],
            [
             0.7777777777777778,
             "#fb9f3a"
            ],
            [
             0.8888888888888888,
             "#fdca26"
            ],
            [
             1,
             "#f0f921"
            ]
           ],
           "sequentialminus": [
            [
             0,
             "#0d0887"
            ],
            [
             0.1111111111111111,
             "#46039f"
            ],
            [
             0.2222222222222222,
             "#7201a8"
            ],
            [
             0.3333333333333333,
             "#9c179e"
            ],
            [
             0.4444444444444444,
             "#bd3786"
            ],
            [
             0.5555555555555556,
             "#d8576b"
            ],
            [
             0.6666666666666666,
             "#ed7953"
            ],
            [
             0.7777777777777778,
             "#fb9f3a"
            ],
            [
             0.8888888888888888,
             "#fdca26"
            ],
            [
             1,
             "#f0f921"
            ]
           ]
          },
          "colorway": [
           "#636efa",
           "#EF553B",
           "#00cc96",
           "#ab63fa",
           "#FFA15A",
           "#19d3f3",
           "#FF6692",
           "#B6E880",
           "#FF97FF",
           "#FECB52"
          ],
          "font": {
           "color": "#2a3f5f"
          },
          "geo": {
           "bgcolor": "white",
           "lakecolor": "white",
           "landcolor": "#E5ECF6",
           "showlakes": true,
           "showland": true,
           "subunitcolor": "white"
          },
          "hoverlabel": {
           "align": "left"
          },
          "hovermode": "closest",
          "mapbox": {
           "style": "light"
          },
          "paper_bgcolor": "white",
          "plot_bgcolor": "#E5ECF6",
          "polar": {
           "angularaxis": {
            "gridcolor": "white",
            "linecolor": "white",
            "ticks": ""
           },
           "bgcolor": "#E5ECF6",
           "radialaxis": {
            "gridcolor": "white",
            "linecolor": "white",
            "ticks": ""
           }
          },
          "scene": {
           "xaxis": {
            "backgroundcolor": "#E5ECF6",
            "gridcolor": "white",
            "gridwidth": 2,
            "linecolor": "white",
            "showbackground": true,
            "ticks": "",
            "zerolinecolor": "white"
           },
           "yaxis": {
            "backgroundcolor": "#E5ECF6",
            "gridcolor": "white",
            "gridwidth": 2,
            "linecolor": "white",
            "showbackground": true,
            "ticks": "",
            "zerolinecolor": "white"
           },
           "zaxis": {
            "backgroundcolor": "#E5ECF6",
            "gridcolor": "white",
            "gridwidth": 2,
            "linecolor": "white",
            "showbackground": true,
            "ticks": "",
            "zerolinecolor": "white"
           }
          },
          "shapedefaults": {
           "line": {
            "color": "#2a3f5f"
           }
          },
          "ternary": {
           "aaxis": {
            "gridcolor": "white",
            "linecolor": "white",
            "ticks": ""
           },
           "baxis": {
            "gridcolor": "white",
            "linecolor": "white",
            "ticks": ""
           },
           "bgcolor": "#E5ECF6",
           "caxis": {
            "gridcolor": "white",
            "linecolor": "white",
            "ticks": ""
           }
          },
          "title": {
           "x": 0.05
          },
          "xaxis": {
           "automargin": true,
           "gridcolor": "white",
           "linecolor": "white",
           "ticks": "",
           "title": {
            "standoff": 15
           },
           "zerolinecolor": "white",
           "zerolinewidth": 2
          },
          "yaxis": {
           "automargin": true,
           "gridcolor": "white",
           "linecolor": "white",
           "ticks": "",
           "title": {
            "standoff": 15
           },
           "zerolinecolor": "white",
           "zerolinewidth": 2
          }
         }
        }
       }
      },
      "text/html": [
       "<div>                            <div id=\"bff1a3b9-916a-4c9c-84aa-635eda1eb829\" class=\"plotly-graph-div\" style=\"height:525px; width:100%;\"></div>            <script type=\"text/javascript\">                require([\"plotly\"], function(Plotly) {                    window.PLOTLYENV=window.PLOTLYENV || {};                                    if (document.getElementById(\"bff1a3b9-916a-4c9c-84aa-635eda1eb829\")) {                    Plotly.newPlot(                        \"bff1a3b9-916a-4c9c-84aa-635eda1eb829\",                        [{\"mode\": \"lines+markers+text\", \"name\": \"\\ud300\\ubcc4 \\ub4dd\\uc810 \\ud3c9\\uade0\", \"textposition\": \"top center\", \"type\": \"scatter\", \"x\": [\"\\ub9ac\\ubc84\\ud480\", \"\\ub9e8\\uc2dc\\ud2f0\", \"\\ub9e8\\uc720\", \"\\uccbc\\uc2dc\", \"\\ud1a0\\ud2b8\\ub118\"], \"y\": [10.75, 7.375, 6.625, 5.125, 12.5]}, {\"mode\": \"lines+markers+text\", \"name\": \"\\ud300\\ubcc4 \\ub3c4\\uc6c0 \\ud3c9\\uade0\", \"text\": [0.0, 1.0, 2.0, 3.0, 4.0, 5.0, 6.0, 7.0, 8.0, 9.0, 10.0, 11.0, 12.0, 13.0, 14.0, 15.0, 16.0, 17.0, 18.0, 19.0, 20.0, 21.0, 22.0, 23.0, 24.0, 25.0, 26.0, 27.0, 28.0, 29.0, 30.0, 31.0, 32.0, 33.0, 34.0, 35.0, 36.0, 37.0, 38.0, 39.0, 40.0, 41.0, 42.0, 43.0, 44.0, 45.0, 46.0, 47.0, 48.0, 49.0, 50.0, 51.0, 52.0, 53.0, 54.0, 55.0, 56.0, 57.0, 58.0, 59.0, 60.0, 61.0, 62.0, 63.0, 64.0, 65.0, 66.0, 67.0, 68.0, 69.0, 70.0, 71.0, 72.0, 73.0, 74.0, 75.0, 76.0, 77.0, 78.0, 79.0, 80.0, 81.0, 82.0, 83.0, 84.0, 85.0, 86.0, 87.0, 88.0, 89.0, 90.0, 91.0, 92.0, 93.0, 94.0, 95.0, 96.0, 97.0, 98.0, 99.0], \"textposition\": \"top center\", \"type\": \"scatter\", \"x\": [\"\\ub9ac\\ubc84\\ud480\", \"\\ub9e8\\uc2dc\\ud2f0\", \"\\ub9e8\\uc720\", \"\\uccbc\\uc2dc\", \"\\ud1a0\\ud2b8\\ub118\"], \"y\": [4.0, 3.875, 3.75, 2.5, 7.25]}],                        {\"template\": {\"data\": {\"bar\": [{\"error_x\": {\"color\": \"#2a3f5f\"}, \"error_y\": {\"color\": \"#2a3f5f\"}, \"marker\": {\"line\": {\"color\": \"#E5ECF6\", \"width\": 0.5}}, \"type\": \"bar\"}], \"barpolar\": [{\"marker\": {\"line\": {\"color\": \"#E5ECF6\", \"width\": 0.5}}, \"type\": \"barpolar\"}], \"carpet\": [{\"aaxis\": {\"endlinecolor\": \"#2a3f5f\", \"gridcolor\": \"white\", \"linecolor\": \"white\", \"minorgridcolor\": \"white\", \"startlinecolor\": \"#2a3f5f\"}, \"baxis\": {\"endlinecolor\": \"#2a3f5f\", \"gridcolor\": \"white\", \"linecolor\": \"white\", \"minorgridcolor\": \"white\", \"startlinecolor\": \"#2a3f5f\"}, \"type\": \"carpet\"}], \"choropleth\": [{\"colorbar\": {\"outlinewidth\": 0, \"ticks\": \"\"}, \"type\": \"choropleth\"}], \"contour\": [{\"colorbar\": {\"outlinewidth\": 0, \"ticks\": \"\"}, \"colorscale\": [[0.0, \"#0d0887\"], [0.1111111111111111, \"#46039f\"], [0.2222222222222222, \"#7201a8\"], [0.3333333333333333, \"#9c179e\"], [0.4444444444444444, \"#bd3786\"], [0.5555555555555556, \"#d8576b\"], [0.6666666666666666, \"#ed7953\"], [0.7777777777777778, \"#fb9f3a\"], [0.8888888888888888, \"#fdca26\"], [1.0, \"#f0f921\"]], \"type\": \"contour\"}], \"contourcarpet\": [{\"colorbar\": {\"outlinewidth\": 0, \"ticks\": \"\"}, \"type\": \"contourcarpet\"}], \"heatmap\": [{\"colorbar\": {\"outlinewidth\": 0, \"ticks\": \"\"}, \"colorscale\": [[0.0, \"#0d0887\"], [0.1111111111111111, \"#46039f\"], [0.2222222222222222, \"#7201a8\"], [0.3333333333333333, \"#9c179e\"], [0.4444444444444444, \"#bd3786\"], [0.5555555555555556, \"#d8576b\"], [0.6666666666666666, \"#ed7953\"], [0.7777777777777778, \"#fb9f3a\"], [0.8888888888888888, \"#fdca26\"], [1.0, \"#f0f921\"]], \"type\": \"heatmap\"}], \"heatmapgl\": [{\"colorbar\": {\"outlinewidth\": 0, \"ticks\": \"\"}, \"colorscale\": [[0.0, \"#0d0887\"], [0.1111111111111111, \"#46039f\"], [0.2222222222222222, \"#7201a8\"], [0.3333333333333333, \"#9c179e\"], [0.4444444444444444, \"#bd3786\"], [0.5555555555555556, \"#d8576b\"], [0.6666666666666666, \"#ed7953\"], [0.7777777777777778, \"#fb9f3a\"], [0.8888888888888888, \"#fdca26\"], [1.0, \"#f0f921\"]], \"type\": \"heatmapgl\"}], \"histogram\": [{\"marker\": {\"colorbar\": {\"outlinewidth\": 0, \"ticks\": \"\"}}, \"type\": \"histogram\"}], \"histogram2d\": [{\"colorbar\": {\"outlinewidth\": 0, \"ticks\": \"\"}, \"colorscale\": [[0.0, \"#0d0887\"], [0.1111111111111111, \"#46039f\"], [0.2222222222222222, \"#7201a8\"], [0.3333333333333333, \"#9c179e\"], [0.4444444444444444, \"#bd3786\"], [0.5555555555555556, \"#d8576b\"], [0.6666666666666666, \"#ed7953\"], [0.7777777777777778, \"#fb9f3a\"], [0.8888888888888888, \"#fdca26\"], [1.0, \"#f0f921\"]], \"type\": \"histogram2d\"}], \"histogram2dcontour\": [{\"colorbar\": {\"outlinewidth\": 0, \"ticks\": \"\"}, \"colorscale\": [[0.0, \"#0d0887\"], [0.1111111111111111, \"#46039f\"], [0.2222222222222222, \"#7201a8\"], [0.3333333333333333, \"#9c179e\"], [0.4444444444444444, \"#bd3786\"], [0.5555555555555556, \"#d8576b\"], [0.6666666666666666, \"#ed7953\"], [0.7777777777777778, \"#fb9f3a\"], [0.8888888888888888, \"#fdca26\"], [1.0, \"#f0f921\"]], \"type\": \"histogram2dcontour\"}], \"mesh3d\": [{\"colorbar\": {\"outlinewidth\": 0, \"ticks\": \"\"}, \"type\": \"mesh3d\"}], \"parcoords\": [{\"line\": {\"colorbar\": {\"outlinewidth\": 0, \"ticks\": \"\"}}, \"type\": \"parcoords\"}], \"pie\": [{\"automargin\": true, \"type\": \"pie\"}], \"scatter\": [{\"marker\": {\"colorbar\": {\"outlinewidth\": 0, \"ticks\": \"\"}}, \"type\": \"scatter\"}], \"scatter3d\": [{\"line\": {\"colorbar\": {\"outlinewidth\": 0, \"ticks\": \"\"}}, \"marker\": {\"colorbar\": {\"outlinewidth\": 0, \"ticks\": \"\"}}, \"type\": \"scatter3d\"}], \"scattercarpet\": [{\"marker\": {\"colorbar\": {\"outlinewidth\": 0, \"ticks\": \"\"}}, \"type\": \"scattercarpet\"}], \"scattergeo\": [{\"marker\": {\"colorbar\": {\"outlinewidth\": 0, \"ticks\": \"\"}}, \"type\": \"scattergeo\"}], \"scattergl\": [{\"marker\": {\"colorbar\": {\"outlinewidth\": 0, \"ticks\": \"\"}}, \"type\": \"scattergl\"}], \"scattermapbox\": [{\"marker\": {\"colorbar\": {\"outlinewidth\": 0, \"ticks\": \"\"}}, \"type\": \"scattermapbox\"}], \"scatterpolar\": [{\"marker\": {\"colorbar\": {\"outlinewidth\": 0, \"ticks\": \"\"}}, \"type\": \"scatterpolar\"}], \"scatterpolargl\": [{\"marker\": {\"colorbar\": {\"outlinewidth\": 0, \"ticks\": \"\"}}, \"type\": \"scatterpolargl\"}], \"scatterternary\": [{\"marker\": {\"colorbar\": {\"outlinewidth\": 0, \"ticks\": \"\"}}, \"type\": \"scatterternary\"}], \"surface\": [{\"colorbar\": {\"outlinewidth\": 0, \"ticks\": \"\"}, \"colorscale\": [[0.0, \"#0d0887\"], [0.1111111111111111, \"#46039f\"], [0.2222222222222222, \"#7201a8\"], [0.3333333333333333, \"#9c179e\"], [0.4444444444444444, \"#bd3786\"], [0.5555555555555556, \"#d8576b\"], [0.6666666666666666, \"#ed7953\"], [0.7777777777777778, \"#fb9f3a\"], [0.8888888888888888, \"#fdca26\"], [1.0, \"#f0f921\"]], \"type\": \"surface\"}], \"table\": [{\"cells\": {\"fill\": {\"color\": \"#EBF0F8\"}, \"line\": {\"color\": \"white\"}}, \"header\": {\"fill\": {\"color\": \"#C8D4E3\"}, \"line\": {\"color\": \"white\"}}, \"type\": \"table\"}]}, \"layout\": {\"annotationdefaults\": {\"arrowcolor\": \"#2a3f5f\", \"arrowhead\": 0, \"arrowwidth\": 1}, \"autotypenumbers\": \"strict\", \"coloraxis\": {\"colorbar\": {\"outlinewidth\": 0, \"ticks\": \"\"}}, \"colorscale\": {\"diverging\": [[0, \"#8e0152\"], [0.1, \"#c51b7d\"], [0.2, \"#de77ae\"], [0.3, \"#f1b6da\"], [0.4, \"#fde0ef\"], [0.5, \"#f7f7f7\"], [0.6, \"#e6f5d0\"], [0.7, \"#b8e186\"], [0.8, \"#7fbc41\"], [0.9, \"#4d9221\"], [1, \"#276419\"]], \"sequential\": [[0.0, \"#0d0887\"], [0.1111111111111111, \"#46039f\"], [0.2222222222222222, \"#7201a8\"], [0.3333333333333333, \"#9c179e\"], [0.4444444444444444, \"#bd3786\"], [0.5555555555555556, \"#d8576b\"], [0.6666666666666666, \"#ed7953\"], [0.7777777777777778, \"#fb9f3a\"], [0.8888888888888888, \"#fdca26\"], [1.0, \"#f0f921\"]], \"sequentialminus\": [[0.0, \"#0d0887\"], [0.1111111111111111, \"#46039f\"], [0.2222222222222222, \"#7201a8\"], [0.3333333333333333, \"#9c179e\"], [0.4444444444444444, \"#bd3786\"], [0.5555555555555556, \"#d8576b\"], [0.6666666666666666, \"#ed7953\"], [0.7777777777777778, \"#fb9f3a\"], [0.8888888888888888, \"#fdca26\"], [1.0, \"#f0f921\"]]}, \"colorway\": [\"#636efa\", \"#EF553B\", \"#00cc96\", \"#ab63fa\", \"#FFA15A\", \"#19d3f3\", \"#FF6692\", \"#B6E880\", \"#FF97FF\", \"#FECB52\"], \"font\": {\"color\": \"#2a3f5f\"}, \"geo\": {\"bgcolor\": \"white\", \"lakecolor\": \"white\", \"landcolor\": \"#E5ECF6\", \"showlakes\": true, \"showland\": true, \"subunitcolor\": \"white\"}, \"hoverlabel\": {\"align\": \"left\"}, \"hovermode\": \"closest\", \"mapbox\": {\"style\": \"light\"}, \"paper_bgcolor\": \"white\", \"plot_bgcolor\": \"#E5ECF6\", \"polar\": {\"angularaxis\": {\"gridcolor\": \"white\", \"linecolor\": \"white\", \"ticks\": \"\"}, \"bgcolor\": \"#E5ECF6\", \"radialaxis\": {\"gridcolor\": \"white\", \"linecolor\": \"white\", \"ticks\": \"\"}}, \"scene\": {\"xaxis\": {\"backgroundcolor\": \"#E5ECF6\", \"gridcolor\": \"white\", \"gridwidth\": 2, \"linecolor\": \"white\", \"showbackground\": true, \"ticks\": \"\", \"zerolinecolor\": \"white\"}, \"yaxis\": {\"backgroundcolor\": \"#E5ECF6\", \"gridcolor\": \"white\", \"gridwidth\": 2, \"linecolor\": \"white\", \"showbackground\": true, \"ticks\": \"\", \"zerolinecolor\": \"white\"}, \"zaxis\": {\"backgroundcolor\": \"#E5ECF6\", \"gridcolor\": \"white\", \"gridwidth\": 2, \"linecolor\": \"white\", \"showbackground\": true, \"ticks\": \"\", \"zerolinecolor\": \"white\"}}, \"shapedefaults\": {\"line\": {\"color\": \"#2a3f5f\"}}, \"ternary\": {\"aaxis\": {\"gridcolor\": \"white\", \"linecolor\": \"white\", \"ticks\": \"\"}, \"baxis\": {\"gridcolor\": \"white\", \"linecolor\": \"white\", \"ticks\": \"\"}, \"bgcolor\": \"#E5ECF6\", \"caxis\": {\"gridcolor\": \"white\", \"linecolor\": \"white\", \"ticks\": \"\"}}, \"title\": {\"x\": 0.05}, \"xaxis\": {\"automargin\": true, \"gridcolor\": \"white\", \"linecolor\": \"white\", \"ticks\": \"\", \"title\": {\"standoff\": 15}, \"zerolinecolor\": \"white\", \"zerolinewidth\": 2}, \"yaxis\": {\"automargin\": true, \"gridcolor\": \"white\", \"linecolor\": \"white\", \"ticks\": \"\", \"title\": {\"standoff\": 15}, \"zerolinecolor\": \"white\", \"zerolinewidth\": 2}}}},                        {\"responsive\": true}                    ).then(function(){\n",
       "                            \n",
       "var gd = document.getElementById('bff1a3b9-916a-4c9c-84aa-635eda1eb829');\n",
       "var x = new MutationObserver(function (mutations, observer) {{\n",
       "        var display = window.getComputedStyle(gd).display;\n",
       "        if (!display || display === 'none') {{\n",
       "            console.log([gd, 'removed!']);\n",
       "            Plotly.purge(gd);\n",
       "            observer.disconnect();\n",
       "        }}\n",
       "}});\n",
       "\n",
       "// Listen for the removal of the full notebook cells\n",
       "var notebookContainer = gd.closest('#notebook-container');\n",
       "if (notebookContainer) {{\n",
       "    x.observe(notebookContainer, {childList: true});\n",
       "}}\n",
       "\n",
       "// Listen for the clearing of the current output cell\n",
       "var outputEl = gd.closest('.output');\n",
       "if (outputEl) {{\n",
       "    x.observe(outputEl, {childList: true});\n",
       "}}\n",
       "\n",
       "                        })                };                });            </script>        </div>"
      ]
     },
     "metadata": {},
     "output_type": "display_data"
    }
   ],
   "source": [
    "# 팀별 득점 평균과 도움 평균 비교\n",
    "fig = go.Figure()\n",
    "fig.add_trace(\n",
    "go.Scatter(\n",
    "x = team.index, y= team['득점정렬'],mode='lines+markers+text', name='팀별 득점 평균',textposition = 'top center'\n",
    ")\n",
    ")\n",
    "\n",
    "fig.add_trace(\n",
    "go.Scatter(\n",
    "x=team.index, y = team['도움정렬'], mode = 'lines+markers+text', name = '팀별 도움 평균', text = df.index, textposition = 'top center'))\n",
    "\n",
    "fig.show()"
   ]
  },
  {
   "cell_type": "markdown",
   "metadata": {},
   "source": [
    "- 토트넘이 두가지 모두 다 가장 높은 평균을 보여주고 있고, 첼시가 가장 낮은 평균을 보여주고 있다."
   ]
  },
  {
   "cell_type": "markdown",
   "metadata": {},
   "source": [
    "- 현재 EPL 순위는 맨시티 -> 맨유 -> 첼시 -> 리버풀 -> 토트넘 순이다.\n",
    "- 하지만 위에 결과만 보았을 경우 예상하지 못한 결과를 나태내고 있다.\n",
    "- 그 이유는 비교에 사용되었던 자료들은 현재 상위 100명만 포함하고 있는데 토트넘의 경우에는 상위 100명 안에서도 높은 평균을 보유하고 있다고 예측된다. 다른팀에 비해 토트넘은 몇몇 선수들에게만 의존하는 경향을 알 수 있고 1위의 맨시티의 경우에는 모든 팀원들이 골고루 활약한다는 것을 알 수 있다."
   ]
  },
  {
   "cell_type": "code",
   "execution_count": null,
   "metadata": {},
   "outputs": [],
   "source": []
  }
 ],
 "metadata": {
  "kernelspec": {
   "display_name": "Python 3",
   "language": "python",
   "name": "python3"
  },
  "language_info": {
   "codemirror_mode": {
    "name": "ipython",
    "version": 3
   },
   "file_extension": ".py",
   "mimetype": "text/x-python",
   "name": "python",
   "nbconvert_exporter": "python",
   "pygments_lexer": "ipython3",
   "version": "3.8.5"
  }
 },
 "nbformat": 4,
 "nbformat_minor": 4
}
