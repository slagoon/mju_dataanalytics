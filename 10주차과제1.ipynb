{
 "cells": [
  {
   "cell_type": "markdown",
   "metadata": {},
   "source": [
    "# 10주차 단톡방 과제 1\n",
    "- 60171100 윤민혁"
   ]
  },
  {
   "cell_type": "code",
   "execution_count": 58,
   "metadata": {},
   "outputs": [],
   "source": [
    "html = '''\n",
    "<div id=\"wrap\">\n",
    "        <div id=\"kakaoWrap\">\n",
    "    <div id=\"wrapMinidaum\"><div id=\"minidaum\"><strong class=\"minidaum_logo\"><a href=\"http://www.daum.net/?nil_profile=mini&amp;nil_src=daum\" target=\"_top\" class=\"img_logo minidaum_tiara_click\" data-tiara-layer=\"minidaum logo\" data-tiara-action-name=\"미니다음_로고\">Daum</a></strong><div class=\"minidaum_gnb\"><h2 class=\"screen_out\">서비스 바로가기</h2><div id=\"minidaumUser\"><a href=\"https://logins.daum.net/accounts/loginform.do?url=http%3A%2F%2Ffinance.daum.net%2Fdomestic%2Fmarket_cap\" target=\"_top\" id=\"btnMinidaumLogin\" class=\"minidaum_login minidaum_tiara_click\" data-tiara-layer=\"minidaum login\" data-tiara-action-name=\"미니다음_로고\">로그인</a></div><div id=\"minidaumService\"><div class=\"dsvc_util\"><a href=\"http://mail.daum.net/?nil_profile=mini&amp;nil_src=mail\" id=\"minidaumMail\" class=\"minidaum_mail minidaum_tiara_click\" data-tiara-layer=\"minidaum mail\" data-tiara-action-name=\"미니다음_메일\"><span class=\"img_minidaum ico_dsvc_mail\">메일</span><em class=\"minidaum_count\" id=\"minidaumMailCntWrapper\"><span class=\"screen_out\">받은메일수</span><span id=\"minidaumMailCnt\"></span></em></a><div id=\"minidaumMailLayer\" class=\"minidaum_layer\"><span class=\"img_minidaum ico_arrow\"></span><div class=\"inner_minidaum_layer\"><span class=\"img_minidaum ico_dsvc_notify\"></span><p class=\"minidaum_notify\"><em>메일함이 없습니다</em><br>메일함 생성을 위해선 Daum아이디가 필요합니다</p><a href=\"https://accounts.daum.net/mail/create\" class=\"minidaum_account\">Daum아이디 만들기</a></div></div></div><div class=\"dsvc_util\"><a href=\"http://www.daum.net/doc/sitemap/?nil_profile=mini&amp;nil_src=sitemap\" target=\"_top\" class=\"minidaum_sitemap\" role=\"button\" aria-expanded=\"false\" id=\"minidaumMore\"><span class=\"img_minidaum ico_dsvc_sitemap\">Daum 미니 사이트맵</span></a><div id=\"minidaumMoreLayer\" class=\"minidaum_layer\"><span class=\"img_minidaum ico_arrow\"></span><div class=\"inner_minidaum_layer\"><strong class=\"screen_out\">주요서비스 바로가기</strong><ul class=\"minidaum_list_dsvc\"><li><a href=\"http://cafe.daum.net/?nil_profile=mini&amp;nil_src=cafe\" target=\"_top\" class=\"minidaum_tiara_click\" data-tiara-layer=\"minidaum site_layer cafe\" data-tiara-action-name=\"미니다음_서비스 보기 레이어_서비스명 클릭\"><span class=\"dsvc_thumb\"><img src=\"//t1.daumcdn.net/daumtop_deco/images/common/minidaum/rtn/ic_cafe.png\" width=\"36\" height=\"36\" alt=\"\"></span><span class=\"dsvc_txt\">카페</span></a></li><li><a href=\"https://news.daum.net/?nil_profile=mini&amp;nil_src=news\" target=\"_top\" class=\"minidaum_tiara_click\" data-tiara-layer=\"minidaum site_layer news\" data-tiara-action-name=\"미니다음_서비스 보기 레이어_서비스명 클릭\"><img src=\"//t1.daumcdn.net/daumtop_deco/images/common/minidaum/rtn/ic_news.png\" width=\"36\" height=\"36\" alt=\"\"><span class=\"dsvc_txt\">뉴스</span></a></li><li><a href=\"https://map.kakao.com/?nil_profile=mini&amp;nil_src=map\" class=\"minidaum_tiara_click\" data-tiara-layer=\"minidaum site_layer map\" data-tiara-action-name=\"미니다음_서비스 보기 레이어_서비스명 클릭\"><span class=\"dsvc_thumb\"><img src=\"//t1.daumcdn.net/daumtop_deco/images/common/minidaum/rtn/ic_map.png\" width=\"36\" height=\"36\" alt=\"\"></span><span class=\"dsvc_txt\">지도</span></a></li><li><a href=\"https://shoppinghow.kakao.com/top?nil_profile=mini&amp;nil_src=shophow\" class=\"minidaum_tiara_click\" data-tiara-layer=\"minidaum site_layer shopping\" data-tiara-action-name=\"미니다음_서비스 보기 레이어_서비스명 클릭\"><span class=\"dsvc_thumb\"><img src=\"//t1.daumcdn.net/daumtop_deco/images/common/minidaum/rtn/ic_shopping.png\" width=\"36\" height=\"36\" alt=\"\"></span><span class=\"dsvc_txt\">쇼핑</span></a></li></ul><div class=\"minidaum_listbox\"><strong class=\"screen_out\">서비스 바로가기</strong><strong class=\"minidaum_idx minidaum_idx1\">더보기 1열</strong><ul class=\"minidaum_list_group minidaum_list_group1\"><li><a href=\"http://blog.daum.net/?nil_profile=mini&amp;nil_src=blog\" target=\"_top\" data-tiara-layer=\"minidaum site_layer blog\" data-tiara-action-name=\"미니다음_서비스 보기 레이어_서비스명 클릭\">블로그</a></li><li><a href=\"https://www.tistory.com/?nil_profile=mini&amp;nil_src=tistory\" target=\"_top\" data-tiara-layer=\"minidaum site_layer tistory\" data-tiara-action-name=\"미니다음_서비스 보기 레이어_서비스명 클릭\">티스토리</a></li><li><a href=\"https://brunch.co.kr/?nil_profile=mini&amp;nil_src=brunch\" target=\"_top\" data-tiara-layer=\"minidaum site_layer brunch\" data-tiara-action-name=\"미니다음_서비스 보기 레이어_서비스명 클릭\">브런치</a></li><li><a href=\"https://together.kakao.com/?nil_profile=mini&amp;nil_src=together\" target=\"_top\" data-tiara-layer=\"minidaum site_layer together\" data-tiara-action-name=\"미니다음_서비스 보기 레이어_서비스명 클릭\">같이가치</a></li><li><a href=\"https://tv.kakao.com/?nil_profile=mini&amp;nil_src=kakaotv\" target=\"_top\" data-tiara-layer=\"minidaum site_layer kakaotv\" data-tiara-action-name=\"미니다음_서비스 보기 레이어_서비스명 클릭\">카카오TV</a></li><li><a href=\"http://game.daum.net/?nil_profile=mini&amp;nil_src=game\" target=\"_top\" data-tiara-layer=\"minidaum site_layer game\" data-tiara-action-name=\"미니다음_서비스 보기 레이어_서비스명 클릭\">게임</a></li></ul> <strong class=\"minidaum_idx minidaum_idx2\">더보기 2열</strong><ul class=\"minidaum_list_group minidaum_list_group2\"><li><a href=\"https://sports.daum.net/?nil_profile=mini&amp;nil_src=sports\" target=\"_top\" data-tiara-layer=\"minidaum site_layer sports\" data-tiara-action-name=\"미니다음_서비스 보기 레이어_서비스명 클릭\">스포츠</a></li><li><a href=\"https://entertain.daum.net/?nil_profile=mini&amp;nil_src=entertain\" target=\"_top\" data-tiara-layer=\"minidaum site_layer entertain\" data-tiara-action-name=\"미니다음_서비스 보기 레이어_서비스명 클릭\">연예</a></li><li><a href=\"https://realty.daum.net/?nil_profile=mini&amp;nil_src=realty\" target=\"_top\" data-tiara-layer=\"minidaum site_layer realty\" data-tiara-action-name=\"미니다음_서비스 보기 레이어_서비스명 클릭\">부동산</a></li><li><a href=\"https://movie.daum.net/main\" target=\"_top\" data-tiara-layer=\"minidaum site_layer movie\" data-tiara-action-name=\"미니다음_서비스 보기 레이어_서비스명 클릭\">영화</a></li><li><a href=\"http://webtoon.daum.net/?nil_profile=mini&amp;nil_src=webtoon\" target=\"_top\" data-tiara-layer=\"minidaum site_layer webtoon\" data-tiara-action-name=\"미니다음_서비스 보기 레이어_서비스명 클릭\">웹툰</a></li><li><a href=\"https://www.melon.com/?nil_profile=mini&amp;nil_src=melon\" target=\"_top\" data-tiara-layer=\"minidaum site_layer melon\" data-tiara-action-name=\"미니다음_서비스 보기 레이어_서비스명 클릭\">멜론</a></li></ul> <strong class=\"minidaum_idx minidaum_idx3\">더보기 3열</strong><ul class=\"minidaum_list_group minidaum_list_group3\"><li><a href=\"https://dic.daum.net/?nil_profile=mini&amp;nil_src=dic\" target=\"_top\" data-tiara-layer=\"minidaum site_layer dic\" data-tiara-action-name=\"미니다음_서비스 보기 레이어_서비스명 클릭\">어학사전</a></li><li><a href=\"https://translate.kakao.com/\" target=\"_top\" data-tiara-layer=\"minidaum site_layer translate\" data-tiara-action-name=\"미니다음_서비스 보기 레이어_서비스명 클릭\">번역</a></li><li><a href=\"https://wordbook.daum.net/my/search/log.do?dic_type=endic\" target=\"_top\" data-tiara-layer=\"minidaum site_layer wordbook\" data-tiara-action-name=\"미니다음_서비스 보기 레이어_서비스명 클릭\">단어장</a></li><li><a href=\"https://dic.daum.net/grammar_checker.do\" target=\"_top\" data-tiara-layer=\"minidaum site_layer grammar_checker\" data-tiara-action-name=\"미니다음_서비스 보기 레이어_서비스명 클릭\">맞춤법검사</a></li><li><a href=\"http://100.daum.net/\" target=\"_top\" data-tiara-layer=\"minidaum site_layer 100\" data-tiara-action-name=\"미니다음_서비스 보기 레이어_서비스명 클릭\">백과사전</a></li></ul> <strong class=\"minidaum_idx minidaum_idx4\">더보기 4열</strong><ul class=\"minidaum_list_group minidaum_list_group4\"><li><a href=\"http://finance.daum.net/\" target=\"_top\" data-tiara-layer=\"minidaum site_layer finance\" data-tiara-action-name=\"미니다음_서비스 보기 레이어_서비스명 클릭\">금융</a></li><li><a href=\"https://realty.daum.net/\" target=\"_top\" data-tiara-layer=\"minidaum site_layer realty\" data-tiara-action-name=\"미니다음_서비스 보기 레이어_서비스명 클릭\">부동산</a></li><li><a href=\"https://auto.daum.net/\" target=\"_top\" data-tiara-layer=\"minidaum site_layer auto\" data-tiara-action-name=\"미니다음_서비스 보기 레이어_서비스명 클릭\">자동차</a></li><li><a href=\"https://makers.kakao.com/\" target=\"_top\" data-tiara-layer=\"minidaum site_layer makers\" data-tiara-action-name=\"미니다음_서비스 보기 레이어_서비스명 클릭\">메이커스</a></li><li class=\"last minidaum_all\"><a href=\"http://www.daum.net/doc/sitemap/?nil_profile=mini&amp;nil_src=all\" target=\"_top\" data-tiara-layer=\"minidaum site_layer sitemap\" data-tiara-action-name=\"미니다음_서비스 보기 레이어_전체보기 클릭\">전체보기</a></li></ul></div></div></div></div></div></div></div></div>\n",
    "</div>\n",
    "\n",
    "<script>\n",
    "    requirejs([\"/dist/daum/app/config.js?v=1617348053\"], function (common) {\n",
    "        require([\"app/common/mini_daum\"]);\n",
    "    });\n",
    "</script>\n",
    "    \n",
    "ㄹ\n",
    "        <div class=\"header\">\n",
    "    <div class=\"head_media f_clear\">\n",
    "        <h1><a href=\"//finance.daum.net\" id=\"kakaoServiceLogo\" class=\"#gnb #default #service_finance\"><span class=\"ir_wa\">금융</span></a></h1>\n",
    "        <strong class=\"screen_out\">관련서비스</strong>\n",
    "        <ul class=\"kakaoRelServices\">\n",
    "            <li><a href=\"http://realestate.daum.net\"><span class=\"ir_wa\">부동산</span></a></li>\n",
    "        </ul>\n",
    "        <h2 class=\"screen_out\">검색</h2>\n",
    "        <div class=\"search_news\" id=\"boxSearch\"><form action=\"/quotes\">\n",
    "    <fieldset>\n",
    "        <legend class=\"screen_out\">검색어 입력폼</legend>\n",
    "        <div class=\"box_searchbar\" id=\"boxSearchbar\">\n",
    "            <label class=\"lab_search\" for=\"\">종목명, 종목코드를 입력해주세요</label>\n",
    "            <input type=\"text\" class=\"tf_keyword\" id=\"inpSearchStock\" value=\"\" maxlength=\"30\" autocomplete=\"off\">\n",
    "            <button class=\"btn_search\" id=\"btnSearchStock\"><span class=\"ir_wa\">검색</span></button><span style=\"display: none\" class=\"layerB\"></span>\n",
    "\n",
    "            <!-- NOTE: 검색 제안창이 addon 됩니다. -->\n",
    "            <!-- <span class=\"layerB\" id=\"boxAutoComplete\" ></span> -->\n",
    "\n",
    "        </div>\n",
    "    </fieldset>\n",
    "</form>\n",
    "</div>\n",
    "\n",
    "        \n",
    "<script>\n",
    "    requirejs([\"/dist/daum/app/config.js?v=1617348053\"], function (common) {\n",
    "        require([\"app/common/search\"]);\n",
    "    });\n",
    "</script>\n",
    "    \n",
    "\n",
    "    </div>\n",
    "    <div id=\"kakaoGnb\" role=\"navigation\">\n",
    "        <div class=\"inner_gnb\">\n",
    "            <h2 class=\"screen_out\">금융 메인메뉴</h2>\n",
    "            <ul class=\"gnb_comm\">\n",
    "                <li class=\"\">\n",
    "                    <a href=\"/\" class=\"link_gnb link_gnb1\">\n",
    "                        <span class=\"screen_out\">선택됨</span>\n",
    "                        <span class=\"ir_wa\">홈</span>\n",
    "                        <span class=\"bar_gnb\"><span class=\"inner_bar\"></span></span>\n",
    "                    </a>\n",
    "                </li>\n",
    "                <li class=\"on\">\n",
    "                    <a href=\"/domestic\" class=\"link_gnb link_gnb2\">\n",
    "                        <span class=\"ir_wa\">국내</span>\n",
    "                        <span class=\"bar_gnb\"><span class=\"inner_bar\"></span></span>\n",
    "                    </a>\n",
    "                </li>\n",
    "                <li class=\"\">\n",
    "                    <a href=\"/global\" class=\"link_gnb link_gnb3\">\n",
    "                        <span class=\"ir_wa\">해외</span>\n",
    "                        <span class=\"bar_gnb\"><span class=\"inner_bar\"></span></span>\n",
    "                    </a>\n",
    "                </li>\n",
    "                <li class=\"\">\n",
    "                    <a href=\"/news\" class=\"link_gnb link_gnb4\">\n",
    "                        <span class=\"ir_wa\">뉴스</span>\n",
    "                        <span class=\"bar_gnb\"><span class=\"inner_bar\"></span></span>\n",
    "                    </a>\n",
    "                </li>\n",
    "                <li class=\"\">\n",
    "                    <a href=\"/investment\" class=\"link_gnb link_gnb5\">\n",
    "                        <span class=\"ir_wa\">투자정보</span>\n",
    "                        <span class=\"bar_gnb\"><span class=\"inner_bar\"></span></span>\n",
    "                    </a>\n",
    "                </li>\n",
    "                <li class=\"\">\n",
    "                    <a href=\"/talks\" class=\"link_gnb link_gnb6\">\n",
    "                        <span class=\"ir_wa\">종목토론</span>\n",
    "                        <span class=\"bar_gnb\"><span class=\"inner_bar\"></span></span>\n",
    "                    </a>\n",
    "                </li>\n",
    "                <li class=\"\">\n",
    "                    <a href=\"/my\" class=\"link_gnb link_gnb8\">\n",
    "                        <span class=\"ir_wa\">MY</span>\n",
    "                        <span class=\"bar_gnb\"><span class=\"inner_bar\"></span></span>\n",
    "                    </a>\n",
    "                </li>\n",
    "            </ul>\n",
    "            <div class=\"gnb_etc\">\n",
    "                <ul class=\"gnb_with\">\n",
    "                    <li class=\"\">\n",
    "                        <a href=\"/exchanges\" class=\"link_gnb link_gnb1\">\n",
    "                            <span class=\"ir_wa\">환율</span>\n",
    "                            <span class=\"bar_gnb\"><span class=\"inner_bar\"></span></span>\n",
    "                        </a>\n",
    "                    </li>\n",
    "                    <li>\n",
    "                        <a href=\"https://insurance.dunamu.com\" class=\"link_gnb link_gnb3\">\n",
    "                            <span class=\"ir_wa\">보험</span>\n",
    "                            <span class=\"bar_gnb\"><span class=\"inner_bar\"></span></span>\n",
    "                        </a>\n",
    "                    </li>\n",
    "                </ul>\n",
    "                <div class=\"gnb_banner\">\n",
    "                    <a href=\"https://ustockplus.onelink.me/FwJh/92a66d9b\" target=\"_blank\" class=\"btnKakaoStockBanner\"><span class=\"ir_wa\">IPO 전 종목을 찾고 있다면? 증권플러스 비상장</span></a>\n",
    "                </div>\n",
    "            </div>\n",
    "        </div>\n",
    "    </div>\n",
    "</div>\n",
    "<div id=\"notice\"></div>\n",
    "\n",
    "\n",
    "\n",
    "        <div class=\"contents\">\n",
    "            <div class=\"SNB\" id=\"boxSidebar\"><h3><a href=\"/domestic\" title=\"국내증시\">국내증시</a></h3>\n",
    "\n",
    "<span>\n",
    "    <h4><a href=\"javascript:void(0)\" class=\"nolink\" title=\"주요시세정보\">주요시세정보</a></h4>\n",
    "    <ul>\n",
    "    \n",
    "        <li>\n",
    "        \n",
    "            <a href=\"/domestic/kospi\" class=\"\" title=\"코스피\">코스피</a>\n",
    "        \n",
    "            <a href=\"/domestic/kosdaq\" class=\"\" title=\"코스닥\">코스닥</a>\n",
    "        \n",
    "        </li>\n",
    "    \n",
    "        <li>\n",
    "        \n",
    "            <a href=\"/domestic/kospi200\" class=\"\" title=\"코스피200\">코스피200</a>\n",
    "        \n",
    "            <a href=\"/domestic/etf\" class=\"\" title=\"ETF\">ETF</a>\n",
    "        \n",
    "        </li>\n",
    "    \n",
    "        <li>\n",
    "        \n",
    "            <a href=\"/domestic/futures\" class=\"\" title=\"선물\">선물</a>\n",
    "        \n",
    "            <a href=\"/domestic/options\" class=\"\" title=\"옵션\">옵션</a>\n",
    "        \n",
    "        </li>\n",
    "    \n",
    "    </ul>\n",
    "</span>\n",
    "\n",
    "<span>\n",
    "    <h4><a href=\"javascript:void(0)\" class=\"nolink\" title=\"업종별 시세\">업종별 시세</a></h4>\n",
    "    <ul>\n",
    "    \n",
    "        <li>\n",
    "        \n",
    "            <a href=\"/domestic/wics\" class=\"\" title=\"WICS\">WICS</a>\n",
    "        \n",
    "            <a href=\"/domestic/krx100\" class=\"\" title=\"KRX100\">KRX100</a>\n",
    "        \n",
    "        </li>\n",
    "    \n",
    "        <li>\n",
    "        \n",
    "            <a href=\"/domestic/sectors\" class=\"\" title=\"전체 업종 시세\">전체 업종 시세</a>\n",
    "        \n",
    "        </li>\n",
    "    \n",
    "    </ul>\n",
    "</span>\n",
    "\n",
    "<span>\n",
    "    <h4><a href=\"javascript:void(0)\" class=\"nolink\" title=\"종목랭킹 검색\">종목랭킹 검색</a></h4>\n",
    "    <ul>\n",
    "    \n",
    "        <li>\n",
    "        \n",
    "            <a href=\"/domestic/market_cap\" class=\"on\" title=\"시가총액별\">시가총액별</a>\n",
    "        \n",
    "        </li>\n",
    "    \n",
    "        <li>\n",
    "        \n",
    "            <a href=\"/domestic/volume\" class=\"\" title=\"거래량별\">거래량별</a>\n",
    "        \n",
    "        </li>\n",
    "    \n",
    "        <li>\n",
    "        \n",
    "            <a href=\"/domestic/rise_stocks\" class=\"\" title=\"상승률\">상승률</a>\n",
    "        \n",
    "            <a href=\"/domestic/fall_stocks\" class=\"\" title=\"하락률\">하락률</a>\n",
    "        \n",
    "        </li>\n",
    "    \n",
    "        <li>\n",
    "        \n",
    "            <a href=\"/domestic/after_hours\" class=\"\" title=\"시간외 단일가\">시간외 단일가</a>\n",
    "        \n",
    "        </li>\n",
    "    \n",
    "    </ul>\n",
    "</span>\n",
    "\n",
    "<span>\n",
    "    <h4><a href=\"javascript:void(0)\" class=\"nolink\" title=\"거래원별 종목랭킹\">거래원별 종목랭킹</a></h4>\n",
    "    <ul>\n",
    "    \n",
    "        <li>\n",
    "        \n",
    "            <a href=\"/domestic/influential_investors\" class=\"\" title=\"외국인/기관매매\">외국인/기관매매</a>\n",
    "        \n",
    "        </li>\n",
    "    \n",
    "        <li>\n",
    "        \n",
    "            <a href=\"/domestic/foreign_shares\" class=\"\" title=\"외국인 보유율 상위\">외국인 보유율 상위</a>\n",
    "        \n",
    "        </li>\n",
    "    \n",
    "        <li>\n",
    "        \n",
    "            <a href=\"/domestic/investors\" class=\"\" title=\"투자주체별 동향\">투자주체별 동향</a>\n",
    "        \n",
    "        </li>\n",
    "    \n",
    "        <li>\n",
    "        \n",
    "            <a href=\"/domestic/arounds\" class=\"\" title=\"증시주변자금동향\">증시주변자금동향</a>\n",
    "        \n",
    "        </li>\n",
    "    \n",
    "    </ul>\n",
    "</span>\n",
    "\n",
    "<span>\n",
    "    <h4><a href=\"javascript:void(0)\" class=\"nolink\" title=\"시장감시\">시장감시</a></h4>\n",
    "    <ul>\n",
    "    \n",
    "        <li>\n",
    "        \n",
    "            <a href=\"/domestic/managements\" class=\"\" title=\"관리종목\">관리종목</a>\n",
    "        \n",
    "        </li>\n",
    "    \n",
    "        <li>\n",
    "        \n",
    "            <a href=\"/domestic/trading_halts\" class=\"\" title=\"거래정지\">거래정지</a>\n",
    "        \n",
    "        </li>\n",
    "    \n",
    "        <li>\n",
    "        \n",
    "            <a href=\"/domestic/investment_alerts\" class=\"\" title=\"시장경보\">시장경보</a>\n",
    "        \n",
    "        </li>\n",
    "    \n",
    "    </ul>\n",
    "</span>\n",
    "\n",
    "<span>\n",
    "    <h4><a href=\"javascript:void(0)\" class=\"nolink\" title=\"이슈/테마\">이슈/테마</a></h4>\n",
    "    <ul>\n",
    "    \n",
    "        <li>\n",
    "        \n",
    "            <a href=\"/domestic/themes\" class=\"\" title=\"테마별 대장주\">테마별 대장주</a>\n",
    "        \n",
    "        </li>\n",
    "    \n",
    "        <li>\n",
    "        \n",
    "            <a href=\"/domestic/calendar\" class=\"\" title=\"증시 캘린더\">증시 캘린더</a>\n",
    "        \n",
    "        </li>\n",
    "    \n",
    "        <li>\n",
    "        \n",
    "            <a href=\"/domestic/new_listings\" class=\"\" title=\"신규상장\">신규상장</a>\n",
    "        \n",
    "        </li>\n",
    "    \n",
    "    </ul>\n",
    "</span>\n",
    "\n",
    "<span>\n",
    "    <h4><a href=\"javascript:void(0)\" class=\"nolink\" title=\"기타\">기타</a></h4>\n",
    "    <ul>\n",
    "    \n",
    "        <li>\n",
    "        \n",
    "            <a href=\"/domestic/unlisted\" class=\"\" title=\"비상장/IPO기업\">비상장/IPO기업</a>\n",
    "        \n",
    "        </li>\n",
    "    \n",
    "        <li>\n",
    "        \n",
    "            <a href=\"/domestic/exchange\" class=\"\" title=\"환율/원자재/금리\">환율/원자재/금리</a>\n",
    "        \n",
    "        </li>\n",
    "    \n",
    "    </ul>\n",
    "</span>\n",
    "\n",
    "<span>\n",
    "    <h4><a href=\"javascript:void(0)\" class=\"nolink\" title=\"한번에 보기\">한번에 보기</a></h4>\n",
    "    <ul>\n",
    "    \n",
    "        <li>\n",
    "        \n",
    "            <a href=\"/domestic/all_stocks\" class=\"\" title=\"전종목 시세\">전종목 시세</a>\n",
    "        \n",
    "        </li>\n",
    "    \n",
    "        <li>\n",
    "        \n",
    "            <a href=\"/domestic/chart\" class=\"\" title=\"종합 차트 검색\">종합 차트 검색</a>\n",
    "        \n",
    "        </li>\n",
    "    \n",
    "        <li>\n",
    "        \n",
    "            <a href=\"/domestic/chart_slides\" class=\"\" title=\"차트 슬라이드\">차트 슬라이드</a>\n",
    "        \n",
    "        </li>\n",
    "    \n",
    "    </ul>\n",
    "</span>\n",
    "\n",
    "<div class=\"sponsor\">\n",
    "    <a href=\"https://ustockplus.onelink.me/FwJh/79b9e728\" target=\"_blank\" class=\"btnKakaoStockBanner\"><img src=\"/images/sponsor_110_110.png\" alt=\"유망주부터 유니콘까지 증권플러스 비상장\"></a>\n",
    "</div>\n",
    "</div>\n",
    "\n",
    "\n",
    "            \n",
    "<div class=\"inner\" id=\"boxApp\">\n",
    "    <div class=\"leftW\">\n",
    "        <div class=\"titB\">\n",
    "            <h3>시가총액상위</h3>\n",
    "            <span id=\"boxMarketStatus\">05.07 장종료</span>\n",
    "        </div>\n",
    "        \n",
    "        \n",
    "\n",
    "\n",
    "<table class=\"tab\">\n",
    "    <colgroup>\n",
    "        <col width=\"100\">\n",
    "        <col width=\"100\">\n",
    "        <col width=\"*\">\n",
    "    </colgroup>\n",
    "    <tbody>\n",
    "        <tr>\n",
    "            <td class=\"on\"><a href=\"?market=KOSPI\" title=\"코스피\">코스피</a></td>\n",
    "            <td class=\"\"><a href=\"?market=KOSDAQ\" title=\"코스닥\">코스닥</a></td>\n",
    "            <td class=\"last\">\n",
    "                \n",
    "                    <a href=\"/domestic/chart_slides/market_cap?market=KOSPI\" class=\"btnChart\" title=\"차트슬라이드\"><i>-</i>차트슬라이드</a>\n",
    "                \n",
    "            </td>\n",
    "        </tr>\n",
    "    </tbody>\n",
    "</table>\n",
    "\n",
    "\n",
    "        <div class=\"tableB mt\" id=\"boxMarketCap\">\n",
    "<div class=\"tab\">\n",
    "    \n",
    "        <h4>코스피</h4>\n",
    "    \n",
    "\n",
    "    \n",
    "\n",
    "    \n",
    "        <p class=\"discription\"><i>i</i>단위 : %, 억원</p>\n",
    "    \n",
    "</div>\n",
    "\n",
    "<div class=\"box_contents\"><div style=\"display: block;\"><table>\n",
    "    <colgroup>\n",
    "        <col width=\"44\">\n",
    "        <col width=\"*\">\n",
    "        <col width=\"84\">\n",
    "        <col width=\"84\">\n",
    "        <col width=\"84\">\n",
    "        <col width=\"84\">\n",
    "        <col width=\"94\">\n",
    "        <col width=\"84\">\n",
    "    </colgroup>\n",
    "    <thead>\n",
    "        <tr>\n",
    "            <th class=\"lAlign\">순위</th>\n",
    "            <th class=\"lAlign\">종목명</th>\n",
    "            <th class=\"rAlign\">현재가</th>\n",
    "            <th class=\"rAlign\">전일비</th>\n",
    "            <th class=\"rAlign\">\n",
    "                <a href=\"javascript:void(0)\" class=\"\" data-field-name=\"changeRate\">등락률 <i>-</i></a>\n",
    "            </th>\n",
    "            <th class=\"rAlign\">\n",
    "                <a href=\"javascript:void(0)\" class=\"\" data-field-name=\"marketCap\">시가총액 <i>-</i></a>\n",
    "            </th>\n",
    "            <th class=\"rAlign\">\n",
    "                <a href=\"javascript:void(0)\" class=\"\" data-field-name=\"listedShareCount\">상장주식수 <i>-</i></a>\n",
    "            </th>\n",
    "            <th class=\"rAlign last\">\n",
    "                <a href=\"javascript:void(0)\" class=\"\" data-field-name=\"foreignRatio\">외국인 <i>-</i></a>\n",
    "            </th>\n",
    "        </tr>\n",
    "    </thead>\n",
    "    <tbody><tr class=\"first\"><td class=\"first\"><span class=\"time\">1</span></td>\n",
    "<td><a href=\"/quotes/A005930\" class=\"txt\">삼성전자</a></td>\n",
    "<td>\n",
    "    <span class=\"num\" data-realtime-trade-price=\"yes\">\n",
    "        81,900\n",
    "    </span>\n",
    "</td>\n",
    "<td>\n",
    "    <span class=\"num down\" data-realtime-change-price=\"yes\">\n",
    "        <i>▼</i>400\n",
    "    </span>\n",
    "</td>\n",
    "<td>\n",
    "    <span class=\"num down\" data-realtime-change-ratio=\"yes\">\n",
    "        -0.49%\n",
    "    </span>\n",
    "</td>\n",
    "<td>\n",
    "    <span class=\"num\">\n",
    "        4,889,252\n",
    "    </span>\n",
    "</td>\n",
    "<td>\n",
    "    <span class=\"num\">\n",
    "        5,969,782,550\n",
    "    </span>\n",
    "</td>\n",
    "<td class=\"pR\">\n",
    "    <span class=\"num\">\n",
    "        54.49%\n",
    "    </span>\n",
    "</td>\n",
    "</tr><tr><td class=\"first\"><span class=\"time\">2</span></td>\n",
    "<td><a href=\"/quotes/A000660\" class=\"txt\">SK하이닉스</a></td>\n",
    "<td>\n",
    "    <span class=\"num\" data-realtime-trade-price=\"yes\">\n",
    "        129,500\n",
    "    </span>\n",
    "</td>\n",
    "<td>\n",
    "    <span class=\"num up\" data-realtime-change-price=\"yes\">\n",
    "        <i>▲</i>500\n",
    "    </span>\n",
    "</td>\n",
    "<td>\n",
    "    <span class=\"num up\" data-realtime-change-ratio=\"yes\">\n",
    "        +0.39%\n",
    "    </span>\n",
    "</td>\n",
    "<td>\n",
    "    <span class=\"num\">\n",
    "        942,763\n",
    "    </span>\n",
    "</td>\n",
    "<td>\n",
    "    <span class=\"num\">\n",
    "        728,002,365\n",
    "    </span>\n",
    "</td>\n",
    "<td class=\"pR\">\n",
    "    <span class=\"num\">\n",
    "        49.84%\n",
    "    </span>\n",
    "</td>\n",
    "</tr><tr><td class=\"first\"><span class=\"time\">3</span></td>\n",
    "<td><a href=\"/quotes/A051910\" class=\"txt\">LG화학</a></td>\n",
    "<td>\n",
    "    <span class=\"num\" data-realtime-trade-price=\"yes\">\n",
    "        919,000\n",
    "    </span>\n",
    "</td>\n",
    "<td>\n",
    "    <span class=\"num down\" data-realtime-change-price=\"yes\">\n",
    "        <i>▼</i>19,000\n",
    "    </span>\n",
    "</td>\n",
    "<td>\n",
    "    <span class=\"num down\" data-realtime-change-ratio=\"yes\">\n",
    "        -2.03%\n",
    "    </span>\n",
    "</td>\n",
    "<td>\n",
    "    <span class=\"num\">\n",
    "        648,744\n",
    "    </span>\n",
    "</td>\n",
    "<td>\n",
    "    <span class=\"num\">\n",
    "        70,592,343\n",
    "    </span>\n",
    "</td>\n",
    "<td class=\"pR\">\n",
    "    <span class=\"num\">\n",
    "        45.72%\n",
    "    </span>\n",
    "</td>\n",
    "</tr><tr><td class=\"first\"><span class=\"time\">4</span></td>\n",
    "<td><a href=\"/quotes/A005935\" class=\"txt\">삼성전자우</a></td>\n",
    "<td>\n",
    "    <span class=\"num\" data-realtime-trade-price=\"yes\">\n",
    "        74,800\n",
    "    </span>\n",
    "</td>\n",
    "<td>\n",
    "    <span class=\"num up\" data-realtime-change-price=\"yes\">\n",
    "        <i>▲</i>300\n",
    "    </span>\n",
    "</td>\n",
    "<td>\n",
    "    <span class=\"num up\" data-realtime-change-ratio=\"yes\">\n",
    "        +0.40%\n",
    "    </span>\n",
    "</td>\n",
    "<td>\n",
    "    <span class=\"num\">\n",
    "        615,519\n",
    "    </span>\n",
    "</td>\n",
    "<td>\n",
    "    <span class=\"num\">\n",
    "        822,886,700\n",
    "    </span>\n",
    "</td>\n",
    "<td class=\"pR\">\n",
    "    <span class=\"num\">\n",
    "        77.11%\n",
    "    </span>\n",
    "</td>\n",
    "</tr><tr class=\"last\"><td class=\"first\"><span class=\"time\">5</span></td>\n",
    "<td><a href=\"/quotes/A035420\" class=\"txt\">NAVER</a></td>\n",
    "<td>\n",
    "    <span class=\"num\" data-realtime-trade-price=\"yes\">\n",
    "        361,000\n",
    "    </span>\n",
    "</td>\n",
    "<td>\n",
    "    <span class=\"num down\" data-realtime-change-price=\"yes\">\n",
    "        <i>▼</i>500\n",
    "    </span>\n",
    "</td>\n",
    "<td>\n",
    "    <span class=\"num down\" data-realtime-change-ratio=\"yes\">\n",
    "        -0.14%\n",
    "    </span>\n",
    "</td>\n",
    "<td>\n",
    "    <span class=\"num\">\n",
    "        592,991\n",
    "    </span>\n",
    "</td>\n",
    "<td>\n",
    "    <span class=\"num\">\n",
    "        164,263,395\n",
    "    </span>\n",
    "</td>\n",
    "<td class=\"pR\">\n",
    "    <span class=\"num\">\n",
    "        56.90%\n",
    "    </span>\n",
    "</td>\n",
    "</tr><tr class=\"line\"><td class=\"first\"><span class=\"time\">6</span></td>\n",
    "<td><a href=\"/quotes/A207940\" class=\"txt\">삼성바이오로직스</a></td>\n",
    "<td>\n",
    "    <span class=\"num\" data-realtime-trade-price=\"yes\">\n",
    "        804,000\n",
    "    </span>\n",
    "</td>\n",
    "<td>\n",
    "    <span class=\"num up\" data-realtime-change-price=\"yes\">\n",
    "        <i>▲</i>21,000\n",
    "    </span>\n",
    "</td>\n",
    "<td>\n",
    "    <span class=\"num up\" data-realtime-change-ratio=\"yes\">\n",
    "        +2.68%\n",
    "    </span>\n",
    "</td>\n",
    "<td>\n",
    "    <span class=\"num\">\n",
    "        531,967\n",
    "    </span>\n",
    "</td>\n",
    "<td>\n",
    "    <span class=\"num\">\n",
    "        66,165,000\n",
    "    </span>\n",
    "</td>\n",
    "<td class=\"pR\">\n",
    "    <span class=\"num\">\n",
    "        10.25%\n",
    "    </span>\n",
    "</td>\n",
    "</tr><tr><td class=\"first\"><span class=\"time\">7</span></td>\n",
    "<td><a href=\"/quotes/A035720\" class=\"txt\">카카오</a></td>\n",
    "<td>\n",
    "    <span class=\"num\" data-realtime-trade-price=\"yes\">\n",
    "        114,500\n",
    "    </span>\n",
    "</td>\n",
    "<td>\n",
    "    <span class=\"num down\" data-realtime-change-price=\"yes\">\n",
    "        <i>▼</i>500\n",
    "    </span>\n",
    "</td>\n",
    "<td>\n",
    "    <span class=\"num down\" data-realtime-change-ratio=\"yes\">\n",
    "        -0.43%\n",
    "    </span>\n",
    "</td>\n",
    "<td>\n",
    "    <span class=\"num\">\n",
    "        508,162\n",
    "    </span>\n",
    "</td>\n",
    "<td>\n",
    "    <span class=\"num\">\n",
    "        443,809,305\n",
    "    </span>\n",
    "</td>\n",
    "<td class=\"pR\">\n",
    "    <span class=\"num\">\n",
    "        33.25%\n",
    "    </span>\n",
    "</td>\n",
    "</tr><tr><td class=\"first\"><span class=\"time\">8</span></td>\n",
    "<td><a href=\"/quotes/A005380\" class=\"txt\">현대차</a></td>\n",
    "<td>\n",
    "    <span class=\"num\" data-realtime-trade-price=\"yes\">\n",
    "        224,000\n",
    "    </span>\n",
    "</td>\n",
    "<td>\n",
    "    <span class=\"num up\" data-realtime-change-price=\"yes\">\n",
    "        <i>▲</i>500\n",
    "    </span>\n",
    "</td>\n",
    "<td>\n",
    "    <span class=\"num up\" data-realtime-change-ratio=\"yes\">\n",
    "        +0.22%\n",
    "    </span>\n",
    "</td>\n",
    "<td>\n",
    "    <span class=\"num\">\n",
    "        478,617\n",
    "    </span>\n",
    "</td>\n",
    "<td>\n",
    "    <span class=\"num\">\n",
    "        213,668,187\n",
    "    </span>\n",
    "</td>\n",
    "<td class=\"pR\">\n",
    "    <span class=\"num\">\n",
    "        30.49%\n",
    "    </span>\n",
    "</td>\n",
    "</tr><tr><td class=\"first\"><span class=\"time\">9</span></td>\n",
    "<td><a href=\"/quotes/A006400\" class=\"txt\">삼성SDI</a></td>\n",
    "<td>\n",
    "    <span class=\"num\" data-realtime-trade-price=\"yes\">\n",
    "        642,000\n",
    "    </span>\n",
    "</td>\n",
    "<td>\n",
    "    <span class=\"num \" data-realtime-change-price=\"yes\">\n",
    "        <i>-</i>\n",
    "    </span>\n",
    "</td>\n",
    "<td>\n",
    "    <span class=\"num \" data-realtime-change-ratio=\"yes\">\n",
    "        0.00%\n",
    "    </span>\n",
    "</td>\n",
    "<td>\n",
    "    <span class=\"num\">\n",
    "        441,468\n",
    "    </span>\n",
    "</td>\n",
    "<td>\n",
    "    <span class=\"num\">\n",
    "        68,764,530\n",
    "    </span>\n",
    "</td>\n",
    "<td class=\"pR\">\n",
    "    <span class=\"num\">\n",
    "        42.70%\n",
    "    </span>\n",
    "</td>\n",
    "</tr><tr class=\"last\"><td class=\"first\"><span class=\"time\">10</span></td>\n",
    "<td><a href=\"/quotes/A068270\" class=\"txt\">셀트리온</a></td>\n",
    "<td>\n",
    "    <span class=\"num\" data-realtime-trade-price=\"yes\">\n",
    "        266,500\n",
    "    </span>\n",
    "</td>\n",
    "<td>\n",
    "    <span class=\"num up\" data-realtime-change-price=\"yes\">\n",
    "        <i>▲</i>14,000\n",
    "    </span>\n",
    "</td>\n",
    "<td>\n",
    "    <span class=\"num up\" data-realtime-change-ratio=\"yes\">\n",
    "        +5.54%\n",
    "    </span>\n",
    "</td>\n",
    "<td>\n",
    "    <span class=\"num\">\n",
    "        366,980\n",
    "    </span>\n",
    "</td>\n",
    "<td>\n",
    "    <span class=\"num\">\n",
    "        137,703,428\n",
    "    </span>\n",
    "</td>\n",
    "<td class=\"pR\">\n",
    "    <span class=\"num\">\n",
    "        20.74%\n",
    "    </span>\n",
    "</td>\n",
    "</tr><tr class=\"line\"><td class=\"first\"><span class=\"time\">11</span></td>\n",
    "<td><a href=\"/quotes/A005490\" class=\"txt\">POSCO</a></td>\n",
    "<td>\n",
    "    <span class=\"num\" data-realtime-trade-price=\"yes\">\n",
    "        398,000\n",
    "    </span>\n",
    "</td>\n",
    "<td>\n",
    "    <span class=\"num up\" data-realtime-change-price=\"yes\">\n",
    "        <i>▲</i>2,500\n",
    "    </span>\n",
    "</td>\n",
    "<td>\n",
    "    <span class=\"num up\" data-realtime-change-ratio=\"yes\">\n",
    "        +0.63%\n",
    "    </span>\n",
    "</td>\n",
    "<td>\n",
    "    <span class=\"num\">\n",
    "        347,004\n",
    "    </span>\n",
    "</td>\n",
    "<td>\n",
    "    <span class=\"num\">\n",
    "        87,186,835\n",
    "    </span>\n",
    "</td>\n",
    "<td class=\"pR\">\n",
    "    <span class=\"num\">\n",
    "        55.03%\n",
    "    </span>\n",
    "</td>\n",
    "</tr><tr><td class=\"first\"><span class=\"time\">12</span></td>\n",
    "<td><a href=\"/quotes/A000270\" class=\"txt\">기아</a></td>\n",
    "<td>\n",
    "    <span class=\"num\" data-realtime-trade-price=\"yes\">\n",
    "        80,700\n",
    "    </span>\n",
    "</td>\n",
    "<td>\n",
    "    <span class=\"num up\" data-realtime-change-price=\"yes\">\n",
    "        <i>▲</i>500\n",
    "    </span>\n",
    "</td>\n",
    "<td>\n",
    "    <span class=\"num up\" data-realtime-change-ratio=\"yes\">\n",
    "        +0.62%\n",
    "    </span>\n",
    "</td>\n",
    "<td>\n",
    "    <span class=\"num\">\n",
    "        327,128\n",
    "    </span>\n",
    "</td>\n",
    "<td>\n",
    "    <span class=\"num\">\n",
    "        405,363,347\n",
    "    </span>\n",
    "</td>\n",
    "<td class=\"pR\">\n",
    "    <span class=\"num\">\n",
    "        32.76%\n",
    "    </span>\n",
    "</td>\n",
    "</tr><tr><td class=\"first\"><span class=\"time\">13</span></td>\n",
    "<td><a href=\"/quotes/A012330\" class=\"txt\">현대모비스</a></td>\n",
    "<td>\n",
    "    <span class=\"num\" data-realtime-trade-price=\"yes\">\n",
    "        277,500\n",
    "    </span>\n",
    "</td>\n",
    "<td>\n",
    "    <span class=\"num up\" data-realtime-change-price=\"yes\">\n",
    "        <i>▲</i>3,000\n",
    "    </span>\n",
    "</td>\n",
    "<td>\n",
    "    <span class=\"num up\" data-realtime-change-ratio=\"yes\">\n",
    "        +1.09%\n",
    "    </span>\n",
    "</td>\n",
    "<td>\n",
    "    <span class=\"num\">\n",
    "        263,051\n",
    "    </span>\n",
    "</td>\n",
    "<td>\n",
    "    <span class=\"num\">\n",
    "        94,793,094\n",
    "    </span>\n",
    "</td>\n",
    "<td class=\"pR\">\n",
    "    <span class=\"num\">\n",
    "        37.46%\n",
    "    </span>\n",
    "</td>\n",
    "</tr><tr><td class=\"first\"><span class=\"time\">14</span></td>\n",
    "<td><a href=\"/quotes/A096770\" class=\"txt\">SK이노베이션</a></td>\n",
    "<td>\n",
    "    <span class=\"num\" data-realtime-trade-price=\"yes\">\n",
    "        283,500\n",
    "    </span>\n",
    "</td>\n",
    "<td>\n",
    "    <span class=\"num up\" data-realtime-change-price=\"yes\">\n",
    "        <i>▲</i>2,000\n",
    "    </span>\n",
    "</td>\n",
    "<td>\n",
    "    <span class=\"num up\" data-realtime-change-ratio=\"yes\">\n",
    "        +0.71%\n",
    "    </span>\n",
    "</td>\n",
    "<td>\n",
    "    <span class=\"num\">\n",
    "        262,140\n",
    "    </span>\n",
    "</td>\n",
    "<td>\n",
    "    <span class=\"num\">\n",
    "        92,465,564\n",
    "    </span>\n",
    "</td>\n",
    "<td class=\"pR\">\n",
    "    <span class=\"num\">\n",
    "        23.23%\n",
    "    </span>\n",
    "</td>\n",
    "</tr><tr class=\"last\"><td class=\"first\"><span class=\"time\">15</span></td>\n",
    "<td><a href=\"/quotes/A017670\" class=\"txt\">SK텔레콤</a></td>\n",
    "<td>\n",
    "    <span class=\"num\" data-realtime-trade-price=\"yes\">\n",
    "        312,000\n",
    "    </span>\n",
    "</td>\n",
    "<td>\n",
    "    <span class=\"num up\" data-realtime-change-price=\"yes\">\n",
    "        <i>▲</i>2,500\n",
    "    </span>\n",
    "</td>\n",
    "<td>\n",
    "    <span class=\"num up\" data-realtime-change-ratio=\"yes\">\n",
    "        +0.81%\n",
    "    </span>\n",
    "</td>\n",
    "<td>\n",
    "    <span class=\"num\">\n",
    "        251,927\n",
    "    </span>\n",
    "</td>\n",
    "<td>\n",
    "    <span class=\"num\">\n",
    "        80,745,711\n",
    "    </span>\n",
    "</td>\n",
    "<td class=\"pR\">\n",
    "    <span class=\"num\">\n",
    "        39.56%\n",
    "    </span>\n",
    "</td>\n",
    "</tr><tr class=\"line\"><td class=\"first\"><span class=\"time\">16</span></td>\n",
    "<td><a href=\"/quotes/A028260\" class=\"txt\">삼성물산</a></td>\n",
    "<td>\n",
    "    <span class=\"num\" data-realtime-trade-price=\"yes\">\n",
    "        134,500\n",
    "    </span>\n",
    "</td>\n",
    "<td>\n",
    "    <span class=\"num up\" data-realtime-change-price=\"yes\">\n",
    "        <i>▲</i>1,500\n",
    "    </span>\n",
    "</td>\n",
    "<td>\n",
    "    <span class=\"num up\" data-realtime-change-ratio=\"yes\">\n",
    "        +1.13%\n",
    "    </span>\n",
    "</td>\n",
    "<td>\n",
    "    <span class=\"num\">\n",
    "        251,363\n",
    "    </span>\n",
    "</td>\n",
    "<td>\n",
    "    <span class=\"num\">\n",
    "        186,887,081\n",
    "    </span>\n",
    "</td>\n",
    "<td class=\"pR\">\n",
    "    <span class=\"num\">\n",
    "        14.78%\n",
    "    </span>\n",
    "</td>\n",
    "</tr><tr><td class=\"first\"><span class=\"time\">17</span></td>\n",
    "<td><a href=\"/quotes/A066570\" class=\"txt\">LG전자</a></td>\n",
    "<td>\n",
    "    <span class=\"num\" data-realtime-trade-price=\"yes\">\n",
    "        153,000\n",
    "    </span>\n",
    "</td>\n",
    "<td>\n",
    "    <span class=\"num up\" data-realtime-change-price=\"yes\">\n",
    "        <i>▲</i>1,500\n",
    "    </span>\n",
    "</td>\n",
    "<td>\n",
    "    <span class=\"num up\" data-realtime-change-ratio=\"yes\">\n",
    "        +0.99%\n",
    "    </span>\n",
    "</td>\n",
    "<td>\n",
    "    <span class=\"num\">\n",
    "        250,381\n",
    "    </span>\n",
    "</td>\n",
    "<td>\n",
    "    <span class=\"num\">\n",
    "        163,647,814\n",
    "    </span>\n",
    "</td>\n",
    "<td class=\"pR\">\n",
    "    <span class=\"num\">\n",
    "        30.91%\n",
    "    </span>\n",
    "</td>\n",
    "</tr><tr><td class=\"first\"><span class=\"time\">18</span></td>\n",
    "<td><a href=\"/quotes/A051900\" class=\"txt\">LG생활건강</a></td>\n",
    "<td>\n",
    "    <span class=\"num\" data-realtime-trade-price=\"yes\">\n",
    "        1,571,000\n",
    "    </span>\n",
    "</td>\n",
    "<td>\n",
    "    <span class=\"num down\" data-realtime-change-price=\"yes\">\n",
    "        <i>▼</i>10,000\n",
    "    </span>\n",
    "</td>\n",
    "<td>\n",
    "    <span class=\"num down\" data-realtime-change-ratio=\"yes\">\n",
    "        -0.63%\n",
    "    </span>\n",
    "</td>\n",
    "<td>\n",
    "    <span class=\"num\">\n",
    "        245,362\n",
    "    </span>\n",
    "</td>\n",
    "<td>\n",
    "    <span class=\"num\">\n",
    "        15,618,197\n",
    "    </span>\n",
    "</td>\n",
    "<td class=\"pR\">\n",
    "    <span class=\"num\">\n",
    "        46.05%\n",
    "    </span>\n",
    "</td>\n",
    "</tr><tr><td class=\"first\"><span class=\"time\">19</span></td>\n",
    "<td><a href=\"/quotes/A105560\" class=\"txt\">KB금융</a></td>\n",
    "<td>\n",
    "    <span class=\"num\" data-realtime-trade-price=\"yes\">\n",
    "        58,300\n",
    "    </span>\n",
    "</td>\n",
    "<td>\n",
    "    <span class=\"num up\" data-realtime-change-price=\"yes\">\n",
    "        <i>▲</i>800\n",
    "    </span>\n",
    "</td>\n",
    "<td>\n",
    "    <span class=\"num up\" data-realtime-change-ratio=\"yes\">\n",
    "        +1.39%\n",
    "    </span>\n",
    "</td>\n",
    "<td>\n",
    "    <span class=\"num\">\n",
    "        242,416\n",
    "    </span>\n",
    "</td>\n",
    "<td>\n",
    "    <span class=\"num\">\n",
    "        415,807,920\n",
    "    </span>\n",
    "</td>\n",
    "<td class=\"pR\">\n",
    "    <span class=\"num\">\n",
    "        69.41%\n",
    "    </span>\n",
    "</td>\n",
    "</tr><tr class=\"last\"><td class=\"first\"><span class=\"time\">20</span></td>\n",
    "<td><a href=\"/quotes/A055550\" class=\"txt\">신한지주</a></td>\n",
    "<td>\n",
    "    <span class=\"num\" data-realtime-trade-price=\"yes\">\n",
    "        41,500\n",
    "    </span>\n",
    "</td>\n",
    "<td>\n",
    "    <span class=\"num up\" data-realtime-change-price=\"yes\">\n",
    "        <i>▲</i>500\n",
    "    </span>\n",
    "</td>\n",
    "<td>\n",
    "    <span class=\"num up\" data-realtime-change-ratio=\"yes\">\n",
    "        +1.22%\n",
    "    </span>\n",
    "</td>\n",
    "<td>\n",
    "    <span class=\"num\">\n",
    "        214,389\n",
    "    </span>\n",
    "</td>\n",
    "<td>\n",
    "    <span class=\"num\">\n",
    "        516,599,554\n",
    "    </span>\n",
    "</td>\n",
    "<td class=\"pR\">\n",
    "    <span class=\"num\">\n",
    "        60.76%\n",
    "    </span>\n",
    "</td>\n",
    "</tr><tr class=\"line\"><td class=\"first\"><span class=\"time\">21</span></td>\n",
    "<td><a href=\"/quotes/A034730\" class=\"txt\">SK</a></td>\n",
    "<td>\n",
    "    <span class=\"num\" data-realtime-trade-price=\"yes\">\n",
    "        282,500\n",
    "    </span>\n",
    "</td>\n",
    "<td>\n",
    "    <span class=\"num up\" data-realtime-change-price=\"yes\">\n",
    "        <i>▲</i>2,000\n",
    "    </span>\n",
    "</td>\n",
    "<td>\n",
    "    <span class=\"num up\" data-realtime-change-ratio=\"yes\">\n",
    "        +0.71%\n",
    "    </span>\n",
    "</td>\n",
    "<td>\n",
    "    <span class=\"num\">\n",
    "        198,768\n",
    "    </span>\n",
    "</td>\n",
    "<td>\n",
    "    <span class=\"num\">\n",
    "        70,360,297\n",
    "    </span>\n",
    "</td>\n",
    "<td class=\"pR\">\n",
    "    <span class=\"num\">\n",
    "        20.94%\n",
    "    </span>\n",
    "</td>\n",
    "</tr><tr><td class=\"first\"><span class=\"time\">22</span></td>\n",
    "<td><a href=\"/quotes/A036570\" class=\"txt\">엔씨소프트</a></td>\n",
    "<td>\n",
    "    <span class=\"num\" data-realtime-trade-price=\"yes\">\n",
    "        830,000\n",
    "    </span>\n",
    "</td>\n",
    "<td>\n",
    "    <span class=\"num up\" data-realtime-change-price=\"yes\">\n",
    "        <i>▲</i>24,000\n",
    "    </span>\n",
    "</td>\n",
    "<td>\n",
    "    <span class=\"num up\" data-realtime-change-ratio=\"yes\">\n",
    "        +2.98%\n",
    "    </span>\n",
    "</td>\n",
    "<td>\n",
    "    <span class=\"num\">\n",
    "        182,218\n",
    "    </span>\n",
    "</td>\n",
    "<td>\n",
    "    <span class=\"num\">\n",
    "        21,954,022\n",
    "    </span>\n",
    "</td>\n",
    "<td class=\"pR\">\n",
    "    <span class=\"num\">\n",
    "        52.05%\n",
    "    </span>\n",
    "</td>\n",
    "</tr><tr><td class=\"first\"><span class=\"time\">23</span></td>\n",
    "<td><a href=\"/quotes/A032830\" class=\"txt\">삼성생명</a></td>\n",
    "<td>\n",
    "    <span class=\"num\" data-realtime-trade-price=\"yes\">\n",
    "        86,400\n",
    "    </span>\n",
    "</td>\n",
    "<td>\n",
    "    <span class=\"num \" data-realtime-change-price=\"yes\">\n",
    "        <i>-</i>\n",
    "    </span>\n",
    "</td>\n",
    "<td>\n",
    "    <span class=\"num \" data-realtime-change-ratio=\"yes\">\n",
    "        0.00%\n",
    "    </span>\n",
    "</td>\n",
    "<td>\n",
    "    <span class=\"num\">\n",
    "        172,800\n",
    "    </span>\n",
    "</td>\n",
    "<td>\n",
    "    <span class=\"num\">\n",
    "        200,000,000\n",
    "    </span>\n",
    "</td>\n",
    "<td class=\"pR\">\n",
    "    <span class=\"num\">\n",
    "        13.24%\n",
    "    </span>\n",
    "</td>\n",
    "</tr><tr><td class=\"first\"><span class=\"time\">24</span></td>\n",
    "<td><a href=\"/quotes/A090430\" class=\"txt\">아모레퍼시픽</a></td>\n",
    "<td>\n",
    "    <span class=\"num\" data-realtime-trade-price=\"yes\">\n",
    "        277,000\n",
    "    </span>\n",
    "</td>\n",
    "<td>\n",
    "    <span class=\"num up\" data-realtime-change-price=\"yes\">\n",
    "        <i>▲</i>500\n",
    "    </span>\n",
    "</td>\n",
    "<td>\n",
    "    <span class=\"num up\" data-realtime-change-ratio=\"yes\">\n",
    "        +0.18%\n",
    "    </span>\n",
    "</td>\n",
    "<td>\n",
    "    <span class=\"num\">\n",
    "        161,930\n",
    "    </span>\n",
    "</td>\n",
    "<td>\n",
    "    <span class=\"num\">\n",
    "        58,458,490\n",
    "    </span>\n",
    "</td>\n",
    "<td class=\"pR\">\n",
    "    <span class=\"num\">\n",
    "        33.89%\n",
    "    </span>\n",
    "</td>\n",
    "</tr><tr class=\"last\"><td class=\"first\"><span class=\"time\">25</span></td>\n",
    "<td><a href=\"/quotes/A015760\" class=\"txt\">한국전력</a></td>\n",
    "<td>\n",
    "    <span class=\"num\" data-realtime-trade-price=\"yes\">\n",
    "        24,300\n",
    "    </span>\n",
    "</td>\n",
    "<td>\n",
    "    <span class=\"num up\" data-realtime-change-price=\"yes\">\n",
    "        <i>▲</i>700\n",
    "    </span>\n",
    "</td>\n",
    "<td>\n",
    "    <span class=\"num up\" data-realtime-change-ratio=\"yes\">\n",
    "        +2.97%\n",
    "    </span>\n",
    "</td>\n",
    "<td>\n",
    "    <span class=\"num\">\n",
    "        155,997\n",
    "    </span>\n",
    "</td>\n",
    "<td>\n",
    "    <span class=\"num\">\n",
    "        641,964,077\n",
    "    </span>\n",
    "</td>\n",
    "<td class=\"pR\">\n",
    "    <span class=\"num\">\n",
    "        16.45%\n",
    "    </span>\n",
    "</td>\n",
    "</tr><tr class=\"line\"><td class=\"first\"><span class=\"time\">26</span></td>\n",
    "<td><a href=\"/quotes/A011200\" class=\"txt\">HMM</a></td>\n",
    "<td>\n",
    "    <span class=\"num\" data-realtime-trade-price=\"yes\">\n",
    "        42,600\n",
    "    </span>\n",
    "</td>\n",
    "<td>\n",
    "    <span class=\"num up\" data-realtime-change-price=\"yes\">\n",
    "        <i>▲</i>2,700\n",
    "    </span>\n",
    "</td>\n",
    "<td>\n",
    "    <span class=\"num up\" data-realtime-change-ratio=\"yes\">\n",
    "        +6.77%\n",
    "    </span>\n",
    "</td>\n",
    "<td>\n",
    "    <span class=\"num\">\n",
    "        147,137\n",
    "    </span>\n",
    "</td>\n",
    "<td>\n",
    "    <span class=\"num\">\n",
    "        345,392,487\n",
    "    </span>\n",
    "</td>\n",
    "<td class=\"pR\">\n",
    "    <span class=\"num\">\n",
    "        12.35%\n",
    "    </span>\n",
    "</td>\n",
    "</tr><tr><td class=\"first\"><span class=\"time\">27</span></td>\n",
    "<td><a href=\"/quotes/A018260\" class=\"txt\">삼성에스디에스</a></td>\n",
    "<td>\n",
    "    <span class=\"num\" data-realtime-trade-price=\"yes\">\n",
    "        183,000\n",
    "    </span>\n",
    "</td>\n",
    "<td>\n",
    "    <span class=\"num up\" data-realtime-change-price=\"yes\">\n",
    "        <i>▲</i>3,000\n",
    "    </span>\n",
    "</td>\n",
    "<td>\n",
    "    <span class=\"num up\" data-realtime-change-ratio=\"yes\">\n",
    "        +1.67%\n",
    "    </span>\n",
    "</td>\n",
    "<td>\n",
    "    <span class=\"num\">\n",
    "        141,601\n",
    "    </span>\n",
    "</td>\n",
    "<td>\n",
    "    <span class=\"num\">\n",
    "        77,377,800\n",
    "    </span>\n",
    "</td>\n",
    "<td class=\"pR\">\n",
    "    <span class=\"num\">\n",
    "        11.57%\n",
    "    </span>\n",
    "</td>\n",
    "</tr><tr><td class=\"first\"><span class=\"time\">28</span></td>\n",
    "<td><a href=\"/quotes/A086790\" class=\"txt\">하나금융지주</a></td>\n",
    "<td>\n",
    "    <span class=\"num\" data-realtime-trade-price=\"yes\">\n",
    "        46,300\n",
    "    </span>\n",
    "</td>\n",
    "<td>\n",
    "    <span class=\"num down\" data-realtime-change-price=\"yes\">\n",
    "        <i>▼</i>50\n",
    "    </span>\n",
    "</td>\n",
    "<td>\n",
    "    <span class=\"num down\" data-realtime-change-ratio=\"yes\">\n",
    "        -0.11%\n",
    "    </span>\n",
    "</td>\n",
    "<td>\n",
    "    <span class=\"num\">\n",
    "        139,012\n",
    "    </span>\n",
    "</td>\n",
    "<td>\n",
    "    <span class=\"num\">\n",
    "        300,242,062\n",
    "    </span>\n",
    "</td>\n",
    "<td class=\"pR\">\n",
    "    <span class=\"num\">\n",
    "        69.26%\n",
    "    </span>\n",
    "</td>\n",
    "</tr><tr><td class=\"first\"><span class=\"time\">29</span></td>\n",
    "<td><a href=\"/quotes/A009150\" class=\"txt\">삼성전기</a></td>\n",
    "<td>\n",
    "    <span class=\"num\" data-realtime-trade-price=\"yes\">\n",
    "        182,000\n",
    "    </span>\n",
    "</td>\n",
    "<td>\n",
    "    <span class=\"num up\" data-realtime-change-price=\"yes\">\n",
    "        <i>▲</i>5,000\n",
    "    </span>\n",
    "</td>\n",
    "<td>\n",
    "    <span class=\"num up\" data-realtime-change-ratio=\"yes\">\n",
    "        +2.82%\n",
    "    </span>\n",
    "</td>\n",
    "<td>\n",
    "    <span class=\"num\">\n",
    "        135,943\n",
    "    </span>\n",
    "</td>\n",
    "<td>\n",
    "    <span class=\"num\">\n",
    "        74,693,696\n",
    "    </span>\n",
    "</td>\n",
    "<td class=\"pR\">\n",
    "    <span class=\"num\">\n",
    "        34.28%\n",
    "    </span>\n",
    "</td>\n",
    "</tr><tr class=\"last\"><td class=\"first\"><span class=\"time\">30</span></td>\n",
    "<td><a href=\"/quotes/A302440\" class=\"txt\">SK바이오사이언스</a></td>\n",
    "<td>\n",
    "    <span class=\"num\" data-realtime-trade-price=\"yes\">\n",
    "        160,500\n",
    "    </span>\n",
    "</td>\n",
    "<td>\n",
    "    <span class=\"num up\" data-realtime-change-price=\"yes\">\n",
    "        <i>▲</i>500\n",
    "    </span>\n",
    "</td>\n",
    "<td>\n",
    "    <span class=\"num up\" data-realtime-change-ratio=\"yes\">\n",
    "        +0.31%\n",
    "    </span>\n",
    "</td>\n",
    "<td>\n",
    "    <span class=\"num\">\n",
    "        122,783\n",
    "    </span>\n",
    "</td>\n",
    "<td>\n",
    "    <span class=\"num\">\n",
    "        76,500,000\n",
    "    </span>\n",
    "</td>\n",
    "<td class=\"pR\">\n",
    "    <span class=\"num\">\n",
    "        2.86%\n",
    "    </span>\n",
    "</td>\n",
    "</tr></tbody>\n",
    "</table>\n",
    "<div class=\"paging\">\n",
    "        \n",
    "        \n",
    "            \n",
    "                <strong>1</strong>\n",
    "            \n",
    "        \n",
    "            \n",
    "                <a href=\"javascript:;\" class=\"btnMove\">2</a>\n",
    "            \n",
    "        \n",
    "            \n",
    "                <a href=\"javascript:;\" class=\"btnMove\">3</a>\n",
    "            \n",
    "        \n",
    "            \n",
    "                <a href=\"javascript:;\" class=\"btnMove\">4</a>\n",
    "            \n",
    "        \n",
    "            \n",
    "                <a href=\"javascript:;\" class=\"btnMove\">5</a>\n",
    "            \n",
    "        \n",
    "            \n",
    "                <a href=\"javascript:;\" class=\"btnMove\">6</a>\n",
    "            \n",
    "        \n",
    "            \n",
    "                <a href=\"javascript:;\" class=\"btnMove\">7</a>\n",
    "            \n",
    "        \n",
    "            \n",
    "                <a href=\"javascript:;\" class=\"btnMove\">8</a>\n",
    "            \n",
    "        \n",
    "            \n",
    "                <a href=\"javascript:;\" class=\"btnMove\">9</a>\n",
    "            \n",
    "        \n",
    "            \n",
    "                <a href=\"javascript:;\" class=\"btnMove\">10</a>\n",
    "            \n",
    "        \n",
    "        \n",
    "            <a href=\"javascript:;\" class=\"btnNext\" title=\"다음\">다음</a>\n",
    "            <a href=\"javascript:;\" class=\"btnLast\" title=\"마지막\">마지막</a>\n",
    "        \n",
    "\n",
    "</div></div></div>\n",
    "</div>\n",
    "    </div>\n",
    "    <div class=\"rightW\" id=\"boxRightSidebar\"><div class=\"myB\"><ul class=\"tab box_tabs\"><li>\n",
    "<a href=\"javascript:void(0)\" class=\"on\" title=\"나의 관심\">나의 관심</a>\n",
    "</li><li>\n",
    "<a href=\"javascript:void(0)\" class=\"\" title=\"최근 검색\">최근 검색</a>\n",
    "</li></ul>\n",
    "<div class=\"box_contents\"><div style=\"\">\n",
    "<div class=\"box\">\n",
    "    <span>\n",
    "        <p>로그인 하시면,<br>나의 관심 리스트를<br>볼 수 있습니다.</p>\n",
    "        <a href=\"https://logins.daum.net/accounts/loginform.do?&amp;url=http%3A%2F%2Ffinance.daum.net%2Fdomestic%2Fmarket_cap\" title=\"로그인\">로그인</a>\n",
    "    </span>\n",
    "</div>\n",
    "\n",
    "</div><div style=\"display: none;\"></div></div>\n",
    "</div><div class=\"newsB\"><ul class=\"tab box_tabs\"><li>\n",
    "<a href=\"javascript:void(0)\" class=\"on\" title=\"많이본 뉴스\">많이본 뉴스</a>\n",
    "</li><li>\n",
    "<a href=\"javascript:void(0)\" class=\"\" title=\"베스트칼럼\">베스트칼럼</a>\n",
    "</li></ul>\n",
    "<div class=\"box_contents\"><div style=\"\"><ul class=\"list\">\n",
    "    \n",
    "        <li><a href=\"/news/20210508141728374\">약 10년 전 비트코인을 샀던 3명의 '후일담' [김범수의 좌충우돌 경제만상]</a></li>\n",
    "    \n",
    "        <li><a href=\"/news/20210508180102728\">\"청년들이여, 하루라도 빨리 집부터 사라\"..'빠숑'의 경고 [강영연의 인터뷰집]</a></li>\n",
    "    \n",
    "        <li><a href=\"/news/20210508174020374\">20톤 중국 우주쓰레기 지구 추락 중.. 정부 \"한국 피해 없어\"</a></li>\n",
    "    \n",
    "        <li><a href=\"/news/20210508135253136\">'초고령 재혼' 1000명 돌파했다, 최고령은 男97.8세, 女96.2세</a></li>\n",
    "    \n",
    "        <li><a href=\"/news/20210508113541193\">비트코인 6천700만원대 후반..'머스크 효과' 도지코인 800원대(종합)</a></li>\n",
    "    \n",
    "        <li><a href=\"/news/20210508180307766\">테슬라 대신 도지코인 아버지? 일론 머스크는 투기꾼이었나</a></li>\n",
    "    \n",
    "        <li><a href=\"/news/20210508142037395\">\"임대료 대신 관리비 더 내라\".. 임대차계약 시행 9개월, 여전히 '꼼수' 난무</a></li>\n",
    "    \n",
    "        <li><a href=\"/news/20210508172434139\">고시원 단기 월세도 신고..정부는 '역풍' 없다는데[집슐랭]</a></li>\n",
    "    \n",
    "        <li><a href=\"/news/20210508120001380\">\"어떤 집 살까? 최소한 이런 곳 뺍시다\"</a></li>\n",
    "    \n",
    "        <li><a href=\"/news/20210508100141053\">'50억 부자 아빠' 정선용 \"아들아! 아껴라, 종잣돈을 모아라, 건물주가 돼라\"</a></li>\n",
    "    \n",
    "</ul>\n",
    "</div><div style=\"display: none;\"></div></div>\n",
    "</div><div class=\"rankingB\"><ul class=\"tab box_tabs\"><li>\n",
    "<a href=\"javascript:void(0)\" class=\"on\" title=\"조회급등\">조회급등</a>\n",
    "</li><li>\n",
    "<a href=\"javascript:void(0)\" class=\"\" title=\"인기토론\">인기토론</a>\n",
    "</li></ul>\n",
    "<div class=\"box_contents\"><div style=\"\"><ul class=\"list\">\n",
    "    <!-- TODO: 구현을 해주세요. -->\n",
    "<li>\n",
    "<a href=\"/quotes/A035720\">\n",
    "    <em class=\"ty01\">1</em>\n",
    "    카카오\n",
    "</a>\n",
    "<p class=\"\"><i>-</i></p>\n",
    "</li><li>\n",
    "<a href=\"/quotes/A005930\">\n",
    "    <em class=\"ty02\">2</em>\n",
    "    삼성전자\n",
    "</a>\n",
    "<p class=\"\"><i>-</i></p>\n",
    "</li><li>\n",
    "<a href=\"/quotes/A011200\">\n",
    "    <em class=\"ty03\">3</em>\n",
    "    HMM\n",
    "</a>\n",
    "<p class=\"\"><i>-</i></p>\n",
    "</li><li>\n",
    "<a href=\"/quotes/A001360\">\n",
    "    <em class=\"ty04\">4</em>\n",
    "    삼성제약\n",
    "</a>\n",
    "<p class=\"up\"><i>↑</i>1</p>\n",
    "</li><li>\n",
    "<a href=\"/quotes/A068270\">\n",
    "    <em class=\"ty05\">5</em>\n",
    "    셀트리온\n",
    "</a>\n",
    "<p class=\"down\"><i>↓</i>1</p>\n",
    "</li><li>\n",
    "<a href=\"/quotes/A090355\">\n",
    "    <em class=\"ty06\">6</em>\n",
    "    노루페인트우\n",
    "</a>\n",
    "<p class=\"\"><i>-</i></p>\n",
    "</li><li>\n",
    "<a href=\"/quotes/A003490\">\n",
    "    <em class=\"ty07\">7</em>\n",
    "    대한항공\n",
    "</a>\n",
    "<p class=\"up\"><i>↑</i>3</p>\n",
    "</li><li>\n",
    "<a href=\"/quotes/A010140\">\n",
    "    <em class=\"ty08\">8</em>\n",
    "    삼성중공업\n",
    "</a>\n",
    "<p class=\"down\"><i>↓</i>1</p>\n",
    "</li><li>\n",
    "<a href=\"/quotes/A096040\">\n",
    "    <em class=\"ty09\">9</em>\n",
    "    이트론\n",
    "</a>\n",
    "<p class=\"\"><i>-</i></p>\n",
    "</li><li>\n",
    "<a href=\"/quotes/A005935\">\n",
    "    <em class=\"ty10\">10</em>\n",
    "    삼성전자우\n",
    "</a>\n",
    "<p class=\"down\"><i>↓</i>2</p>\n",
    "</li></ul>\n",
    "</div><div style=\"display: none;\"></div></div>\n",
    "</div></div>\n",
    "</div>\n",
    "<script>\n",
    "    window._MARKET = 'KOSPI';\n",
    "</script>\n",
    "\n",
    "<script>\n",
    "    requirejs([\"/dist/daum/app/config.js?v=1617348053\"], function (common) {\n",
    "        require([\"app/domestic/market_cap\"]);\n",
    "    });\n",
    "</script>\n",
    "    \n",
    "\n",
    "        </div>\n",
    "\n",
    "        <div class=\"footer\">\n",
    "    <span>\n",
    "        <div class=\"fl\">\n",
    "            <ul>\n",
    "                <li><a target=\"_blank\" href=\"http://policy.daum.net/info/info\" title=\"서비스 약관/정책\">서비스 약관/정책</a></li>\n",
    "                <li><a target=\"_blank\" href=\"http://cs.daum.net/faq/19.html\" title=\"금융 고객센터\">금융 고객센터</a></li>\n",
    "                <li><a target=\"_blank\" href=\"https://cs.daum.net/question/19.html\" title=\"금융 문의하기\">금융 문의하기</a></li>\n",
    "                <li><a target=\"_blank\" href=\"http://blog.daum.net/daumfinance/\" title=\"공지사항\">공지사항</a></li>\n",
    "            </ul>\n",
    "            <p>카카오가 제공하는 증권정보는 단순히 정보의 제공을 목적으로 하고 있으며, 사이트에서 제공되는 정보는 오류 및 지연이<br>발생될 수 있습니다. 제공된 정보이용에 따르는 책임은 이용자 본인에게 있으며, 카카오는 이용자의 투자결과에 따른<br>법적 책임을 지지 않습니다.</p>\n",
    "        </div>\n",
    "        <div class=\"fr\">\n",
    "            <p>위 내용에 대한 저작권 및 법적 책임은 자료제공사 또는<br>글쓴이에 있으며 카카오의 입장과 다를 수 있습니다.</p>\n",
    "            <p>Copyright (C) Kakao Corp. All rights reserved.</p>\n",
    "        </div>\n",
    "    </span>\n",
    "</div>\n",
    "<script>\n",
    "    window._TIARA_OPTIONS = {\n",
    "        section: '국내',\n",
    "        page: '시가총액별'\n",
    "    }\n",
    "</script>\n",
    "\n",
    "\n",
    "<script>\n",
    "    requirejs([\"/dist/daum/app/config.js?v=1617348053\"], function (common) {\n",
    "        require([\"app/common/tiara\"]);\n",
    "    });\n",
    "</script>\n",
    "    \n",
    "    </div>'''"
   ]
  },
  {
   "cell_type": "code",
   "execution_count": 59,
   "metadata": {},
   "outputs": [],
   "source": [
    "import pandas as pd"
   ]
  },
  {
   "cell_type": "code",
   "execution_count": 60,
   "metadata": {},
   "outputs": [],
   "source": [
    "df = pd.read_html(html)"
   ]
  },
  {
   "cell_type": "code",
   "execution_count": 61,
   "metadata": {},
   "outputs": [
    {
     "data": {
      "text/plain": [
       "[     0    1        2\n",
       " 0  코스피  코스닥  -차트슬라이드,\n",
       "     순위        종목명      현재가      전일비   등락률 -   시가총액 -     상장주식수 -   외국인 -\n",
       " 0    1       삼성전자    81900     ▼400  -0.49%  4889252  5969782550  54.49%\n",
       " 1    2     SK하이닉스   129500     ▲500  +0.39%   942763   728002365  49.84%\n",
       " 2    3       LG화학   919000  ▼19,000  -2.03%   648744    70592343  45.72%\n",
       " 3    4      삼성전자우    74800     ▲300  +0.40%   615519   822886700  77.11%\n",
       " 4    5      NAVER   361000     ▼500  -0.14%   592991   164263395  56.90%\n",
       " 5    6   삼성바이오로직스   804000  ▲21,000  +2.68%   531967    66165000  10.25%\n",
       " 6    7        카카오   114500     ▼500  -0.43%   508162   443809305  33.25%\n",
       " 7    8        현대차   224000     ▲500  +0.22%   478617   213668187  30.49%\n",
       " 8    9      삼성SDI   642000        -   0.00%   441468    68764530  42.70%\n",
       " 9   10       셀트리온   266500  ▲14,000  +5.54%   366980   137703428  20.74%\n",
       " 10  11      POSCO   398000   ▲2,500  +0.63%   347004    87186835  55.03%\n",
       " 11  12         기아    80700     ▲500  +0.62%   327128   405363347  32.76%\n",
       " 12  13      현대모비스   277500   ▲3,000  +1.09%   263051    94793094  37.46%\n",
       " 13  14    SK이노베이션   283500   ▲2,000  +0.71%   262140    92465564  23.23%\n",
       " 14  15      SK텔레콤   312000   ▲2,500  +0.81%   251927    80745711  39.56%\n",
       " 15  16       삼성물산   134500   ▲1,500  +1.13%   251363   186887081  14.78%\n",
       " 16  17       LG전자   153000   ▲1,500  +0.99%   250381   163647814  30.91%\n",
       " 17  18     LG생활건강  1571000  ▼10,000  -0.63%   245362    15618197  46.05%\n",
       " 18  19       KB금융    58300     ▲800  +1.39%   242416   415807920  69.41%\n",
       " 19  20       신한지주    41500     ▲500  +1.22%   214389   516599554  60.76%\n",
       " 20  21         SK   282500   ▲2,000  +0.71%   198768    70360297  20.94%\n",
       " 21  22      엔씨소프트   830000  ▲24,000  +2.98%   182218    21954022  52.05%\n",
       " 22  23       삼성생명    86400        -   0.00%   172800   200000000  13.24%\n",
       " 23  24     아모레퍼시픽   277000     ▲500  +0.18%   161930    58458490  33.89%\n",
       " 24  25       한국전력    24300     ▲700  +2.97%   155997   641964077  16.45%\n",
       " 25  26        HMM    42600   ▲2,700  +6.77%   147137   345392487  12.35%\n",
       " 26  27    삼성에스디에스   183000   ▲3,000  +1.67%   141601    77377800  11.57%\n",
       " 27  28     하나금융지주    46300      ▼50  -0.11%   139012   300242062  69.26%\n",
       " 28  29       삼성전기   182000   ▲5,000  +2.82%   135943    74693696  34.28%\n",
       " 29  30  SK바이오사이언스   160500     ▲500  +0.31%   122783    76500000   2.86%]"
      ]
     },
     "execution_count": 61,
     "metadata": {},
     "output_type": "execute_result"
    }
   ],
   "source": [
    "df"
   ]
  },
  {
   "cell_type": "code",
   "execution_count": 62,
   "metadata": {},
   "outputs": [
    {
     "data": {
      "text/html": [
       "<div>\n",
       "<style scoped>\n",
       "    .dataframe tbody tr th:only-of-type {\n",
       "        vertical-align: middle;\n",
       "    }\n",
       "\n",
       "    .dataframe tbody tr th {\n",
       "        vertical-align: top;\n",
       "    }\n",
       "\n",
       "    .dataframe thead th {\n",
       "        text-align: right;\n",
       "    }\n",
       "</style>\n",
       "<table border=\"1\" class=\"dataframe\">\n",
       "  <thead>\n",
       "    <tr style=\"text-align: right;\">\n",
       "      <th></th>\n",
       "      <th>0</th>\n",
       "      <th>1</th>\n",
       "      <th>2</th>\n",
       "    </tr>\n",
       "  </thead>\n",
       "  <tbody>\n",
       "    <tr>\n",
       "      <th>0</th>\n",
       "      <td>코스피</td>\n",
       "      <td>코스닥</td>\n",
       "      <td>-차트슬라이드</td>\n",
       "    </tr>\n",
       "  </tbody>\n",
       "</table>\n",
       "</div>"
      ],
      "text/plain": [
       "     0    1        2\n",
       "0  코스피  코스닥  -차트슬라이드"
      ]
     },
     "execution_count": 62,
     "metadata": {},
     "output_type": "execute_result"
    }
   ],
   "source": [
    "df[0]"
   ]
  },
  {
   "cell_type": "code",
   "execution_count": 63,
   "metadata": {},
   "outputs": [
    {
     "data": {
      "text/html": [
       "<div>\n",
       "<style scoped>\n",
       "    .dataframe tbody tr th:only-of-type {\n",
       "        vertical-align: middle;\n",
       "    }\n",
       "\n",
       "    .dataframe tbody tr th {\n",
       "        vertical-align: top;\n",
       "    }\n",
       "\n",
       "    .dataframe thead th {\n",
       "        text-align: right;\n",
       "    }\n",
       "</style>\n",
       "<table border=\"1\" class=\"dataframe\">\n",
       "  <thead>\n",
       "    <tr style=\"text-align: right;\">\n",
       "      <th></th>\n",
       "      <th>순위</th>\n",
       "      <th>종목명</th>\n",
       "      <th>현재가</th>\n",
       "      <th>전일비</th>\n",
       "      <th>등락률 -</th>\n",
       "      <th>시가총액 -</th>\n",
       "      <th>상장주식수 -</th>\n",
       "      <th>외국인 -</th>\n",
       "    </tr>\n",
       "  </thead>\n",
       "  <tbody>\n",
       "    <tr>\n",
       "      <th>0</th>\n",
       "      <td>1</td>\n",
       "      <td>삼성전자</td>\n",
       "      <td>81900</td>\n",
       "      <td>▼400</td>\n",
       "      <td>-0.49%</td>\n",
       "      <td>4889252</td>\n",
       "      <td>5969782550</td>\n",
       "      <td>54.49%</td>\n",
       "    </tr>\n",
       "    <tr>\n",
       "      <th>1</th>\n",
       "      <td>2</td>\n",
       "      <td>SK하이닉스</td>\n",
       "      <td>129500</td>\n",
       "      <td>▲500</td>\n",
       "      <td>+0.39%</td>\n",
       "      <td>942763</td>\n",
       "      <td>728002365</td>\n",
       "      <td>49.84%</td>\n",
       "    </tr>\n",
       "    <tr>\n",
       "      <th>2</th>\n",
       "      <td>3</td>\n",
       "      <td>LG화학</td>\n",
       "      <td>919000</td>\n",
       "      <td>▼19,000</td>\n",
       "      <td>-2.03%</td>\n",
       "      <td>648744</td>\n",
       "      <td>70592343</td>\n",
       "      <td>45.72%</td>\n",
       "    </tr>\n",
       "    <tr>\n",
       "      <th>3</th>\n",
       "      <td>4</td>\n",
       "      <td>삼성전자우</td>\n",
       "      <td>74800</td>\n",
       "      <td>▲300</td>\n",
       "      <td>+0.40%</td>\n",
       "      <td>615519</td>\n",
       "      <td>822886700</td>\n",
       "      <td>77.11%</td>\n",
       "    </tr>\n",
       "    <tr>\n",
       "      <th>4</th>\n",
       "      <td>5</td>\n",
       "      <td>NAVER</td>\n",
       "      <td>361000</td>\n",
       "      <td>▼500</td>\n",
       "      <td>-0.14%</td>\n",
       "      <td>592991</td>\n",
       "      <td>164263395</td>\n",
       "      <td>56.90%</td>\n",
       "    </tr>\n",
       "    <tr>\n",
       "      <th>5</th>\n",
       "      <td>6</td>\n",
       "      <td>삼성바이오로직스</td>\n",
       "      <td>804000</td>\n",
       "      <td>▲21,000</td>\n",
       "      <td>+2.68%</td>\n",
       "      <td>531967</td>\n",
       "      <td>66165000</td>\n",
       "      <td>10.25%</td>\n",
       "    </tr>\n",
       "    <tr>\n",
       "      <th>6</th>\n",
       "      <td>7</td>\n",
       "      <td>카카오</td>\n",
       "      <td>114500</td>\n",
       "      <td>▼500</td>\n",
       "      <td>-0.43%</td>\n",
       "      <td>508162</td>\n",
       "      <td>443809305</td>\n",
       "      <td>33.25%</td>\n",
       "    </tr>\n",
       "    <tr>\n",
       "      <th>7</th>\n",
       "      <td>8</td>\n",
       "      <td>현대차</td>\n",
       "      <td>224000</td>\n",
       "      <td>▲500</td>\n",
       "      <td>+0.22%</td>\n",
       "      <td>478617</td>\n",
       "      <td>213668187</td>\n",
       "      <td>30.49%</td>\n",
       "    </tr>\n",
       "    <tr>\n",
       "      <th>8</th>\n",
       "      <td>9</td>\n",
       "      <td>삼성SDI</td>\n",
       "      <td>642000</td>\n",
       "      <td>-</td>\n",
       "      <td>0.00%</td>\n",
       "      <td>441468</td>\n",
       "      <td>68764530</td>\n",
       "      <td>42.70%</td>\n",
       "    </tr>\n",
       "    <tr>\n",
       "      <th>9</th>\n",
       "      <td>10</td>\n",
       "      <td>셀트리온</td>\n",
       "      <td>266500</td>\n",
       "      <td>▲14,000</td>\n",
       "      <td>+5.54%</td>\n",
       "      <td>366980</td>\n",
       "      <td>137703428</td>\n",
       "      <td>20.74%</td>\n",
       "    </tr>\n",
       "    <tr>\n",
       "      <th>10</th>\n",
       "      <td>11</td>\n",
       "      <td>POSCO</td>\n",
       "      <td>398000</td>\n",
       "      <td>▲2,500</td>\n",
       "      <td>+0.63%</td>\n",
       "      <td>347004</td>\n",
       "      <td>87186835</td>\n",
       "      <td>55.03%</td>\n",
       "    </tr>\n",
       "    <tr>\n",
       "      <th>11</th>\n",
       "      <td>12</td>\n",
       "      <td>기아</td>\n",
       "      <td>80700</td>\n",
       "      <td>▲500</td>\n",
       "      <td>+0.62%</td>\n",
       "      <td>327128</td>\n",
       "      <td>405363347</td>\n",
       "      <td>32.76%</td>\n",
       "    </tr>\n",
       "    <tr>\n",
       "      <th>12</th>\n",
       "      <td>13</td>\n",
       "      <td>현대모비스</td>\n",
       "      <td>277500</td>\n",
       "      <td>▲3,000</td>\n",
       "      <td>+1.09%</td>\n",
       "      <td>263051</td>\n",
       "      <td>94793094</td>\n",
       "      <td>37.46%</td>\n",
       "    </tr>\n",
       "    <tr>\n",
       "      <th>13</th>\n",
       "      <td>14</td>\n",
       "      <td>SK이노베이션</td>\n",
       "      <td>283500</td>\n",
       "      <td>▲2,000</td>\n",
       "      <td>+0.71%</td>\n",
       "      <td>262140</td>\n",
       "      <td>92465564</td>\n",
       "      <td>23.23%</td>\n",
       "    </tr>\n",
       "    <tr>\n",
       "      <th>14</th>\n",
       "      <td>15</td>\n",
       "      <td>SK텔레콤</td>\n",
       "      <td>312000</td>\n",
       "      <td>▲2,500</td>\n",
       "      <td>+0.81%</td>\n",
       "      <td>251927</td>\n",
       "      <td>80745711</td>\n",
       "      <td>39.56%</td>\n",
       "    </tr>\n",
       "    <tr>\n",
       "      <th>15</th>\n",
       "      <td>16</td>\n",
       "      <td>삼성물산</td>\n",
       "      <td>134500</td>\n",
       "      <td>▲1,500</td>\n",
       "      <td>+1.13%</td>\n",
       "      <td>251363</td>\n",
       "      <td>186887081</td>\n",
       "      <td>14.78%</td>\n",
       "    </tr>\n",
       "    <tr>\n",
       "      <th>16</th>\n",
       "      <td>17</td>\n",
       "      <td>LG전자</td>\n",
       "      <td>153000</td>\n",
       "      <td>▲1,500</td>\n",
       "      <td>+0.99%</td>\n",
       "      <td>250381</td>\n",
       "      <td>163647814</td>\n",
       "      <td>30.91%</td>\n",
       "    </tr>\n",
       "    <tr>\n",
       "      <th>17</th>\n",
       "      <td>18</td>\n",
       "      <td>LG생활건강</td>\n",
       "      <td>1571000</td>\n",
       "      <td>▼10,000</td>\n",
       "      <td>-0.63%</td>\n",
       "      <td>245362</td>\n",
       "      <td>15618197</td>\n",
       "      <td>46.05%</td>\n",
       "    </tr>\n",
       "    <tr>\n",
       "      <th>18</th>\n",
       "      <td>19</td>\n",
       "      <td>KB금융</td>\n",
       "      <td>58300</td>\n",
       "      <td>▲800</td>\n",
       "      <td>+1.39%</td>\n",
       "      <td>242416</td>\n",
       "      <td>415807920</td>\n",
       "      <td>69.41%</td>\n",
       "    </tr>\n",
       "    <tr>\n",
       "      <th>19</th>\n",
       "      <td>20</td>\n",
       "      <td>신한지주</td>\n",
       "      <td>41500</td>\n",
       "      <td>▲500</td>\n",
       "      <td>+1.22%</td>\n",
       "      <td>214389</td>\n",
       "      <td>516599554</td>\n",
       "      <td>60.76%</td>\n",
       "    </tr>\n",
       "    <tr>\n",
       "      <th>20</th>\n",
       "      <td>21</td>\n",
       "      <td>SK</td>\n",
       "      <td>282500</td>\n",
       "      <td>▲2,000</td>\n",
       "      <td>+0.71%</td>\n",
       "      <td>198768</td>\n",
       "      <td>70360297</td>\n",
       "      <td>20.94%</td>\n",
       "    </tr>\n",
       "    <tr>\n",
       "      <th>21</th>\n",
       "      <td>22</td>\n",
       "      <td>엔씨소프트</td>\n",
       "      <td>830000</td>\n",
       "      <td>▲24,000</td>\n",
       "      <td>+2.98%</td>\n",
       "      <td>182218</td>\n",
       "      <td>21954022</td>\n",
       "      <td>52.05%</td>\n",
       "    </tr>\n",
       "    <tr>\n",
       "      <th>22</th>\n",
       "      <td>23</td>\n",
       "      <td>삼성생명</td>\n",
       "      <td>86400</td>\n",
       "      <td>-</td>\n",
       "      <td>0.00%</td>\n",
       "      <td>172800</td>\n",
       "      <td>200000000</td>\n",
       "      <td>13.24%</td>\n",
       "    </tr>\n",
       "    <tr>\n",
       "      <th>23</th>\n",
       "      <td>24</td>\n",
       "      <td>아모레퍼시픽</td>\n",
       "      <td>277000</td>\n",
       "      <td>▲500</td>\n",
       "      <td>+0.18%</td>\n",
       "      <td>161930</td>\n",
       "      <td>58458490</td>\n",
       "      <td>33.89%</td>\n",
       "    </tr>\n",
       "    <tr>\n",
       "      <th>24</th>\n",
       "      <td>25</td>\n",
       "      <td>한국전력</td>\n",
       "      <td>24300</td>\n",
       "      <td>▲700</td>\n",
       "      <td>+2.97%</td>\n",
       "      <td>155997</td>\n",
       "      <td>641964077</td>\n",
       "      <td>16.45%</td>\n",
       "    </tr>\n",
       "    <tr>\n",
       "      <th>25</th>\n",
       "      <td>26</td>\n",
       "      <td>HMM</td>\n",
       "      <td>42600</td>\n",
       "      <td>▲2,700</td>\n",
       "      <td>+6.77%</td>\n",
       "      <td>147137</td>\n",
       "      <td>345392487</td>\n",
       "      <td>12.35%</td>\n",
       "    </tr>\n",
       "    <tr>\n",
       "      <th>26</th>\n",
       "      <td>27</td>\n",
       "      <td>삼성에스디에스</td>\n",
       "      <td>183000</td>\n",
       "      <td>▲3,000</td>\n",
       "      <td>+1.67%</td>\n",
       "      <td>141601</td>\n",
       "      <td>77377800</td>\n",
       "      <td>11.57%</td>\n",
       "    </tr>\n",
       "    <tr>\n",
       "      <th>27</th>\n",
       "      <td>28</td>\n",
       "      <td>하나금융지주</td>\n",
       "      <td>46300</td>\n",
       "      <td>▼50</td>\n",
       "      <td>-0.11%</td>\n",
       "      <td>139012</td>\n",
       "      <td>300242062</td>\n",
       "      <td>69.26%</td>\n",
       "    </tr>\n",
       "    <tr>\n",
       "      <th>28</th>\n",
       "      <td>29</td>\n",
       "      <td>삼성전기</td>\n",
       "      <td>182000</td>\n",
       "      <td>▲5,000</td>\n",
       "      <td>+2.82%</td>\n",
       "      <td>135943</td>\n",
       "      <td>74693696</td>\n",
       "      <td>34.28%</td>\n",
       "    </tr>\n",
       "    <tr>\n",
       "      <th>29</th>\n",
       "      <td>30</td>\n",
       "      <td>SK바이오사이언스</td>\n",
       "      <td>160500</td>\n",
       "      <td>▲500</td>\n",
       "      <td>+0.31%</td>\n",
       "      <td>122783</td>\n",
       "      <td>76500000</td>\n",
       "      <td>2.86%</td>\n",
       "    </tr>\n",
       "  </tbody>\n",
       "</table>\n",
       "</div>"
      ],
      "text/plain": [
       "    순위        종목명      현재가      전일비   등락률 -   시가총액 -     상장주식수 -   외국인 -\n",
       "0    1       삼성전자    81900     ▼400  -0.49%  4889252  5969782550  54.49%\n",
       "1    2     SK하이닉스   129500     ▲500  +0.39%   942763   728002365  49.84%\n",
       "2    3       LG화학   919000  ▼19,000  -2.03%   648744    70592343  45.72%\n",
       "3    4      삼성전자우    74800     ▲300  +0.40%   615519   822886700  77.11%\n",
       "4    5      NAVER   361000     ▼500  -0.14%   592991   164263395  56.90%\n",
       "5    6   삼성바이오로직스   804000  ▲21,000  +2.68%   531967    66165000  10.25%\n",
       "6    7        카카오   114500     ▼500  -0.43%   508162   443809305  33.25%\n",
       "7    8        현대차   224000     ▲500  +0.22%   478617   213668187  30.49%\n",
       "8    9      삼성SDI   642000        -   0.00%   441468    68764530  42.70%\n",
       "9   10       셀트리온   266500  ▲14,000  +5.54%   366980   137703428  20.74%\n",
       "10  11      POSCO   398000   ▲2,500  +0.63%   347004    87186835  55.03%\n",
       "11  12         기아    80700     ▲500  +0.62%   327128   405363347  32.76%\n",
       "12  13      현대모비스   277500   ▲3,000  +1.09%   263051    94793094  37.46%\n",
       "13  14    SK이노베이션   283500   ▲2,000  +0.71%   262140    92465564  23.23%\n",
       "14  15      SK텔레콤   312000   ▲2,500  +0.81%   251927    80745711  39.56%\n",
       "15  16       삼성물산   134500   ▲1,500  +1.13%   251363   186887081  14.78%\n",
       "16  17       LG전자   153000   ▲1,500  +0.99%   250381   163647814  30.91%\n",
       "17  18     LG생활건강  1571000  ▼10,000  -0.63%   245362    15618197  46.05%\n",
       "18  19       KB금융    58300     ▲800  +1.39%   242416   415807920  69.41%\n",
       "19  20       신한지주    41500     ▲500  +1.22%   214389   516599554  60.76%\n",
       "20  21         SK   282500   ▲2,000  +0.71%   198768    70360297  20.94%\n",
       "21  22      엔씨소프트   830000  ▲24,000  +2.98%   182218    21954022  52.05%\n",
       "22  23       삼성생명    86400        -   0.00%   172800   200000000  13.24%\n",
       "23  24     아모레퍼시픽   277000     ▲500  +0.18%   161930    58458490  33.89%\n",
       "24  25       한국전력    24300     ▲700  +2.97%   155997   641964077  16.45%\n",
       "25  26        HMM    42600   ▲2,700  +6.77%   147137   345392487  12.35%\n",
       "26  27    삼성에스디에스   183000   ▲3,000  +1.67%   141601    77377800  11.57%\n",
       "27  28     하나금융지주    46300      ▼50  -0.11%   139012   300242062  69.26%\n",
       "28  29       삼성전기   182000   ▲5,000  +2.82%   135943    74693696  34.28%\n",
       "29  30  SK바이오사이언스   160500     ▲500  +0.31%   122783    76500000   2.86%"
      ]
     },
     "execution_count": 63,
     "metadata": {},
     "output_type": "execute_result"
    }
   ],
   "source": [
    "df[1]"
   ]
  },
  {
   "cell_type": "code",
   "execution_count": 64,
   "metadata": {},
   "outputs": [],
   "source": [
    "df[1].to_csv('./data/homework10_1.csv', encoding = 'utf-8-sig') "
   ]
  },
  {
   "cell_type": "code",
   "execution_count": null,
   "metadata": {},
   "outputs": [],
   "source": []
  },
  {
   "cell_type": "markdown",
   "metadata": {},
   "source": [
    "# 단톡방 과제 3\n",
    "- 60171100 윤민혁"
   ]
  },
  {
   "cell_type": "code",
   "execution_count": 65,
   "metadata": {},
   "outputs": [
    {
     "data": {
      "text/html": [
       "<div>\n",
       "<style scoped>\n",
       "    .dataframe tbody tr th:only-of-type {\n",
       "        vertical-align: middle;\n",
       "    }\n",
       "\n",
       "    .dataframe tbody tr th {\n",
       "        vertical-align: top;\n",
       "    }\n",
       "\n",
       "    .dataframe thead th {\n",
       "        text-align: right;\n",
       "    }\n",
       "</style>\n",
       "<table border=\"1\" class=\"dataframe\">\n",
       "  <thead>\n",
       "    <tr style=\"text-align: right;\">\n",
       "      <th></th>\n",
       "      <th>fixed acidity</th>\n",
       "      <th>volatile acidity</th>\n",
       "      <th>citric acid</th>\n",
       "      <th>residual sugar</th>\n",
       "      <th>chlorides</th>\n",
       "      <th>free sulfur dioxide</th>\n",
       "      <th>total sulfur dioxide</th>\n",
       "      <th>density</th>\n",
       "      <th>pH</th>\n",
       "      <th>sulphates</th>\n",
       "      <th>alcohol</th>\n",
       "      <th>quality</th>\n",
       "    </tr>\n",
       "  </thead>\n",
       "  <tbody>\n",
       "    <tr>\n",
       "      <th>0</th>\n",
       "      <td>7.4</td>\n",
       "      <td>0.700</td>\n",
       "      <td>0.00</td>\n",
       "      <td>1.9</td>\n",
       "      <td>0.076</td>\n",
       "      <td>11.0</td>\n",
       "      <td>34.0</td>\n",
       "      <td>0.99780</td>\n",
       "      <td>3.51</td>\n",
       "      <td>0.56</td>\n",
       "      <td>9.4</td>\n",
       "      <td>5</td>\n",
       "    </tr>\n",
       "    <tr>\n",
       "      <th>1</th>\n",
       "      <td>7.8</td>\n",
       "      <td>0.880</td>\n",
       "      <td>0.00</td>\n",
       "      <td>2.6</td>\n",
       "      <td>0.098</td>\n",
       "      <td>25.0</td>\n",
       "      <td>67.0</td>\n",
       "      <td>0.99680</td>\n",
       "      <td>3.20</td>\n",
       "      <td>0.68</td>\n",
       "      <td>9.8</td>\n",
       "      <td>5</td>\n",
       "    </tr>\n",
       "    <tr>\n",
       "      <th>2</th>\n",
       "      <td>7.8</td>\n",
       "      <td>0.760</td>\n",
       "      <td>0.04</td>\n",
       "      <td>2.3</td>\n",
       "      <td>0.092</td>\n",
       "      <td>15.0</td>\n",
       "      <td>54.0</td>\n",
       "      <td>0.99700</td>\n",
       "      <td>3.26</td>\n",
       "      <td>0.65</td>\n",
       "      <td>9.8</td>\n",
       "      <td>5</td>\n",
       "    </tr>\n",
       "    <tr>\n",
       "      <th>3</th>\n",
       "      <td>11.2</td>\n",
       "      <td>0.280</td>\n",
       "      <td>0.56</td>\n",
       "      <td>1.9</td>\n",
       "      <td>0.075</td>\n",
       "      <td>17.0</td>\n",
       "      <td>60.0</td>\n",
       "      <td>0.99800</td>\n",
       "      <td>3.16</td>\n",
       "      <td>0.58</td>\n",
       "      <td>9.8</td>\n",
       "      <td>6</td>\n",
       "    </tr>\n",
       "    <tr>\n",
       "      <th>4</th>\n",
       "      <td>7.4</td>\n",
       "      <td>0.700</td>\n",
       "      <td>0.00</td>\n",
       "      <td>1.9</td>\n",
       "      <td>0.076</td>\n",
       "      <td>11.0</td>\n",
       "      <td>34.0</td>\n",
       "      <td>0.99780</td>\n",
       "      <td>3.51</td>\n",
       "      <td>0.56</td>\n",
       "      <td>9.4</td>\n",
       "      <td>5</td>\n",
       "    </tr>\n",
       "    <tr>\n",
       "      <th>...</th>\n",
       "      <td>...</td>\n",
       "      <td>...</td>\n",
       "      <td>...</td>\n",
       "      <td>...</td>\n",
       "      <td>...</td>\n",
       "      <td>...</td>\n",
       "      <td>...</td>\n",
       "      <td>...</td>\n",
       "      <td>...</td>\n",
       "      <td>...</td>\n",
       "      <td>...</td>\n",
       "      <td>...</td>\n",
       "    </tr>\n",
       "    <tr>\n",
       "      <th>1594</th>\n",
       "      <td>6.2</td>\n",
       "      <td>0.600</td>\n",
       "      <td>0.08</td>\n",
       "      <td>2.0</td>\n",
       "      <td>0.090</td>\n",
       "      <td>32.0</td>\n",
       "      <td>44.0</td>\n",
       "      <td>0.99490</td>\n",
       "      <td>3.45</td>\n",
       "      <td>0.58</td>\n",
       "      <td>10.5</td>\n",
       "      <td>5</td>\n",
       "    </tr>\n",
       "    <tr>\n",
       "      <th>1595</th>\n",
       "      <td>5.9</td>\n",
       "      <td>0.550</td>\n",
       "      <td>0.10</td>\n",
       "      <td>2.2</td>\n",
       "      <td>0.062</td>\n",
       "      <td>39.0</td>\n",
       "      <td>51.0</td>\n",
       "      <td>0.99512</td>\n",
       "      <td>3.52</td>\n",
       "      <td>0.76</td>\n",
       "      <td>11.2</td>\n",
       "      <td>6</td>\n",
       "    </tr>\n",
       "    <tr>\n",
       "      <th>1596</th>\n",
       "      <td>6.3</td>\n",
       "      <td>0.510</td>\n",
       "      <td>0.13</td>\n",
       "      <td>2.3</td>\n",
       "      <td>0.076</td>\n",
       "      <td>29.0</td>\n",
       "      <td>40.0</td>\n",
       "      <td>0.99574</td>\n",
       "      <td>3.42</td>\n",
       "      <td>0.75</td>\n",
       "      <td>11.0</td>\n",
       "      <td>6</td>\n",
       "    </tr>\n",
       "    <tr>\n",
       "      <th>1597</th>\n",
       "      <td>5.9</td>\n",
       "      <td>0.645</td>\n",
       "      <td>0.12</td>\n",
       "      <td>2.0</td>\n",
       "      <td>0.075</td>\n",
       "      <td>32.0</td>\n",
       "      <td>44.0</td>\n",
       "      <td>0.99547</td>\n",
       "      <td>3.57</td>\n",
       "      <td>0.71</td>\n",
       "      <td>10.2</td>\n",
       "      <td>5</td>\n",
       "    </tr>\n",
       "    <tr>\n",
       "      <th>1598</th>\n",
       "      <td>6.0</td>\n",
       "      <td>0.310</td>\n",
       "      <td>0.47</td>\n",
       "      <td>3.6</td>\n",
       "      <td>0.067</td>\n",
       "      <td>18.0</td>\n",
       "      <td>42.0</td>\n",
       "      <td>0.99549</td>\n",
       "      <td>3.39</td>\n",
       "      <td>0.66</td>\n",
       "      <td>11.0</td>\n",
       "      <td>6</td>\n",
       "    </tr>\n",
       "  </tbody>\n",
       "</table>\n",
       "<p>1599 rows × 12 columns</p>\n",
       "</div>"
      ],
      "text/plain": [
       "      fixed acidity  volatile acidity  citric acid  residual sugar  chlorides  \\\n",
       "0               7.4             0.700         0.00             1.9      0.076   \n",
       "1               7.8             0.880         0.00             2.6      0.098   \n",
       "2               7.8             0.760         0.04             2.3      0.092   \n",
       "3              11.2             0.280         0.56             1.9      0.075   \n",
       "4               7.4             0.700         0.00             1.9      0.076   \n",
       "...             ...               ...          ...             ...        ...   \n",
       "1594            6.2             0.600         0.08             2.0      0.090   \n",
       "1595            5.9             0.550         0.10             2.2      0.062   \n",
       "1596            6.3             0.510         0.13             2.3      0.076   \n",
       "1597            5.9             0.645         0.12             2.0      0.075   \n",
       "1598            6.0             0.310         0.47             3.6      0.067   \n",
       "\n",
       "      free sulfur dioxide  total sulfur dioxide  density    pH  sulphates  \\\n",
       "0                    11.0                  34.0  0.99780  3.51       0.56   \n",
       "1                    25.0                  67.0  0.99680  3.20       0.68   \n",
       "2                    15.0                  54.0  0.99700  3.26       0.65   \n",
       "3                    17.0                  60.0  0.99800  3.16       0.58   \n",
       "4                    11.0                  34.0  0.99780  3.51       0.56   \n",
       "...                   ...                   ...      ...   ...        ...   \n",
       "1594                 32.0                  44.0  0.99490  3.45       0.58   \n",
       "1595                 39.0                  51.0  0.99512  3.52       0.76   \n",
       "1596                 29.0                  40.0  0.99574  3.42       0.75   \n",
       "1597                 32.0                  44.0  0.99547  3.57       0.71   \n",
       "1598                 18.0                  42.0  0.99549  3.39       0.66   \n",
       "\n",
       "      alcohol  quality  \n",
       "0         9.4        5  \n",
       "1         9.8        5  \n",
       "2         9.8        5  \n",
       "3         9.8        6  \n",
       "4         9.4        5  \n",
       "...       ...      ...  \n",
       "1594     10.5        5  \n",
       "1595     11.2        6  \n",
       "1596     11.0        6  \n",
       "1597     10.2        5  \n",
       "1598     11.0        6  \n",
       "\n",
       "[1599 rows x 12 columns]"
      ]
     },
     "execution_count": 65,
     "metadata": {},
     "output_type": "execute_result"
    }
   ],
   "source": [
    "import pandas as pd\n",
    "import plotly.graph_objects as go\n",
    "import plotly.offline as pyo\n",
    "wine = pd.read_csv('./data/winequality-red.csv', encoding = 'utf-8-sig')\n",
    "wine"
   ]
  },
  {
   "cell_type": "code",
   "execution_count": 66,
   "metadata": {},
   "outputs": [
    {
     "name": "stdout",
     "output_type": "stream",
     "text": [
      "Requirement already satisfied: plotly in c:\\users\\alsgu\\anaconda3\\lib\\site-packages (4.14.3)\n",
      "Requirement already satisfied: retrying>=1.3.3 in c:\\users\\alsgu\\anaconda3\\lib\\site-packages (from plotly) (1.3.3)\n",
      "Requirement already satisfied: six in c:\\users\\alsgu\\anaconda3\\lib\\site-packages (from plotly) (1.15.0)\n"
     ]
    }
   ],
   "source": [
    "!pip install plotly"
   ]
  },
  {
   "cell_type": "code",
   "execution_count": 67,
   "metadata": {},
   "outputs": [
    {
     "name": "stdout",
     "output_type": "stream",
     "text": [
      "Requirement already satisfied: plotly in c:\\users\\alsgu\\anaconda3\\lib\\site-packages (4.14.3)\n",
      "Requirement already satisfied: chart_studio in c:\\users\\alsgu\\anaconda3\\lib\\site-packages (1.1.0)\n",
      "Requirement already satisfied: six in c:\\users\\alsgu\\anaconda3\\lib\\site-packages (from plotly) (1.15.0)\n",
      "Requirement already satisfied: retrying>=1.3.3 in c:\\users\\alsgu\\anaconda3\\lib\\site-packages (from plotly) (1.3.3)\n",
      "Requirement already satisfied: requests in c:\\users\\alsgu\\anaconda3\\lib\\site-packages (from chart_studio) (2.24.0)\n",
      "Requirement already satisfied: chardet<4,>=3.0.2 in c:\\users\\alsgu\\anaconda3\\lib\\site-packages (from requests->chart_studio) (3.0.4)\n",
      "Requirement already satisfied: urllib3!=1.25.0,!=1.25.1,<1.26,>=1.21.1 in c:\\users\\alsgu\\anaconda3\\lib\\site-packages (from requests->chart_studio) (1.25.11)\n",
      "Requirement already satisfied: certifi>=2017.4.17 in c:\\users\\alsgu\\anaconda3\\lib\\site-packages (from requests->chart_studio) (2020.6.20)\n",
      "Requirement already satisfied: idna<3,>=2.5 in c:\\users\\alsgu\\anaconda3\\lib\\site-packages (from requests->chart_studio) (2.10)\n"
     ]
    }
   ],
   "source": [
    "!pip install plotly chart_studio"
   ]
  },
  {
   "cell_type": "code",
   "execution_count": 68,
   "metadata": {},
   "outputs": [
    {
     "name": "stdout",
     "output_type": "stream",
     "text": [
      "Requirement already satisfied: cufflinks in c:\\users\\alsgu\\anaconda3\\lib\\site-packages (0.17.3)\n",
      "Requirement already satisfied: plotly>=4.1.1 in c:\\users\\alsgu\\anaconda3\\lib\\site-packages (from cufflinks) (4.14.3)\n",
      "Requirement already satisfied: pandas>=0.19.2 in c:\\users\\alsgu\\anaconda3\\lib\\site-packages (from cufflinks) (1.1.3)\n",
      "Requirement already satisfied: colorlover>=0.2.1 in c:\\users\\alsgu\\anaconda3\\lib\\site-packages (from cufflinks) (0.3.0)\n",
      "Requirement already satisfied: setuptools>=34.4.1 in c:\\users\\alsgu\\anaconda3\\lib\\site-packages (from cufflinks) (50.3.1.post20201107)\n",
      "Requirement already satisfied: six>=1.9.0 in c:\\users\\alsgu\\anaconda3\\lib\\site-packages (from cufflinks) (1.15.0)\n",
      "Requirement already satisfied: numpy>=1.9.2 in c:\\users\\alsgu\\anaconda3\\lib\\site-packages (from cufflinks) (1.19.2)\n",
      "Requirement already satisfied: ipywidgets>=7.0.0 in c:\\users\\alsgu\\anaconda3\\lib\\site-packages (from cufflinks) (7.5.1)\n",
      "Requirement already satisfied: ipython>=5.3.0 in c:\\users\\alsgu\\anaconda3\\lib\\site-packages (from cufflinks) (7.19.0)\n",
      "Requirement already satisfied: retrying>=1.3.3 in c:\\users\\alsgu\\anaconda3\\lib\\site-packages (from plotly>=4.1.1->cufflinks) (1.3.3)\n",
      "Requirement already satisfied: pytz>=2017.2 in c:\\users\\alsgu\\anaconda3\\lib\\site-packages (from pandas>=0.19.2->cufflinks) (2020.1)\n",
      "Requirement already satisfied: python-dateutil>=2.7.3 in c:\\users\\alsgu\\anaconda3\\lib\\site-packages (from pandas>=0.19.2->cufflinks) (2.8.1)\n",
      "Requirement already satisfied: widgetsnbextension~=3.5.0 in c:\\users\\alsgu\\anaconda3\\lib\\site-packages (from ipywidgets>=7.0.0->cufflinks) (3.5.1)\n",
      "Requirement already satisfied: traitlets>=4.3.1 in c:\\users\\alsgu\\anaconda3\\lib\\site-packages (from ipywidgets>=7.0.0->cufflinks) (5.0.5)\n",
      "Requirement already satisfied: nbformat>=4.2.0 in c:\\users\\alsgu\\anaconda3\\lib\\site-packages (from ipywidgets>=7.0.0->cufflinks) (5.0.8)\n",
      "Requirement already satisfied: ipykernel>=4.5.1 in c:\\users\\alsgu\\anaconda3\\lib\\site-packages (from ipywidgets>=7.0.0->cufflinks) (5.3.4)\n",
      "Requirement already satisfied: colorama; sys_platform == \"win32\" in c:\\users\\alsgu\\anaconda3\\lib\\site-packages (from ipython>=5.3.0->cufflinks) (0.4.4)\n",
      "Requirement already satisfied: pickleshare in c:\\users\\alsgu\\anaconda3\\lib\\site-packages (from ipython>=5.3.0->cufflinks) (0.7.5)\n",
      "Requirement already satisfied: backcall in c:\\users\\alsgu\\anaconda3\\lib\\site-packages (from ipython>=5.3.0->cufflinks) (0.2.0)\n",
      "Requirement already satisfied: jedi>=0.10 in c:\\users\\alsgu\\anaconda3\\lib\\site-packages (from ipython>=5.3.0->cufflinks) (0.17.1)\n",
      "Requirement already satisfied: decorator in c:\\users\\alsgu\\anaconda3\\lib\\site-packages (from ipython>=5.3.0->cufflinks) (4.4.2)\n",
      "Requirement already satisfied: prompt-toolkit!=3.0.0,!=3.0.1,<3.1.0,>=2.0.0 in c:\\users\\alsgu\\anaconda3\\lib\\site-packages (from ipython>=5.3.0->cufflinks) (3.0.8)\n",
      "Requirement already satisfied: pygments in c:\\users\\alsgu\\anaconda3\\lib\\site-packages (from ipython>=5.3.0->cufflinks) (2.7.2)\n",
      "Requirement already satisfied: notebook>=4.4.1 in c:\\users\\alsgu\\anaconda3\\lib\\site-packages (from widgetsnbextension~=3.5.0->ipywidgets>=7.0.0->cufflinks) (6.1.4)\n",
      "Requirement already satisfied: ipython-genutils in c:\\users\\alsgu\\anaconda3\\lib\\site-packages (from traitlets>=4.3.1->ipywidgets>=7.0.0->cufflinks) (0.2.0)\n",
      "Requirement already satisfied: jupyter-core in c:\\users\\alsgu\\anaconda3\\lib\\site-packages (from nbformat>=4.2.0->ipywidgets>=7.0.0->cufflinks) (4.6.3)\n",
      "Requirement already satisfied: jsonschema!=2.5.0,>=2.4 in c:\\users\\alsgu\\anaconda3\\lib\\site-packages (from nbformat>=4.2.0->ipywidgets>=7.0.0->cufflinks) (3.2.0)\n",
      "Requirement already satisfied: tornado>=4.2 in c:\\users\\alsgu\\anaconda3\\lib\\site-packages (from ipykernel>=4.5.1->ipywidgets>=7.0.0->cufflinks) (6.0.4)\n",
      "Requirement already satisfied: jupyter-client in c:\\users\\alsgu\\anaconda3\\lib\\site-packages (from ipykernel>=4.5.1->ipywidgets>=7.0.0->cufflinks) (6.1.7)\n",
      "Requirement already satisfied: parso<0.8.0,>=0.7.0 in c:\\users\\alsgu\\anaconda3\\lib\\site-packages (from jedi>=0.10->ipython>=5.3.0->cufflinks) (0.7.0)\n",
      "Requirement already satisfied: wcwidth in c:\\users\\alsgu\\anaconda3\\lib\\site-packages (from prompt-toolkit!=3.0.0,!=3.0.1,<3.1.0,>=2.0.0->ipython>=5.3.0->cufflinks) (0.2.5)\n",
      "Requirement already satisfied: Send2Trash in c:\\users\\alsgu\\anaconda3\\lib\\site-packages (from notebook>=4.4.1->widgetsnbextension~=3.5.0->ipywidgets>=7.0.0->cufflinks) (1.5.0)\n",
      "Requirement already satisfied: jinja2 in c:\\users\\alsgu\\anaconda3\\lib\\site-packages (from notebook>=4.4.1->widgetsnbextension~=3.5.0->ipywidgets>=7.0.0->cufflinks) (2.11.2)\n",
      "Requirement already satisfied: prometheus-client in c:\\users\\alsgu\\anaconda3\\lib\\site-packages (from notebook>=4.4.1->widgetsnbextension~=3.5.0->ipywidgets>=7.0.0->cufflinks) (0.8.0)\n",
      "Requirement already satisfied: nbconvert in c:\\users\\alsgu\\anaconda3\\lib\\site-packages (from notebook>=4.4.1->widgetsnbextension~=3.5.0->ipywidgets>=7.0.0->cufflinks) (6.0.7)\n",
      "Requirement already satisfied: argon2-cffi in c:\\users\\alsgu\\anaconda3\\lib\\site-packages (from notebook>=4.4.1->widgetsnbextension~=3.5.0->ipywidgets>=7.0.0->cufflinks) (20.1.0)\n",
      "Requirement already satisfied: pyzmq>=17 in c:\\users\\alsgu\\anaconda3\\lib\\site-packages (from notebook>=4.4.1->widgetsnbextension~=3.5.0->ipywidgets>=7.0.0->cufflinks) (19.0.2)\n",
      "Requirement already satisfied: terminado>=0.8.3 in c:\\users\\alsgu\\anaconda3\\lib\\site-packages (from notebook>=4.4.1->widgetsnbextension~=3.5.0->ipywidgets>=7.0.0->cufflinks) (0.9.1)\n",
      "Requirement already satisfied: pywin32>=1.0; sys_platform == \"win32\" in c:\\users\\alsgu\\anaconda3\\lib\\site-packages (from jupyter-core->nbformat>=4.2.0->ipywidgets>=7.0.0->cufflinks) (227)\n",
      "Requirement already satisfied: pyrsistent>=0.14.0 in c:\\users\\alsgu\\anaconda3\\lib\\site-packages (from jsonschema!=2.5.0,>=2.4->nbformat>=4.2.0->ipywidgets>=7.0.0->cufflinks) (0.17.3)\n",
      "Requirement already satisfied: attrs>=17.4.0 in c:\\users\\alsgu\\anaconda3\\lib\\site-packages (from jsonschema!=2.5.0,>=2.4->nbformat>=4.2.0->ipywidgets>=7.0.0->cufflinks) (20.3.0)\n",
      "Requirement already satisfied: MarkupSafe>=0.23 in c:\\users\\alsgu\\anaconda3\\lib\\site-packages (from jinja2->notebook>=4.4.1->widgetsnbextension~=3.5.0->ipywidgets>=7.0.0->cufflinks) (1.1.1)\n",
      "Requirement already satisfied: mistune<2,>=0.8.1 in c:\\users\\alsgu\\anaconda3\\lib\\site-packages (from nbconvert->notebook>=4.4.1->widgetsnbextension~=3.5.0->ipywidgets>=7.0.0->cufflinks) (0.8.4)\n",
      "Requirement already satisfied: nbclient<0.6.0,>=0.5.0 in c:\\users\\alsgu\\anaconda3\\lib\\site-packages (from nbconvert->notebook>=4.4.1->widgetsnbextension~=3.5.0->ipywidgets>=7.0.0->cufflinks) (0.5.1)\n",
      "Requirement already satisfied: testpath in c:\\users\\alsgu\\anaconda3\\lib\\site-packages (from nbconvert->notebook>=4.4.1->widgetsnbextension~=3.5.0->ipywidgets>=7.0.0->cufflinks) (0.4.4)\n",
      "Requirement already satisfied: entrypoints>=0.2.2 in c:\\users\\alsgu\\anaconda3\\lib\\site-packages (from nbconvert->notebook>=4.4.1->widgetsnbextension~=3.5.0->ipywidgets>=7.0.0->cufflinks) (0.3)\n",
      "Requirement already satisfied: defusedxml in c:\\users\\alsgu\\anaconda3\\lib\\site-packages (from nbconvert->notebook>=4.4.1->widgetsnbextension~=3.5.0->ipywidgets>=7.0.0->cufflinks) (0.6.0)\n",
      "Requirement already satisfied: jupyterlab-pygments in c:\\users\\alsgu\\anaconda3\\lib\\site-packages (from nbconvert->notebook>=4.4.1->widgetsnbextension~=3.5.0->ipywidgets>=7.0.0->cufflinks) (0.1.2)\n",
      "Requirement already satisfied: pandocfilters>=1.4.1 in c:\\users\\alsgu\\anaconda3\\lib\\site-packages (from nbconvert->notebook>=4.4.1->widgetsnbextension~=3.5.0->ipywidgets>=7.0.0->cufflinks) (1.4.3)\n",
      "Requirement already satisfied: bleach in c:\\users\\alsgu\\anaconda3\\lib\\site-packages (from nbconvert->notebook>=4.4.1->widgetsnbextension~=3.5.0->ipywidgets>=7.0.0->cufflinks) (3.2.1)\n",
      "Requirement already satisfied: cffi>=1.0.0 in c:\\users\\alsgu\\anaconda3\\lib\\site-packages (from argon2-cffi->notebook>=4.4.1->widgetsnbextension~=3.5.0->ipywidgets>=7.0.0->cufflinks) (1.14.3)\n",
      "Requirement already satisfied: pywinpty>=0.5 in c:\\users\\alsgu\\anaconda3\\lib\\site-packages (from terminado>=0.8.3->notebook>=4.4.1->widgetsnbextension~=3.5.0->ipywidgets>=7.0.0->cufflinks) (0.5.7)\n",
      "Requirement already satisfied: async-generator in c:\\users\\alsgu\\anaconda3\\lib\\site-packages (from nbclient<0.6.0,>=0.5.0->nbconvert->notebook>=4.4.1->widgetsnbextension~=3.5.0->ipywidgets>=7.0.0->cufflinks) (1.10)\n",
      "Requirement already satisfied: nest-asyncio in c:\\users\\alsgu\\anaconda3\\lib\\site-packages (from nbclient<0.6.0,>=0.5.0->nbconvert->notebook>=4.4.1->widgetsnbextension~=3.5.0->ipywidgets>=7.0.0->cufflinks) (1.4.2)\n",
      "Requirement already satisfied: packaging in c:\\users\\alsgu\\anaconda3\\lib\\site-packages (from bleach->nbconvert->notebook>=4.4.1->widgetsnbextension~=3.5.0->ipywidgets>=7.0.0->cufflinks) (20.4)\n",
      "Requirement already satisfied: webencodings in c:\\users\\alsgu\\anaconda3\\lib\\site-packages (from bleach->nbconvert->notebook>=4.4.1->widgetsnbextension~=3.5.0->ipywidgets>=7.0.0->cufflinks) (0.5.1)\n",
      "Requirement already satisfied: pycparser in c:\\users\\alsgu\\anaconda3\\lib\\site-packages (from cffi>=1.0.0->argon2-cffi->notebook>=4.4.1->widgetsnbextension~=3.5.0->ipywidgets>=7.0.0->cufflinks) (2.20)\n",
      "Requirement already satisfied: pyparsing>=2.0.2 in c:\\users\\alsgu\\anaconda3\\lib\\site-packages (from packaging->bleach->nbconvert->notebook>=4.4.1->widgetsnbextension~=3.5.0->ipywidgets>=7.0.0->cufflinks) (2.4.7)\n"
     ]
    }
   ],
   "source": [
    "!pip install cufflinks"
   ]
  },
  {
   "cell_type": "code",
   "execution_count": 69,
   "metadata": {},
   "outputs": [
    {
     "data": {
      "text/html": [
       "        <script type=\"text/javascript\">\n",
       "        window.PlotlyConfig = {MathJaxConfig: 'local'};\n",
       "        if (window.MathJax) {MathJax.Hub.Config({SVG: {font: \"STIX-Web\"}});}\n",
       "        if (typeof require !== 'undefined') {\n",
       "        require.undef(\"plotly\");\n",
       "        requirejs.config({\n",
       "            paths: {\n",
       "                'plotly': ['https://cdn.plot.ly/plotly-latest.min']\n",
       "            }\n",
       "        });\n",
       "        require(['plotly'], function(Plotly) {\n",
       "            window._Plotly = Plotly;\n",
       "        });\n",
       "        }\n",
       "        </script>\n",
       "        "
      ]
     },
     "metadata": {},
     "output_type": "display_data"
    }
   ],
   "source": [
    "import chart_studio.plotly as py\n",
    "import cufflinks as cf\n",
    "cf.go_offline(connected = True)"
   ]
  },
  {
   "cell_type": "code",
   "execution_count": 70,
   "metadata": {
    "scrolled": true
   },
   "outputs": [
    {
     "data": {
      "application/vnd.plotly.v1+json": {
       "config": {
        "linkText": "Export to plot.ly",
        "plotlyServerURL": "https://plot.ly",
        "showLink": true
       },
       "data": [
        {
         "colorscale": [
          [
           0,
           "rgb(247,252,245)"
          ],
          [
           0.125,
           "rgb(229,245,224)"
          ],
          [
           0.25,
           "rgb(199,233,192)"
          ],
          [
           0.375,
           "rgb(161,217,155)"
          ],
          [
           0.5,
           "rgb(116,196,118)"
          ],
          [
           0.625,
           "rgb(65,171,93)"
          ],
          [
           0.75,
           "rgb(35,139,69)"
          ],
          [
           0.875,
           "rgb(0,109,44)"
          ],
          [
           1,
           "rgb(0,68,27)"
          ]
         ],
         "type": "heatmap",
         "x": [
          "fixed acidity",
          "volatile acidity",
          "citric acid",
          "residual sugar",
          "chlorides",
          "free sulfur dioxide",
          "total sulfur dioxide",
          "density",
          "pH",
          "sulphates",
          "alcohol",
          "quality"
         ],
         "y": [
          "fixed acidity",
          "volatile acidity",
          "citric acid",
          "residual sugar",
          "chlorides",
          "free sulfur dioxide",
          "total sulfur dioxide",
          "density",
          "pH",
          "sulphates",
          "alcohol",
          "quality"
         ],
         "z": [
          [
           1,
           -0.2561308947703819,
           0.6717034347641041,
           0.1147767244949209,
           0.093705186321305,
           -0.15379419286482485,
           -0.11318144304548039,
           0.6680472921189711,
           -0.6829781945685299,
           0.18300566393215348,
           -0.06166827063949064,
           0.1240516491132247
          ],
          [
           -0.2561308947703819,
           1,
           -0.5524956845595839,
           0.001917881962790698,
           0.06129777247646159,
           -0.010503827006591856,
           0.07647000482092836,
           0.02202623219521656,
           0.23493729440739436,
           -0.26098668528329055,
           -0.20228802714953087,
           -0.3905577802640094
          ],
          [
           0.6717034347641041,
           -0.5524956845595839,
           1,
           0.14357716157031483,
           0.20382291382904255,
           -0.06097812919230497,
           0.035533023931161666,
           0.3649471752112531,
           -0.5419041447395132,
           0.31277004385441737,
           0.10990324663388663,
           0.2263725143180432
          ],
          [
           0.1147767244949209,
           0.001917881962790698,
           0.14357716157031483,
           1,
           0.05560953520353216,
           0.18704899510428666,
           0.2030278816971015,
           0.3552833709833765,
           -0.08565242221887161,
           0.005527121339138363,
           0.042075437211749625,
           0.013731637340066346
          ],
          [
           0.093705186321305,
           0.06129777247646159,
           0.20382291382904255,
           0.05560953520353216,
           1,
           0.005562147004781088,
           0.047400468259075325,
           0.20063232664151315,
           -0.2650261311732278,
           0.37126048128542705,
           -0.2211405447889099,
           -0.12890655993005312
          ],
          [
           -0.15379419286482485,
           -0.010503827006591856,
           -0.06097812919230497,
           0.18704899510428666,
           0.005562147004781088,
           1,
           0.6676664504810212,
           -0.021945831163490016,
           0.07037749850494217,
           0.051657571842828584,
           -0.06940835355780794,
           -0.05065605724427643
          ],
          [
           -0.11318144304548039,
           0.07647000482092836,
           0.035533023931161666,
           0.2030278816971015,
           0.047400468259075325,
           0.6676664504810212,
           1,
           0.07126947620310314,
           -0.06649455901285606,
           0.04294683623953844,
           -0.20565394373429996,
           -0.18510028892653843
          ],
          [
           0.6680472921189711,
           0.02202623219521656,
           0.3649471752112531,
           0.3552833709833765,
           0.20063232664151315,
           -0.021945831163490016,
           0.07126947620310314,
           1,
           -0.34169933478503156,
           0.1485064117207851,
           -0.49617977024448734,
           -0.17491922778335006
          ],
          [
           -0.6829781945685299,
           0.23493729440739436,
           -0.5419041447395132,
           -0.08565242221887161,
           -0.2650261311732278,
           0.07037749850494217,
           -0.06649455901285606,
           -0.34169933478503156,
           1,
           -0.1966476023043703,
           0.20563250851242088,
           -0.0577313912053823
          ],
          [
           0.18300566393215348,
           -0.26098668528329055,
           0.31277004385441737,
           0.005527121339138363,
           0.37126048128542705,
           0.051657571842828584,
           0.04294683623953844,
           0.1485064117207851,
           -0.1966476023043703,
           1,
           0.09359475041244826,
           0.25139707906926206
          ],
          [
           -0.06166827063949064,
           -0.20228802714953087,
           0.10990324663388663,
           0.042075437211749625,
           -0.2211405447889099,
           -0.06940835355780794,
           -0.20565394373429996,
           -0.49617977024448734,
           0.20563250851242088,
           0.09359475041244826,
           1,
           0.47616632399954223
          ],
          [
           0.1240516491132247,
           -0.3905577802640094,
           0.2263725143180432,
           0.013731637340066346,
           -0.12890655993005312,
           -0.05065605724427643,
           -0.18510028892653843,
           -0.17491922778335006,
           -0.0577313912053823,
           0.25139707906926206,
           0.47616632399954223,
           1
          ]
         ],
         "zmax": 1,
         "zmin": -0.6829781945685299
        }
       ],
       "layout": {
        "legend": {
         "bgcolor": "#F5F6F9",
         "font": {
          "color": "#4D5663"
         }
        },
        "paper_bgcolor": "#F5F6F9",
        "plot_bgcolor": "#F5F6F9",
        "template": {
         "data": {
          "bar": [
           {
            "error_x": {
             "color": "#2a3f5f"
            },
            "error_y": {
             "color": "#2a3f5f"
            },
            "marker": {
             "line": {
              "color": "#E5ECF6",
              "width": 0.5
             }
            },
            "type": "bar"
           }
          ],
          "barpolar": [
           {
            "marker": {
             "line": {
              "color": "#E5ECF6",
              "width": 0.5
             }
            },
            "type": "barpolar"
           }
          ],
          "carpet": [
           {
            "aaxis": {
             "endlinecolor": "#2a3f5f",
             "gridcolor": "white",
             "linecolor": "white",
             "minorgridcolor": "white",
             "startlinecolor": "#2a3f5f"
            },
            "baxis": {
             "endlinecolor": "#2a3f5f",
             "gridcolor": "white",
             "linecolor": "white",
             "minorgridcolor": "white",
             "startlinecolor": "#2a3f5f"
            },
            "type": "carpet"
           }
          ],
          "choropleth": [
           {
            "colorbar": {
             "outlinewidth": 0,
             "ticks": ""
            },
            "type": "choropleth"
           }
          ],
          "contour": [
           {
            "colorbar": {
             "outlinewidth": 0,
             "ticks": ""
            },
            "colorscale": [
             [
              0,
              "#0d0887"
             ],
             [
              0.1111111111111111,
              "#46039f"
             ],
             [
              0.2222222222222222,
              "#7201a8"
             ],
             [
              0.3333333333333333,
              "#9c179e"
             ],
             [
              0.4444444444444444,
              "#bd3786"
             ],
             [
              0.5555555555555556,
              "#d8576b"
             ],
             [
              0.6666666666666666,
              "#ed7953"
             ],
             [
              0.7777777777777778,
              "#fb9f3a"
             ],
             [
              0.8888888888888888,
              "#fdca26"
             ],
             [
              1,
              "#f0f921"
             ]
            ],
            "type": "contour"
           }
          ],
          "contourcarpet": [
           {
            "colorbar": {
             "outlinewidth": 0,
             "ticks": ""
            },
            "type": "contourcarpet"
           }
          ],
          "heatmap": [
           {
            "colorbar": {
             "outlinewidth": 0,
             "ticks": ""
            },
            "colorscale": [
             [
              0,
              "#0d0887"
             ],
             [
              0.1111111111111111,
              "#46039f"
             ],
             [
              0.2222222222222222,
              "#7201a8"
             ],
             [
              0.3333333333333333,
              "#9c179e"
             ],
             [
              0.4444444444444444,
              "#bd3786"
             ],
             [
              0.5555555555555556,
              "#d8576b"
             ],
             [
              0.6666666666666666,
              "#ed7953"
             ],
             [
              0.7777777777777778,
              "#fb9f3a"
             ],
             [
              0.8888888888888888,
              "#fdca26"
             ],
             [
              1,
              "#f0f921"
             ]
            ],
            "type": "heatmap"
           }
          ],
          "heatmapgl": [
           {
            "colorbar": {
             "outlinewidth": 0,
             "ticks": ""
            },
            "colorscale": [
             [
              0,
              "#0d0887"
             ],
             [
              0.1111111111111111,
              "#46039f"
             ],
             [
              0.2222222222222222,
              "#7201a8"
             ],
             [
              0.3333333333333333,
              "#9c179e"
             ],
             [
              0.4444444444444444,
              "#bd3786"
             ],
             [
              0.5555555555555556,
              "#d8576b"
             ],
             [
              0.6666666666666666,
              "#ed7953"
             ],
             [
              0.7777777777777778,
              "#fb9f3a"
             ],
             [
              0.8888888888888888,
              "#fdca26"
             ],
             [
              1,
              "#f0f921"
             ]
            ],
            "type": "heatmapgl"
           }
          ],
          "histogram": [
           {
            "marker": {
             "colorbar": {
              "outlinewidth": 0,
              "ticks": ""
             }
            },
            "type": "histogram"
           }
          ],
          "histogram2d": [
           {
            "colorbar": {
             "outlinewidth": 0,
             "ticks": ""
            },
            "colorscale": [
             [
              0,
              "#0d0887"
             ],
             [
              0.1111111111111111,
              "#46039f"
             ],
             [
              0.2222222222222222,
              "#7201a8"
             ],
             [
              0.3333333333333333,
              "#9c179e"
             ],
             [
              0.4444444444444444,
              "#bd3786"
             ],
             [
              0.5555555555555556,
              "#d8576b"
             ],
             [
              0.6666666666666666,
              "#ed7953"
             ],
             [
              0.7777777777777778,
              "#fb9f3a"
             ],
             [
              0.8888888888888888,
              "#fdca26"
             ],
             [
              1,
              "#f0f921"
             ]
            ],
            "type": "histogram2d"
           }
          ],
          "histogram2dcontour": [
           {
            "colorbar": {
             "outlinewidth": 0,
             "ticks": ""
            },
            "colorscale": [
             [
              0,
              "#0d0887"
             ],
             [
              0.1111111111111111,
              "#46039f"
             ],
             [
              0.2222222222222222,
              "#7201a8"
             ],
             [
              0.3333333333333333,
              "#9c179e"
             ],
             [
              0.4444444444444444,
              "#bd3786"
             ],
             [
              0.5555555555555556,
              "#d8576b"
             ],
             [
              0.6666666666666666,
              "#ed7953"
             ],
             [
              0.7777777777777778,
              "#fb9f3a"
             ],
             [
              0.8888888888888888,
              "#fdca26"
             ],
             [
              1,
              "#f0f921"
             ]
            ],
            "type": "histogram2dcontour"
           }
          ],
          "mesh3d": [
           {
            "colorbar": {
             "outlinewidth": 0,
             "ticks": ""
            },
            "type": "mesh3d"
           }
          ],
          "parcoords": [
           {
            "line": {
             "colorbar": {
              "outlinewidth": 0,
              "ticks": ""
             }
            },
            "type": "parcoords"
           }
          ],
          "pie": [
           {
            "automargin": true,
            "type": "pie"
           }
          ],
          "scatter": [
           {
            "marker": {
             "colorbar": {
              "outlinewidth": 0,
              "ticks": ""
             }
            },
            "type": "scatter"
           }
          ],
          "scatter3d": [
           {
            "line": {
             "colorbar": {
              "outlinewidth": 0,
              "ticks": ""
             }
            },
            "marker": {
             "colorbar": {
              "outlinewidth": 0,
              "ticks": ""
             }
            },
            "type": "scatter3d"
           }
          ],
          "scattercarpet": [
           {
            "marker": {
             "colorbar": {
              "outlinewidth": 0,
              "ticks": ""
             }
            },
            "type": "scattercarpet"
           }
          ],
          "scattergeo": [
           {
            "marker": {
             "colorbar": {
              "outlinewidth": 0,
              "ticks": ""
             }
            },
            "type": "scattergeo"
           }
          ],
          "scattergl": [
           {
            "marker": {
             "colorbar": {
              "outlinewidth": 0,
              "ticks": ""
             }
            },
            "type": "scattergl"
           }
          ],
          "scattermapbox": [
           {
            "marker": {
             "colorbar": {
              "outlinewidth": 0,
              "ticks": ""
             }
            },
            "type": "scattermapbox"
           }
          ],
          "scatterpolar": [
           {
            "marker": {
             "colorbar": {
              "outlinewidth": 0,
              "ticks": ""
             }
            },
            "type": "scatterpolar"
           }
          ],
          "scatterpolargl": [
           {
            "marker": {
             "colorbar": {
              "outlinewidth": 0,
              "ticks": ""
             }
            },
            "type": "scatterpolargl"
           }
          ],
          "scatterternary": [
           {
            "marker": {
             "colorbar": {
              "outlinewidth": 0,
              "ticks": ""
             }
            },
            "type": "scatterternary"
           }
          ],
          "surface": [
           {
            "colorbar": {
             "outlinewidth": 0,
             "ticks": ""
            },
            "colorscale": [
             [
              0,
              "#0d0887"
             ],
             [
              0.1111111111111111,
              "#46039f"
             ],
             [
              0.2222222222222222,
              "#7201a8"
             ],
             [
              0.3333333333333333,
              "#9c179e"
             ],
             [
              0.4444444444444444,
              "#bd3786"
             ],
             [
              0.5555555555555556,
              "#d8576b"
             ],
             [
              0.6666666666666666,
              "#ed7953"
             ],
             [
              0.7777777777777778,
              "#fb9f3a"
             ],
             [
              0.8888888888888888,
              "#fdca26"
             ],
             [
              1,
              "#f0f921"
             ]
            ],
            "type": "surface"
           }
          ],
          "table": [
           {
            "cells": {
             "fill": {
              "color": "#EBF0F8"
             },
             "line": {
              "color": "white"
             }
            },
            "header": {
             "fill": {
              "color": "#C8D4E3"
             },
             "line": {
              "color": "white"
             }
            },
            "type": "table"
           }
          ]
         },
         "layout": {
          "annotationdefaults": {
           "arrowcolor": "#2a3f5f",
           "arrowhead": 0,
           "arrowwidth": 1
          },
          "autotypenumbers": "strict",
          "coloraxis": {
           "colorbar": {
            "outlinewidth": 0,
            "ticks": ""
           }
          },
          "colorscale": {
           "diverging": [
            [
             0,
             "#8e0152"
            ],
            [
             0.1,
             "#c51b7d"
            ],
            [
             0.2,
             "#de77ae"
            ],
            [
             0.3,
             "#f1b6da"
            ],
            [
             0.4,
             "#fde0ef"
            ],
            [
             0.5,
             "#f7f7f7"
            ],
            [
             0.6,
             "#e6f5d0"
            ],
            [
             0.7,
             "#b8e186"
            ],
            [
             0.8,
             "#7fbc41"
            ],
            [
             0.9,
             "#4d9221"
            ],
            [
             1,
             "#276419"
            ]
           ],
           "sequential": [
            [
             0,
             "#0d0887"
            ],
            [
             0.1111111111111111,
             "#46039f"
            ],
            [
             0.2222222222222222,
             "#7201a8"
            ],
            [
             0.3333333333333333,
             "#9c179e"
            ],
            [
             0.4444444444444444,
             "#bd3786"
            ],
            [
             0.5555555555555556,
             "#d8576b"
            ],
            [
             0.6666666666666666,
             "#ed7953"
            ],
            [
             0.7777777777777778,
             "#fb9f3a"
            ],
            [
             0.8888888888888888,
             "#fdca26"
            ],
            [
             1,
             "#f0f921"
            ]
           ],
           "sequentialminus": [
            [
             0,
             "#0d0887"
            ],
            [
             0.1111111111111111,
             "#46039f"
            ],
            [
             0.2222222222222222,
             "#7201a8"
            ],
            [
             0.3333333333333333,
             "#9c179e"
            ],
            [
             0.4444444444444444,
             "#bd3786"
            ],
            [
             0.5555555555555556,
             "#d8576b"
            ],
            [
             0.6666666666666666,
             "#ed7953"
            ],
            [
             0.7777777777777778,
             "#fb9f3a"
            ],
            [
             0.8888888888888888,
             "#fdca26"
            ],
            [
             1,
             "#f0f921"
            ]
           ]
          },
          "colorway": [
           "#636efa",
           "#EF553B",
           "#00cc96",
           "#ab63fa",
           "#FFA15A",
           "#19d3f3",
           "#FF6692",
           "#B6E880",
           "#FF97FF",
           "#FECB52"
          ],
          "font": {
           "color": "#2a3f5f"
          },
          "geo": {
           "bgcolor": "white",
           "lakecolor": "white",
           "landcolor": "#E5ECF6",
           "showlakes": true,
           "showland": true,
           "subunitcolor": "white"
          },
          "hoverlabel": {
           "align": "left"
          },
          "hovermode": "closest",
          "mapbox": {
           "style": "light"
          },
          "paper_bgcolor": "white",
          "plot_bgcolor": "#E5ECF6",
          "polar": {
           "angularaxis": {
            "gridcolor": "white",
            "linecolor": "white",
            "ticks": ""
           },
           "bgcolor": "#E5ECF6",
           "radialaxis": {
            "gridcolor": "white",
            "linecolor": "white",
            "ticks": ""
           }
          },
          "scene": {
           "xaxis": {
            "backgroundcolor": "#E5ECF6",
            "gridcolor": "white",
            "gridwidth": 2,
            "linecolor": "white",
            "showbackground": true,
            "ticks": "",
            "zerolinecolor": "white"
           },
           "yaxis": {
            "backgroundcolor": "#E5ECF6",
            "gridcolor": "white",
            "gridwidth": 2,
            "linecolor": "white",
            "showbackground": true,
            "ticks": "",
            "zerolinecolor": "white"
           },
           "zaxis": {
            "backgroundcolor": "#E5ECF6",
            "gridcolor": "white",
            "gridwidth": 2,
            "linecolor": "white",
            "showbackground": true,
            "ticks": "",
            "zerolinecolor": "white"
           }
          },
          "shapedefaults": {
           "line": {
            "color": "#2a3f5f"
           }
          },
          "ternary": {
           "aaxis": {
            "gridcolor": "white",
            "linecolor": "white",
            "ticks": ""
           },
           "baxis": {
            "gridcolor": "white",
            "linecolor": "white",
            "ticks": ""
           },
           "bgcolor": "#E5ECF6",
           "caxis": {
            "gridcolor": "white",
            "linecolor": "white",
            "ticks": ""
           }
          },
          "title": {
           "x": 0.05
          },
          "xaxis": {
           "automargin": true,
           "gridcolor": "white",
           "linecolor": "white",
           "ticks": "",
           "title": {
            "standoff": 15
           },
           "zerolinecolor": "white",
           "zerolinewidth": 2
          },
          "yaxis": {
           "automargin": true,
           "gridcolor": "white",
           "linecolor": "white",
           "ticks": "",
           "title": {
            "standoff": 15
           },
           "zerolinecolor": "white",
           "zerolinewidth": 2
          }
         }
        },
        "title": {
         "font": {
          "color": "#4D5663"
         }
        },
        "xaxis": {
         "gridcolor": "#E1E5ED",
         "showgrid": true,
         "tickfont": {
          "color": "#4D5663"
         },
         "title": {
          "font": {
           "color": "#4D5663"
          },
          "text": ""
         },
         "zerolinecolor": "#E1E5ED"
        },
        "yaxis": {
         "gridcolor": "#E1E5ED",
         "showgrid": true,
         "tickfont": {
          "color": "#4D5663"
         },
         "title": {
          "font": {
           "color": "#4D5663"
          },
          "text": ""
         },
         "zerolinecolor": "#E1E5ED"
        }
       }
      },
      "text/html": [
       "<div>                            <div id=\"7be180da-289f-45e1-a739-00610a341f67\" class=\"plotly-graph-div\" style=\"height:525px; width:100%;\"></div>            <script type=\"text/javascript\">                require([\"plotly\"], function(Plotly) {                    window.PLOTLYENV=window.PLOTLYENV || {};\n",
       "                    window.PLOTLYENV.BASE_URL='https://plot.ly';                                    if (document.getElementById(\"7be180da-289f-45e1-a739-00610a341f67\")) {                    Plotly.newPlot(                        \"7be180da-289f-45e1-a739-00610a341f67\",                        [{\"colorscale\": [[0.0, \"rgb(247,252,245)\"], [0.125, \"rgb(229,245,224)\"], [0.25, \"rgb(199,233,192)\"], [0.375, \"rgb(161,217,155)\"], [0.5, \"rgb(116,196,118)\"], [0.625, \"rgb(65,171,93)\"], [0.75, \"rgb(35,139,69)\"], [0.875, \"rgb(0,109,44)\"], [1.0, \"rgb(0,68,27)\"]], \"type\": \"heatmap\", \"x\": [\"fixed acidity\", \"volatile acidity\", \"citric acid\", \"residual sugar\", \"chlorides\", \"free sulfur dioxide\", \"total sulfur dioxide\", \"density\", \"pH\", \"sulphates\", \"alcohol\", \"quality\"], \"y\": [\"fixed acidity\", \"volatile acidity\", \"citric acid\", \"residual sugar\", \"chlorides\", \"free sulfur dioxide\", \"total sulfur dioxide\", \"density\", \"pH\", \"sulphates\", \"alcohol\", \"quality\"], \"z\": [[1.0, -0.2561308947703819, 0.6717034347641041, 0.1147767244949209, 0.093705186321305, -0.15379419286482485, -0.11318144304548039, 0.6680472921189711, -0.6829781945685299, 0.18300566393215348, -0.06166827063949064, 0.1240516491132247], [-0.2561308947703819, 1.0, -0.5524956845595839, 0.001917881962790698, 0.06129777247646159, -0.010503827006591856, 0.07647000482092836, 0.02202623219521656, 0.23493729440739436, -0.26098668528329055, -0.20228802714953087, -0.3905577802640094], [0.6717034347641041, -0.5524956845595839, 1.0, 0.14357716157031483, 0.20382291382904255, -0.06097812919230497, 0.035533023931161666, 0.3649471752112531, -0.5419041447395132, 0.31277004385441737, 0.10990324663388663, 0.2263725143180432], [0.1147767244949209, 0.001917881962790698, 0.14357716157031483, 1.0, 0.05560953520353216, 0.18704899510428666, 0.2030278816971015, 0.3552833709833765, -0.08565242221887161, 0.005527121339138363, 0.042075437211749625, 0.013731637340066346], [0.093705186321305, 0.06129777247646159, 0.20382291382904255, 0.05560953520353216, 1.0, 0.005562147004781088, 0.047400468259075325, 0.20063232664151315, -0.2650261311732278, 0.37126048128542705, -0.2211405447889099, -0.12890655993005312], [-0.15379419286482485, -0.010503827006591856, -0.06097812919230497, 0.18704899510428666, 0.005562147004781088, 1.0, 0.6676664504810212, -0.021945831163490016, 0.07037749850494217, 0.051657571842828584, -0.06940835355780794, -0.05065605724427643], [-0.11318144304548039, 0.07647000482092836, 0.035533023931161666, 0.2030278816971015, 0.047400468259075325, 0.6676664504810212, 1.0, 0.07126947620310314, -0.06649455901285606, 0.04294683623953844, -0.20565394373429996, -0.18510028892653843], [0.6680472921189711, 0.02202623219521656, 0.3649471752112531, 0.3552833709833765, 0.20063232664151315, -0.021945831163490016, 0.07126947620310314, 1.0, -0.34169933478503156, 0.1485064117207851, -0.49617977024448734, -0.17491922778335006], [-0.6829781945685299, 0.23493729440739436, -0.5419041447395132, -0.08565242221887161, -0.2650261311732278, 0.07037749850494217, -0.06649455901285606, -0.34169933478503156, 1.0, -0.1966476023043703, 0.20563250851242088, -0.0577313912053823], [0.18300566393215348, -0.26098668528329055, 0.31277004385441737, 0.005527121339138363, 0.37126048128542705, 0.051657571842828584, 0.04294683623953844, 0.1485064117207851, -0.1966476023043703, 1.0, 0.09359475041244826, 0.25139707906926206], [-0.06166827063949064, -0.20228802714953087, 0.10990324663388663, 0.042075437211749625, -0.2211405447889099, -0.06940835355780794, -0.20565394373429996, -0.49617977024448734, 0.20563250851242088, 0.09359475041244826, 1.0, 0.47616632399954223], [0.1240516491132247, -0.3905577802640094, 0.2263725143180432, 0.013731637340066346, -0.12890655993005312, -0.05065605724427643, -0.18510028892653843, -0.17491922778335006, -0.0577313912053823, 0.25139707906926206, 0.47616632399954223, 1.0]], \"zmax\": 1.0, \"zmin\": -0.6829781945685299}],                        {\"legend\": {\"bgcolor\": \"#F5F6F9\", \"font\": {\"color\": \"#4D5663\"}}, \"paper_bgcolor\": \"#F5F6F9\", \"plot_bgcolor\": \"#F5F6F9\", \"template\": {\"data\": {\"bar\": [{\"error_x\": {\"color\": \"#2a3f5f\"}, \"error_y\": {\"color\": \"#2a3f5f\"}, \"marker\": {\"line\": {\"color\": \"#E5ECF6\", \"width\": 0.5}}, \"type\": \"bar\"}], \"barpolar\": [{\"marker\": {\"line\": {\"color\": \"#E5ECF6\", \"width\": 0.5}}, \"type\": \"barpolar\"}], \"carpet\": [{\"aaxis\": {\"endlinecolor\": \"#2a3f5f\", \"gridcolor\": \"white\", \"linecolor\": \"white\", \"minorgridcolor\": \"white\", \"startlinecolor\": \"#2a3f5f\"}, \"baxis\": {\"endlinecolor\": \"#2a3f5f\", \"gridcolor\": \"white\", \"linecolor\": \"white\", \"minorgridcolor\": \"white\", \"startlinecolor\": \"#2a3f5f\"}, \"type\": \"carpet\"}], \"choropleth\": [{\"colorbar\": {\"outlinewidth\": 0, \"ticks\": \"\"}, \"type\": \"choropleth\"}], \"contour\": [{\"colorbar\": {\"outlinewidth\": 0, \"ticks\": \"\"}, \"colorscale\": [[0.0, \"#0d0887\"], [0.1111111111111111, \"#46039f\"], [0.2222222222222222, \"#7201a8\"], [0.3333333333333333, \"#9c179e\"], [0.4444444444444444, \"#bd3786\"], [0.5555555555555556, \"#d8576b\"], [0.6666666666666666, \"#ed7953\"], [0.7777777777777778, \"#fb9f3a\"], [0.8888888888888888, \"#fdca26\"], [1.0, \"#f0f921\"]], \"type\": \"contour\"}], \"contourcarpet\": [{\"colorbar\": {\"outlinewidth\": 0, \"ticks\": \"\"}, \"type\": \"contourcarpet\"}], \"heatmap\": [{\"colorbar\": {\"outlinewidth\": 0, \"ticks\": \"\"}, \"colorscale\": [[0.0, \"#0d0887\"], [0.1111111111111111, \"#46039f\"], [0.2222222222222222, \"#7201a8\"], [0.3333333333333333, \"#9c179e\"], [0.4444444444444444, \"#bd3786\"], [0.5555555555555556, \"#d8576b\"], [0.6666666666666666, \"#ed7953\"], [0.7777777777777778, \"#fb9f3a\"], [0.8888888888888888, \"#fdca26\"], [1.0, \"#f0f921\"]], \"type\": \"heatmap\"}], \"heatmapgl\": [{\"colorbar\": {\"outlinewidth\": 0, \"ticks\": \"\"}, \"colorscale\": [[0.0, \"#0d0887\"], [0.1111111111111111, \"#46039f\"], [0.2222222222222222, \"#7201a8\"], [0.3333333333333333, \"#9c179e\"], [0.4444444444444444, \"#bd3786\"], [0.5555555555555556, \"#d8576b\"], [0.6666666666666666, \"#ed7953\"], [0.7777777777777778, \"#fb9f3a\"], [0.8888888888888888, \"#fdca26\"], [1.0, \"#f0f921\"]], \"type\": \"heatmapgl\"}], \"histogram\": [{\"marker\": {\"colorbar\": {\"outlinewidth\": 0, \"ticks\": \"\"}}, \"type\": \"histogram\"}], \"histogram2d\": [{\"colorbar\": {\"outlinewidth\": 0, \"ticks\": \"\"}, \"colorscale\": [[0.0, \"#0d0887\"], [0.1111111111111111, \"#46039f\"], [0.2222222222222222, \"#7201a8\"], [0.3333333333333333, \"#9c179e\"], [0.4444444444444444, \"#bd3786\"], [0.5555555555555556, \"#d8576b\"], [0.6666666666666666, \"#ed7953\"], [0.7777777777777778, \"#fb9f3a\"], [0.8888888888888888, \"#fdca26\"], [1.0, \"#f0f921\"]], \"type\": \"histogram2d\"}], \"histogram2dcontour\": [{\"colorbar\": {\"outlinewidth\": 0, \"ticks\": \"\"}, \"colorscale\": [[0.0, \"#0d0887\"], [0.1111111111111111, \"#46039f\"], [0.2222222222222222, \"#7201a8\"], [0.3333333333333333, \"#9c179e\"], [0.4444444444444444, \"#bd3786\"], [0.5555555555555556, \"#d8576b\"], [0.6666666666666666, \"#ed7953\"], [0.7777777777777778, \"#fb9f3a\"], [0.8888888888888888, \"#fdca26\"], [1.0, \"#f0f921\"]], \"type\": \"histogram2dcontour\"}], \"mesh3d\": [{\"colorbar\": {\"outlinewidth\": 0, \"ticks\": \"\"}, \"type\": \"mesh3d\"}], \"parcoords\": [{\"line\": {\"colorbar\": {\"outlinewidth\": 0, \"ticks\": \"\"}}, \"type\": \"parcoords\"}], \"pie\": [{\"automargin\": true, \"type\": \"pie\"}], \"scatter\": [{\"marker\": {\"colorbar\": {\"outlinewidth\": 0, \"ticks\": \"\"}}, \"type\": \"scatter\"}], \"scatter3d\": [{\"line\": {\"colorbar\": {\"outlinewidth\": 0, \"ticks\": \"\"}}, \"marker\": {\"colorbar\": {\"outlinewidth\": 0, \"ticks\": \"\"}}, \"type\": \"scatter3d\"}], \"scattercarpet\": [{\"marker\": {\"colorbar\": {\"outlinewidth\": 0, \"ticks\": \"\"}}, \"type\": \"scattercarpet\"}], \"scattergeo\": [{\"marker\": {\"colorbar\": {\"outlinewidth\": 0, \"ticks\": \"\"}}, \"type\": \"scattergeo\"}], \"scattergl\": [{\"marker\": {\"colorbar\": {\"outlinewidth\": 0, \"ticks\": \"\"}}, \"type\": \"scattergl\"}], \"scattermapbox\": [{\"marker\": {\"colorbar\": {\"outlinewidth\": 0, \"ticks\": \"\"}}, \"type\": \"scattermapbox\"}], \"scatterpolar\": [{\"marker\": {\"colorbar\": {\"outlinewidth\": 0, \"ticks\": \"\"}}, \"type\": \"scatterpolar\"}], \"scatterpolargl\": [{\"marker\": {\"colorbar\": {\"outlinewidth\": 0, \"ticks\": \"\"}}, \"type\": \"scatterpolargl\"}], \"scatterternary\": [{\"marker\": {\"colorbar\": {\"outlinewidth\": 0, \"ticks\": \"\"}}, \"type\": \"scatterternary\"}], \"surface\": [{\"colorbar\": {\"outlinewidth\": 0, \"ticks\": \"\"}, \"colorscale\": [[0.0, \"#0d0887\"], [0.1111111111111111, \"#46039f\"], [0.2222222222222222, \"#7201a8\"], [0.3333333333333333, \"#9c179e\"], [0.4444444444444444, \"#bd3786\"], [0.5555555555555556, \"#d8576b\"], [0.6666666666666666, \"#ed7953\"], [0.7777777777777778, \"#fb9f3a\"], [0.8888888888888888, \"#fdca26\"], [1.0, \"#f0f921\"]], \"type\": \"surface\"}], \"table\": [{\"cells\": {\"fill\": {\"color\": \"#EBF0F8\"}, \"line\": {\"color\": \"white\"}}, \"header\": {\"fill\": {\"color\": \"#C8D4E3\"}, \"line\": {\"color\": \"white\"}}, \"type\": \"table\"}]}, \"layout\": {\"annotationdefaults\": {\"arrowcolor\": \"#2a3f5f\", \"arrowhead\": 0, \"arrowwidth\": 1}, \"autotypenumbers\": \"strict\", \"coloraxis\": {\"colorbar\": {\"outlinewidth\": 0, \"ticks\": \"\"}}, \"colorscale\": {\"diverging\": [[0, \"#8e0152\"], [0.1, \"#c51b7d\"], [0.2, \"#de77ae\"], [0.3, \"#f1b6da\"], [0.4, \"#fde0ef\"], [0.5, \"#f7f7f7\"], [0.6, \"#e6f5d0\"], [0.7, \"#b8e186\"], [0.8, \"#7fbc41\"], [0.9, \"#4d9221\"], [1, \"#276419\"]], \"sequential\": [[0.0, \"#0d0887\"], [0.1111111111111111, \"#46039f\"], [0.2222222222222222, \"#7201a8\"], [0.3333333333333333, \"#9c179e\"], [0.4444444444444444, \"#bd3786\"], [0.5555555555555556, \"#d8576b\"], [0.6666666666666666, \"#ed7953\"], [0.7777777777777778, \"#fb9f3a\"], [0.8888888888888888, \"#fdca26\"], [1.0, \"#f0f921\"]], \"sequentialminus\": [[0.0, \"#0d0887\"], [0.1111111111111111, \"#46039f\"], [0.2222222222222222, \"#7201a8\"], [0.3333333333333333, \"#9c179e\"], [0.4444444444444444, \"#bd3786\"], [0.5555555555555556, \"#d8576b\"], [0.6666666666666666, \"#ed7953\"], [0.7777777777777778, \"#fb9f3a\"], [0.8888888888888888, \"#fdca26\"], [1.0, \"#f0f921\"]]}, \"colorway\": [\"#636efa\", \"#EF553B\", \"#00cc96\", \"#ab63fa\", \"#FFA15A\", \"#19d3f3\", \"#FF6692\", \"#B6E880\", \"#FF97FF\", \"#FECB52\"], \"font\": {\"color\": \"#2a3f5f\"}, \"geo\": {\"bgcolor\": \"white\", \"lakecolor\": \"white\", \"landcolor\": \"#E5ECF6\", \"showlakes\": true, \"showland\": true, \"subunitcolor\": \"white\"}, \"hoverlabel\": {\"align\": \"left\"}, \"hovermode\": \"closest\", \"mapbox\": {\"style\": \"light\"}, \"paper_bgcolor\": \"white\", \"plot_bgcolor\": \"#E5ECF6\", \"polar\": {\"angularaxis\": {\"gridcolor\": \"white\", \"linecolor\": \"white\", \"ticks\": \"\"}, \"bgcolor\": \"#E5ECF6\", \"radialaxis\": {\"gridcolor\": \"white\", \"linecolor\": \"white\", \"ticks\": \"\"}}, \"scene\": {\"xaxis\": {\"backgroundcolor\": \"#E5ECF6\", \"gridcolor\": \"white\", \"gridwidth\": 2, \"linecolor\": \"white\", \"showbackground\": true, \"ticks\": \"\", \"zerolinecolor\": \"white\"}, \"yaxis\": {\"backgroundcolor\": \"#E5ECF6\", \"gridcolor\": \"white\", \"gridwidth\": 2, \"linecolor\": \"white\", \"showbackground\": true, \"ticks\": \"\", \"zerolinecolor\": \"white\"}, \"zaxis\": {\"backgroundcolor\": \"#E5ECF6\", \"gridcolor\": \"white\", \"gridwidth\": 2, \"linecolor\": \"white\", \"showbackground\": true, \"ticks\": \"\", \"zerolinecolor\": \"white\"}}, \"shapedefaults\": {\"line\": {\"color\": \"#2a3f5f\"}}, \"ternary\": {\"aaxis\": {\"gridcolor\": \"white\", \"linecolor\": \"white\", \"ticks\": \"\"}, \"baxis\": {\"gridcolor\": \"white\", \"linecolor\": \"white\", \"ticks\": \"\"}, \"bgcolor\": \"#E5ECF6\", \"caxis\": {\"gridcolor\": \"white\", \"linecolor\": \"white\", \"ticks\": \"\"}}, \"title\": {\"x\": 0.05}, \"xaxis\": {\"automargin\": true, \"gridcolor\": \"white\", \"linecolor\": \"white\", \"ticks\": \"\", \"title\": {\"standoff\": 15}, \"zerolinecolor\": \"white\", \"zerolinewidth\": 2}, \"yaxis\": {\"automargin\": true, \"gridcolor\": \"white\", \"linecolor\": \"white\", \"ticks\": \"\", \"title\": {\"standoff\": 15}, \"zerolinecolor\": \"white\", \"zerolinewidth\": 2}}}, \"title\": {\"font\": {\"color\": \"#4D5663\"}}, \"xaxis\": {\"gridcolor\": \"#E1E5ED\", \"showgrid\": true, \"tickfont\": {\"color\": \"#4D5663\"}, \"title\": {\"font\": {\"color\": \"#4D5663\"}, \"text\": \"\"}, \"zerolinecolor\": \"#E1E5ED\"}, \"yaxis\": {\"gridcolor\": \"#E1E5ED\", \"showgrid\": true, \"tickfont\": {\"color\": \"#4D5663\"}, \"title\": {\"font\": {\"color\": \"#4D5663\"}, \"text\": \"\"}, \"zerolinecolor\": \"#E1E5ED\"}},                        {\"showLink\": true, \"linkText\": \"Export to plot.ly\", \"plotlyServerURL\": \"https://plot.ly\", \"responsive\": true}                    ).then(function(){\n",
       "                            \n",
       "var gd = document.getElementById('7be180da-289f-45e1-a739-00610a341f67');\n",
       "var x = new MutationObserver(function (mutations, observer) {{\n",
       "        var display = window.getComputedStyle(gd).display;\n",
       "        if (!display || display === 'none') {{\n",
       "            console.log([gd, 'removed!']);\n",
       "            Plotly.purge(gd);\n",
       "            observer.disconnect();\n",
       "        }}\n",
       "}});\n",
       "\n",
       "// Listen for the removal of the full notebook cells\n",
       "var notebookContainer = gd.closest('#notebook-container');\n",
       "if (notebookContainer) {{\n",
       "    x.observe(notebookContainer, {childList: true});\n",
       "}}\n",
       "\n",
       "// Listen for the clearing of the current output cell\n",
       "var outputEl = gd.closest('.output');\n",
       "if (outputEl) {{\n",
       "    x.observe(outputEl, {childList: true});\n",
       "}}\n",
       "\n",
       "                        })                };                });            </script>        </div>"
      ]
     },
     "metadata": {},
     "output_type": "display_data"
    }
   ],
   "source": [
    "a = wine.corr()\n",
    "a.iplot(kind = 'heatmap', colorscale = 'greens')"
   ]
  },
  {
   "cell_type": "code",
   "execution_count": 71,
   "metadata": {
    "scrolled": true
   },
   "outputs": [
    {
     "data": {
      "application/vnd.plotly.v1+json": {
       "config": {
        "linkText": "Export to plot.ly",
        "plotlyServerURL": "https://plot.ly",
        "showLink": true
       },
       "data": [
        {
         "line": {
          "color": "rgba(255, 153, 51, 1.0)",
          "dash": "solid",
          "shape": "linear",
          "width": 1.3
         },
         "marker": {
          "size": 12,
          "symbol": "circle"
         },
         "mode": "lines+markers+text",
         "name": "alcohol",
         "text": "",
         "type": "scatter",
         "x": [
          3,
          4,
          5,
          6,
          7,
          8
         ],
         "y": [
          9.955000000000002,
          10.265094339622639,
          9.899706314243753,
          10.629519331238239,
          11.465912897839194,
          12.094444444444443
         ]
        }
       ],
       "layout": {
        "legend": {
         "bgcolor": "#F5F6F9",
         "font": {
          "color": "#4D5663"
         }
        },
        "paper_bgcolor": "#F5F6F9",
        "plot_bgcolor": "#F5F6F9",
        "template": {
         "data": {
          "bar": [
           {
            "error_x": {
             "color": "#2a3f5f"
            },
            "error_y": {
             "color": "#2a3f5f"
            },
            "marker": {
             "line": {
              "color": "#E5ECF6",
              "width": 0.5
             }
            },
            "type": "bar"
           }
          ],
          "barpolar": [
           {
            "marker": {
             "line": {
              "color": "#E5ECF6",
              "width": 0.5
             }
            },
            "type": "barpolar"
           }
          ],
          "carpet": [
           {
            "aaxis": {
             "endlinecolor": "#2a3f5f",
             "gridcolor": "white",
             "linecolor": "white",
             "minorgridcolor": "white",
             "startlinecolor": "#2a3f5f"
            },
            "baxis": {
             "endlinecolor": "#2a3f5f",
             "gridcolor": "white",
             "linecolor": "white",
             "minorgridcolor": "white",
             "startlinecolor": "#2a3f5f"
            },
            "type": "carpet"
           }
          ],
          "choropleth": [
           {
            "colorbar": {
             "outlinewidth": 0,
             "ticks": ""
            },
            "type": "choropleth"
           }
          ],
          "contour": [
           {
            "colorbar": {
             "outlinewidth": 0,
             "ticks": ""
            },
            "colorscale": [
             [
              0,
              "#0d0887"
             ],
             [
              0.1111111111111111,
              "#46039f"
             ],
             [
              0.2222222222222222,
              "#7201a8"
             ],
             [
              0.3333333333333333,
              "#9c179e"
             ],
             [
              0.4444444444444444,
              "#bd3786"
             ],
             [
              0.5555555555555556,
              "#d8576b"
             ],
             [
              0.6666666666666666,
              "#ed7953"
             ],
             [
              0.7777777777777778,
              "#fb9f3a"
             ],
             [
              0.8888888888888888,
              "#fdca26"
             ],
             [
              1,
              "#f0f921"
             ]
            ],
            "type": "contour"
           }
          ],
          "contourcarpet": [
           {
            "colorbar": {
             "outlinewidth": 0,
             "ticks": ""
            },
            "type": "contourcarpet"
           }
          ],
          "heatmap": [
           {
            "colorbar": {
             "outlinewidth": 0,
             "ticks": ""
            },
            "colorscale": [
             [
              0,
              "#0d0887"
             ],
             [
              0.1111111111111111,
              "#46039f"
             ],
             [
              0.2222222222222222,
              "#7201a8"
             ],
             [
              0.3333333333333333,
              "#9c179e"
             ],
             [
              0.4444444444444444,
              "#bd3786"
             ],
             [
              0.5555555555555556,
              "#d8576b"
             ],
             [
              0.6666666666666666,
              "#ed7953"
             ],
             [
              0.7777777777777778,
              "#fb9f3a"
             ],
             [
              0.8888888888888888,
              "#fdca26"
             ],
             [
              1,
              "#f0f921"
             ]
            ],
            "type": "heatmap"
           }
          ],
          "heatmapgl": [
           {
            "colorbar": {
             "outlinewidth": 0,
             "ticks": ""
            },
            "colorscale": [
             [
              0,
              "#0d0887"
             ],
             [
              0.1111111111111111,
              "#46039f"
             ],
             [
              0.2222222222222222,
              "#7201a8"
             ],
             [
              0.3333333333333333,
              "#9c179e"
             ],
             [
              0.4444444444444444,
              "#bd3786"
             ],
             [
              0.5555555555555556,
              "#d8576b"
             ],
             [
              0.6666666666666666,
              "#ed7953"
             ],
             [
              0.7777777777777778,
              "#fb9f3a"
             ],
             [
              0.8888888888888888,
              "#fdca26"
             ],
             [
              1,
              "#f0f921"
             ]
            ],
            "type": "heatmapgl"
           }
          ],
          "histogram": [
           {
            "marker": {
             "colorbar": {
              "outlinewidth": 0,
              "ticks": ""
             }
            },
            "type": "histogram"
           }
          ],
          "histogram2d": [
           {
            "colorbar": {
             "outlinewidth": 0,
             "ticks": ""
            },
            "colorscale": [
             [
              0,
              "#0d0887"
             ],
             [
              0.1111111111111111,
              "#46039f"
             ],
             [
              0.2222222222222222,
              "#7201a8"
             ],
             [
              0.3333333333333333,
              "#9c179e"
             ],
             [
              0.4444444444444444,
              "#bd3786"
             ],
             [
              0.5555555555555556,
              "#d8576b"
             ],
             [
              0.6666666666666666,
              "#ed7953"
             ],
             [
              0.7777777777777778,
              "#fb9f3a"
             ],
             [
              0.8888888888888888,
              "#fdca26"
             ],
             [
              1,
              "#f0f921"
             ]
            ],
            "type": "histogram2d"
           }
          ],
          "histogram2dcontour": [
           {
            "colorbar": {
             "outlinewidth": 0,
             "ticks": ""
            },
            "colorscale": [
             [
              0,
              "#0d0887"
             ],
             [
              0.1111111111111111,
              "#46039f"
             ],
             [
              0.2222222222222222,
              "#7201a8"
             ],
             [
              0.3333333333333333,
              "#9c179e"
             ],
             [
              0.4444444444444444,
              "#bd3786"
             ],
             [
              0.5555555555555556,
              "#d8576b"
             ],
             [
              0.6666666666666666,
              "#ed7953"
             ],
             [
              0.7777777777777778,
              "#fb9f3a"
             ],
             [
              0.8888888888888888,
              "#fdca26"
             ],
             [
              1,
              "#f0f921"
             ]
            ],
            "type": "histogram2dcontour"
           }
          ],
          "mesh3d": [
           {
            "colorbar": {
             "outlinewidth": 0,
             "ticks": ""
            },
            "type": "mesh3d"
           }
          ],
          "parcoords": [
           {
            "line": {
             "colorbar": {
              "outlinewidth": 0,
              "ticks": ""
             }
            },
            "type": "parcoords"
           }
          ],
          "pie": [
           {
            "automargin": true,
            "type": "pie"
           }
          ],
          "scatter": [
           {
            "marker": {
             "colorbar": {
              "outlinewidth": 0,
              "ticks": ""
             }
            },
            "type": "scatter"
           }
          ],
          "scatter3d": [
           {
            "line": {
             "colorbar": {
              "outlinewidth": 0,
              "ticks": ""
             }
            },
            "marker": {
             "colorbar": {
              "outlinewidth": 0,
              "ticks": ""
             }
            },
            "type": "scatter3d"
           }
          ],
          "scattercarpet": [
           {
            "marker": {
             "colorbar": {
              "outlinewidth": 0,
              "ticks": ""
             }
            },
            "type": "scattercarpet"
           }
          ],
          "scattergeo": [
           {
            "marker": {
             "colorbar": {
              "outlinewidth": 0,
              "ticks": ""
             }
            },
            "type": "scattergeo"
           }
          ],
          "scattergl": [
           {
            "marker": {
             "colorbar": {
              "outlinewidth": 0,
              "ticks": ""
             }
            },
            "type": "scattergl"
           }
          ],
          "scattermapbox": [
           {
            "marker": {
             "colorbar": {
              "outlinewidth": 0,
              "ticks": ""
             }
            },
            "type": "scattermapbox"
           }
          ],
          "scatterpolar": [
           {
            "marker": {
             "colorbar": {
              "outlinewidth": 0,
              "ticks": ""
             }
            },
            "type": "scatterpolar"
           }
          ],
          "scatterpolargl": [
           {
            "marker": {
             "colorbar": {
              "outlinewidth": 0,
              "ticks": ""
             }
            },
            "type": "scatterpolargl"
           }
          ],
          "scatterternary": [
           {
            "marker": {
             "colorbar": {
              "outlinewidth": 0,
              "ticks": ""
             }
            },
            "type": "scatterternary"
           }
          ],
          "surface": [
           {
            "colorbar": {
             "outlinewidth": 0,
             "ticks": ""
            },
            "colorscale": [
             [
              0,
              "#0d0887"
             ],
             [
              0.1111111111111111,
              "#46039f"
             ],
             [
              0.2222222222222222,
              "#7201a8"
             ],
             [
              0.3333333333333333,
              "#9c179e"
             ],
             [
              0.4444444444444444,
              "#bd3786"
             ],
             [
              0.5555555555555556,
              "#d8576b"
             ],
             [
              0.6666666666666666,
              "#ed7953"
             ],
             [
              0.7777777777777778,
              "#fb9f3a"
             ],
             [
              0.8888888888888888,
              "#fdca26"
             ],
             [
              1,
              "#f0f921"
             ]
            ],
            "type": "surface"
           }
          ],
          "table": [
           {
            "cells": {
             "fill": {
              "color": "#EBF0F8"
             },
             "line": {
              "color": "white"
             }
            },
            "header": {
             "fill": {
              "color": "#C8D4E3"
             },
             "line": {
              "color": "white"
             }
            },
            "type": "table"
           }
          ]
         },
         "layout": {
          "annotationdefaults": {
           "arrowcolor": "#2a3f5f",
           "arrowhead": 0,
           "arrowwidth": 1
          },
          "autotypenumbers": "strict",
          "coloraxis": {
           "colorbar": {
            "outlinewidth": 0,
            "ticks": ""
           }
          },
          "colorscale": {
           "diverging": [
            [
             0,
             "#8e0152"
            ],
            [
             0.1,
             "#c51b7d"
            ],
            [
             0.2,
             "#de77ae"
            ],
            [
             0.3,
             "#f1b6da"
            ],
            [
             0.4,
             "#fde0ef"
            ],
            [
             0.5,
             "#f7f7f7"
            ],
            [
             0.6,
             "#e6f5d0"
            ],
            [
             0.7,
             "#b8e186"
            ],
            [
             0.8,
             "#7fbc41"
            ],
            [
             0.9,
             "#4d9221"
            ],
            [
             1,
             "#276419"
            ]
           ],
           "sequential": [
            [
             0,
             "#0d0887"
            ],
            [
             0.1111111111111111,
             "#46039f"
            ],
            [
             0.2222222222222222,
             "#7201a8"
            ],
            [
             0.3333333333333333,
             "#9c179e"
            ],
            [
             0.4444444444444444,
             "#bd3786"
            ],
            [
             0.5555555555555556,
             "#d8576b"
            ],
            [
             0.6666666666666666,
             "#ed7953"
            ],
            [
             0.7777777777777778,
             "#fb9f3a"
            ],
            [
             0.8888888888888888,
             "#fdca26"
            ],
            [
             1,
             "#f0f921"
            ]
           ],
           "sequentialminus": [
            [
             0,
             "#0d0887"
            ],
            [
             0.1111111111111111,
             "#46039f"
            ],
            [
             0.2222222222222222,
             "#7201a8"
            ],
            [
             0.3333333333333333,
             "#9c179e"
            ],
            [
             0.4444444444444444,
             "#bd3786"
            ],
            [
             0.5555555555555556,
             "#d8576b"
            ],
            [
             0.6666666666666666,
             "#ed7953"
            ],
            [
             0.7777777777777778,
             "#fb9f3a"
            ],
            [
             0.8888888888888888,
             "#fdca26"
            ],
            [
             1,
             "#f0f921"
            ]
           ]
          },
          "colorway": [
           "#636efa",
           "#EF553B",
           "#00cc96",
           "#ab63fa",
           "#FFA15A",
           "#19d3f3",
           "#FF6692",
           "#B6E880",
           "#FF97FF",
           "#FECB52"
          ],
          "font": {
           "color": "#2a3f5f"
          },
          "geo": {
           "bgcolor": "white",
           "lakecolor": "white",
           "landcolor": "#E5ECF6",
           "showlakes": true,
           "showland": true,
           "subunitcolor": "white"
          },
          "hoverlabel": {
           "align": "left"
          },
          "hovermode": "closest",
          "mapbox": {
           "style": "light"
          },
          "paper_bgcolor": "white",
          "plot_bgcolor": "#E5ECF6",
          "polar": {
           "angularaxis": {
            "gridcolor": "white",
            "linecolor": "white",
            "ticks": ""
           },
           "bgcolor": "#E5ECF6",
           "radialaxis": {
            "gridcolor": "white",
            "linecolor": "white",
            "ticks": ""
           }
          },
          "scene": {
           "xaxis": {
            "backgroundcolor": "#E5ECF6",
            "gridcolor": "white",
            "gridwidth": 2,
            "linecolor": "white",
            "showbackground": true,
            "ticks": "",
            "zerolinecolor": "white"
           },
           "yaxis": {
            "backgroundcolor": "#E5ECF6",
            "gridcolor": "white",
            "gridwidth": 2,
            "linecolor": "white",
            "showbackground": true,
            "ticks": "",
            "zerolinecolor": "white"
           },
           "zaxis": {
            "backgroundcolor": "#E5ECF6",
            "gridcolor": "white",
            "gridwidth": 2,
            "linecolor": "white",
            "showbackground": true,
            "ticks": "",
            "zerolinecolor": "white"
           }
          },
          "shapedefaults": {
           "line": {
            "color": "#2a3f5f"
           }
          },
          "ternary": {
           "aaxis": {
            "gridcolor": "white",
            "linecolor": "white",
            "ticks": ""
           },
           "baxis": {
            "gridcolor": "white",
            "linecolor": "white",
            "ticks": ""
           },
           "bgcolor": "#E5ECF6",
           "caxis": {
            "gridcolor": "white",
            "linecolor": "white",
            "ticks": ""
           }
          },
          "title": {
           "x": 0.05
          },
          "xaxis": {
           "automargin": true,
           "gridcolor": "white",
           "linecolor": "white",
           "ticks": "",
           "title": {
            "standoff": 15
           },
           "zerolinecolor": "white",
           "zerolinewidth": 2
          },
          "yaxis": {
           "automargin": true,
           "gridcolor": "white",
           "linecolor": "white",
           "ticks": "",
           "title": {
            "standoff": 15
           },
           "zerolinecolor": "white",
           "zerolinewidth": 2
          }
         }
        },
        "title": {
         "font": {
          "color": "#4D5663"
         }
        },
        "xaxis": {
         "gridcolor": "#E1E5ED",
         "showgrid": true,
         "tickfont": {
          "color": "#4D5663"
         },
         "title": {
          "font": {
           "color": "#4D5663"
          },
          "text": ""
         },
         "zerolinecolor": "#E1E5ED"
        },
        "yaxis": {
         "gridcolor": "#E1E5ED",
         "showgrid": true,
         "tickfont": {
          "color": "#4D5663"
         },
         "title": {
          "font": {
           "color": "#4D5663"
          },
          "text": ""
         },
         "zerolinecolor": "#E1E5ED"
        }
       }
      },
      "text/html": [
       "<div>                            <div id=\"9ff6b3c2-6a64-438c-ab6c-20a808e43643\" class=\"plotly-graph-div\" style=\"height:525px; width:100%;\"></div>            <script type=\"text/javascript\">                require([\"plotly\"], function(Plotly) {                    window.PLOTLYENV=window.PLOTLYENV || {};\n",
       "                    window.PLOTLYENV.BASE_URL='https://plot.ly';                                    if (document.getElementById(\"9ff6b3c2-6a64-438c-ab6c-20a808e43643\")) {                    Plotly.newPlot(                        \"9ff6b3c2-6a64-438c-ab6c-20a808e43643\",                        [{\"line\": {\"color\": \"rgba(255, 153, 51, 1.0)\", \"dash\": \"solid\", \"shape\": \"linear\", \"width\": 1.3}, \"marker\": {\"size\": 12, \"symbol\": \"circle\"}, \"mode\": \"lines+markers+text\", \"name\": \"alcohol\", \"text\": \"\", \"type\": \"scatter\", \"x\": [3, 4, 5, 6, 7, 8], \"y\": [9.955000000000002, 10.265094339622639, 9.899706314243753, 10.629519331238239, 11.465912897839194, 12.094444444444443]}],                        {\"legend\": {\"bgcolor\": \"#F5F6F9\", \"font\": {\"color\": \"#4D5663\"}}, \"paper_bgcolor\": \"#F5F6F9\", \"plot_bgcolor\": \"#F5F6F9\", \"template\": {\"data\": {\"bar\": [{\"error_x\": {\"color\": \"#2a3f5f\"}, \"error_y\": {\"color\": \"#2a3f5f\"}, \"marker\": {\"line\": {\"color\": \"#E5ECF6\", \"width\": 0.5}}, \"type\": \"bar\"}], \"barpolar\": [{\"marker\": {\"line\": {\"color\": \"#E5ECF6\", \"width\": 0.5}}, \"type\": \"barpolar\"}], \"carpet\": [{\"aaxis\": {\"endlinecolor\": \"#2a3f5f\", \"gridcolor\": \"white\", \"linecolor\": \"white\", \"minorgridcolor\": \"white\", \"startlinecolor\": \"#2a3f5f\"}, \"baxis\": {\"endlinecolor\": \"#2a3f5f\", \"gridcolor\": \"white\", \"linecolor\": \"white\", \"minorgridcolor\": \"white\", \"startlinecolor\": \"#2a3f5f\"}, \"type\": \"carpet\"}], \"choropleth\": [{\"colorbar\": {\"outlinewidth\": 0, \"ticks\": \"\"}, \"type\": \"choropleth\"}], \"contour\": [{\"colorbar\": {\"outlinewidth\": 0, \"ticks\": \"\"}, \"colorscale\": [[0.0, \"#0d0887\"], [0.1111111111111111, \"#46039f\"], [0.2222222222222222, \"#7201a8\"], [0.3333333333333333, \"#9c179e\"], [0.4444444444444444, \"#bd3786\"], [0.5555555555555556, \"#d8576b\"], [0.6666666666666666, \"#ed7953\"], [0.7777777777777778, \"#fb9f3a\"], [0.8888888888888888, \"#fdca26\"], [1.0, \"#f0f921\"]], \"type\": \"contour\"}], \"contourcarpet\": [{\"colorbar\": {\"outlinewidth\": 0, \"ticks\": \"\"}, \"type\": \"contourcarpet\"}], \"heatmap\": [{\"colorbar\": {\"outlinewidth\": 0, \"ticks\": \"\"}, \"colorscale\": [[0.0, \"#0d0887\"], [0.1111111111111111, \"#46039f\"], [0.2222222222222222, \"#7201a8\"], [0.3333333333333333, \"#9c179e\"], [0.4444444444444444, \"#bd3786\"], [0.5555555555555556, \"#d8576b\"], [0.6666666666666666, \"#ed7953\"], [0.7777777777777778, \"#fb9f3a\"], [0.8888888888888888, \"#fdca26\"], [1.0, \"#f0f921\"]], \"type\": \"heatmap\"}], \"heatmapgl\": [{\"colorbar\": {\"outlinewidth\": 0, \"ticks\": \"\"}, \"colorscale\": [[0.0, \"#0d0887\"], [0.1111111111111111, \"#46039f\"], [0.2222222222222222, \"#7201a8\"], [0.3333333333333333, \"#9c179e\"], [0.4444444444444444, \"#bd3786\"], [0.5555555555555556, \"#d8576b\"], [0.6666666666666666, \"#ed7953\"], [0.7777777777777778, \"#fb9f3a\"], [0.8888888888888888, \"#fdca26\"], [1.0, \"#f0f921\"]], \"type\": \"heatmapgl\"}], \"histogram\": [{\"marker\": {\"colorbar\": {\"outlinewidth\": 0, \"ticks\": \"\"}}, \"type\": \"histogram\"}], \"histogram2d\": [{\"colorbar\": {\"outlinewidth\": 0, \"ticks\": \"\"}, \"colorscale\": [[0.0, \"#0d0887\"], [0.1111111111111111, \"#46039f\"], [0.2222222222222222, \"#7201a8\"], [0.3333333333333333, \"#9c179e\"], [0.4444444444444444, \"#bd3786\"], [0.5555555555555556, \"#d8576b\"], [0.6666666666666666, \"#ed7953\"], [0.7777777777777778, \"#fb9f3a\"], [0.8888888888888888, \"#fdca26\"], [1.0, \"#f0f921\"]], \"type\": \"histogram2d\"}], \"histogram2dcontour\": [{\"colorbar\": {\"outlinewidth\": 0, \"ticks\": \"\"}, \"colorscale\": [[0.0, \"#0d0887\"], [0.1111111111111111, \"#46039f\"], [0.2222222222222222, \"#7201a8\"], [0.3333333333333333, \"#9c179e\"], [0.4444444444444444, \"#bd3786\"], [0.5555555555555556, \"#d8576b\"], [0.6666666666666666, \"#ed7953\"], [0.7777777777777778, \"#fb9f3a\"], [0.8888888888888888, \"#fdca26\"], [1.0, \"#f0f921\"]], \"type\": \"histogram2dcontour\"}], \"mesh3d\": [{\"colorbar\": {\"outlinewidth\": 0, \"ticks\": \"\"}, \"type\": \"mesh3d\"}], \"parcoords\": [{\"line\": {\"colorbar\": {\"outlinewidth\": 0, \"ticks\": \"\"}}, \"type\": \"parcoords\"}], \"pie\": [{\"automargin\": true, \"type\": \"pie\"}], \"scatter\": [{\"marker\": {\"colorbar\": {\"outlinewidth\": 0, \"ticks\": \"\"}}, \"type\": \"scatter\"}], \"scatter3d\": [{\"line\": {\"colorbar\": {\"outlinewidth\": 0, \"ticks\": \"\"}}, \"marker\": {\"colorbar\": {\"outlinewidth\": 0, \"ticks\": \"\"}}, \"type\": \"scatter3d\"}], \"scattercarpet\": [{\"marker\": {\"colorbar\": {\"outlinewidth\": 0, \"ticks\": \"\"}}, \"type\": \"scattercarpet\"}], \"scattergeo\": [{\"marker\": {\"colorbar\": {\"outlinewidth\": 0, \"ticks\": \"\"}}, \"type\": \"scattergeo\"}], \"scattergl\": [{\"marker\": {\"colorbar\": {\"outlinewidth\": 0, \"ticks\": \"\"}}, \"type\": \"scattergl\"}], \"scattermapbox\": [{\"marker\": {\"colorbar\": {\"outlinewidth\": 0, \"ticks\": \"\"}}, \"type\": \"scattermapbox\"}], \"scatterpolar\": [{\"marker\": {\"colorbar\": {\"outlinewidth\": 0, \"ticks\": \"\"}}, \"type\": \"scatterpolar\"}], \"scatterpolargl\": [{\"marker\": {\"colorbar\": {\"outlinewidth\": 0, \"ticks\": \"\"}}, \"type\": \"scatterpolargl\"}], \"scatterternary\": [{\"marker\": {\"colorbar\": {\"outlinewidth\": 0, \"ticks\": \"\"}}, \"type\": \"scatterternary\"}], \"surface\": [{\"colorbar\": {\"outlinewidth\": 0, \"ticks\": \"\"}, \"colorscale\": [[0.0, \"#0d0887\"], [0.1111111111111111, \"#46039f\"], [0.2222222222222222, \"#7201a8\"], [0.3333333333333333, \"#9c179e\"], [0.4444444444444444, \"#bd3786\"], [0.5555555555555556, \"#d8576b\"], [0.6666666666666666, \"#ed7953\"], [0.7777777777777778, \"#fb9f3a\"], [0.8888888888888888, \"#fdca26\"], [1.0, \"#f0f921\"]], \"type\": \"surface\"}], \"table\": [{\"cells\": {\"fill\": {\"color\": \"#EBF0F8\"}, \"line\": {\"color\": \"white\"}}, \"header\": {\"fill\": {\"color\": \"#C8D4E3\"}, \"line\": {\"color\": \"white\"}}, \"type\": \"table\"}]}, \"layout\": {\"annotationdefaults\": {\"arrowcolor\": \"#2a3f5f\", \"arrowhead\": 0, \"arrowwidth\": 1}, \"autotypenumbers\": \"strict\", \"coloraxis\": {\"colorbar\": {\"outlinewidth\": 0, \"ticks\": \"\"}}, \"colorscale\": {\"diverging\": [[0, \"#8e0152\"], [0.1, \"#c51b7d\"], [0.2, \"#de77ae\"], [0.3, \"#f1b6da\"], [0.4, \"#fde0ef\"], [0.5, \"#f7f7f7\"], [0.6, \"#e6f5d0\"], [0.7, \"#b8e186\"], [0.8, \"#7fbc41\"], [0.9, \"#4d9221\"], [1, \"#276419\"]], \"sequential\": [[0.0, \"#0d0887\"], [0.1111111111111111, \"#46039f\"], [0.2222222222222222, \"#7201a8\"], [0.3333333333333333, \"#9c179e\"], [0.4444444444444444, \"#bd3786\"], [0.5555555555555556, \"#d8576b\"], [0.6666666666666666, \"#ed7953\"], [0.7777777777777778, \"#fb9f3a\"], [0.8888888888888888, \"#fdca26\"], [1.0, \"#f0f921\"]], \"sequentialminus\": [[0.0, \"#0d0887\"], [0.1111111111111111, \"#46039f\"], [0.2222222222222222, \"#7201a8\"], [0.3333333333333333, \"#9c179e\"], [0.4444444444444444, \"#bd3786\"], [0.5555555555555556, \"#d8576b\"], [0.6666666666666666, \"#ed7953\"], [0.7777777777777778, \"#fb9f3a\"], [0.8888888888888888, \"#fdca26\"], [1.0, \"#f0f921\"]]}, \"colorway\": [\"#636efa\", \"#EF553B\", \"#00cc96\", \"#ab63fa\", \"#FFA15A\", \"#19d3f3\", \"#FF6692\", \"#B6E880\", \"#FF97FF\", \"#FECB52\"], \"font\": {\"color\": \"#2a3f5f\"}, \"geo\": {\"bgcolor\": \"white\", \"lakecolor\": \"white\", \"landcolor\": \"#E5ECF6\", \"showlakes\": true, \"showland\": true, \"subunitcolor\": \"white\"}, \"hoverlabel\": {\"align\": \"left\"}, \"hovermode\": \"closest\", \"mapbox\": {\"style\": \"light\"}, \"paper_bgcolor\": \"white\", \"plot_bgcolor\": \"#E5ECF6\", \"polar\": {\"angularaxis\": {\"gridcolor\": \"white\", \"linecolor\": \"white\", \"ticks\": \"\"}, \"bgcolor\": \"#E5ECF6\", \"radialaxis\": {\"gridcolor\": \"white\", \"linecolor\": \"white\", \"ticks\": \"\"}}, \"scene\": {\"xaxis\": {\"backgroundcolor\": \"#E5ECF6\", \"gridcolor\": \"white\", \"gridwidth\": 2, \"linecolor\": \"white\", \"showbackground\": true, \"ticks\": \"\", \"zerolinecolor\": \"white\"}, \"yaxis\": {\"backgroundcolor\": \"#E5ECF6\", \"gridcolor\": \"white\", \"gridwidth\": 2, \"linecolor\": \"white\", \"showbackground\": true, \"ticks\": \"\", \"zerolinecolor\": \"white\"}, \"zaxis\": {\"backgroundcolor\": \"#E5ECF6\", \"gridcolor\": \"white\", \"gridwidth\": 2, \"linecolor\": \"white\", \"showbackground\": true, \"ticks\": \"\", \"zerolinecolor\": \"white\"}}, \"shapedefaults\": {\"line\": {\"color\": \"#2a3f5f\"}}, \"ternary\": {\"aaxis\": {\"gridcolor\": \"white\", \"linecolor\": \"white\", \"ticks\": \"\"}, \"baxis\": {\"gridcolor\": \"white\", \"linecolor\": \"white\", \"ticks\": \"\"}, \"bgcolor\": \"#E5ECF6\", \"caxis\": {\"gridcolor\": \"white\", \"linecolor\": \"white\", \"ticks\": \"\"}}, \"title\": {\"x\": 0.05}, \"xaxis\": {\"automargin\": true, \"gridcolor\": \"white\", \"linecolor\": \"white\", \"ticks\": \"\", \"title\": {\"standoff\": 15}, \"zerolinecolor\": \"white\", \"zerolinewidth\": 2}, \"yaxis\": {\"automargin\": true, \"gridcolor\": \"white\", \"linecolor\": \"white\", \"ticks\": \"\", \"title\": {\"standoff\": 15}, \"zerolinecolor\": \"white\", \"zerolinewidth\": 2}}}, \"title\": {\"font\": {\"color\": \"#4D5663\"}}, \"xaxis\": {\"gridcolor\": \"#E1E5ED\", \"showgrid\": true, \"tickfont\": {\"color\": \"#4D5663\"}, \"title\": {\"font\": {\"color\": \"#4D5663\"}, \"text\": \"\"}, \"zerolinecolor\": \"#E1E5ED\"}, \"yaxis\": {\"gridcolor\": \"#E1E5ED\", \"showgrid\": true, \"tickfont\": {\"color\": \"#4D5663\"}, \"title\": {\"font\": {\"color\": \"#4D5663\"}, \"text\": \"\"}, \"zerolinecolor\": \"#E1E5ED\"}},                        {\"showLink\": true, \"linkText\": \"Export to plot.ly\", \"plotlyServerURL\": \"https://plot.ly\", \"responsive\": true}                    ).then(function(){\n",
       "                            \n",
       "var gd = document.getElementById('9ff6b3c2-6a64-438c-ab6c-20a808e43643');\n",
       "var x = new MutationObserver(function (mutations, observer) {{\n",
       "        var display = window.getComputedStyle(gd).display;\n",
       "        if (!display || display === 'none') {{\n",
       "            console.log([gd, 'removed!']);\n",
       "            Plotly.purge(gd);\n",
       "            observer.disconnect();\n",
       "        }}\n",
       "}});\n",
       "\n",
       "// Listen for the removal of the full notebook cells\n",
       "var notebookContainer = gd.closest('#notebook-container');\n",
       "if (notebookContainer) {{\n",
       "    x.observe(notebookContainer, {childList: true});\n",
       "}}\n",
       "\n",
       "// Listen for the clearing of the current output cell\n",
       "var outputEl = gd.closest('.output');\n",
       "if (outputEl) {{\n",
       "    x.observe(outputEl, {childList: true});\n",
       "}}\n",
       "\n",
       "                        })                };                });            </script>        </div>"
      ]
     },
     "metadata": {},
     "output_type": "display_data"
    }
   ],
   "source": [
    "wine1 = wine.groupby('quality')['alcohol'].mean()\n",
    "wine1.iplot(kind = 'scatter', mode = 'lines+markers+text')"
   ]
  },
  {
   "cell_type": "code",
   "execution_count": 81,
   "metadata": {},
   "outputs": [
    {
     "data": {
      "text/html": [
       "<div>\n",
       "<style scoped>\n",
       "    .dataframe tbody tr th:only-of-type {\n",
       "        vertical-align: middle;\n",
       "    }\n",
       "\n",
       "    .dataframe tbody tr th {\n",
       "        vertical-align: top;\n",
       "    }\n",
       "\n",
       "    .dataframe thead th {\n",
       "        text-align: right;\n",
       "    }\n",
       "</style>\n",
       "<table border=\"1\" class=\"dataframe\">\n",
       "  <thead>\n",
       "    <tr style=\"text-align: right;\">\n",
       "      <th></th>\n",
       "      <th>pH</th>\n",
       "      <th>alcohol</th>\n",
       "    </tr>\n",
       "    <tr>\n",
       "      <th>quality</th>\n",
       "      <th></th>\n",
       "      <th></th>\n",
       "    </tr>\n",
       "  </thead>\n",
       "  <tbody>\n",
       "    <tr>\n",
       "      <th>3</th>\n",
       "      <td>3.398000</td>\n",
       "      <td>9.955000</td>\n",
       "    </tr>\n",
       "    <tr>\n",
       "      <th>4</th>\n",
       "      <td>3.381509</td>\n",
       "      <td>10.265094</td>\n",
       "    </tr>\n",
       "    <tr>\n",
       "      <th>5</th>\n",
       "      <td>3.304949</td>\n",
       "      <td>9.899706</td>\n",
       "    </tr>\n",
       "    <tr>\n",
       "      <th>6</th>\n",
       "      <td>3.318072</td>\n",
       "      <td>10.629519</td>\n",
       "    </tr>\n",
       "    <tr>\n",
       "      <th>7</th>\n",
       "      <td>3.290754</td>\n",
       "      <td>11.465913</td>\n",
       "    </tr>\n",
       "    <tr>\n",
       "      <th>8</th>\n",
       "      <td>3.267222</td>\n",
       "      <td>12.094444</td>\n",
       "    </tr>\n",
       "  </tbody>\n",
       "</table>\n",
       "</div>"
      ],
      "text/plain": [
       "               pH    alcohol\n",
       "quality                     \n",
       "3        3.398000   9.955000\n",
       "4        3.381509  10.265094\n",
       "5        3.304949   9.899706\n",
       "6        3.318072  10.629519\n",
       "7        3.290754  11.465913\n",
       "8        3.267222  12.094444"
      ]
     },
     "execution_count": 81,
     "metadata": {},
     "output_type": "execute_result"
    }
   ],
   "source": [
    "wine_mix = wine.groupby('quality')[['pH','alcohol']].mean()\n",
    "wine_mix\n",
    "                                    "
   ]
  },
  {
   "cell_type": "code",
   "execution_count": 82,
   "metadata": {},
   "outputs": [
    {
     "data": {
      "application/vnd.plotly.v1+json": {
       "config": {
        "plotlyServerURL": "https://plot.ly"
       },
       "data": [
        {
         "mode": "lines+markers+text",
         "name": "alcohol",
         "type": "scatter",
         "x": [
          3,
          4,
          5,
          6,
          7,
          8
         ],
         "y": [
          9.955000000000002,
          10.265094339622639,
          9.899706314243753,
          10.629519331238239,
          11.465912897839194,
          12.094444444444443
         ]
        },
        {
         "mode": "lines+markers+text",
         "name": "pH",
         "type": "scatter",
         "x": [
          3,
          4,
          5,
          6,
          7,
          8
         ],
         "y": [
          3.3979999999999997,
          3.381509433962264,
          3.3049486049926546,
          3.3180721003134837,
          3.290753768844219,
          3.2672222222222214
         ]
        }
       ],
       "layout": {
        "template": {
         "data": {
          "bar": [
           {
            "error_x": {
             "color": "#2a3f5f"
            },
            "error_y": {
             "color": "#2a3f5f"
            },
            "marker": {
             "line": {
              "color": "#E5ECF6",
              "width": 0.5
             }
            },
            "type": "bar"
           }
          ],
          "barpolar": [
           {
            "marker": {
             "line": {
              "color": "#E5ECF6",
              "width": 0.5
             }
            },
            "type": "barpolar"
           }
          ],
          "carpet": [
           {
            "aaxis": {
             "endlinecolor": "#2a3f5f",
             "gridcolor": "white",
             "linecolor": "white",
             "minorgridcolor": "white",
             "startlinecolor": "#2a3f5f"
            },
            "baxis": {
             "endlinecolor": "#2a3f5f",
             "gridcolor": "white",
             "linecolor": "white",
             "minorgridcolor": "white",
             "startlinecolor": "#2a3f5f"
            },
            "type": "carpet"
           }
          ],
          "choropleth": [
           {
            "colorbar": {
             "outlinewidth": 0,
             "ticks": ""
            },
            "type": "choropleth"
           }
          ],
          "contour": [
           {
            "colorbar": {
             "outlinewidth": 0,
             "ticks": ""
            },
            "colorscale": [
             [
              0,
              "#0d0887"
             ],
             [
              0.1111111111111111,
              "#46039f"
             ],
             [
              0.2222222222222222,
              "#7201a8"
             ],
             [
              0.3333333333333333,
              "#9c179e"
             ],
             [
              0.4444444444444444,
              "#bd3786"
             ],
             [
              0.5555555555555556,
              "#d8576b"
             ],
             [
              0.6666666666666666,
              "#ed7953"
             ],
             [
              0.7777777777777778,
              "#fb9f3a"
             ],
             [
              0.8888888888888888,
              "#fdca26"
             ],
             [
              1,
              "#f0f921"
             ]
            ],
            "type": "contour"
           }
          ],
          "contourcarpet": [
           {
            "colorbar": {
             "outlinewidth": 0,
             "ticks": ""
            },
            "type": "contourcarpet"
           }
          ],
          "heatmap": [
           {
            "colorbar": {
             "outlinewidth": 0,
             "ticks": ""
            },
            "colorscale": [
             [
              0,
              "#0d0887"
             ],
             [
              0.1111111111111111,
              "#46039f"
             ],
             [
              0.2222222222222222,
              "#7201a8"
             ],
             [
              0.3333333333333333,
              "#9c179e"
             ],
             [
              0.4444444444444444,
              "#bd3786"
             ],
             [
              0.5555555555555556,
              "#d8576b"
             ],
             [
              0.6666666666666666,
              "#ed7953"
             ],
             [
              0.7777777777777778,
              "#fb9f3a"
             ],
             [
              0.8888888888888888,
              "#fdca26"
             ],
             [
              1,
              "#f0f921"
             ]
            ],
            "type": "heatmap"
           }
          ],
          "heatmapgl": [
           {
            "colorbar": {
             "outlinewidth": 0,
             "ticks": ""
            },
            "colorscale": [
             [
              0,
              "#0d0887"
             ],
             [
              0.1111111111111111,
              "#46039f"
             ],
             [
              0.2222222222222222,
              "#7201a8"
             ],
             [
              0.3333333333333333,
              "#9c179e"
             ],
             [
              0.4444444444444444,
              "#bd3786"
             ],
             [
              0.5555555555555556,
              "#d8576b"
             ],
             [
              0.6666666666666666,
              "#ed7953"
             ],
             [
              0.7777777777777778,
              "#fb9f3a"
             ],
             [
              0.8888888888888888,
              "#fdca26"
             ],
             [
              1,
              "#f0f921"
             ]
            ],
            "type": "heatmapgl"
           }
          ],
          "histogram": [
           {
            "marker": {
             "colorbar": {
              "outlinewidth": 0,
              "ticks": ""
             }
            },
            "type": "histogram"
           }
          ],
          "histogram2d": [
           {
            "colorbar": {
             "outlinewidth": 0,
             "ticks": ""
            },
            "colorscale": [
             [
              0,
              "#0d0887"
             ],
             [
              0.1111111111111111,
              "#46039f"
             ],
             [
              0.2222222222222222,
              "#7201a8"
             ],
             [
              0.3333333333333333,
              "#9c179e"
             ],
             [
              0.4444444444444444,
              "#bd3786"
             ],
             [
              0.5555555555555556,
              "#d8576b"
             ],
             [
              0.6666666666666666,
              "#ed7953"
             ],
             [
              0.7777777777777778,
              "#fb9f3a"
             ],
             [
              0.8888888888888888,
              "#fdca26"
             ],
             [
              1,
              "#f0f921"
             ]
            ],
            "type": "histogram2d"
           }
          ],
          "histogram2dcontour": [
           {
            "colorbar": {
             "outlinewidth": 0,
             "ticks": ""
            },
            "colorscale": [
             [
              0,
              "#0d0887"
             ],
             [
              0.1111111111111111,
              "#46039f"
             ],
             [
              0.2222222222222222,
              "#7201a8"
             ],
             [
              0.3333333333333333,
              "#9c179e"
             ],
             [
              0.4444444444444444,
              "#bd3786"
             ],
             [
              0.5555555555555556,
              "#d8576b"
             ],
             [
              0.6666666666666666,
              "#ed7953"
             ],
             [
              0.7777777777777778,
              "#fb9f3a"
             ],
             [
              0.8888888888888888,
              "#fdca26"
             ],
             [
              1,
              "#f0f921"
             ]
            ],
            "type": "histogram2dcontour"
           }
          ],
          "mesh3d": [
           {
            "colorbar": {
             "outlinewidth": 0,
             "ticks": ""
            },
            "type": "mesh3d"
           }
          ],
          "parcoords": [
           {
            "line": {
             "colorbar": {
              "outlinewidth": 0,
              "ticks": ""
             }
            },
            "type": "parcoords"
           }
          ],
          "pie": [
           {
            "automargin": true,
            "type": "pie"
           }
          ],
          "scatter": [
           {
            "marker": {
             "colorbar": {
              "outlinewidth": 0,
              "ticks": ""
             }
            },
            "type": "scatter"
           }
          ],
          "scatter3d": [
           {
            "line": {
             "colorbar": {
              "outlinewidth": 0,
              "ticks": ""
             }
            },
            "marker": {
             "colorbar": {
              "outlinewidth": 0,
              "ticks": ""
             }
            },
            "type": "scatter3d"
           }
          ],
          "scattercarpet": [
           {
            "marker": {
             "colorbar": {
              "outlinewidth": 0,
              "ticks": ""
             }
            },
            "type": "scattercarpet"
           }
          ],
          "scattergeo": [
           {
            "marker": {
             "colorbar": {
              "outlinewidth": 0,
              "ticks": ""
             }
            },
            "type": "scattergeo"
           }
          ],
          "scattergl": [
           {
            "marker": {
             "colorbar": {
              "outlinewidth": 0,
              "ticks": ""
             }
            },
            "type": "scattergl"
           }
          ],
          "scattermapbox": [
           {
            "marker": {
             "colorbar": {
              "outlinewidth": 0,
              "ticks": ""
             }
            },
            "type": "scattermapbox"
           }
          ],
          "scatterpolar": [
           {
            "marker": {
             "colorbar": {
              "outlinewidth": 0,
              "ticks": ""
             }
            },
            "type": "scatterpolar"
           }
          ],
          "scatterpolargl": [
           {
            "marker": {
             "colorbar": {
              "outlinewidth": 0,
              "ticks": ""
             }
            },
            "type": "scatterpolargl"
           }
          ],
          "scatterternary": [
           {
            "marker": {
             "colorbar": {
              "outlinewidth": 0,
              "ticks": ""
             }
            },
            "type": "scatterternary"
           }
          ],
          "surface": [
           {
            "colorbar": {
             "outlinewidth": 0,
             "ticks": ""
            },
            "colorscale": [
             [
              0,
              "#0d0887"
             ],
             [
              0.1111111111111111,
              "#46039f"
             ],
             [
              0.2222222222222222,
              "#7201a8"
             ],
             [
              0.3333333333333333,
              "#9c179e"
             ],
             [
              0.4444444444444444,
              "#bd3786"
             ],
             [
              0.5555555555555556,
              "#d8576b"
             ],
             [
              0.6666666666666666,
              "#ed7953"
             ],
             [
              0.7777777777777778,
              "#fb9f3a"
             ],
             [
              0.8888888888888888,
              "#fdca26"
             ],
             [
              1,
              "#f0f921"
             ]
            ],
            "type": "surface"
           }
          ],
          "table": [
           {
            "cells": {
             "fill": {
              "color": "#EBF0F8"
             },
             "line": {
              "color": "white"
             }
            },
            "header": {
             "fill": {
              "color": "#C8D4E3"
             },
             "line": {
              "color": "white"
             }
            },
            "type": "table"
           }
          ]
         },
         "layout": {
          "annotationdefaults": {
           "arrowcolor": "#2a3f5f",
           "arrowhead": 0,
           "arrowwidth": 1
          },
          "autotypenumbers": "strict",
          "coloraxis": {
           "colorbar": {
            "outlinewidth": 0,
            "ticks": ""
           }
          },
          "colorscale": {
           "diverging": [
            [
             0,
             "#8e0152"
            ],
            [
             0.1,
             "#c51b7d"
            ],
            [
             0.2,
             "#de77ae"
            ],
            [
             0.3,
             "#f1b6da"
            ],
            [
             0.4,
             "#fde0ef"
            ],
            [
             0.5,
             "#f7f7f7"
            ],
            [
             0.6,
             "#e6f5d0"
            ],
            [
             0.7,
             "#b8e186"
            ],
            [
             0.8,
             "#7fbc41"
            ],
            [
             0.9,
             "#4d9221"
            ],
            [
             1,
             "#276419"
            ]
           ],
           "sequential": [
            [
             0,
             "#0d0887"
            ],
            [
             0.1111111111111111,
             "#46039f"
            ],
            [
             0.2222222222222222,
             "#7201a8"
            ],
            [
             0.3333333333333333,
             "#9c179e"
            ],
            [
             0.4444444444444444,
             "#bd3786"
            ],
            [
             0.5555555555555556,
             "#d8576b"
            ],
            [
             0.6666666666666666,
             "#ed7953"
            ],
            [
             0.7777777777777778,
             "#fb9f3a"
            ],
            [
             0.8888888888888888,
             "#fdca26"
            ],
            [
             1,
             "#f0f921"
            ]
           ],
           "sequentialminus": [
            [
             0,
             "#0d0887"
            ],
            [
             0.1111111111111111,
             "#46039f"
            ],
            [
             0.2222222222222222,
             "#7201a8"
            ],
            [
             0.3333333333333333,
             "#9c179e"
            ],
            [
             0.4444444444444444,
             "#bd3786"
            ],
            [
             0.5555555555555556,
             "#d8576b"
            ],
            [
             0.6666666666666666,
             "#ed7953"
            ],
            [
             0.7777777777777778,
             "#fb9f3a"
            ],
            [
             0.8888888888888888,
             "#fdca26"
            ],
            [
             1,
             "#f0f921"
            ]
           ]
          },
          "colorway": [
           "#636efa",
           "#EF553B",
           "#00cc96",
           "#ab63fa",
           "#FFA15A",
           "#19d3f3",
           "#FF6692",
           "#B6E880",
           "#FF97FF",
           "#FECB52"
          ],
          "font": {
           "color": "#2a3f5f"
          },
          "geo": {
           "bgcolor": "white",
           "lakecolor": "white",
           "landcolor": "#E5ECF6",
           "showlakes": true,
           "showland": true,
           "subunitcolor": "white"
          },
          "hoverlabel": {
           "align": "left"
          },
          "hovermode": "closest",
          "mapbox": {
           "style": "light"
          },
          "paper_bgcolor": "white",
          "plot_bgcolor": "#E5ECF6",
          "polar": {
           "angularaxis": {
            "gridcolor": "white",
            "linecolor": "white",
            "ticks": ""
           },
           "bgcolor": "#E5ECF6",
           "radialaxis": {
            "gridcolor": "white",
            "linecolor": "white",
            "ticks": ""
           }
          },
          "scene": {
           "xaxis": {
            "backgroundcolor": "#E5ECF6",
            "gridcolor": "white",
            "gridwidth": 2,
            "linecolor": "white",
            "showbackground": true,
            "ticks": "",
            "zerolinecolor": "white"
           },
           "yaxis": {
            "backgroundcolor": "#E5ECF6",
            "gridcolor": "white",
            "gridwidth": 2,
            "linecolor": "white",
            "showbackground": true,
            "ticks": "",
            "zerolinecolor": "white"
           },
           "zaxis": {
            "backgroundcolor": "#E5ECF6",
            "gridcolor": "white",
            "gridwidth": 2,
            "linecolor": "white",
            "showbackground": true,
            "ticks": "",
            "zerolinecolor": "white"
           }
          },
          "shapedefaults": {
           "line": {
            "color": "#2a3f5f"
           }
          },
          "ternary": {
           "aaxis": {
            "gridcolor": "white",
            "linecolor": "white",
            "ticks": ""
           },
           "baxis": {
            "gridcolor": "white",
            "linecolor": "white",
            "ticks": ""
           },
           "bgcolor": "#E5ECF6",
           "caxis": {
            "gridcolor": "white",
            "linecolor": "white",
            "ticks": ""
           }
          },
          "title": {
           "x": 0.05
          },
          "xaxis": {
           "automargin": true,
           "gridcolor": "white",
           "linecolor": "white",
           "ticks": "",
           "title": {
            "standoff": 15
           },
           "zerolinecolor": "white",
           "zerolinewidth": 2
          },
          "yaxis": {
           "automargin": true,
           "gridcolor": "white",
           "linecolor": "white",
           "ticks": "",
           "title": {
            "standoff": 15
           },
           "zerolinecolor": "white",
           "zerolinewidth": 2
          }
         }
        }
       }
      },
      "text/html": [
       "<div>                            <div id=\"41d587f4-a129-4a26-bd09-ecc37f88d4b2\" class=\"plotly-graph-div\" style=\"height:525px; width:100%;\"></div>            <script type=\"text/javascript\">                require([\"plotly\"], function(Plotly) {                    window.PLOTLYENV=window.PLOTLYENV || {};                                    if (document.getElementById(\"41d587f4-a129-4a26-bd09-ecc37f88d4b2\")) {                    Plotly.newPlot(                        \"41d587f4-a129-4a26-bd09-ecc37f88d4b2\",                        [{\"mode\": \"lines+markers+text\", \"name\": \"alcohol\", \"type\": \"scatter\", \"x\": [3, 4, 5, 6, 7, 8], \"y\": [9.955000000000002, 10.265094339622639, 9.899706314243753, 10.629519331238239, 11.465912897839194, 12.094444444444443]}, {\"mode\": \"lines+markers+text\", \"name\": \"pH\", \"type\": \"scatter\", \"x\": [3, 4, 5, 6, 7, 8], \"y\": [3.3979999999999997, 3.381509433962264, 3.3049486049926546, 3.3180721003134837, 3.290753768844219, 3.2672222222222214]}],                        {\"template\": {\"data\": {\"bar\": [{\"error_x\": {\"color\": \"#2a3f5f\"}, \"error_y\": {\"color\": \"#2a3f5f\"}, \"marker\": {\"line\": {\"color\": \"#E5ECF6\", \"width\": 0.5}}, \"type\": \"bar\"}], \"barpolar\": [{\"marker\": {\"line\": {\"color\": \"#E5ECF6\", \"width\": 0.5}}, \"type\": \"barpolar\"}], \"carpet\": [{\"aaxis\": {\"endlinecolor\": \"#2a3f5f\", \"gridcolor\": \"white\", \"linecolor\": \"white\", \"minorgridcolor\": \"white\", \"startlinecolor\": \"#2a3f5f\"}, \"baxis\": {\"endlinecolor\": \"#2a3f5f\", \"gridcolor\": \"white\", \"linecolor\": \"white\", \"minorgridcolor\": \"white\", \"startlinecolor\": \"#2a3f5f\"}, \"type\": \"carpet\"}], \"choropleth\": [{\"colorbar\": {\"outlinewidth\": 0, \"ticks\": \"\"}, \"type\": \"choropleth\"}], \"contour\": [{\"colorbar\": {\"outlinewidth\": 0, \"ticks\": \"\"}, \"colorscale\": [[0.0, \"#0d0887\"], [0.1111111111111111, \"#46039f\"], [0.2222222222222222, \"#7201a8\"], [0.3333333333333333, \"#9c179e\"], [0.4444444444444444, \"#bd3786\"], [0.5555555555555556, \"#d8576b\"], [0.6666666666666666, \"#ed7953\"], [0.7777777777777778, \"#fb9f3a\"], [0.8888888888888888, \"#fdca26\"], [1.0, \"#f0f921\"]], \"type\": \"contour\"}], \"contourcarpet\": [{\"colorbar\": {\"outlinewidth\": 0, \"ticks\": \"\"}, \"type\": \"contourcarpet\"}], \"heatmap\": [{\"colorbar\": {\"outlinewidth\": 0, \"ticks\": \"\"}, \"colorscale\": [[0.0, \"#0d0887\"], [0.1111111111111111, \"#46039f\"], [0.2222222222222222, \"#7201a8\"], [0.3333333333333333, \"#9c179e\"], [0.4444444444444444, \"#bd3786\"], [0.5555555555555556, \"#d8576b\"], [0.6666666666666666, \"#ed7953\"], [0.7777777777777778, \"#fb9f3a\"], [0.8888888888888888, \"#fdca26\"], [1.0, \"#f0f921\"]], \"type\": \"heatmap\"}], \"heatmapgl\": [{\"colorbar\": {\"outlinewidth\": 0, \"ticks\": \"\"}, \"colorscale\": [[0.0, \"#0d0887\"], [0.1111111111111111, \"#46039f\"], [0.2222222222222222, \"#7201a8\"], [0.3333333333333333, \"#9c179e\"], [0.4444444444444444, \"#bd3786\"], [0.5555555555555556, \"#d8576b\"], [0.6666666666666666, \"#ed7953\"], [0.7777777777777778, \"#fb9f3a\"], [0.8888888888888888, \"#fdca26\"], [1.0, \"#f0f921\"]], \"type\": \"heatmapgl\"}], \"histogram\": [{\"marker\": {\"colorbar\": {\"outlinewidth\": 0, \"ticks\": \"\"}}, \"type\": \"histogram\"}], \"histogram2d\": [{\"colorbar\": {\"outlinewidth\": 0, \"ticks\": \"\"}, \"colorscale\": [[0.0, \"#0d0887\"], [0.1111111111111111, \"#46039f\"], [0.2222222222222222, \"#7201a8\"], [0.3333333333333333, \"#9c179e\"], [0.4444444444444444, \"#bd3786\"], [0.5555555555555556, \"#d8576b\"], [0.6666666666666666, \"#ed7953\"], [0.7777777777777778, \"#fb9f3a\"], [0.8888888888888888, \"#fdca26\"], [1.0, \"#f0f921\"]], \"type\": \"histogram2d\"}], \"histogram2dcontour\": [{\"colorbar\": {\"outlinewidth\": 0, \"ticks\": \"\"}, \"colorscale\": [[0.0, \"#0d0887\"], [0.1111111111111111, \"#46039f\"], [0.2222222222222222, \"#7201a8\"], [0.3333333333333333, \"#9c179e\"], [0.4444444444444444, \"#bd3786\"], [0.5555555555555556, \"#d8576b\"], [0.6666666666666666, \"#ed7953\"], [0.7777777777777778, \"#fb9f3a\"], [0.8888888888888888, \"#fdca26\"], [1.0, \"#f0f921\"]], \"type\": \"histogram2dcontour\"}], \"mesh3d\": [{\"colorbar\": {\"outlinewidth\": 0, \"ticks\": \"\"}, \"type\": \"mesh3d\"}], \"parcoords\": [{\"line\": {\"colorbar\": {\"outlinewidth\": 0, \"ticks\": \"\"}}, \"type\": \"parcoords\"}], \"pie\": [{\"automargin\": true, \"type\": \"pie\"}], \"scatter\": [{\"marker\": {\"colorbar\": {\"outlinewidth\": 0, \"ticks\": \"\"}}, \"type\": \"scatter\"}], \"scatter3d\": [{\"line\": {\"colorbar\": {\"outlinewidth\": 0, \"ticks\": \"\"}}, \"marker\": {\"colorbar\": {\"outlinewidth\": 0, \"ticks\": \"\"}}, \"type\": \"scatter3d\"}], \"scattercarpet\": [{\"marker\": {\"colorbar\": {\"outlinewidth\": 0, \"ticks\": \"\"}}, \"type\": \"scattercarpet\"}], \"scattergeo\": [{\"marker\": {\"colorbar\": {\"outlinewidth\": 0, \"ticks\": \"\"}}, \"type\": \"scattergeo\"}], \"scattergl\": [{\"marker\": {\"colorbar\": {\"outlinewidth\": 0, \"ticks\": \"\"}}, \"type\": \"scattergl\"}], \"scattermapbox\": [{\"marker\": {\"colorbar\": {\"outlinewidth\": 0, \"ticks\": \"\"}}, \"type\": \"scattermapbox\"}], \"scatterpolar\": [{\"marker\": {\"colorbar\": {\"outlinewidth\": 0, \"ticks\": \"\"}}, \"type\": \"scatterpolar\"}], \"scatterpolargl\": [{\"marker\": {\"colorbar\": {\"outlinewidth\": 0, \"ticks\": \"\"}}, \"type\": \"scatterpolargl\"}], \"scatterternary\": [{\"marker\": {\"colorbar\": {\"outlinewidth\": 0, \"ticks\": \"\"}}, \"type\": \"scatterternary\"}], \"surface\": [{\"colorbar\": {\"outlinewidth\": 0, \"ticks\": \"\"}, \"colorscale\": [[0.0, \"#0d0887\"], [0.1111111111111111, \"#46039f\"], [0.2222222222222222, \"#7201a8\"], [0.3333333333333333, \"#9c179e\"], [0.4444444444444444, \"#bd3786\"], [0.5555555555555556, \"#d8576b\"], [0.6666666666666666, \"#ed7953\"], [0.7777777777777778, \"#fb9f3a\"], [0.8888888888888888, \"#fdca26\"], [1.0, \"#f0f921\"]], \"type\": \"surface\"}], \"table\": [{\"cells\": {\"fill\": {\"color\": \"#EBF0F8\"}, \"line\": {\"color\": \"white\"}}, \"header\": {\"fill\": {\"color\": \"#C8D4E3\"}, \"line\": {\"color\": \"white\"}}, \"type\": \"table\"}]}, \"layout\": {\"annotationdefaults\": {\"arrowcolor\": \"#2a3f5f\", \"arrowhead\": 0, \"arrowwidth\": 1}, \"autotypenumbers\": \"strict\", \"coloraxis\": {\"colorbar\": {\"outlinewidth\": 0, \"ticks\": \"\"}}, \"colorscale\": {\"diverging\": [[0, \"#8e0152\"], [0.1, \"#c51b7d\"], [0.2, \"#de77ae\"], [0.3, \"#f1b6da\"], [0.4, \"#fde0ef\"], [0.5, \"#f7f7f7\"], [0.6, \"#e6f5d0\"], [0.7, \"#b8e186\"], [0.8, \"#7fbc41\"], [0.9, \"#4d9221\"], [1, \"#276419\"]], \"sequential\": [[0.0, \"#0d0887\"], [0.1111111111111111, \"#46039f\"], [0.2222222222222222, \"#7201a8\"], [0.3333333333333333, \"#9c179e\"], [0.4444444444444444, \"#bd3786\"], [0.5555555555555556, \"#d8576b\"], [0.6666666666666666, \"#ed7953\"], [0.7777777777777778, \"#fb9f3a\"], [0.8888888888888888, \"#fdca26\"], [1.0, \"#f0f921\"]], \"sequentialminus\": [[0.0, \"#0d0887\"], [0.1111111111111111, \"#46039f\"], [0.2222222222222222, \"#7201a8\"], [0.3333333333333333, \"#9c179e\"], [0.4444444444444444, \"#bd3786\"], [0.5555555555555556, \"#d8576b\"], [0.6666666666666666, \"#ed7953\"], [0.7777777777777778, \"#fb9f3a\"], [0.8888888888888888, \"#fdca26\"], [1.0, \"#f0f921\"]]}, \"colorway\": [\"#636efa\", \"#EF553B\", \"#00cc96\", \"#ab63fa\", \"#FFA15A\", \"#19d3f3\", \"#FF6692\", \"#B6E880\", \"#FF97FF\", \"#FECB52\"], \"font\": {\"color\": \"#2a3f5f\"}, \"geo\": {\"bgcolor\": \"white\", \"lakecolor\": \"white\", \"landcolor\": \"#E5ECF6\", \"showlakes\": true, \"showland\": true, \"subunitcolor\": \"white\"}, \"hoverlabel\": {\"align\": \"left\"}, \"hovermode\": \"closest\", \"mapbox\": {\"style\": \"light\"}, \"paper_bgcolor\": \"white\", \"plot_bgcolor\": \"#E5ECF6\", \"polar\": {\"angularaxis\": {\"gridcolor\": \"white\", \"linecolor\": \"white\", \"ticks\": \"\"}, \"bgcolor\": \"#E5ECF6\", \"radialaxis\": {\"gridcolor\": \"white\", \"linecolor\": \"white\", \"ticks\": \"\"}}, \"scene\": {\"xaxis\": {\"backgroundcolor\": \"#E5ECF6\", \"gridcolor\": \"white\", \"gridwidth\": 2, \"linecolor\": \"white\", \"showbackground\": true, \"ticks\": \"\", \"zerolinecolor\": \"white\"}, \"yaxis\": {\"backgroundcolor\": \"#E5ECF6\", \"gridcolor\": \"white\", \"gridwidth\": 2, \"linecolor\": \"white\", \"showbackground\": true, \"ticks\": \"\", \"zerolinecolor\": \"white\"}, \"zaxis\": {\"backgroundcolor\": \"#E5ECF6\", \"gridcolor\": \"white\", \"gridwidth\": 2, \"linecolor\": \"white\", \"showbackground\": true, \"ticks\": \"\", \"zerolinecolor\": \"white\"}}, \"shapedefaults\": {\"line\": {\"color\": \"#2a3f5f\"}}, \"ternary\": {\"aaxis\": {\"gridcolor\": \"white\", \"linecolor\": \"white\", \"ticks\": \"\"}, \"baxis\": {\"gridcolor\": \"white\", \"linecolor\": \"white\", \"ticks\": \"\"}, \"bgcolor\": \"#E5ECF6\", \"caxis\": {\"gridcolor\": \"white\", \"linecolor\": \"white\", \"ticks\": \"\"}}, \"title\": {\"x\": 0.05}, \"xaxis\": {\"automargin\": true, \"gridcolor\": \"white\", \"linecolor\": \"white\", \"ticks\": \"\", \"title\": {\"standoff\": 15}, \"zerolinecolor\": \"white\", \"zerolinewidth\": 2}, \"yaxis\": {\"automargin\": true, \"gridcolor\": \"white\", \"linecolor\": \"white\", \"ticks\": \"\", \"title\": {\"standoff\": 15}, \"zerolinecolor\": \"white\", \"zerolinewidth\": 2}}}},                        {\"responsive\": true}                    ).then(function(){\n",
       "                            \n",
       "var gd = document.getElementById('41d587f4-a129-4a26-bd09-ecc37f88d4b2');\n",
       "var x = new MutationObserver(function (mutations, observer) {{\n",
       "        var display = window.getComputedStyle(gd).display;\n",
       "        if (!display || display === 'none') {{\n",
       "            console.log([gd, 'removed!']);\n",
       "            Plotly.purge(gd);\n",
       "            observer.disconnect();\n",
       "        }}\n",
       "}});\n",
       "\n",
       "// Listen for the removal of the full notebook cells\n",
       "var notebookContainer = gd.closest('#notebook-container');\n",
       "if (notebookContainer) {{\n",
       "    x.observe(notebookContainer, {childList: true});\n",
       "}}\n",
       "\n",
       "// Listen for the clearing of the current output cell\n",
       "var outputEl = gd.closest('.output');\n",
       "if (outputEl) {{\n",
       "    x.observe(outputEl, {childList: true});\n",
       "}}\n",
       "\n",
       "                        })                };                });            </script>        </div>"
      ]
     },
     "metadata": {},
     "output_type": "display_data"
    }
   ],
   "source": [
    "\n",
    "fig = go.Figure()\n",
    "fig.add_trace(\n",
    "go.Scatter(\n",
    "x = wine_mix.index, y = wine_sugar['alcohol'], mode = 'lines+markers+text',name = 'alcohol'\n",
    ")\n",
    ")\n",
    "\n",
    "fig.add_trace(\n",
    "go.Scatter(\n",
    "x = wine_mix.index, y = wine_sugar['pH'], mode = 'lines+markers+text', name = 'pH'))\n",
    "fig.show()"
   ]
  },
  {
   "cell_type": "code",
   "execution_count": null,
   "metadata": {},
   "outputs": [],
   "source": []
  },
  {
   "cell_type": "code",
   "execution_count": null,
   "metadata": {},
   "outputs": [],
   "source": []
  },
  {
   "cell_type": "code",
   "execution_count": 72,
   "metadata": {},
   "outputs": [
    {
     "data": {
      "application/vnd.plotly.v1+json": {
       "config": {
        "linkText": "Export to plot.ly",
        "plotlyServerURL": "https://plot.ly",
        "showLink": true
       },
       "data": [
        {
         "line": {
          "color": "rgba(255, 153, 51, 1.0)",
          "dash": "solid",
          "shape": "linear",
          "width": 1.3
         },
         "mode": "lines",
         "name": "pH",
         "text": "",
         "type": "scatter",
         "x": [
          3,
          4,
          5,
          6,
          7,
          8
         ],
         "y": [
          3.3979999999999997,
          3.381509433962264,
          3.3049486049926546,
          3.3180721003134837,
          3.290753768844219,
          3.2672222222222214
         ]
        }
       ],
       "layout": {
        "legend": {
         "bgcolor": "#F5F6F9",
         "font": {
          "color": "#4D5663"
         }
        },
        "paper_bgcolor": "#F5F6F9",
        "plot_bgcolor": "#F5F6F9",
        "template": {
         "data": {
          "bar": [
           {
            "error_x": {
             "color": "#2a3f5f"
            },
            "error_y": {
             "color": "#2a3f5f"
            },
            "marker": {
             "line": {
              "color": "#E5ECF6",
              "width": 0.5
             }
            },
            "type": "bar"
           }
          ],
          "barpolar": [
           {
            "marker": {
             "line": {
              "color": "#E5ECF6",
              "width": 0.5
             }
            },
            "type": "barpolar"
           }
          ],
          "carpet": [
           {
            "aaxis": {
             "endlinecolor": "#2a3f5f",
             "gridcolor": "white",
             "linecolor": "white",
             "minorgridcolor": "white",
             "startlinecolor": "#2a3f5f"
            },
            "baxis": {
             "endlinecolor": "#2a3f5f",
             "gridcolor": "white",
             "linecolor": "white",
             "minorgridcolor": "white",
             "startlinecolor": "#2a3f5f"
            },
            "type": "carpet"
           }
          ],
          "choropleth": [
           {
            "colorbar": {
             "outlinewidth": 0,
             "ticks": ""
            },
            "type": "choropleth"
           }
          ],
          "contour": [
           {
            "colorbar": {
             "outlinewidth": 0,
             "ticks": ""
            },
            "colorscale": [
             [
              0,
              "#0d0887"
             ],
             [
              0.1111111111111111,
              "#46039f"
             ],
             [
              0.2222222222222222,
              "#7201a8"
             ],
             [
              0.3333333333333333,
              "#9c179e"
             ],
             [
              0.4444444444444444,
              "#bd3786"
             ],
             [
              0.5555555555555556,
              "#d8576b"
             ],
             [
              0.6666666666666666,
              "#ed7953"
             ],
             [
              0.7777777777777778,
              "#fb9f3a"
             ],
             [
              0.8888888888888888,
              "#fdca26"
             ],
             [
              1,
              "#f0f921"
             ]
            ],
            "type": "contour"
           }
          ],
          "contourcarpet": [
           {
            "colorbar": {
             "outlinewidth": 0,
             "ticks": ""
            },
            "type": "contourcarpet"
           }
          ],
          "heatmap": [
           {
            "colorbar": {
             "outlinewidth": 0,
             "ticks": ""
            },
            "colorscale": [
             [
              0,
              "#0d0887"
             ],
             [
              0.1111111111111111,
              "#46039f"
             ],
             [
              0.2222222222222222,
              "#7201a8"
             ],
             [
              0.3333333333333333,
              "#9c179e"
             ],
             [
              0.4444444444444444,
              "#bd3786"
             ],
             [
              0.5555555555555556,
              "#d8576b"
             ],
             [
              0.6666666666666666,
              "#ed7953"
             ],
             [
              0.7777777777777778,
              "#fb9f3a"
             ],
             [
              0.8888888888888888,
              "#fdca26"
             ],
             [
              1,
              "#f0f921"
             ]
            ],
            "type": "heatmap"
           }
          ],
          "heatmapgl": [
           {
            "colorbar": {
             "outlinewidth": 0,
             "ticks": ""
            },
            "colorscale": [
             [
              0,
              "#0d0887"
             ],
             [
              0.1111111111111111,
              "#46039f"
             ],
             [
              0.2222222222222222,
              "#7201a8"
             ],
             [
              0.3333333333333333,
              "#9c179e"
             ],
             [
              0.4444444444444444,
              "#bd3786"
             ],
             [
              0.5555555555555556,
              "#d8576b"
             ],
             [
              0.6666666666666666,
              "#ed7953"
             ],
             [
              0.7777777777777778,
              "#fb9f3a"
             ],
             [
              0.8888888888888888,
              "#fdca26"
             ],
             [
              1,
              "#f0f921"
             ]
            ],
            "type": "heatmapgl"
           }
          ],
          "histogram": [
           {
            "marker": {
             "colorbar": {
              "outlinewidth": 0,
              "ticks": ""
             }
            },
            "type": "histogram"
           }
          ],
          "histogram2d": [
           {
            "colorbar": {
             "outlinewidth": 0,
             "ticks": ""
            },
            "colorscale": [
             [
              0,
              "#0d0887"
             ],
             [
              0.1111111111111111,
              "#46039f"
             ],
             [
              0.2222222222222222,
              "#7201a8"
             ],
             [
              0.3333333333333333,
              "#9c179e"
             ],
             [
              0.4444444444444444,
              "#bd3786"
             ],
             [
              0.5555555555555556,
              "#d8576b"
             ],
             [
              0.6666666666666666,
              "#ed7953"
             ],
             [
              0.7777777777777778,
              "#fb9f3a"
             ],
             [
              0.8888888888888888,
              "#fdca26"
             ],
             [
              1,
              "#f0f921"
             ]
            ],
            "type": "histogram2d"
           }
          ],
          "histogram2dcontour": [
           {
            "colorbar": {
             "outlinewidth": 0,
             "ticks": ""
            },
            "colorscale": [
             [
              0,
              "#0d0887"
             ],
             [
              0.1111111111111111,
              "#46039f"
             ],
             [
              0.2222222222222222,
              "#7201a8"
             ],
             [
              0.3333333333333333,
              "#9c179e"
             ],
             [
              0.4444444444444444,
              "#bd3786"
             ],
             [
              0.5555555555555556,
              "#d8576b"
             ],
             [
              0.6666666666666666,
              "#ed7953"
             ],
             [
              0.7777777777777778,
              "#fb9f3a"
             ],
             [
              0.8888888888888888,
              "#fdca26"
             ],
             [
              1,
              "#f0f921"
             ]
            ],
            "type": "histogram2dcontour"
           }
          ],
          "mesh3d": [
           {
            "colorbar": {
             "outlinewidth": 0,
             "ticks": ""
            },
            "type": "mesh3d"
           }
          ],
          "parcoords": [
           {
            "line": {
             "colorbar": {
              "outlinewidth": 0,
              "ticks": ""
             }
            },
            "type": "parcoords"
           }
          ],
          "pie": [
           {
            "automargin": true,
            "type": "pie"
           }
          ],
          "scatter": [
           {
            "marker": {
             "colorbar": {
              "outlinewidth": 0,
              "ticks": ""
             }
            },
            "type": "scatter"
           }
          ],
          "scatter3d": [
           {
            "line": {
             "colorbar": {
              "outlinewidth": 0,
              "ticks": ""
             }
            },
            "marker": {
             "colorbar": {
              "outlinewidth": 0,
              "ticks": ""
             }
            },
            "type": "scatter3d"
           }
          ],
          "scattercarpet": [
           {
            "marker": {
             "colorbar": {
              "outlinewidth": 0,
              "ticks": ""
             }
            },
            "type": "scattercarpet"
           }
          ],
          "scattergeo": [
           {
            "marker": {
             "colorbar": {
              "outlinewidth": 0,
              "ticks": ""
             }
            },
            "type": "scattergeo"
           }
          ],
          "scattergl": [
           {
            "marker": {
             "colorbar": {
              "outlinewidth": 0,
              "ticks": ""
             }
            },
            "type": "scattergl"
           }
          ],
          "scattermapbox": [
           {
            "marker": {
             "colorbar": {
              "outlinewidth": 0,
              "ticks": ""
             }
            },
            "type": "scattermapbox"
           }
          ],
          "scatterpolar": [
           {
            "marker": {
             "colorbar": {
              "outlinewidth": 0,
              "ticks": ""
             }
            },
            "type": "scatterpolar"
           }
          ],
          "scatterpolargl": [
           {
            "marker": {
             "colorbar": {
              "outlinewidth": 0,
              "ticks": ""
             }
            },
            "type": "scatterpolargl"
           }
          ],
          "scatterternary": [
           {
            "marker": {
             "colorbar": {
              "outlinewidth": 0,
              "ticks": ""
             }
            },
            "type": "scatterternary"
           }
          ],
          "surface": [
           {
            "colorbar": {
             "outlinewidth": 0,
             "ticks": ""
            },
            "colorscale": [
             [
              0,
              "#0d0887"
             ],
             [
              0.1111111111111111,
              "#46039f"
             ],
             [
              0.2222222222222222,
              "#7201a8"
             ],
             [
              0.3333333333333333,
              "#9c179e"
             ],
             [
              0.4444444444444444,
              "#bd3786"
             ],
             [
              0.5555555555555556,
              "#d8576b"
             ],
             [
              0.6666666666666666,
              "#ed7953"
             ],
             [
              0.7777777777777778,
              "#fb9f3a"
             ],
             [
              0.8888888888888888,
              "#fdca26"
             ],
             [
              1,
              "#f0f921"
             ]
            ],
            "type": "surface"
           }
          ],
          "table": [
           {
            "cells": {
             "fill": {
              "color": "#EBF0F8"
             },
             "line": {
              "color": "white"
             }
            },
            "header": {
             "fill": {
              "color": "#C8D4E3"
             },
             "line": {
              "color": "white"
             }
            },
            "type": "table"
           }
          ]
         },
         "layout": {
          "annotationdefaults": {
           "arrowcolor": "#2a3f5f",
           "arrowhead": 0,
           "arrowwidth": 1
          },
          "autotypenumbers": "strict",
          "coloraxis": {
           "colorbar": {
            "outlinewidth": 0,
            "ticks": ""
           }
          },
          "colorscale": {
           "diverging": [
            [
             0,
             "#8e0152"
            ],
            [
             0.1,
             "#c51b7d"
            ],
            [
             0.2,
             "#de77ae"
            ],
            [
             0.3,
             "#f1b6da"
            ],
            [
             0.4,
             "#fde0ef"
            ],
            [
             0.5,
             "#f7f7f7"
            ],
            [
             0.6,
             "#e6f5d0"
            ],
            [
             0.7,
             "#b8e186"
            ],
            [
             0.8,
             "#7fbc41"
            ],
            [
             0.9,
             "#4d9221"
            ],
            [
             1,
             "#276419"
            ]
           ],
           "sequential": [
            [
             0,
             "#0d0887"
            ],
            [
             0.1111111111111111,
             "#46039f"
            ],
            [
             0.2222222222222222,
             "#7201a8"
            ],
            [
             0.3333333333333333,
             "#9c179e"
            ],
            [
             0.4444444444444444,
             "#bd3786"
            ],
            [
             0.5555555555555556,
             "#d8576b"
            ],
            [
             0.6666666666666666,
             "#ed7953"
            ],
            [
             0.7777777777777778,
             "#fb9f3a"
            ],
            [
             0.8888888888888888,
             "#fdca26"
            ],
            [
             1,
             "#f0f921"
            ]
           ],
           "sequentialminus": [
            [
             0,
             "#0d0887"
            ],
            [
             0.1111111111111111,
             "#46039f"
            ],
            [
             0.2222222222222222,
             "#7201a8"
            ],
            [
             0.3333333333333333,
             "#9c179e"
            ],
            [
             0.4444444444444444,
             "#bd3786"
            ],
            [
             0.5555555555555556,
             "#d8576b"
            ],
            [
             0.6666666666666666,
             "#ed7953"
            ],
            [
             0.7777777777777778,
             "#fb9f3a"
            ],
            [
             0.8888888888888888,
             "#fdca26"
            ],
            [
             1,
             "#f0f921"
            ]
           ]
          },
          "colorway": [
           "#636efa",
           "#EF553B",
           "#00cc96",
           "#ab63fa",
           "#FFA15A",
           "#19d3f3",
           "#FF6692",
           "#B6E880",
           "#FF97FF",
           "#FECB52"
          ],
          "font": {
           "color": "#2a3f5f"
          },
          "geo": {
           "bgcolor": "white",
           "lakecolor": "white",
           "landcolor": "#E5ECF6",
           "showlakes": true,
           "showland": true,
           "subunitcolor": "white"
          },
          "hoverlabel": {
           "align": "left"
          },
          "hovermode": "closest",
          "mapbox": {
           "style": "light"
          },
          "paper_bgcolor": "white",
          "plot_bgcolor": "#E5ECF6",
          "polar": {
           "angularaxis": {
            "gridcolor": "white",
            "linecolor": "white",
            "ticks": ""
           },
           "bgcolor": "#E5ECF6",
           "radialaxis": {
            "gridcolor": "white",
            "linecolor": "white",
            "ticks": ""
           }
          },
          "scene": {
           "xaxis": {
            "backgroundcolor": "#E5ECF6",
            "gridcolor": "white",
            "gridwidth": 2,
            "linecolor": "white",
            "showbackground": true,
            "ticks": "",
            "zerolinecolor": "white"
           },
           "yaxis": {
            "backgroundcolor": "#E5ECF6",
            "gridcolor": "white",
            "gridwidth": 2,
            "linecolor": "white",
            "showbackground": true,
            "ticks": "",
            "zerolinecolor": "white"
           },
           "zaxis": {
            "backgroundcolor": "#E5ECF6",
            "gridcolor": "white",
            "gridwidth": 2,
            "linecolor": "white",
            "showbackground": true,
            "ticks": "",
            "zerolinecolor": "white"
           }
          },
          "shapedefaults": {
           "line": {
            "color": "#2a3f5f"
           }
          },
          "ternary": {
           "aaxis": {
            "gridcolor": "white",
            "linecolor": "white",
            "ticks": ""
           },
           "baxis": {
            "gridcolor": "white",
            "linecolor": "white",
            "ticks": ""
           },
           "bgcolor": "#E5ECF6",
           "caxis": {
            "gridcolor": "white",
            "linecolor": "white",
            "ticks": ""
           }
          },
          "title": {
           "x": 0.05
          },
          "xaxis": {
           "automargin": true,
           "gridcolor": "white",
           "linecolor": "white",
           "ticks": "",
           "title": {
            "standoff": 15
           },
           "zerolinecolor": "white",
           "zerolinewidth": 2
          },
          "yaxis": {
           "automargin": true,
           "gridcolor": "white",
           "linecolor": "white",
           "ticks": "",
           "title": {
            "standoff": 15
           },
           "zerolinecolor": "white",
           "zerolinewidth": 2
          }
         }
        },
        "title": {
         "font": {
          "color": "#4D5663"
         }
        },
        "xaxis": {
         "gridcolor": "#E1E5ED",
         "showgrid": true,
         "tickfont": {
          "color": "#4D5663"
         },
         "title": {
          "font": {
           "color": "#4D5663"
          },
          "text": ""
         },
         "zerolinecolor": "#E1E5ED"
        },
        "yaxis": {
         "gridcolor": "#E1E5ED",
         "showgrid": true,
         "tickfont": {
          "color": "#4D5663"
         },
         "title": {
          "font": {
           "color": "#4D5663"
          },
          "text": ""
         },
         "zerolinecolor": "#E1E5ED"
        }
       }
      },
      "text/html": [
       "<div>                            <div id=\"d9c17231-185f-4b58-b16a-f1d2b99624a9\" class=\"plotly-graph-div\" style=\"height:525px; width:100%;\"></div>            <script type=\"text/javascript\">                require([\"plotly\"], function(Plotly) {                    window.PLOTLYENV=window.PLOTLYENV || {};\n",
       "                    window.PLOTLYENV.BASE_URL='https://plot.ly';                                    if (document.getElementById(\"d9c17231-185f-4b58-b16a-f1d2b99624a9\")) {                    Plotly.newPlot(                        \"d9c17231-185f-4b58-b16a-f1d2b99624a9\",                        [{\"line\": {\"color\": \"rgba(255, 153, 51, 1.0)\", \"dash\": \"solid\", \"shape\": \"linear\", \"width\": 1.3}, \"mode\": \"lines\", \"name\": \"pH\", \"text\": \"\", \"type\": \"scatter\", \"x\": [3, 4, 5, 6, 7, 8], \"y\": [3.3979999999999997, 3.381509433962264, 3.3049486049926546, 3.3180721003134837, 3.290753768844219, 3.2672222222222214]}],                        {\"legend\": {\"bgcolor\": \"#F5F6F9\", \"font\": {\"color\": \"#4D5663\"}}, \"paper_bgcolor\": \"#F5F6F9\", \"plot_bgcolor\": \"#F5F6F9\", \"template\": {\"data\": {\"bar\": [{\"error_x\": {\"color\": \"#2a3f5f\"}, \"error_y\": {\"color\": \"#2a3f5f\"}, \"marker\": {\"line\": {\"color\": \"#E5ECF6\", \"width\": 0.5}}, \"type\": \"bar\"}], \"barpolar\": [{\"marker\": {\"line\": {\"color\": \"#E5ECF6\", \"width\": 0.5}}, \"type\": \"barpolar\"}], \"carpet\": [{\"aaxis\": {\"endlinecolor\": \"#2a3f5f\", \"gridcolor\": \"white\", \"linecolor\": \"white\", \"minorgridcolor\": \"white\", \"startlinecolor\": \"#2a3f5f\"}, \"baxis\": {\"endlinecolor\": \"#2a3f5f\", \"gridcolor\": \"white\", \"linecolor\": \"white\", \"minorgridcolor\": \"white\", \"startlinecolor\": \"#2a3f5f\"}, \"type\": \"carpet\"}], \"choropleth\": [{\"colorbar\": {\"outlinewidth\": 0, \"ticks\": \"\"}, \"type\": \"choropleth\"}], \"contour\": [{\"colorbar\": {\"outlinewidth\": 0, \"ticks\": \"\"}, \"colorscale\": [[0.0, \"#0d0887\"], [0.1111111111111111, \"#46039f\"], [0.2222222222222222, \"#7201a8\"], [0.3333333333333333, \"#9c179e\"], [0.4444444444444444, \"#bd3786\"], [0.5555555555555556, \"#d8576b\"], [0.6666666666666666, \"#ed7953\"], [0.7777777777777778, \"#fb9f3a\"], [0.8888888888888888, \"#fdca26\"], [1.0, \"#f0f921\"]], \"type\": \"contour\"}], \"contourcarpet\": [{\"colorbar\": {\"outlinewidth\": 0, \"ticks\": \"\"}, \"type\": \"contourcarpet\"}], \"heatmap\": [{\"colorbar\": {\"outlinewidth\": 0, \"ticks\": \"\"}, \"colorscale\": [[0.0, \"#0d0887\"], [0.1111111111111111, \"#46039f\"], [0.2222222222222222, \"#7201a8\"], [0.3333333333333333, \"#9c179e\"], [0.4444444444444444, \"#bd3786\"], [0.5555555555555556, \"#d8576b\"], [0.6666666666666666, \"#ed7953\"], [0.7777777777777778, \"#fb9f3a\"], [0.8888888888888888, \"#fdca26\"], [1.0, \"#f0f921\"]], \"type\": \"heatmap\"}], \"heatmapgl\": [{\"colorbar\": {\"outlinewidth\": 0, \"ticks\": \"\"}, \"colorscale\": [[0.0, \"#0d0887\"], [0.1111111111111111, \"#46039f\"], [0.2222222222222222, \"#7201a8\"], [0.3333333333333333, \"#9c179e\"], [0.4444444444444444, \"#bd3786\"], [0.5555555555555556, \"#d8576b\"], [0.6666666666666666, \"#ed7953\"], [0.7777777777777778, \"#fb9f3a\"], [0.8888888888888888, \"#fdca26\"], [1.0, \"#f0f921\"]], \"type\": \"heatmapgl\"}], \"histogram\": [{\"marker\": {\"colorbar\": {\"outlinewidth\": 0, \"ticks\": \"\"}}, \"type\": \"histogram\"}], \"histogram2d\": [{\"colorbar\": {\"outlinewidth\": 0, \"ticks\": \"\"}, \"colorscale\": [[0.0, \"#0d0887\"], [0.1111111111111111, \"#46039f\"], [0.2222222222222222, \"#7201a8\"], [0.3333333333333333, \"#9c179e\"], [0.4444444444444444, \"#bd3786\"], [0.5555555555555556, \"#d8576b\"], [0.6666666666666666, \"#ed7953\"], [0.7777777777777778, \"#fb9f3a\"], [0.8888888888888888, \"#fdca26\"], [1.0, \"#f0f921\"]], \"type\": \"histogram2d\"}], \"histogram2dcontour\": [{\"colorbar\": {\"outlinewidth\": 0, \"ticks\": \"\"}, \"colorscale\": [[0.0, \"#0d0887\"], [0.1111111111111111, \"#46039f\"], [0.2222222222222222, \"#7201a8\"], [0.3333333333333333, \"#9c179e\"], [0.4444444444444444, \"#bd3786\"], [0.5555555555555556, \"#d8576b\"], [0.6666666666666666, \"#ed7953\"], [0.7777777777777778, \"#fb9f3a\"], [0.8888888888888888, \"#fdca26\"], [1.0, \"#f0f921\"]], \"type\": \"histogram2dcontour\"}], \"mesh3d\": [{\"colorbar\": {\"outlinewidth\": 0, \"ticks\": \"\"}, \"type\": \"mesh3d\"}], \"parcoords\": [{\"line\": {\"colorbar\": {\"outlinewidth\": 0, \"ticks\": \"\"}}, \"type\": \"parcoords\"}], \"pie\": [{\"automargin\": true, \"type\": \"pie\"}], \"scatter\": [{\"marker\": {\"colorbar\": {\"outlinewidth\": 0, \"ticks\": \"\"}}, \"type\": \"scatter\"}], \"scatter3d\": [{\"line\": {\"colorbar\": {\"outlinewidth\": 0, \"ticks\": \"\"}}, \"marker\": {\"colorbar\": {\"outlinewidth\": 0, \"ticks\": \"\"}}, \"type\": \"scatter3d\"}], \"scattercarpet\": [{\"marker\": {\"colorbar\": {\"outlinewidth\": 0, \"ticks\": \"\"}}, \"type\": \"scattercarpet\"}], \"scattergeo\": [{\"marker\": {\"colorbar\": {\"outlinewidth\": 0, \"ticks\": \"\"}}, \"type\": \"scattergeo\"}], \"scattergl\": [{\"marker\": {\"colorbar\": {\"outlinewidth\": 0, \"ticks\": \"\"}}, \"type\": \"scattergl\"}], \"scattermapbox\": [{\"marker\": {\"colorbar\": {\"outlinewidth\": 0, \"ticks\": \"\"}}, \"type\": \"scattermapbox\"}], \"scatterpolar\": [{\"marker\": {\"colorbar\": {\"outlinewidth\": 0, \"ticks\": \"\"}}, \"type\": \"scatterpolar\"}], \"scatterpolargl\": [{\"marker\": {\"colorbar\": {\"outlinewidth\": 0, \"ticks\": \"\"}}, \"type\": \"scatterpolargl\"}], \"scatterternary\": [{\"marker\": {\"colorbar\": {\"outlinewidth\": 0, \"ticks\": \"\"}}, \"type\": \"scatterternary\"}], \"surface\": [{\"colorbar\": {\"outlinewidth\": 0, \"ticks\": \"\"}, \"colorscale\": [[0.0, \"#0d0887\"], [0.1111111111111111, \"#46039f\"], [0.2222222222222222, \"#7201a8\"], [0.3333333333333333, \"#9c179e\"], [0.4444444444444444, \"#bd3786\"], [0.5555555555555556, \"#d8576b\"], [0.6666666666666666, \"#ed7953\"], [0.7777777777777778, \"#fb9f3a\"], [0.8888888888888888, \"#fdca26\"], [1.0, \"#f0f921\"]], \"type\": \"surface\"}], \"table\": [{\"cells\": {\"fill\": {\"color\": \"#EBF0F8\"}, \"line\": {\"color\": \"white\"}}, \"header\": {\"fill\": {\"color\": \"#C8D4E3\"}, \"line\": {\"color\": \"white\"}}, \"type\": \"table\"}]}, \"layout\": {\"annotationdefaults\": {\"arrowcolor\": \"#2a3f5f\", \"arrowhead\": 0, \"arrowwidth\": 1}, \"autotypenumbers\": \"strict\", \"coloraxis\": {\"colorbar\": {\"outlinewidth\": 0, \"ticks\": \"\"}}, \"colorscale\": {\"diverging\": [[0, \"#8e0152\"], [0.1, \"#c51b7d\"], [0.2, \"#de77ae\"], [0.3, \"#f1b6da\"], [0.4, \"#fde0ef\"], [0.5, \"#f7f7f7\"], [0.6, \"#e6f5d0\"], [0.7, \"#b8e186\"], [0.8, \"#7fbc41\"], [0.9, \"#4d9221\"], [1, \"#276419\"]], \"sequential\": [[0.0, \"#0d0887\"], [0.1111111111111111, \"#46039f\"], [0.2222222222222222, \"#7201a8\"], [0.3333333333333333, \"#9c179e\"], [0.4444444444444444, \"#bd3786\"], [0.5555555555555556, \"#d8576b\"], [0.6666666666666666, \"#ed7953\"], [0.7777777777777778, \"#fb9f3a\"], [0.8888888888888888, \"#fdca26\"], [1.0, \"#f0f921\"]], \"sequentialminus\": [[0.0, \"#0d0887\"], [0.1111111111111111, \"#46039f\"], [0.2222222222222222, \"#7201a8\"], [0.3333333333333333, \"#9c179e\"], [0.4444444444444444, \"#bd3786\"], [0.5555555555555556, \"#d8576b\"], [0.6666666666666666, \"#ed7953\"], [0.7777777777777778, \"#fb9f3a\"], [0.8888888888888888, \"#fdca26\"], [1.0, \"#f0f921\"]]}, \"colorway\": [\"#636efa\", \"#EF553B\", \"#00cc96\", \"#ab63fa\", \"#FFA15A\", \"#19d3f3\", \"#FF6692\", \"#B6E880\", \"#FF97FF\", \"#FECB52\"], \"font\": {\"color\": \"#2a3f5f\"}, \"geo\": {\"bgcolor\": \"white\", \"lakecolor\": \"white\", \"landcolor\": \"#E5ECF6\", \"showlakes\": true, \"showland\": true, \"subunitcolor\": \"white\"}, \"hoverlabel\": {\"align\": \"left\"}, \"hovermode\": \"closest\", \"mapbox\": {\"style\": \"light\"}, \"paper_bgcolor\": \"white\", \"plot_bgcolor\": \"#E5ECF6\", \"polar\": {\"angularaxis\": {\"gridcolor\": \"white\", \"linecolor\": \"white\", \"ticks\": \"\"}, \"bgcolor\": \"#E5ECF6\", \"radialaxis\": {\"gridcolor\": \"white\", \"linecolor\": \"white\", \"ticks\": \"\"}}, \"scene\": {\"xaxis\": {\"backgroundcolor\": \"#E5ECF6\", \"gridcolor\": \"white\", \"gridwidth\": 2, \"linecolor\": \"white\", \"showbackground\": true, \"ticks\": \"\", \"zerolinecolor\": \"white\"}, \"yaxis\": {\"backgroundcolor\": \"#E5ECF6\", \"gridcolor\": \"white\", \"gridwidth\": 2, \"linecolor\": \"white\", \"showbackground\": true, \"ticks\": \"\", \"zerolinecolor\": \"white\"}, \"zaxis\": {\"backgroundcolor\": \"#E5ECF6\", \"gridcolor\": \"white\", \"gridwidth\": 2, \"linecolor\": \"white\", \"showbackground\": true, \"ticks\": \"\", \"zerolinecolor\": \"white\"}}, \"shapedefaults\": {\"line\": {\"color\": \"#2a3f5f\"}}, \"ternary\": {\"aaxis\": {\"gridcolor\": \"white\", \"linecolor\": \"white\", \"ticks\": \"\"}, \"baxis\": {\"gridcolor\": \"white\", \"linecolor\": \"white\", \"ticks\": \"\"}, \"bgcolor\": \"#E5ECF6\", \"caxis\": {\"gridcolor\": \"white\", \"linecolor\": \"white\", \"ticks\": \"\"}}, \"title\": {\"x\": 0.05}, \"xaxis\": {\"automargin\": true, \"gridcolor\": \"white\", \"linecolor\": \"white\", \"ticks\": \"\", \"title\": {\"standoff\": 15}, \"zerolinecolor\": \"white\", \"zerolinewidth\": 2}, \"yaxis\": {\"automargin\": true, \"gridcolor\": \"white\", \"linecolor\": \"white\", \"ticks\": \"\", \"title\": {\"standoff\": 15}, \"zerolinecolor\": \"white\", \"zerolinewidth\": 2}}}, \"title\": {\"font\": {\"color\": \"#4D5663\"}}, \"xaxis\": {\"gridcolor\": \"#E1E5ED\", \"showgrid\": true, \"tickfont\": {\"color\": \"#4D5663\"}, \"title\": {\"font\": {\"color\": \"#4D5663\"}, \"text\": \"\"}, \"zerolinecolor\": \"#E1E5ED\"}, \"yaxis\": {\"gridcolor\": \"#E1E5ED\", \"showgrid\": true, \"tickfont\": {\"color\": \"#4D5663\"}, \"title\": {\"font\": {\"color\": \"#4D5663\"}, \"text\": \"\"}, \"zerolinecolor\": \"#E1E5ED\"}},                        {\"showLink\": true, \"linkText\": \"Export to plot.ly\", \"plotlyServerURL\": \"https://plot.ly\", \"responsive\": true}                    ).then(function(){\n",
       "                            \n",
       "var gd = document.getElementById('d9c17231-185f-4b58-b16a-f1d2b99624a9');\n",
       "var x = new MutationObserver(function (mutations, observer) {{\n",
       "        var display = window.getComputedStyle(gd).display;\n",
       "        if (!display || display === 'none') {{\n",
       "            console.log([gd, 'removed!']);\n",
       "            Plotly.purge(gd);\n",
       "            observer.disconnect();\n",
       "        }}\n",
       "}});\n",
       "\n",
       "// Listen for the removal of the full notebook cells\n",
       "var notebookContainer = gd.closest('#notebook-container');\n",
       "if (notebookContainer) {{\n",
       "    x.observe(notebookContainer, {childList: true});\n",
       "}}\n",
       "\n",
       "// Listen for the clearing of the current output cell\n",
       "var outputEl = gd.closest('.output');\n",
       "if (outputEl) {{\n",
       "    x.observe(outputEl, {childList: true});\n",
       "}}\n",
       "\n",
       "                        })                };                });            </script>        </div>"
      ]
     },
     "metadata": {},
     "output_type": "display_data"
    }
   ],
   "source": [
    "wine1 = wine.groupby('quality')['pH'].mean()\n",
    "wine1.iplot(kind = 'scatter')"
   ]
  },
  {
   "cell_type": "code",
   "execution_count": 73,
   "metadata": {},
   "outputs": [
    {
     "data": {
      "application/vnd.plotly.v1+json": {
       "config": {
        "plotlyServerURL": "https://plot.ly"
       },
       "data": [
        {
         "mode": "lines+markers+text",
         "name": "alcohol",
         "type": "scatter",
         "x": [
          3,
          4,
          5,
          6,
          7,
          8
         ],
         "y": [
          9.955000000000002,
          10.265094339622639,
          9.899706314243753,
          10.629519331238239,
          11.465912897839194,
          12.094444444444443
         ]
        },
        {
         "mode": "lines+markers+text",
         "name": "pH",
         "type": "scatter",
         "x": [
          3,
          4,
          5,
          6,
          7,
          8
         ],
         "y": [
          3.3979999999999997,
          3.381509433962264,
          3.3049486049926546,
          3.3180721003134837,
          3.290753768844219,
          3.2672222222222214
         ]
        }
       ],
       "layout": {
        "template": {
         "data": {
          "bar": [
           {
            "error_x": {
             "color": "#2a3f5f"
            },
            "error_y": {
             "color": "#2a3f5f"
            },
            "marker": {
             "line": {
              "color": "#E5ECF6",
              "width": 0.5
             }
            },
            "type": "bar"
           }
          ],
          "barpolar": [
           {
            "marker": {
             "line": {
              "color": "#E5ECF6",
              "width": 0.5
             }
            },
            "type": "barpolar"
           }
          ],
          "carpet": [
           {
            "aaxis": {
             "endlinecolor": "#2a3f5f",
             "gridcolor": "white",
             "linecolor": "white",
             "minorgridcolor": "white",
             "startlinecolor": "#2a3f5f"
            },
            "baxis": {
             "endlinecolor": "#2a3f5f",
             "gridcolor": "white",
             "linecolor": "white",
             "minorgridcolor": "white",
             "startlinecolor": "#2a3f5f"
            },
            "type": "carpet"
           }
          ],
          "choropleth": [
           {
            "colorbar": {
             "outlinewidth": 0,
             "ticks": ""
            },
            "type": "choropleth"
           }
          ],
          "contour": [
           {
            "colorbar": {
             "outlinewidth": 0,
             "ticks": ""
            },
            "colorscale": [
             [
              0,
              "#0d0887"
             ],
             [
              0.1111111111111111,
              "#46039f"
             ],
             [
              0.2222222222222222,
              "#7201a8"
             ],
             [
              0.3333333333333333,
              "#9c179e"
             ],
             [
              0.4444444444444444,
              "#bd3786"
             ],
             [
              0.5555555555555556,
              "#d8576b"
             ],
             [
              0.6666666666666666,
              "#ed7953"
             ],
             [
              0.7777777777777778,
              "#fb9f3a"
             ],
             [
              0.8888888888888888,
              "#fdca26"
             ],
             [
              1,
              "#f0f921"
             ]
            ],
            "type": "contour"
           }
          ],
          "contourcarpet": [
           {
            "colorbar": {
             "outlinewidth": 0,
             "ticks": ""
            },
            "type": "contourcarpet"
           }
          ],
          "heatmap": [
           {
            "colorbar": {
             "outlinewidth": 0,
             "ticks": ""
            },
            "colorscale": [
             [
              0,
              "#0d0887"
             ],
             [
              0.1111111111111111,
              "#46039f"
             ],
             [
              0.2222222222222222,
              "#7201a8"
             ],
             [
              0.3333333333333333,
              "#9c179e"
             ],
             [
              0.4444444444444444,
              "#bd3786"
             ],
             [
              0.5555555555555556,
              "#d8576b"
             ],
             [
              0.6666666666666666,
              "#ed7953"
             ],
             [
              0.7777777777777778,
              "#fb9f3a"
             ],
             [
              0.8888888888888888,
              "#fdca26"
             ],
             [
              1,
              "#f0f921"
             ]
            ],
            "type": "heatmap"
           }
          ],
          "heatmapgl": [
           {
            "colorbar": {
             "outlinewidth": 0,
             "ticks": ""
            },
            "colorscale": [
             [
              0,
              "#0d0887"
             ],
             [
              0.1111111111111111,
              "#46039f"
             ],
             [
              0.2222222222222222,
              "#7201a8"
             ],
             [
              0.3333333333333333,
              "#9c179e"
             ],
             [
              0.4444444444444444,
              "#bd3786"
             ],
             [
              0.5555555555555556,
              "#d8576b"
             ],
             [
              0.6666666666666666,
              "#ed7953"
             ],
             [
              0.7777777777777778,
              "#fb9f3a"
             ],
             [
              0.8888888888888888,
              "#fdca26"
             ],
             [
              1,
              "#f0f921"
             ]
            ],
            "type": "heatmapgl"
           }
          ],
          "histogram": [
           {
            "marker": {
             "colorbar": {
              "outlinewidth": 0,
              "ticks": ""
             }
            },
            "type": "histogram"
           }
          ],
          "histogram2d": [
           {
            "colorbar": {
             "outlinewidth": 0,
             "ticks": ""
            },
            "colorscale": [
             [
              0,
              "#0d0887"
             ],
             [
              0.1111111111111111,
              "#46039f"
             ],
             [
              0.2222222222222222,
              "#7201a8"
             ],
             [
              0.3333333333333333,
              "#9c179e"
             ],
             [
              0.4444444444444444,
              "#bd3786"
             ],
             [
              0.5555555555555556,
              "#d8576b"
             ],
             [
              0.6666666666666666,
              "#ed7953"
             ],
             [
              0.7777777777777778,
              "#fb9f3a"
             ],
             [
              0.8888888888888888,
              "#fdca26"
             ],
             [
              1,
              "#f0f921"
             ]
            ],
            "type": "histogram2d"
           }
          ],
          "histogram2dcontour": [
           {
            "colorbar": {
             "outlinewidth": 0,
             "ticks": ""
            },
            "colorscale": [
             [
              0,
              "#0d0887"
             ],
             [
              0.1111111111111111,
              "#46039f"
             ],
             [
              0.2222222222222222,
              "#7201a8"
             ],
             [
              0.3333333333333333,
              "#9c179e"
             ],
             [
              0.4444444444444444,
              "#bd3786"
             ],
             [
              0.5555555555555556,
              "#d8576b"
             ],
             [
              0.6666666666666666,
              "#ed7953"
             ],
             [
              0.7777777777777778,
              "#fb9f3a"
             ],
             [
              0.8888888888888888,
              "#fdca26"
             ],
             [
              1,
              "#f0f921"
             ]
            ],
            "type": "histogram2dcontour"
           }
          ],
          "mesh3d": [
           {
            "colorbar": {
             "outlinewidth": 0,
             "ticks": ""
            },
            "type": "mesh3d"
           }
          ],
          "parcoords": [
           {
            "line": {
             "colorbar": {
              "outlinewidth": 0,
              "ticks": ""
             }
            },
            "type": "parcoords"
           }
          ],
          "pie": [
           {
            "automargin": true,
            "type": "pie"
           }
          ],
          "scatter": [
           {
            "marker": {
             "colorbar": {
              "outlinewidth": 0,
              "ticks": ""
             }
            },
            "type": "scatter"
           }
          ],
          "scatter3d": [
           {
            "line": {
             "colorbar": {
              "outlinewidth": 0,
              "ticks": ""
             }
            },
            "marker": {
             "colorbar": {
              "outlinewidth": 0,
              "ticks": ""
             }
            },
            "type": "scatter3d"
           }
          ],
          "scattercarpet": [
           {
            "marker": {
             "colorbar": {
              "outlinewidth": 0,
              "ticks": ""
             }
            },
            "type": "scattercarpet"
           }
          ],
          "scattergeo": [
           {
            "marker": {
             "colorbar": {
              "outlinewidth": 0,
              "ticks": ""
             }
            },
            "type": "scattergeo"
           }
          ],
          "scattergl": [
           {
            "marker": {
             "colorbar": {
              "outlinewidth": 0,
              "ticks": ""
             }
            },
            "type": "scattergl"
           }
          ],
          "scattermapbox": [
           {
            "marker": {
             "colorbar": {
              "outlinewidth": 0,
              "ticks": ""
             }
            },
            "type": "scattermapbox"
           }
          ],
          "scatterpolar": [
           {
            "marker": {
             "colorbar": {
              "outlinewidth": 0,
              "ticks": ""
             }
            },
            "type": "scatterpolar"
           }
          ],
          "scatterpolargl": [
           {
            "marker": {
             "colorbar": {
              "outlinewidth": 0,
              "ticks": ""
             }
            },
            "type": "scatterpolargl"
           }
          ],
          "scatterternary": [
           {
            "marker": {
             "colorbar": {
              "outlinewidth": 0,
              "ticks": ""
             }
            },
            "type": "scatterternary"
           }
          ],
          "surface": [
           {
            "colorbar": {
             "outlinewidth": 0,
             "ticks": ""
            },
            "colorscale": [
             [
              0,
              "#0d0887"
             ],
             [
              0.1111111111111111,
              "#46039f"
             ],
             [
              0.2222222222222222,
              "#7201a8"
             ],
             [
              0.3333333333333333,
              "#9c179e"
             ],
             [
              0.4444444444444444,
              "#bd3786"
             ],
             [
              0.5555555555555556,
              "#d8576b"
             ],
             [
              0.6666666666666666,
              "#ed7953"
             ],
             [
              0.7777777777777778,
              "#fb9f3a"
             ],
             [
              0.8888888888888888,
              "#fdca26"
             ],
             [
              1,
              "#f0f921"
             ]
            ],
            "type": "surface"
           }
          ],
          "table": [
           {
            "cells": {
             "fill": {
              "color": "#EBF0F8"
             },
             "line": {
              "color": "white"
             }
            },
            "header": {
             "fill": {
              "color": "#C8D4E3"
             },
             "line": {
              "color": "white"
             }
            },
            "type": "table"
           }
          ]
         },
         "layout": {
          "annotationdefaults": {
           "arrowcolor": "#2a3f5f",
           "arrowhead": 0,
           "arrowwidth": 1
          },
          "autotypenumbers": "strict",
          "coloraxis": {
           "colorbar": {
            "outlinewidth": 0,
            "ticks": ""
           }
          },
          "colorscale": {
           "diverging": [
            [
             0,
             "#8e0152"
            ],
            [
             0.1,
             "#c51b7d"
            ],
            [
             0.2,
             "#de77ae"
            ],
            [
             0.3,
             "#f1b6da"
            ],
            [
             0.4,
             "#fde0ef"
            ],
            [
             0.5,
             "#f7f7f7"
            ],
            [
             0.6,
             "#e6f5d0"
            ],
            [
             0.7,
             "#b8e186"
            ],
            [
             0.8,
             "#7fbc41"
            ],
            [
             0.9,
             "#4d9221"
            ],
            [
             1,
             "#276419"
            ]
           ],
           "sequential": [
            [
             0,
             "#0d0887"
            ],
            [
             0.1111111111111111,
             "#46039f"
            ],
            [
             0.2222222222222222,
             "#7201a8"
            ],
            [
             0.3333333333333333,
             "#9c179e"
            ],
            [
             0.4444444444444444,
             "#bd3786"
            ],
            [
             0.5555555555555556,
             "#d8576b"
            ],
            [
             0.6666666666666666,
             "#ed7953"
            ],
            [
             0.7777777777777778,
             "#fb9f3a"
            ],
            [
             0.8888888888888888,
             "#fdca26"
            ],
            [
             1,
             "#f0f921"
            ]
           ],
           "sequentialminus": [
            [
             0,
             "#0d0887"
            ],
            [
             0.1111111111111111,
             "#46039f"
            ],
            [
             0.2222222222222222,
             "#7201a8"
            ],
            [
             0.3333333333333333,
             "#9c179e"
            ],
            [
             0.4444444444444444,
             "#bd3786"
            ],
            [
             0.5555555555555556,
             "#d8576b"
            ],
            [
             0.6666666666666666,
             "#ed7953"
            ],
            [
             0.7777777777777778,
             "#fb9f3a"
            ],
            [
             0.8888888888888888,
             "#fdca26"
            ],
            [
             1,
             "#f0f921"
            ]
           ]
          },
          "colorway": [
           "#636efa",
           "#EF553B",
           "#00cc96",
           "#ab63fa",
           "#FFA15A",
           "#19d3f3",
           "#FF6692",
           "#B6E880",
           "#FF97FF",
           "#FECB52"
          ],
          "font": {
           "color": "#2a3f5f"
          },
          "geo": {
           "bgcolor": "white",
           "lakecolor": "white",
           "landcolor": "#E5ECF6",
           "showlakes": true,
           "showland": true,
           "subunitcolor": "white"
          },
          "hoverlabel": {
           "align": "left"
          },
          "hovermode": "closest",
          "mapbox": {
           "style": "light"
          },
          "paper_bgcolor": "white",
          "plot_bgcolor": "#E5ECF6",
          "polar": {
           "angularaxis": {
            "gridcolor": "white",
            "linecolor": "white",
            "ticks": ""
           },
           "bgcolor": "#E5ECF6",
           "radialaxis": {
            "gridcolor": "white",
            "linecolor": "white",
            "ticks": ""
           }
          },
          "scene": {
           "xaxis": {
            "backgroundcolor": "#E5ECF6",
            "gridcolor": "white",
            "gridwidth": 2,
            "linecolor": "white",
            "showbackground": true,
            "ticks": "",
            "zerolinecolor": "white"
           },
           "yaxis": {
            "backgroundcolor": "#E5ECF6",
            "gridcolor": "white",
            "gridwidth": 2,
            "linecolor": "white",
            "showbackground": true,
            "ticks": "",
            "zerolinecolor": "white"
           },
           "zaxis": {
            "backgroundcolor": "#E5ECF6",
            "gridcolor": "white",
            "gridwidth": 2,
            "linecolor": "white",
            "showbackground": true,
            "ticks": "",
            "zerolinecolor": "white"
           }
          },
          "shapedefaults": {
           "line": {
            "color": "#2a3f5f"
           }
          },
          "ternary": {
           "aaxis": {
            "gridcolor": "white",
            "linecolor": "white",
            "ticks": ""
           },
           "baxis": {
            "gridcolor": "white",
            "linecolor": "white",
            "ticks": ""
           },
           "bgcolor": "#E5ECF6",
           "caxis": {
            "gridcolor": "white",
            "linecolor": "white",
            "ticks": ""
           }
          },
          "title": {
           "x": 0.05
          },
          "xaxis": {
           "automargin": true,
           "gridcolor": "white",
           "linecolor": "white",
           "ticks": "",
           "title": {
            "standoff": 15
           },
           "zerolinecolor": "white",
           "zerolinewidth": 2
          },
          "yaxis": {
           "automargin": true,
           "gridcolor": "white",
           "linecolor": "white",
           "ticks": "",
           "title": {
            "standoff": 15
           },
           "zerolinecolor": "white",
           "zerolinewidth": 2
          }
         }
        }
       }
      },
      "text/html": [
       "<div>                            <div id=\"576e9f4d-8f5e-401b-9eea-808c32389db4\" class=\"plotly-graph-div\" style=\"height:525px; width:100%;\"></div>            <script type=\"text/javascript\">                require([\"plotly\"], function(Plotly) {                    window.PLOTLYENV=window.PLOTLYENV || {};                                    if (document.getElementById(\"576e9f4d-8f5e-401b-9eea-808c32389db4\")) {                    Plotly.newPlot(                        \"576e9f4d-8f5e-401b-9eea-808c32389db4\",                        [{\"mode\": \"lines+markers+text\", \"name\": \"alcohol\", \"type\": \"scatter\", \"x\": [3, 4, 5, 6, 7, 8], \"y\": [9.955000000000002, 10.265094339622639, 9.899706314243753, 10.629519331238239, 11.465912897839194, 12.094444444444443]}, {\"mode\": \"lines+markers+text\", \"name\": \"pH\", \"type\": \"scatter\", \"x\": [3, 4, 5, 6, 7, 8], \"y\": [3.3979999999999997, 3.381509433962264, 3.3049486049926546, 3.3180721003134837, 3.290753768844219, 3.2672222222222214]}],                        {\"template\": {\"data\": {\"bar\": [{\"error_x\": {\"color\": \"#2a3f5f\"}, \"error_y\": {\"color\": \"#2a3f5f\"}, \"marker\": {\"line\": {\"color\": \"#E5ECF6\", \"width\": 0.5}}, \"type\": \"bar\"}], \"barpolar\": [{\"marker\": {\"line\": {\"color\": \"#E5ECF6\", \"width\": 0.5}}, \"type\": \"barpolar\"}], \"carpet\": [{\"aaxis\": {\"endlinecolor\": \"#2a3f5f\", \"gridcolor\": \"white\", \"linecolor\": \"white\", \"minorgridcolor\": \"white\", \"startlinecolor\": \"#2a3f5f\"}, \"baxis\": {\"endlinecolor\": \"#2a3f5f\", \"gridcolor\": \"white\", \"linecolor\": \"white\", \"minorgridcolor\": \"white\", \"startlinecolor\": \"#2a3f5f\"}, \"type\": \"carpet\"}], \"choropleth\": [{\"colorbar\": {\"outlinewidth\": 0, \"ticks\": \"\"}, \"type\": \"choropleth\"}], \"contour\": [{\"colorbar\": {\"outlinewidth\": 0, \"ticks\": \"\"}, \"colorscale\": [[0.0, \"#0d0887\"], [0.1111111111111111, \"#46039f\"], [0.2222222222222222, \"#7201a8\"], [0.3333333333333333, \"#9c179e\"], [0.4444444444444444, \"#bd3786\"], [0.5555555555555556, \"#d8576b\"], [0.6666666666666666, \"#ed7953\"], [0.7777777777777778, \"#fb9f3a\"], [0.8888888888888888, \"#fdca26\"], [1.0, \"#f0f921\"]], \"type\": \"contour\"}], \"contourcarpet\": [{\"colorbar\": {\"outlinewidth\": 0, \"ticks\": \"\"}, \"type\": \"contourcarpet\"}], \"heatmap\": [{\"colorbar\": {\"outlinewidth\": 0, \"ticks\": \"\"}, \"colorscale\": [[0.0, \"#0d0887\"], [0.1111111111111111, \"#46039f\"], [0.2222222222222222, \"#7201a8\"], [0.3333333333333333, \"#9c179e\"], [0.4444444444444444, \"#bd3786\"], [0.5555555555555556, \"#d8576b\"], [0.6666666666666666, \"#ed7953\"], [0.7777777777777778, \"#fb9f3a\"], [0.8888888888888888, \"#fdca26\"], [1.0, \"#f0f921\"]], \"type\": \"heatmap\"}], \"heatmapgl\": [{\"colorbar\": {\"outlinewidth\": 0, \"ticks\": \"\"}, \"colorscale\": [[0.0, \"#0d0887\"], [0.1111111111111111, \"#46039f\"], [0.2222222222222222, \"#7201a8\"], [0.3333333333333333, \"#9c179e\"], [0.4444444444444444, \"#bd3786\"], [0.5555555555555556, \"#d8576b\"], [0.6666666666666666, \"#ed7953\"], [0.7777777777777778, \"#fb9f3a\"], [0.8888888888888888, \"#fdca26\"], [1.0, \"#f0f921\"]], \"type\": \"heatmapgl\"}], \"histogram\": [{\"marker\": {\"colorbar\": {\"outlinewidth\": 0, \"ticks\": \"\"}}, \"type\": \"histogram\"}], \"histogram2d\": [{\"colorbar\": {\"outlinewidth\": 0, \"ticks\": \"\"}, \"colorscale\": [[0.0, \"#0d0887\"], [0.1111111111111111, \"#46039f\"], [0.2222222222222222, \"#7201a8\"], [0.3333333333333333, \"#9c179e\"], [0.4444444444444444, \"#bd3786\"], [0.5555555555555556, \"#d8576b\"], [0.6666666666666666, \"#ed7953\"], [0.7777777777777778, \"#fb9f3a\"], [0.8888888888888888, \"#fdca26\"], [1.0, \"#f0f921\"]], \"type\": \"histogram2d\"}], \"histogram2dcontour\": [{\"colorbar\": {\"outlinewidth\": 0, \"ticks\": \"\"}, \"colorscale\": [[0.0, \"#0d0887\"], [0.1111111111111111, \"#46039f\"], [0.2222222222222222, \"#7201a8\"], [0.3333333333333333, \"#9c179e\"], [0.4444444444444444, \"#bd3786\"], [0.5555555555555556, \"#d8576b\"], [0.6666666666666666, \"#ed7953\"], [0.7777777777777778, \"#fb9f3a\"], [0.8888888888888888, \"#fdca26\"], [1.0, \"#f0f921\"]], \"type\": \"histogram2dcontour\"}], \"mesh3d\": [{\"colorbar\": {\"outlinewidth\": 0, \"ticks\": \"\"}, \"type\": \"mesh3d\"}], \"parcoords\": [{\"line\": {\"colorbar\": {\"outlinewidth\": 0, \"ticks\": \"\"}}, \"type\": \"parcoords\"}], \"pie\": [{\"automargin\": true, \"type\": \"pie\"}], \"scatter\": [{\"marker\": {\"colorbar\": {\"outlinewidth\": 0, \"ticks\": \"\"}}, \"type\": \"scatter\"}], \"scatter3d\": [{\"line\": {\"colorbar\": {\"outlinewidth\": 0, \"ticks\": \"\"}}, \"marker\": {\"colorbar\": {\"outlinewidth\": 0, \"ticks\": \"\"}}, \"type\": \"scatter3d\"}], \"scattercarpet\": [{\"marker\": {\"colorbar\": {\"outlinewidth\": 0, \"ticks\": \"\"}}, \"type\": \"scattercarpet\"}], \"scattergeo\": [{\"marker\": {\"colorbar\": {\"outlinewidth\": 0, \"ticks\": \"\"}}, \"type\": \"scattergeo\"}], \"scattergl\": [{\"marker\": {\"colorbar\": {\"outlinewidth\": 0, \"ticks\": \"\"}}, \"type\": \"scattergl\"}], \"scattermapbox\": [{\"marker\": {\"colorbar\": {\"outlinewidth\": 0, \"ticks\": \"\"}}, \"type\": \"scattermapbox\"}], \"scatterpolar\": [{\"marker\": {\"colorbar\": {\"outlinewidth\": 0, \"ticks\": \"\"}}, \"type\": \"scatterpolar\"}], \"scatterpolargl\": [{\"marker\": {\"colorbar\": {\"outlinewidth\": 0, \"ticks\": \"\"}}, \"type\": \"scatterpolargl\"}], \"scatterternary\": [{\"marker\": {\"colorbar\": {\"outlinewidth\": 0, \"ticks\": \"\"}}, \"type\": \"scatterternary\"}], \"surface\": [{\"colorbar\": {\"outlinewidth\": 0, \"ticks\": \"\"}, \"colorscale\": [[0.0, \"#0d0887\"], [0.1111111111111111, \"#46039f\"], [0.2222222222222222, \"#7201a8\"], [0.3333333333333333, \"#9c179e\"], [0.4444444444444444, \"#bd3786\"], [0.5555555555555556, \"#d8576b\"], [0.6666666666666666, \"#ed7953\"], [0.7777777777777778, \"#fb9f3a\"], [0.8888888888888888, \"#fdca26\"], [1.0, \"#f0f921\"]], \"type\": \"surface\"}], \"table\": [{\"cells\": {\"fill\": {\"color\": \"#EBF0F8\"}, \"line\": {\"color\": \"white\"}}, \"header\": {\"fill\": {\"color\": \"#C8D4E3\"}, \"line\": {\"color\": \"white\"}}, \"type\": \"table\"}]}, \"layout\": {\"annotationdefaults\": {\"arrowcolor\": \"#2a3f5f\", \"arrowhead\": 0, \"arrowwidth\": 1}, \"autotypenumbers\": \"strict\", \"coloraxis\": {\"colorbar\": {\"outlinewidth\": 0, \"ticks\": \"\"}}, \"colorscale\": {\"diverging\": [[0, \"#8e0152\"], [0.1, \"#c51b7d\"], [0.2, \"#de77ae\"], [0.3, \"#f1b6da\"], [0.4, \"#fde0ef\"], [0.5, \"#f7f7f7\"], [0.6, \"#e6f5d0\"], [0.7, \"#b8e186\"], [0.8, \"#7fbc41\"], [0.9, \"#4d9221\"], [1, \"#276419\"]], \"sequential\": [[0.0, \"#0d0887\"], [0.1111111111111111, \"#46039f\"], [0.2222222222222222, \"#7201a8\"], [0.3333333333333333, \"#9c179e\"], [0.4444444444444444, \"#bd3786\"], [0.5555555555555556, \"#d8576b\"], [0.6666666666666666, \"#ed7953\"], [0.7777777777777778, \"#fb9f3a\"], [0.8888888888888888, \"#fdca26\"], [1.0, \"#f0f921\"]], \"sequentialminus\": [[0.0, \"#0d0887\"], [0.1111111111111111, \"#46039f\"], [0.2222222222222222, \"#7201a8\"], [0.3333333333333333, \"#9c179e\"], [0.4444444444444444, \"#bd3786\"], [0.5555555555555556, \"#d8576b\"], [0.6666666666666666, \"#ed7953\"], [0.7777777777777778, \"#fb9f3a\"], [0.8888888888888888, \"#fdca26\"], [1.0, \"#f0f921\"]]}, \"colorway\": [\"#636efa\", \"#EF553B\", \"#00cc96\", \"#ab63fa\", \"#FFA15A\", \"#19d3f3\", \"#FF6692\", \"#B6E880\", \"#FF97FF\", \"#FECB52\"], \"font\": {\"color\": \"#2a3f5f\"}, \"geo\": {\"bgcolor\": \"white\", \"lakecolor\": \"white\", \"landcolor\": \"#E5ECF6\", \"showlakes\": true, \"showland\": true, \"subunitcolor\": \"white\"}, \"hoverlabel\": {\"align\": \"left\"}, \"hovermode\": \"closest\", \"mapbox\": {\"style\": \"light\"}, \"paper_bgcolor\": \"white\", \"plot_bgcolor\": \"#E5ECF6\", \"polar\": {\"angularaxis\": {\"gridcolor\": \"white\", \"linecolor\": \"white\", \"ticks\": \"\"}, \"bgcolor\": \"#E5ECF6\", \"radialaxis\": {\"gridcolor\": \"white\", \"linecolor\": \"white\", \"ticks\": \"\"}}, \"scene\": {\"xaxis\": {\"backgroundcolor\": \"#E5ECF6\", \"gridcolor\": \"white\", \"gridwidth\": 2, \"linecolor\": \"white\", \"showbackground\": true, \"ticks\": \"\", \"zerolinecolor\": \"white\"}, \"yaxis\": {\"backgroundcolor\": \"#E5ECF6\", \"gridcolor\": \"white\", \"gridwidth\": 2, \"linecolor\": \"white\", \"showbackground\": true, \"ticks\": \"\", \"zerolinecolor\": \"white\"}, \"zaxis\": {\"backgroundcolor\": \"#E5ECF6\", \"gridcolor\": \"white\", \"gridwidth\": 2, \"linecolor\": \"white\", \"showbackground\": true, \"ticks\": \"\", \"zerolinecolor\": \"white\"}}, \"shapedefaults\": {\"line\": {\"color\": \"#2a3f5f\"}}, \"ternary\": {\"aaxis\": {\"gridcolor\": \"white\", \"linecolor\": \"white\", \"ticks\": \"\"}, \"baxis\": {\"gridcolor\": \"white\", \"linecolor\": \"white\", \"ticks\": \"\"}, \"bgcolor\": \"#E5ECF6\", \"caxis\": {\"gridcolor\": \"white\", \"linecolor\": \"white\", \"ticks\": \"\"}}, \"title\": {\"x\": 0.05}, \"xaxis\": {\"automargin\": true, \"gridcolor\": \"white\", \"linecolor\": \"white\", \"ticks\": \"\", \"title\": {\"standoff\": 15}, \"zerolinecolor\": \"white\", \"zerolinewidth\": 2}, \"yaxis\": {\"automargin\": true, \"gridcolor\": \"white\", \"linecolor\": \"white\", \"ticks\": \"\", \"title\": {\"standoff\": 15}, \"zerolinecolor\": \"white\", \"zerolinewidth\": 2}}}},                        {\"responsive\": true}                    ).then(function(){\n",
       "                            \n",
       "var gd = document.getElementById('576e9f4d-8f5e-401b-9eea-808c32389db4');\n",
       "var x = new MutationObserver(function (mutations, observer) {{\n",
       "        var display = window.getComputedStyle(gd).display;\n",
       "        if (!display || display === 'none') {{\n",
       "            console.log([gd, 'removed!']);\n",
       "            Plotly.purge(gd);\n",
       "            observer.disconnect();\n",
       "        }}\n",
       "}});\n",
       "\n",
       "// Listen for the removal of the full notebook cells\n",
       "var notebookContainer = gd.closest('#notebook-container');\n",
       "if (notebookContainer) {{\n",
       "    x.observe(notebookContainer, {childList: true});\n",
       "}}\n",
       "\n",
       "// Listen for the clearing of the current output cell\n",
       "var outputEl = gd.closest('.output');\n",
       "if (outputEl) {{\n",
       "    x.observe(outputEl, {childList: true});\n",
       "}}\n",
       "\n",
       "                        })                };                });            </script>        </div>"
      ]
     },
     "metadata": {},
     "output_type": "display_data"
    }
   ],
   "source": [
    "wine_sugar = wine.groupby('quality').mean()\n",
    "fig = go.Figure()\n",
    "fig.add_trace(\n",
    "go.Scatter(\n",
    "x = wine_sugar.index, y = wine_sugar['alcohol'], mode = 'lines+markers+text',name = 'alcohol'\n",
    ")\n",
    ")\n",
    "\n",
    "fig.add_trace(\n",
    "go.Scatter(\n",
    "x = wine_sugar.index, y = wine_sugar['pH'], mode = 'lines+markers+text', name = 'pH'))\n",
    "fig.show()"
   ]
  },
  {
   "cell_type": "code",
   "execution_count": 78,
   "metadata": {},
   "outputs": [
    {
     "data": {
      "application/vnd.plotly.v1+json": {
       "config": {
        "linkText": "Export to plot.ly",
        "plotlyServerURL": "https://plot.ly",
        "showLink": true
       },
       "data": [
        {
         "line": {
          "color": "rgba(255, 153, 51, 1.0)",
          "dash": "solid",
          "shape": "linear",
          "width": 1.3
         },
         "mode": "lines",
         "name": "density",
         "text": "",
         "type": "scatter",
         "x": [
          3,
          4,
          5,
          6,
          7,
          8
         ],
         "y": [
          0.9974640000000001,
          0.9965424528301888,
          0.9971036270190888,
          0.9966150626959255,
          0.9961042713567828,
          0.9952122222222223
         ]
        }
       ],
       "layout": {
        "legend": {
         "bgcolor": "#F5F6F9",
         "font": {
          "color": "#4D5663"
         }
        },
        "paper_bgcolor": "#F5F6F9",
        "plot_bgcolor": "#F5F6F9",
        "template": {
         "data": {
          "bar": [
           {
            "error_x": {
             "color": "#2a3f5f"
            },
            "error_y": {
             "color": "#2a3f5f"
            },
            "marker": {
             "line": {
              "color": "#E5ECF6",
              "width": 0.5
             }
            },
            "type": "bar"
           }
          ],
          "barpolar": [
           {
            "marker": {
             "line": {
              "color": "#E5ECF6",
              "width": 0.5
             }
            },
            "type": "barpolar"
           }
          ],
          "carpet": [
           {
            "aaxis": {
             "endlinecolor": "#2a3f5f",
             "gridcolor": "white",
             "linecolor": "white",
             "minorgridcolor": "white",
             "startlinecolor": "#2a3f5f"
            },
            "baxis": {
             "endlinecolor": "#2a3f5f",
             "gridcolor": "white",
             "linecolor": "white",
             "minorgridcolor": "white",
             "startlinecolor": "#2a3f5f"
            },
            "type": "carpet"
           }
          ],
          "choropleth": [
           {
            "colorbar": {
             "outlinewidth": 0,
             "ticks": ""
            },
            "type": "choropleth"
           }
          ],
          "contour": [
           {
            "colorbar": {
             "outlinewidth": 0,
             "ticks": ""
            },
            "colorscale": [
             [
              0,
              "#0d0887"
             ],
             [
              0.1111111111111111,
              "#46039f"
             ],
             [
              0.2222222222222222,
              "#7201a8"
             ],
             [
              0.3333333333333333,
              "#9c179e"
             ],
             [
              0.4444444444444444,
              "#bd3786"
             ],
             [
              0.5555555555555556,
              "#d8576b"
             ],
             [
              0.6666666666666666,
              "#ed7953"
             ],
             [
              0.7777777777777778,
              "#fb9f3a"
             ],
             [
              0.8888888888888888,
              "#fdca26"
             ],
             [
              1,
              "#f0f921"
             ]
            ],
            "type": "contour"
           }
          ],
          "contourcarpet": [
           {
            "colorbar": {
             "outlinewidth": 0,
             "ticks": ""
            },
            "type": "contourcarpet"
           }
          ],
          "heatmap": [
           {
            "colorbar": {
             "outlinewidth": 0,
             "ticks": ""
            },
            "colorscale": [
             [
              0,
              "#0d0887"
             ],
             [
              0.1111111111111111,
              "#46039f"
             ],
             [
              0.2222222222222222,
              "#7201a8"
             ],
             [
              0.3333333333333333,
              "#9c179e"
             ],
             [
              0.4444444444444444,
              "#bd3786"
             ],
             [
              0.5555555555555556,
              "#d8576b"
             ],
             [
              0.6666666666666666,
              "#ed7953"
             ],
             [
              0.7777777777777778,
              "#fb9f3a"
             ],
             [
              0.8888888888888888,
              "#fdca26"
             ],
             [
              1,
              "#f0f921"
             ]
            ],
            "type": "heatmap"
           }
          ],
          "heatmapgl": [
           {
            "colorbar": {
             "outlinewidth": 0,
             "ticks": ""
            },
            "colorscale": [
             [
              0,
              "#0d0887"
             ],
             [
              0.1111111111111111,
              "#46039f"
             ],
             [
              0.2222222222222222,
              "#7201a8"
             ],
             [
              0.3333333333333333,
              "#9c179e"
             ],
             [
              0.4444444444444444,
              "#bd3786"
             ],
             [
              0.5555555555555556,
              "#d8576b"
             ],
             [
              0.6666666666666666,
              "#ed7953"
             ],
             [
              0.7777777777777778,
              "#fb9f3a"
             ],
             [
              0.8888888888888888,
              "#fdca26"
             ],
             [
              1,
              "#f0f921"
             ]
            ],
            "type": "heatmapgl"
           }
          ],
          "histogram": [
           {
            "marker": {
             "colorbar": {
              "outlinewidth": 0,
              "ticks": ""
             }
            },
            "type": "histogram"
           }
          ],
          "histogram2d": [
           {
            "colorbar": {
             "outlinewidth": 0,
             "ticks": ""
            },
            "colorscale": [
             [
              0,
              "#0d0887"
             ],
             [
              0.1111111111111111,
              "#46039f"
             ],
             [
              0.2222222222222222,
              "#7201a8"
             ],
             [
              0.3333333333333333,
              "#9c179e"
             ],
             [
              0.4444444444444444,
              "#bd3786"
             ],
             [
              0.5555555555555556,
              "#d8576b"
             ],
             [
              0.6666666666666666,
              "#ed7953"
             ],
             [
              0.7777777777777778,
              "#fb9f3a"
             ],
             [
              0.8888888888888888,
              "#fdca26"
             ],
             [
              1,
              "#f0f921"
             ]
            ],
            "type": "histogram2d"
           }
          ],
          "histogram2dcontour": [
           {
            "colorbar": {
             "outlinewidth": 0,
             "ticks": ""
            },
            "colorscale": [
             [
              0,
              "#0d0887"
             ],
             [
              0.1111111111111111,
              "#46039f"
             ],
             [
              0.2222222222222222,
              "#7201a8"
             ],
             [
              0.3333333333333333,
              "#9c179e"
             ],
             [
              0.4444444444444444,
              "#bd3786"
             ],
             [
              0.5555555555555556,
              "#d8576b"
             ],
             [
              0.6666666666666666,
              "#ed7953"
             ],
             [
              0.7777777777777778,
              "#fb9f3a"
             ],
             [
              0.8888888888888888,
              "#fdca26"
             ],
             [
              1,
              "#f0f921"
             ]
            ],
            "type": "histogram2dcontour"
           }
          ],
          "mesh3d": [
           {
            "colorbar": {
             "outlinewidth": 0,
             "ticks": ""
            },
            "type": "mesh3d"
           }
          ],
          "parcoords": [
           {
            "line": {
             "colorbar": {
              "outlinewidth": 0,
              "ticks": ""
             }
            },
            "type": "parcoords"
           }
          ],
          "pie": [
           {
            "automargin": true,
            "type": "pie"
           }
          ],
          "scatter": [
           {
            "marker": {
             "colorbar": {
              "outlinewidth": 0,
              "ticks": ""
             }
            },
            "type": "scatter"
           }
          ],
          "scatter3d": [
           {
            "line": {
             "colorbar": {
              "outlinewidth": 0,
              "ticks": ""
             }
            },
            "marker": {
             "colorbar": {
              "outlinewidth": 0,
              "ticks": ""
             }
            },
            "type": "scatter3d"
           }
          ],
          "scattercarpet": [
           {
            "marker": {
             "colorbar": {
              "outlinewidth": 0,
              "ticks": ""
             }
            },
            "type": "scattercarpet"
           }
          ],
          "scattergeo": [
           {
            "marker": {
             "colorbar": {
              "outlinewidth": 0,
              "ticks": ""
             }
            },
            "type": "scattergeo"
           }
          ],
          "scattergl": [
           {
            "marker": {
             "colorbar": {
              "outlinewidth": 0,
              "ticks": ""
             }
            },
            "type": "scattergl"
           }
          ],
          "scattermapbox": [
           {
            "marker": {
             "colorbar": {
              "outlinewidth": 0,
              "ticks": ""
             }
            },
            "type": "scattermapbox"
           }
          ],
          "scatterpolar": [
           {
            "marker": {
             "colorbar": {
              "outlinewidth": 0,
              "ticks": ""
             }
            },
            "type": "scatterpolar"
           }
          ],
          "scatterpolargl": [
           {
            "marker": {
             "colorbar": {
              "outlinewidth": 0,
              "ticks": ""
             }
            },
            "type": "scatterpolargl"
           }
          ],
          "scatterternary": [
           {
            "marker": {
             "colorbar": {
              "outlinewidth": 0,
              "ticks": ""
             }
            },
            "type": "scatterternary"
           }
          ],
          "surface": [
           {
            "colorbar": {
             "outlinewidth": 0,
             "ticks": ""
            },
            "colorscale": [
             [
              0,
              "#0d0887"
             ],
             [
              0.1111111111111111,
              "#46039f"
             ],
             [
              0.2222222222222222,
              "#7201a8"
             ],
             [
              0.3333333333333333,
              "#9c179e"
             ],
             [
              0.4444444444444444,
              "#bd3786"
             ],
             [
              0.5555555555555556,
              "#d8576b"
             ],
             [
              0.6666666666666666,
              "#ed7953"
             ],
             [
              0.7777777777777778,
              "#fb9f3a"
             ],
             [
              0.8888888888888888,
              "#fdca26"
             ],
             [
              1,
              "#f0f921"
             ]
            ],
            "type": "surface"
           }
          ],
          "table": [
           {
            "cells": {
             "fill": {
              "color": "#EBF0F8"
             },
             "line": {
              "color": "white"
             }
            },
            "header": {
             "fill": {
              "color": "#C8D4E3"
             },
             "line": {
              "color": "white"
             }
            },
            "type": "table"
           }
          ]
         },
         "layout": {
          "annotationdefaults": {
           "arrowcolor": "#2a3f5f",
           "arrowhead": 0,
           "arrowwidth": 1
          },
          "autotypenumbers": "strict",
          "coloraxis": {
           "colorbar": {
            "outlinewidth": 0,
            "ticks": ""
           }
          },
          "colorscale": {
           "diverging": [
            [
             0,
             "#8e0152"
            ],
            [
             0.1,
             "#c51b7d"
            ],
            [
             0.2,
             "#de77ae"
            ],
            [
             0.3,
             "#f1b6da"
            ],
            [
             0.4,
             "#fde0ef"
            ],
            [
             0.5,
             "#f7f7f7"
            ],
            [
             0.6,
             "#e6f5d0"
            ],
            [
             0.7,
             "#b8e186"
            ],
            [
             0.8,
             "#7fbc41"
            ],
            [
             0.9,
             "#4d9221"
            ],
            [
             1,
             "#276419"
            ]
           ],
           "sequential": [
            [
             0,
             "#0d0887"
            ],
            [
             0.1111111111111111,
             "#46039f"
            ],
            [
             0.2222222222222222,
             "#7201a8"
            ],
            [
             0.3333333333333333,
             "#9c179e"
            ],
            [
             0.4444444444444444,
             "#bd3786"
            ],
            [
             0.5555555555555556,
             "#d8576b"
            ],
            [
             0.6666666666666666,
             "#ed7953"
            ],
            [
             0.7777777777777778,
             "#fb9f3a"
            ],
            [
             0.8888888888888888,
             "#fdca26"
            ],
            [
             1,
             "#f0f921"
            ]
           ],
           "sequentialminus": [
            [
             0,
             "#0d0887"
            ],
            [
             0.1111111111111111,
             "#46039f"
            ],
            [
             0.2222222222222222,
             "#7201a8"
            ],
            [
             0.3333333333333333,
             "#9c179e"
            ],
            [
             0.4444444444444444,
             "#bd3786"
            ],
            [
             0.5555555555555556,
             "#d8576b"
            ],
            [
             0.6666666666666666,
             "#ed7953"
            ],
            [
             0.7777777777777778,
             "#fb9f3a"
            ],
            [
             0.8888888888888888,
             "#fdca26"
            ],
            [
             1,
             "#f0f921"
            ]
           ]
          },
          "colorway": [
           "#636efa",
           "#EF553B",
           "#00cc96",
           "#ab63fa",
           "#FFA15A",
           "#19d3f3",
           "#FF6692",
           "#B6E880",
           "#FF97FF",
           "#FECB52"
          ],
          "font": {
           "color": "#2a3f5f"
          },
          "geo": {
           "bgcolor": "white",
           "lakecolor": "white",
           "landcolor": "#E5ECF6",
           "showlakes": true,
           "showland": true,
           "subunitcolor": "white"
          },
          "hoverlabel": {
           "align": "left"
          },
          "hovermode": "closest",
          "mapbox": {
           "style": "light"
          },
          "paper_bgcolor": "white",
          "plot_bgcolor": "#E5ECF6",
          "polar": {
           "angularaxis": {
            "gridcolor": "white",
            "linecolor": "white",
            "ticks": ""
           },
           "bgcolor": "#E5ECF6",
           "radialaxis": {
            "gridcolor": "white",
            "linecolor": "white",
            "ticks": ""
           }
          },
          "scene": {
           "xaxis": {
            "backgroundcolor": "#E5ECF6",
            "gridcolor": "white",
            "gridwidth": 2,
            "linecolor": "white",
            "showbackground": true,
            "ticks": "",
            "zerolinecolor": "white"
           },
           "yaxis": {
            "backgroundcolor": "#E5ECF6",
            "gridcolor": "white",
            "gridwidth": 2,
            "linecolor": "white",
            "showbackground": true,
            "ticks": "",
            "zerolinecolor": "white"
           },
           "zaxis": {
            "backgroundcolor": "#E5ECF6",
            "gridcolor": "white",
            "gridwidth": 2,
            "linecolor": "white",
            "showbackground": true,
            "ticks": "",
            "zerolinecolor": "white"
           }
          },
          "shapedefaults": {
           "line": {
            "color": "#2a3f5f"
           }
          },
          "ternary": {
           "aaxis": {
            "gridcolor": "white",
            "linecolor": "white",
            "ticks": ""
           },
           "baxis": {
            "gridcolor": "white",
            "linecolor": "white",
            "ticks": ""
           },
           "bgcolor": "#E5ECF6",
           "caxis": {
            "gridcolor": "white",
            "linecolor": "white",
            "ticks": ""
           }
          },
          "title": {
           "x": 0.05
          },
          "xaxis": {
           "automargin": true,
           "gridcolor": "white",
           "linecolor": "white",
           "ticks": "",
           "title": {
            "standoff": 15
           },
           "zerolinecolor": "white",
           "zerolinewidth": 2
          },
          "yaxis": {
           "automargin": true,
           "gridcolor": "white",
           "linecolor": "white",
           "ticks": "",
           "title": {
            "standoff": 15
           },
           "zerolinecolor": "white",
           "zerolinewidth": 2
          }
         }
        },
        "title": {
         "font": {
          "color": "#4D5663"
         }
        },
        "xaxis": {
         "gridcolor": "#E1E5ED",
         "showgrid": true,
         "tickfont": {
          "color": "#4D5663"
         },
         "title": {
          "font": {
           "color": "#4D5663"
          },
          "text": ""
         },
         "zerolinecolor": "#E1E5ED"
        },
        "yaxis": {
         "gridcolor": "#E1E5ED",
         "showgrid": true,
         "tickfont": {
          "color": "#4D5663"
         },
         "title": {
          "font": {
           "color": "#4D5663"
          },
          "text": ""
         },
         "zerolinecolor": "#E1E5ED"
        }
       }
      },
      "text/html": [
       "<div>                            <div id=\"d6b35d1d-a1c6-4b44-994c-2f4960b4fe8d\" class=\"plotly-graph-div\" style=\"height:525px; width:100%;\"></div>            <script type=\"text/javascript\">                require([\"plotly\"], function(Plotly) {                    window.PLOTLYENV=window.PLOTLYENV || {};\n",
       "                    window.PLOTLYENV.BASE_URL='https://plot.ly';                                    if (document.getElementById(\"d6b35d1d-a1c6-4b44-994c-2f4960b4fe8d\")) {                    Plotly.newPlot(                        \"d6b35d1d-a1c6-4b44-994c-2f4960b4fe8d\",                        [{\"line\": {\"color\": \"rgba(255, 153, 51, 1.0)\", \"dash\": \"solid\", \"shape\": \"linear\", \"width\": 1.3}, \"mode\": \"lines\", \"name\": \"density\", \"text\": \"\", \"type\": \"scatter\", \"x\": [3, 4, 5, 6, 7, 8], \"y\": [0.9974640000000001, 0.9965424528301888, 0.9971036270190888, 0.9966150626959255, 0.9961042713567828, 0.9952122222222223]}],                        {\"legend\": {\"bgcolor\": \"#F5F6F9\", \"font\": {\"color\": \"#4D5663\"}}, \"paper_bgcolor\": \"#F5F6F9\", \"plot_bgcolor\": \"#F5F6F9\", \"template\": {\"data\": {\"bar\": [{\"error_x\": {\"color\": \"#2a3f5f\"}, \"error_y\": {\"color\": \"#2a3f5f\"}, \"marker\": {\"line\": {\"color\": \"#E5ECF6\", \"width\": 0.5}}, \"type\": \"bar\"}], \"barpolar\": [{\"marker\": {\"line\": {\"color\": \"#E5ECF6\", \"width\": 0.5}}, \"type\": \"barpolar\"}], \"carpet\": [{\"aaxis\": {\"endlinecolor\": \"#2a3f5f\", \"gridcolor\": \"white\", \"linecolor\": \"white\", \"minorgridcolor\": \"white\", \"startlinecolor\": \"#2a3f5f\"}, \"baxis\": {\"endlinecolor\": \"#2a3f5f\", \"gridcolor\": \"white\", \"linecolor\": \"white\", \"minorgridcolor\": \"white\", \"startlinecolor\": \"#2a3f5f\"}, \"type\": \"carpet\"}], \"choropleth\": [{\"colorbar\": {\"outlinewidth\": 0, \"ticks\": \"\"}, \"type\": \"choropleth\"}], \"contour\": [{\"colorbar\": {\"outlinewidth\": 0, \"ticks\": \"\"}, \"colorscale\": [[0.0, \"#0d0887\"], [0.1111111111111111, \"#46039f\"], [0.2222222222222222, \"#7201a8\"], [0.3333333333333333, \"#9c179e\"], [0.4444444444444444, \"#bd3786\"], [0.5555555555555556, \"#d8576b\"], [0.6666666666666666, \"#ed7953\"], [0.7777777777777778, \"#fb9f3a\"], [0.8888888888888888, \"#fdca26\"], [1.0, \"#f0f921\"]], \"type\": \"contour\"}], \"contourcarpet\": [{\"colorbar\": {\"outlinewidth\": 0, \"ticks\": \"\"}, \"type\": \"contourcarpet\"}], \"heatmap\": [{\"colorbar\": {\"outlinewidth\": 0, \"ticks\": \"\"}, \"colorscale\": [[0.0, \"#0d0887\"], [0.1111111111111111, \"#46039f\"], [0.2222222222222222, \"#7201a8\"], [0.3333333333333333, \"#9c179e\"], [0.4444444444444444, \"#bd3786\"], [0.5555555555555556, \"#d8576b\"], [0.6666666666666666, \"#ed7953\"], [0.7777777777777778, \"#fb9f3a\"], [0.8888888888888888, \"#fdca26\"], [1.0, \"#f0f921\"]], \"type\": \"heatmap\"}], \"heatmapgl\": [{\"colorbar\": {\"outlinewidth\": 0, \"ticks\": \"\"}, \"colorscale\": [[0.0, \"#0d0887\"], [0.1111111111111111, \"#46039f\"], [0.2222222222222222, \"#7201a8\"], [0.3333333333333333, \"#9c179e\"], [0.4444444444444444, \"#bd3786\"], [0.5555555555555556, \"#d8576b\"], [0.6666666666666666, \"#ed7953\"], [0.7777777777777778, \"#fb9f3a\"], [0.8888888888888888, \"#fdca26\"], [1.0, \"#f0f921\"]], \"type\": \"heatmapgl\"}], \"histogram\": [{\"marker\": {\"colorbar\": {\"outlinewidth\": 0, \"ticks\": \"\"}}, \"type\": \"histogram\"}], \"histogram2d\": [{\"colorbar\": {\"outlinewidth\": 0, \"ticks\": \"\"}, \"colorscale\": [[0.0, \"#0d0887\"], [0.1111111111111111, \"#46039f\"], [0.2222222222222222, \"#7201a8\"], [0.3333333333333333, \"#9c179e\"], [0.4444444444444444, \"#bd3786\"], [0.5555555555555556, \"#d8576b\"], [0.6666666666666666, \"#ed7953\"], [0.7777777777777778, \"#fb9f3a\"], [0.8888888888888888, \"#fdca26\"], [1.0, \"#f0f921\"]], \"type\": \"histogram2d\"}], \"histogram2dcontour\": [{\"colorbar\": {\"outlinewidth\": 0, \"ticks\": \"\"}, \"colorscale\": [[0.0, \"#0d0887\"], [0.1111111111111111, \"#46039f\"], [0.2222222222222222, \"#7201a8\"], [0.3333333333333333, \"#9c179e\"], [0.4444444444444444, \"#bd3786\"], [0.5555555555555556, \"#d8576b\"], [0.6666666666666666, \"#ed7953\"], [0.7777777777777778, \"#fb9f3a\"], [0.8888888888888888, \"#fdca26\"], [1.0, \"#f0f921\"]], \"type\": \"histogram2dcontour\"}], \"mesh3d\": [{\"colorbar\": {\"outlinewidth\": 0, \"ticks\": \"\"}, \"type\": \"mesh3d\"}], \"parcoords\": [{\"line\": {\"colorbar\": {\"outlinewidth\": 0, \"ticks\": \"\"}}, \"type\": \"parcoords\"}], \"pie\": [{\"automargin\": true, \"type\": \"pie\"}], \"scatter\": [{\"marker\": {\"colorbar\": {\"outlinewidth\": 0, \"ticks\": \"\"}}, \"type\": \"scatter\"}], \"scatter3d\": [{\"line\": {\"colorbar\": {\"outlinewidth\": 0, \"ticks\": \"\"}}, \"marker\": {\"colorbar\": {\"outlinewidth\": 0, \"ticks\": \"\"}}, \"type\": \"scatter3d\"}], \"scattercarpet\": [{\"marker\": {\"colorbar\": {\"outlinewidth\": 0, \"ticks\": \"\"}}, \"type\": \"scattercarpet\"}], \"scattergeo\": [{\"marker\": {\"colorbar\": {\"outlinewidth\": 0, \"ticks\": \"\"}}, \"type\": \"scattergeo\"}], \"scattergl\": [{\"marker\": {\"colorbar\": {\"outlinewidth\": 0, \"ticks\": \"\"}}, \"type\": \"scattergl\"}], \"scattermapbox\": [{\"marker\": {\"colorbar\": {\"outlinewidth\": 0, \"ticks\": \"\"}}, \"type\": \"scattermapbox\"}], \"scatterpolar\": [{\"marker\": {\"colorbar\": {\"outlinewidth\": 0, \"ticks\": \"\"}}, \"type\": \"scatterpolar\"}], \"scatterpolargl\": [{\"marker\": {\"colorbar\": {\"outlinewidth\": 0, \"ticks\": \"\"}}, \"type\": \"scatterpolargl\"}], \"scatterternary\": [{\"marker\": {\"colorbar\": {\"outlinewidth\": 0, \"ticks\": \"\"}}, \"type\": \"scatterternary\"}], \"surface\": [{\"colorbar\": {\"outlinewidth\": 0, \"ticks\": \"\"}, \"colorscale\": [[0.0, \"#0d0887\"], [0.1111111111111111, \"#46039f\"], [0.2222222222222222, \"#7201a8\"], [0.3333333333333333, \"#9c179e\"], [0.4444444444444444, \"#bd3786\"], [0.5555555555555556, \"#d8576b\"], [0.6666666666666666, \"#ed7953\"], [0.7777777777777778, \"#fb9f3a\"], [0.8888888888888888, \"#fdca26\"], [1.0, \"#f0f921\"]], \"type\": \"surface\"}], \"table\": [{\"cells\": {\"fill\": {\"color\": \"#EBF0F8\"}, \"line\": {\"color\": \"white\"}}, \"header\": {\"fill\": {\"color\": \"#C8D4E3\"}, \"line\": {\"color\": \"white\"}}, \"type\": \"table\"}]}, \"layout\": {\"annotationdefaults\": {\"arrowcolor\": \"#2a3f5f\", \"arrowhead\": 0, \"arrowwidth\": 1}, \"autotypenumbers\": \"strict\", \"coloraxis\": {\"colorbar\": {\"outlinewidth\": 0, \"ticks\": \"\"}}, \"colorscale\": {\"diverging\": [[0, \"#8e0152\"], [0.1, \"#c51b7d\"], [0.2, \"#de77ae\"], [0.3, \"#f1b6da\"], [0.4, \"#fde0ef\"], [0.5, \"#f7f7f7\"], [0.6, \"#e6f5d0\"], [0.7, \"#b8e186\"], [0.8, \"#7fbc41\"], [0.9, \"#4d9221\"], [1, \"#276419\"]], \"sequential\": [[0.0, \"#0d0887\"], [0.1111111111111111, \"#46039f\"], [0.2222222222222222, \"#7201a8\"], [0.3333333333333333, \"#9c179e\"], [0.4444444444444444, \"#bd3786\"], [0.5555555555555556, \"#d8576b\"], [0.6666666666666666, \"#ed7953\"], [0.7777777777777778, \"#fb9f3a\"], [0.8888888888888888, \"#fdca26\"], [1.0, \"#f0f921\"]], \"sequentialminus\": [[0.0, \"#0d0887\"], [0.1111111111111111, \"#46039f\"], [0.2222222222222222, \"#7201a8\"], [0.3333333333333333, \"#9c179e\"], [0.4444444444444444, \"#bd3786\"], [0.5555555555555556, \"#d8576b\"], [0.6666666666666666, \"#ed7953\"], [0.7777777777777778, \"#fb9f3a\"], [0.8888888888888888, \"#fdca26\"], [1.0, \"#f0f921\"]]}, \"colorway\": [\"#636efa\", \"#EF553B\", \"#00cc96\", \"#ab63fa\", \"#FFA15A\", \"#19d3f3\", \"#FF6692\", \"#B6E880\", \"#FF97FF\", \"#FECB52\"], \"font\": {\"color\": \"#2a3f5f\"}, \"geo\": {\"bgcolor\": \"white\", \"lakecolor\": \"white\", \"landcolor\": \"#E5ECF6\", \"showlakes\": true, \"showland\": true, \"subunitcolor\": \"white\"}, \"hoverlabel\": {\"align\": \"left\"}, \"hovermode\": \"closest\", \"mapbox\": {\"style\": \"light\"}, \"paper_bgcolor\": \"white\", \"plot_bgcolor\": \"#E5ECF6\", \"polar\": {\"angularaxis\": {\"gridcolor\": \"white\", \"linecolor\": \"white\", \"ticks\": \"\"}, \"bgcolor\": \"#E5ECF6\", \"radialaxis\": {\"gridcolor\": \"white\", \"linecolor\": \"white\", \"ticks\": \"\"}}, \"scene\": {\"xaxis\": {\"backgroundcolor\": \"#E5ECF6\", \"gridcolor\": \"white\", \"gridwidth\": 2, \"linecolor\": \"white\", \"showbackground\": true, \"ticks\": \"\", \"zerolinecolor\": \"white\"}, \"yaxis\": {\"backgroundcolor\": \"#E5ECF6\", \"gridcolor\": \"white\", \"gridwidth\": 2, \"linecolor\": \"white\", \"showbackground\": true, \"ticks\": \"\", \"zerolinecolor\": \"white\"}, \"zaxis\": {\"backgroundcolor\": \"#E5ECF6\", \"gridcolor\": \"white\", \"gridwidth\": 2, \"linecolor\": \"white\", \"showbackground\": true, \"ticks\": \"\", \"zerolinecolor\": \"white\"}}, \"shapedefaults\": {\"line\": {\"color\": \"#2a3f5f\"}}, \"ternary\": {\"aaxis\": {\"gridcolor\": \"white\", \"linecolor\": \"white\", \"ticks\": \"\"}, \"baxis\": {\"gridcolor\": \"white\", \"linecolor\": \"white\", \"ticks\": \"\"}, \"bgcolor\": \"#E5ECF6\", \"caxis\": {\"gridcolor\": \"white\", \"linecolor\": \"white\", \"ticks\": \"\"}}, \"title\": {\"x\": 0.05}, \"xaxis\": {\"automargin\": true, \"gridcolor\": \"white\", \"linecolor\": \"white\", \"ticks\": \"\", \"title\": {\"standoff\": 15}, \"zerolinecolor\": \"white\", \"zerolinewidth\": 2}, \"yaxis\": {\"automargin\": true, \"gridcolor\": \"white\", \"linecolor\": \"white\", \"ticks\": \"\", \"title\": {\"standoff\": 15}, \"zerolinecolor\": \"white\", \"zerolinewidth\": 2}}}, \"title\": {\"font\": {\"color\": \"#4D5663\"}}, \"xaxis\": {\"gridcolor\": \"#E1E5ED\", \"showgrid\": true, \"tickfont\": {\"color\": \"#4D5663\"}, \"title\": {\"font\": {\"color\": \"#4D5663\"}, \"text\": \"\"}, \"zerolinecolor\": \"#E1E5ED\"}, \"yaxis\": {\"gridcolor\": \"#E1E5ED\", \"showgrid\": true, \"tickfont\": {\"color\": \"#4D5663\"}, \"title\": {\"font\": {\"color\": \"#4D5663\"}, \"text\": \"\"}, \"zerolinecolor\": \"#E1E5ED\"}},                        {\"showLink\": true, \"linkText\": \"Export to plot.ly\", \"plotlyServerURL\": \"https://plot.ly\", \"responsive\": true}                    ).then(function(){\n",
       "                            \n",
       "var gd = document.getElementById('d6b35d1d-a1c6-4b44-994c-2f4960b4fe8d');\n",
       "var x = new MutationObserver(function (mutations, observer) {{\n",
       "        var display = window.getComputedStyle(gd).display;\n",
       "        if (!display || display === 'none') {{\n",
       "            console.log([gd, 'removed!']);\n",
       "            Plotly.purge(gd);\n",
       "            observer.disconnect();\n",
       "        }}\n",
       "}});\n",
       "\n",
       "// Listen for the removal of the full notebook cells\n",
       "var notebookContainer = gd.closest('#notebook-container');\n",
       "if (notebookContainer) {{\n",
       "    x.observe(notebookContainer, {childList: true});\n",
       "}}\n",
       "\n",
       "// Listen for the clearing of the current output cell\n",
       "var outputEl = gd.closest('.output');\n",
       "if (outputEl) {{\n",
       "    x.observe(outputEl, {childList: true});\n",
       "}}\n",
       "\n",
       "                        })                };                });            </script>        </div>"
      ]
     },
     "metadata": {},
     "output_type": "display_data"
    }
   ],
   "source": [
    "wine_density = wine.groupby('quality')['density'].mean()\n",
    "wine_density.iplot(kind= 'scatter')"
   ]
  },
  {
   "cell_type": "code",
   "execution_count": 75,
   "metadata": {},
   "outputs": [
    {
     "name": "stdout",
     "output_type": "stream",
     "text": [
      "Use 'cufflinks.help(figure)' to see the list of available parameters for the given figure.\n",
      "Use 'DataFrame.iplot(kind=figure)' to plot the respective figure\n",
      "Figures:\n",
      "\tbar\n",
      "\tbox\n",
      "\tbubble\n",
      "\tbubble3d\n",
      "\tcandle\n",
      "\tchoroplet\n",
      "\tdistplot\n",
      "\theatmap\n",
      "\thistogram\n",
      "\tohlc\n",
      "\tpie\n",
      "\tratio\n",
      "\tscatter\n",
      "\tscatter3d\n",
      "\tscattergeo\n",
      "\tspread\n",
      "\tsurface\n",
      "\tviolin\n"
     ]
    }
   ],
   "source": [
    "cf.help()"
   ]
  },
  {
   "cell_type": "code",
   "execution_count": null,
   "metadata": {
    "scrolled": true
   },
   "outputs": [],
   "source": [
    "a.iplot(kind = 'scatter')"
   ]
  },
  {
   "cell_type": "code",
   "execution_count": null,
   "metadata": {},
   "outputs": [],
   "source": []
  }
 ],
 "metadata": {
  "kernelspec": {
   "display_name": "Python 3",
   "language": "python",
   "name": "python3"
  },
  "language_info": {
   "codemirror_mode": {
    "name": "ipython",
    "version": 3
   },
   "file_extension": ".py",
   "mimetype": "text/x-python",
   "name": "python",
   "nbconvert_exporter": "python",
   "pygments_lexer": "ipython3",
   "version": "3.8.5"
  }
 },
 "nbformat": 4,
 "nbformat_minor": 4
}
